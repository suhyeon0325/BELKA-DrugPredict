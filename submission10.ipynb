{
 "cells": [
  {
   "cell_type": "code",
   "execution_count": 1,
   "id": "129d203a",
   "metadata": {
    "execution": {
     "iopub.execute_input": "2024-06-02T16:29:35.596632Z",
     "iopub.status.busy": "2024-06-02T16:29:35.596198Z",
     "iopub.status.idle": "2024-06-02T16:30:05.762415Z",
     "shell.execute_reply": "2024-06-02T16:30:05.761379Z"
    },
    "papermill": {
     "duration": 30.175261,
     "end_time": "2024-06-02T16:30:05.765292",
     "exception": false,
     "start_time": "2024-06-02T16:29:35.590031",
     "status": "completed"
    },
    "tags": []
   },
   "outputs": [
    {
     "name": "stdout",
     "output_type": "stream",
     "text": [
      "Collecting rdkit\r\n",
      "  Downloading rdkit-2023.9.6-cp310-cp310-manylinux_2_17_x86_64.manylinux2014_x86_64.whl.metadata (3.9 kB)\r\n",
      "Requirement already satisfied: numpy in /opt/conda/lib/python3.10/site-packages (from rdkit) (1.26.4)\r\n",
      "Requirement already satisfied: Pillow in /opt/conda/lib/python3.10/site-packages (from rdkit) (9.5.0)\r\n",
      "Downloading rdkit-2023.9.6-cp310-cp310-manylinux_2_17_x86_64.manylinux2014_x86_64.whl (34.9 MB)\r\n",
      "\u001b[2K   \u001b[90m━━━━━━━━━━━━━━━━━━━━━━━━━━━━━━━━━━━━━━━━\u001b[0m \u001b[32m34.9/34.9 MB\u001b[0m \u001b[31m48.8 MB/s\u001b[0m eta \u001b[36m0:00:00\u001b[0m\r\n",
      "\u001b[?25h\u001b[33mWARNING: Error parsing requirements for aiohttp: [Errno 2] No such file or directory: '/opt/conda/lib/python3.10/site-packages/aiohttp-3.9.1.dist-info/METADATA'\u001b[0m\u001b[33m\r\n",
      "\u001b[0mInstalling collected packages: rdkit\r\n",
      "Successfully installed rdkit-2023.9.6\r\n",
      "Collecting duckdb\r\n",
      "  Downloading duckdb-0.10.3-cp310-cp310-manylinux_2_17_x86_64.manylinux2014_x86_64.whl.metadata (763 bytes)\r\n",
      "Downloading duckdb-0.10.3-cp310-cp310-manylinux_2_17_x86_64.manylinux2014_x86_64.whl (18.5 MB)\r\n",
      "\u001b[2K   \u001b[90m━━━━━━━━━━━━━━━━━━━━━━━━━━━━━━━━━━━━━━━━\u001b[0m \u001b[32m18.5/18.5 MB\u001b[0m \u001b[31m80.2 MB/s\u001b[0m eta \u001b[36m0:00:00\u001b[0m\r\n",
      "\u001b[?25h\u001b[33mWARNING: Error parsing requirements for aiohttp: [Errno 2] No such file or directory: '/opt/conda/lib/python3.10/site-packages/aiohttp-3.9.1.dist-info/METADATA'\u001b[0m\u001b[33m\r\n",
      "\u001b[0mInstalling collected packages: duckdb\r\n",
      "Successfully installed duckdb-0.10.3\r\n"
     ]
    }
   ],
   "source": [
    "!pip install rdkit\n",
    "!pip install duckdb"
   ]
  },
  {
   "cell_type": "code",
   "execution_count": 2,
   "id": "e6235b59",
   "metadata": {
    "execution": {
     "iopub.execute_input": "2024-06-02T16:30:05.780437Z",
     "iopub.status.busy": "2024-06-02T16:30:05.779351Z",
     "iopub.status.idle": "2024-06-02T16:30:05.784937Z",
     "shell.execute_reply": "2024-06-02T16:30:05.783894Z"
    },
    "papermill": {
     "duration": 0.015719,
     "end_time": "2024-06-02T16:30:05.787186",
     "exception": false,
     "start_time": "2024-06-02T16:30:05.771467",
     "status": "completed"
    },
    "tags": []
   },
   "outputs": [],
   "source": [
    "import warnings\n",
    "warnings.filterwarnings('ignore')"
   ]
  },
  {
   "cell_type": "code",
   "execution_count": 3,
   "id": "847e728c",
   "metadata": {
    "execution": {
     "iopub.execute_input": "2024-06-02T16:30:05.800431Z",
     "iopub.status.busy": "2024-06-02T16:30:05.800039Z",
     "iopub.status.idle": "2024-06-02T16:30:08.544718Z",
     "shell.execute_reply": "2024-06-02T16:30:08.543520Z"
    },
    "papermill": {
     "duration": 2.754407,
     "end_time": "2024-06-02T16:30:08.547404",
     "exception": false,
     "start_time": "2024-06-02T16:30:05.792997",
     "status": "completed"
    },
    "tags": []
   },
   "outputs": [],
   "source": [
    "import pandas as pd\n",
    "from rdkit import Chem\n",
    "from rdkit.Chem import AllChem, Descriptors\n",
    "from sklearn.model_selection import train_test_split\n",
    "from sklearn.preprocessing import OneHotEncoder, StandardScaler\n",
    "from sklearn.svm import SVC\n",
    "from sklearn.neighbors import KNeighborsClassifier\n",
    "from sklearn.metrics import average_precision_score\n",
    "import numpy as np\n",
    "import duckdb"
   ]
  },
  {
   "cell_type": "code",
   "execution_count": 4,
   "id": "409ccc65",
   "metadata": {
    "execution": {
     "iopub.execute_input": "2024-06-02T16:30:08.561841Z",
     "iopub.status.busy": "2024-06-02T16:30:08.561104Z",
     "iopub.status.idle": "2024-06-02T16:30:08.566496Z",
     "shell.execute_reply": "2024-06-02T16:30:08.565302Z"
    },
    "papermill": {
     "duration": 0.015265,
     "end_time": "2024-06-02T16:30:08.568923",
     "exception": false,
     "start_time": "2024-06-02T16:30:08.553658",
     "status": "completed"
    },
    "tags": []
   },
   "outputs": [],
   "source": [
    "train_path = '/kaggle/input/leash-BELKA/train.parquet'\n",
    "test_path = '/kaggle/input/leash-BELKA/test.parquet'"
   ]
  },
  {
   "cell_type": "code",
   "execution_count": 5,
   "id": "eef23efb",
   "metadata": {
    "execution": {
     "iopub.execute_input": "2024-06-02T16:30:08.583374Z",
     "iopub.status.busy": "2024-06-02T16:30:08.582288Z",
     "iopub.status.idle": "2024-06-02T16:32:13.522179Z",
     "shell.execute_reply": "2024-06-02T16:32:13.520891Z"
    },
    "papermill": {
     "duration": 124.950359,
     "end_time": "2024-06-02T16:32:13.525311",
     "exception": false,
     "start_time": "2024-06-02T16:30:08.574952",
     "status": "completed"
    },
    "tags": []
   },
   "outputs": [
    {
     "data": {
      "application/vnd.jupyter.widget-view+json": {
       "model_id": "e58fdc5f0903481e9a16a814bfd0343c",
       "version_major": 2,
       "version_minor": 0
      },
      "text/plain": [
       "FloatProgress(value=0.0, layout=Layout(width='auto'), style=ProgressStyle(bar_color='black'))"
      ]
     },
     "metadata": {},
     "output_type": "display_data"
    },
    {
     "data": {
      "application/vnd.jupyter.widget-view+json": {
       "model_id": "05c25ac8ec554ac7916271953b1d92b3",
       "version_major": 2,
       "version_minor": 0
      },
      "text/plain": [
       "FloatProgress(value=0.0, layout=Layout(width='auto'), style=ProgressStyle(bar_color='black'))"
      ]
     },
     "metadata": {},
     "output_type": "display_data"
    },
    {
     "data": {
      "application/vnd.jupyter.widget-view+json": {
       "model_id": "6ec46ba9129d4f20a8cc8a638051d954",
       "version_major": 2,
       "version_minor": 0
      },
      "text/plain": [
       "FloatProgress(value=0.0, layout=Layout(width='auto'), style=ProgressStyle(bar_color='black'))"
      ]
     },
     "metadata": {},
     "output_type": "display_data"
    },
    {
     "data": {
      "application/vnd.jupyter.widget-view+json": {
       "model_id": "5f62169d068040bf8cfd153b3d73d33f",
       "version_major": 2,
       "version_minor": 0
      },
      "text/plain": [
       "FloatProgress(value=0.0, layout=Layout(width='auto'), style=ProgressStyle(bar_color='black'))"
      ]
     },
     "metadata": {},
     "output_type": "display_data"
    },
    {
     "data": {
      "application/vnd.jupyter.widget-view+json": {
       "model_id": "a2eb6a8c60314fc3b0e684d0c32ed433",
       "version_major": 2,
       "version_minor": 0
      },
      "text/plain": [
       "FloatProgress(value=0.0, layout=Layout(width='auto'), style=ProgressStyle(bar_color='black'))"
      ]
     },
     "metadata": {},
     "output_type": "display_data"
    },
    {
     "data": {
      "application/vnd.jupyter.widget-view+json": {
       "model_id": "bd75a9a56b054b4cbf5b022a0a9bbb5c",
       "version_major": 2,
       "version_minor": 0
      },
      "text/plain": [
       "FloatProgress(value=0.0, layout=Layout(width='auto'), style=ProgressStyle(bar_color='black'))"
      ]
     },
     "metadata": {},
     "output_type": "display_data"
    }
   ],
   "source": [
    "con = duckdb.connect()\n",
    "\n",
    "# 각 단백질에 대해 binds=0,1 데이터를 각각 12000개씩 불러오기\n",
    "df_brd4_0 = con.query(f\"\"\"\n",
    "    SELECT * \n",
    "    FROM parquet_scan('{train_path}') \n",
    "    WHERE binds = 0 AND protein_name = 'BRD4'\n",
    "    ORDER BY random()\n",
    "    LIMIT 20000\n",
    "\"\"\").df()\n",
    "\n",
    "df_brd4_1 = con.query(f\"\"\"\n",
    "    SELECT * \n",
    "    FROM parquet_scan('{train_path}') \n",
    "    WHERE binds = 1 AND protein_name = 'BRD4'\n",
    "    ORDER BY random()\n",
    "    LIMIT 30000\n",
    "\"\"\").df()\n",
    "\n",
    "df_hsa_0 = con.query(f\"\"\"\n",
    "    SELECT * \n",
    "    FROM parquet_scan('{train_path}') \n",
    "    WHERE binds = 0 AND protein_name = 'HSA'\n",
    "    ORDER BY random()\n",
    "    LIMIT 30000\n",
    "\"\"\").df()\n",
    "\n",
    "df_hsa_1 = con.query(f\"\"\"\n",
    "    SELECT * \n",
    "    FROM parquet_scan('{train_path}') \n",
    "    WHERE binds = 1 AND protein_name = 'HSA'\n",
    "    ORDER BY random()\n",
    "    LIMIT 30000\n",
    "\"\"\").df()\n",
    "\n",
    "df_seh_0 = con.query(f\"\"\"\n",
    "    SELECT * \n",
    "    FROM parquet_scan('{train_path}') \n",
    "    WHERE binds = 0 AND protein_name = 'sEH'\n",
    "    ORDER BY random()\n",
    "    LIMIT 30000\n",
    "\"\"\").df()\n",
    "\n",
    "df_seh_1 = con.query(f\"\"\"\n",
    "    SELECT * \n",
    "    FROM parquet_scan('{train_path}') \n",
    "    WHERE binds = 1 AND protein_name = 'sEH'\n",
    "    ORDER BY random()\n",
    "    LIMIT 30000\n",
    "\"\"\").df()\n",
    "\n",
    "# 데이터프레임 결합\n",
    "df = pd.concat([df_brd4_0, df_brd4_1, df_hsa_0, df_hsa_1, df_seh_0, df_seh_1], axis=0).reset_index(drop=True)\n",
    "con.close()"
   ]
  },
  {
   "cell_type": "code",
   "execution_count": 6,
   "id": "0929bb87",
   "metadata": {
    "execution": {
     "iopub.execute_input": "2024-06-02T16:32:13.544930Z",
     "iopub.status.busy": "2024-06-02T16:32:13.544572Z",
     "iopub.status.idle": "2024-06-02T16:32:13.551607Z",
     "shell.execute_reply": "2024-06-02T16:32:13.550461Z"
    },
    "papermill": {
     "duration": 0.01764,
     "end_time": "2024-06-02T16:32:13.553753",
     "exception": false,
     "start_time": "2024-06-02T16:32:13.536113",
     "status": "completed"
    },
    "tags": []
   },
   "outputs": [],
   "source": [
    "# ECFP 생성 함수\n",
    "def generate_ecfp(molecule, radius=2, bits=2048):\n",
    "    if molecule is None:\n",
    "        return None\n",
    "    return list(AllChem.GetMorganFingerprintAsBitVect(molecule, radius, nBits=bits))\n",
    "\n",
    "# 분자의 물리화학적 특성을 추출하는 함수\n",
    "def generate_physchem_features(molecule):\n",
    "    if molecule is None:\n",
    "        return [np.nan] * 7\n",
    "    return [\n",
    "        Descriptors.MolWt(molecule),                   # 분자량\n",
    "        Descriptors.MolLogP(molecule),                 # 로그 P\n",
    "        Descriptors.NumHDonors(molecule),              # 수소 결합 공여자 수\n",
    "        Descriptors.NumHAcceptors(molecule),           # 수소 결합 수용체 수\n",
    "        Descriptors.TPSA(molecule),                    # TPSA (극성 표면적)\n",
    "        Descriptors.NumRotatableBonds(molecule),       # 회전 가능한 결합 수\n",
    "        Descriptors.RingCount(molecule)                # 고리의 수\n",
    "    ]"
   ]
  },
  {
   "cell_type": "code",
   "execution_count": 7,
   "id": "0286f862",
   "metadata": {
    "execution": {
     "iopub.execute_input": "2024-06-02T16:32:13.569556Z",
     "iopub.status.busy": "2024-06-02T16:32:13.569144Z",
     "iopub.status.idle": "2024-06-02T16:40:28.453351Z",
     "shell.execute_reply": "2024-06-02T16:40:28.452050Z"
    },
    "papermill": {
     "duration": 494.895483,
     "end_time": "2024-06-02T16:40:28.456132",
     "exception": false,
     "start_time": "2024-06-02T16:32:13.560649",
     "status": "completed"
    },
    "tags": []
   },
   "outputs": [],
   "source": [
    "# 데이터 전처리\n",
    "df['molecule'] = df['molecule_smiles'].apply(Chem.MolFromSmiles)\n",
    "df['physchem'] = df['molecule'].apply(generate_physchem_features)\n",
    "df['ecfp'] = df['molecule'].apply(generate_ecfp)"
   ]
  },
  {
   "cell_type": "code",
   "execution_count": 8,
   "id": "cf544337",
   "metadata": {
    "execution": {
     "iopub.execute_input": "2024-06-02T16:40:28.472717Z",
     "iopub.status.busy": "2024-06-02T16:40:28.472320Z",
     "iopub.status.idle": "2024-06-02T16:40:28.662722Z",
     "shell.execute_reply": "2024-06-02T16:40:28.661450Z"
    },
    "papermill": {
     "duration": 0.201645,
     "end_time": "2024-06-02T16:40:28.665245",
     "exception": false,
     "start_time": "2024-06-02T16:40:28.463600",
     "status": "completed"
    },
    "tags": []
   },
   "outputs": [],
   "source": [
    "# 물리화학적 특성을 정규화\n",
    "physchem_features = np.array(df['physchem'].tolist())\n",
    "scaler = StandardScaler()\n",
    "physchem_features_scaled = scaler.fit_transform(physchem_features)"
   ]
  },
  {
   "cell_type": "code",
   "execution_count": 9,
   "id": "2a1dcaa9",
   "metadata": {
    "execution": {
     "iopub.execute_input": "2024-06-02T16:40:28.681099Z",
     "iopub.status.busy": "2024-06-02T16:40:28.680690Z",
     "iopub.status.idle": "2024-06-02T16:40:37.214789Z",
     "shell.execute_reply": "2024-06-02T16:40:37.213776Z"
    },
    "papermill": {
     "duration": 8.545591,
     "end_time": "2024-06-02T16:40:37.217955",
     "exception": false,
     "start_time": "2024-06-02T16:40:28.672364",
     "status": "completed"
    },
    "tags": []
   },
   "outputs": [],
   "source": [
    "# ECFP와 정규화된 물리화학적 특성을 결합\n",
    "df['features'] = [ecfp + physchem_scaled.tolist() for ecfp, physchem_scaled in zip(df['ecfp'], physchem_features_scaled)]"
   ]
  },
  {
   "cell_type": "code",
   "execution_count": 10,
   "id": "243c32d5",
   "metadata": {
    "execution": {
     "iopub.execute_input": "2024-06-02T16:40:37.234972Z",
     "iopub.status.busy": "2024-06-02T16:40:37.234091Z",
     "iopub.status.idle": "2024-06-02T16:40:37.295642Z",
     "shell.execute_reply": "2024-06-02T16:40:37.294654Z"
    },
    "papermill": {
     "duration": 0.072951,
     "end_time": "2024-06-02T16:40:37.298063",
     "exception": false,
     "start_time": "2024-06-02T16:40:37.225112",
     "status": "completed"
    },
    "tags": []
   },
   "outputs": [],
   "source": [
    "# 단백질 이름을 원-핫 인코딩\n",
    "onehot_encoder = OneHotEncoder(sparse_output=False)\n",
    "protein_onehot = onehot_encoder.fit_transform(df['protein_name'].values.reshape(-1, 1))"
   ]
  },
  {
   "cell_type": "code",
   "execution_count": 11,
   "id": "2edf7bbe",
   "metadata": {
    "execution": {
     "iopub.execute_input": "2024-06-02T16:40:37.314398Z",
     "iopub.status.busy": "2024-06-02T16:40:37.313701Z",
     "iopub.status.idle": "2024-06-02T16:41:23.364526Z",
     "shell.execute_reply": "2024-06-02T16:41:23.363220Z"
    },
    "papermill": {
     "duration": 46.062026,
     "end_time": "2024-06-02T16:41:23.367509",
     "exception": false,
     "start_time": "2024-06-02T16:40:37.305483",
     "status": "completed"
    },
    "tags": []
   },
   "outputs": [],
   "source": [
    "# 최종 입력 데이터 생성\n",
    "X = np.array([features + list(protein) for features, protein in zip(df['features'].tolist(), protein_onehot.tolist())])\n",
    "y = np.array(df['binds'].tolist())"
   ]
  },
  {
   "cell_type": "code",
   "execution_count": 12,
   "id": "0eb4c1c9",
   "metadata": {
    "execution": {
     "iopub.execute_input": "2024-06-02T16:41:23.383649Z",
     "iopub.status.busy": "2024-06-02T16:41:23.383238Z",
     "iopub.status.idle": "2024-06-02T16:41:24.357118Z",
     "shell.execute_reply": "2024-06-02T16:41:24.356132Z"
    },
    "papermill": {
     "duration": 0.985072,
     "end_time": "2024-06-02T16:41:24.359882",
     "exception": false,
     "start_time": "2024-06-02T16:41:23.374810",
     "status": "completed"
    },
    "tags": []
   },
   "outputs": [],
   "source": [
    "# 데이터 분할\n",
    "X_train, X_test, y_train, y_test = train_test_split(X, y, test_size=0.2, random_state=42)"
   ]
  },
  {
   "cell_type": "code",
   "execution_count": 13,
   "id": "ba41c08d",
   "metadata": {
    "execution": {
     "iopub.execute_input": "2024-06-02T16:41:24.376435Z",
     "iopub.status.busy": "2024-06-02T16:41:24.375548Z",
     "iopub.status.idle": "2024-06-02T16:41:24.607905Z",
     "shell.execute_reply": "2024-06-02T16:41:24.606636Z"
    },
    "papermill": {
     "duration": 0.243323,
     "end_time": "2024-06-02T16:41:24.610494",
     "exception": false,
     "start_time": "2024-06-02T16:41:24.367171",
     "status": "completed"
    },
    "tags": []
   },
   "outputs": [
    {
     "data": {
      "text/html": [
       "<style>#sk-container-id-1 {color: black;background-color: white;}#sk-container-id-1 pre{padding: 0;}#sk-container-id-1 div.sk-toggleable {background-color: white;}#sk-container-id-1 label.sk-toggleable__label {cursor: pointer;display: block;width: 100%;margin-bottom: 0;padding: 0.3em;box-sizing: border-box;text-align: center;}#sk-container-id-1 label.sk-toggleable__label-arrow:before {content: \"▸\";float: left;margin-right: 0.25em;color: #696969;}#sk-container-id-1 label.sk-toggleable__label-arrow:hover:before {color: black;}#sk-container-id-1 div.sk-estimator:hover label.sk-toggleable__label-arrow:before {color: black;}#sk-container-id-1 div.sk-toggleable__content {max-height: 0;max-width: 0;overflow: hidden;text-align: left;background-color: #f0f8ff;}#sk-container-id-1 div.sk-toggleable__content pre {margin: 0.2em;color: black;border-radius: 0.25em;background-color: #f0f8ff;}#sk-container-id-1 input.sk-toggleable__control:checked~div.sk-toggleable__content {max-height: 200px;max-width: 100%;overflow: auto;}#sk-container-id-1 input.sk-toggleable__control:checked~label.sk-toggleable__label-arrow:before {content: \"▾\";}#sk-container-id-1 div.sk-estimator input.sk-toggleable__control:checked~label.sk-toggleable__label {background-color: #d4ebff;}#sk-container-id-1 div.sk-label input.sk-toggleable__control:checked~label.sk-toggleable__label {background-color: #d4ebff;}#sk-container-id-1 input.sk-hidden--visually {border: 0;clip: rect(1px 1px 1px 1px);clip: rect(1px, 1px, 1px, 1px);height: 1px;margin: -1px;overflow: hidden;padding: 0;position: absolute;width: 1px;}#sk-container-id-1 div.sk-estimator {font-family: monospace;background-color: #f0f8ff;border: 1px dotted black;border-radius: 0.25em;box-sizing: border-box;margin-bottom: 0.5em;}#sk-container-id-1 div.sk-estimator:hover {background-color: #d4ebff;}#sk-container-id-1 div.sk-parallel-item::after {content: \"\";width: 100%;border-bottom: 1px solid gray;flex-grow: 1;}#sk-container-id-1 div.sk-label:hover label.sk-toggleable__label {background-color: #d4ebff;}#sk-container-id-1 div.sk-serial::before {content: \"\";position: absolute;border-left: 1px solid gray;box-sizing: border-box;top: 0;bottom: 0;left: 50%;z-index: 0;}#sk-container-id-1 div.sk-serial {display: flex;flex-direction: column;align-items: center;background-color: white;padding-right: 0.2em;padding-left: 0.2em;position: relative;}#sk-container-id-1 div.sk-item {position: relative;z-index: 1;}#sk-container-id-1 div.sk-parallel {display: flex;align-items: stretch;justify-content: center;background-color: white;position: relative;}#sk-container-id-1 div.sk-item::before, #sk-container-id-1 div.sk-parallel-item::before {content: \"\";position: absolute;border-left: 1px solid gray;box-sizing: border-box;top: 0;bottom: 0;left: 50%;z-index: -1;}#sk-container-id-1 div.sk-parallel-item {display: flex;flex-direction: column;z-index: 1;position: relative;background-color: white;}#sk-container-id-1 div.sk-parallel-item:first-child::after {align-self: flex-end;width: 50%;}#sk-container-id-1 div.sk-parallel-item:last-child::after {align-self: flex-start;width: 50%;}#sk-container-id-1 div.sk-parallel-item:only-child::after {width: 0;}#sk-container-id-1 div.sk-dashed-wrapped {border: 1px dashed gray;margin: 0 0.4em 0.5em 0.4em;box-sizing: border-box;padding-bottom: 0.4em;background-color: white;}#sk-container-id-1 div.sk-label label {font-family: monospace;font-weight: bold;display: inline-block;line-height: 1.2em;}#sk-container-id-1 div.sk-label-container {text-align: center;}#sk-container-id-1 div.sk-container {/* jupyter's `normalize.less` sets `[hidden] { display: none; }` but bootstrap.min.css set `[hidden] { display: none !important; }` so we also need the `!important` here to be able to override the default hidden behavior on the sphinx rendered scikit-learn.org. See: https://github.com/scikit-learn/scikit-learn/issues/21755 */display: inline-block !important;position: relative;}#sk-container-id-1 div.sk-text-repr-fallback {display: none;}</style><div id=\"sk-container-id-1\" class=\"sk-top-container\"><div class=\"sk-text-repr-fallback\"><pre>KNeighborsClassifier()</pre><b>In a Jupyter environment, please rerun this cell to show the HTML representation or trust the notebook. <br />On GitHub, the HTML representation is unable to render, please try loading this page with nbviewer.org.</b></div><div class=\"sk-container\" hidden><div class=\"sk-item\"><div class=\"sk-estimator sk-toggleable\"><input class=\"sk-toggleable__control sk-hidden--visually\" id=\"sk-estimator-id-1\" type=\"checkbox\" checked><label for=\"sk-estimator-id-1\" class=\"sk-toggleable__label sk-toggleable__label-arrow\">KNeighborsClassifier</label><div class=\"sk-toggleable__content\"><pre>KNeighborsClassifier()</pre></div></div></div></div></div>"
      ],
      "text/plain": [
       "KNeighborsClassifier()"
      ]
     },
     "execution_count": 13,
     "metadata": {},
     "output_type": "execute_result"
    }
   ],
   "source": [
    "# k-NN 모델 정의 및 학습\n",
    "knn_model = KNeighborsClassifier(n_neighbors=5)\n",
    "knn_model.fit(X_train, y_train)"
   ]
  },
  {
   "cell_type": "code",
   "execution_count": 14,
   "id": "aa6a3872",
   "metadata": {
    "execution": {
     "iopub.execute_input": "2024-06-02T16:41:24.627008Z",
     "iopub.status.busy": "2024-06-02T16:41:24.626594Z",
     "iopub.status.idle": "2024-06-02T16:46:11.816884Z",
     "shell.execute_reply": "2024-06-02T16:46:11.815675Z"
    },
    "papermill": {
     "duration": 287.208469,
     "end_time": "2024-06-02T16:46:11.826395",
     "exception": false,
     "start_time": "2024-06-02T16:41:24.617926",
     "status": "completed"
    },
    "tags": []
   },
   "outputs": [
    {
     "name": "stdout",
     "output_type": "stream",
     "text": [
      "k-NN Mean Average Precision (MAP) Score: 0.8798856197129366\n"
     ]
    }
   ],
   "source": [
    "# 예측 및 평가\n",
    "knn_pred_proba = knn_model.predict_proba(X_test)[:, 1]\n",
    "knn_map_score = average_precision_score(y_test, knn_pred_proba)\n",
    "print(f\"k-NN Mean Average Precision (MAP) Score: {knn_map_score}\")"
   ]
  },
  {
   "cell_type": "code",
   "execution_count": 15,
   "id": "70a6bff2",
   "metadata": {
    "execution": {
     "iopub.execute_input": "2024-06-02T16:46:11.843727Z",
     "iopub.status.busy": "2024-06-02T16:46:11.842570Z",
     "iopub.status.idle": "2024-06-02T16:46:11.848087Z",
     "shell.execute_reply": "2024-06-02T16:46:11.846918Z"
    },
    "papermill": {
     "duration": 0.01677,
     "end_time": "2024-06-02T16:46:11.850430",
     "exception": false,
     "start_time": "2024-06-02T16:46:11.833660",
     "status": "completed"
    },
    "tags": []
   },
   "outputs": [],
   "source": [
    "# 테스트 데이터 예측 및 저장\n",
    "test_file = '/kaggle/input/leash-BELKA/test.csv'  \n",
    "output_file = '/kaggle/working/submission10.csv'  # 출력 파일 경로"
   ]
  },
  {
   "cell_type": "code",
   "execution_count": 16,
   "id": "8a78d112",
   "metadata": {
    "execution": {
     "iopub.execute_input": "2024-06-02T16:46:11.868021Z",
     "iopub.status.busy": "2024-06-02T16:46:11.867434Z",
     "iopub.status.idle": "2024-06-02T16:46:11.872710Z",
     "shell.execute_reply": "2024-06-02T16:46:11.871443Z"
    },
    "papermill": {
     "duration": 0.016613,
     "end_time": "2024-06-02T16:46:11.875082",
     "exception": false,
     "start_time": "2024-06-02T16:46:11.858469",
     "status": "completed"
    },
    "tags": []
   },
   "outputs": [],
   "source": [
    "import os"
   ]
  },
  {
   "cell_type": "code",
   "execution_count": 17,
   "id": "39e9650c",
   "metadata": {
    "execution": {
     "iopub.execute_input": "2024-06-02T16:46:11.893843Z",
     "iopub.status.busy": "2024-06-02T16:46:11.893121Z",
     "iopub.status.idle": "2024-06-02T22:14:54.607377Z",
     "shell.execute_reply": "2024-06-02T22:14:54.603349Z"
    },
    "papermill": {
     "duration": 19722.743116,
     "end_time": "2024-06-02T22:14:54.626556",
     "exception": false,
     "start_time": "2024-06-02T16:46:11.883440",
     "status": "completed"
    },
    "tags": []
   },
   "outputs": [],
   "source": [
    "for df_test in pd.read_csv(test_file, chunksize=100000):\n",
    "    df_test['molecule'] = df_test['molecule_smiles'].apply(Chem.MolFromSmiles)\n",
    "    df_test['ecfp'] = df_test['molecule'].apply(generate_ecfp)\n",
    "    df_test['physchem'] = df_test['molecule'].apply(generate_physchem_features)\n",
    "    \n",
    "    # 테스트 데이터의 물리화학적 특성 정규화\n",
    "    physchem_features_test = np.array(df_test['physchem'].tolist())\n",
    "    physchem_features_test_scaled = scaler.transform(physchem_features_test)\n",
    "    \n",
    "    df_test['features'] = [ecfp + physchem_scaled.tolist() for ecfp, physchem_scaled in zip(df_test['ecfp'], physchem_features_test_scaled)]\n",
    "    protein_onehot = onehot_encoder.transform(df_test['protein_name'].values.reshape(-1, 1))\n",
    "    X_test = np.array([features + list(protein) for features, protein in zip(df_test['features'].tolist(), protein_onehot.tolist())])\n",
    "    knn_probabilities = knn_model.predict_proba(X_test)[:, 1]\n",
    "    knn_output_df = pd.DataFrame({'id': df_test['id'], 'binds': knn_probabilities})\n",
    "    knn_output_df.to_csv(output_file, index=False, mode='a', header=not os.path.exists(output_file))"
   ]
  }
 ],
 "metadata": {
  "kaggle": {
   "accelerator": "none",
   "dataSources": [
    {
     "databundleVersionId": 8006601,
     "sourceId": 67356,
     "sourceType": "competition"
    }
   ],
   "dockerImageVersionId": 30715,
   "isGpuEnabled": false,
   "isInternetEnabled": true,
   "language": "python",
   "sourceType": "notebook"
  },
  "kernelspec": {
   "display_name": "Python 3",
   "language": "python",
   "name": "python3"
  },
  "language_info": {
   "codemirror_mode": {
    "name": "ipython",
    "version": 3
   },
   "file_extension": ".py",
   "mimetype": "text/x-python",
   "name": "python",
   "nbconvert_exporter": "python",
   "pygments_lexer": "ipython3",
   "version": "3.10.13"
  },
  "papermill": {
   "default_parameters": {},
   "duration": 20726.805403,
   "end_time": "2024-06-02T22:14:59.080105",
   "environment_variables": {},
   "exception": null,
   "input_path": "__notebook__.ipynb",
   "output_path": "__notebook__.ipynb",
   "parameters": {},
   "start_time": "2024-06-02T16:29:32.274702",
   "version": "2.5.0"
  },
  "widgets": {
   "application/vnd.jupyter.widget-state+json": {
    "state": {
     "05c25ac8ec554ac7916271953b1d92b3": {
      "model_module": "@jupyter-widgets/controls",
      "model_module_version": "1.5.0",
      "model_name": "FloatProgressModel",
      "state": {
       "_dom_classes": [],
       "_model_module": "@jupyter-widgets/controls",
       "_model_module_version": "1.5.0",
       "_model_name": "FloatProgressModel",
       "_view_count": null,
       "_view_module": "@jupyter-widgets/controls",
       "_view_module_version": "1.5.0",
       "_view_name": "ProgressView",
       "bar_style": "",
       "description": "",
       "description_tooltip": null,
       "layout": "IPY_MODEL_65d475787a9047118685e7f58acd050d",
       "max": 100.0,
       "min": 0.0,
       "orientation": "horizontal",
       "style": "IPY_MODEL_bff9e64988894a8b97127cabd84a3266",
       "value": 100.0
      }
     },
     "248efdffb3524804a213c19f86451ccf": {
      "model_module": "@jupyter-widgets/base",
      "model_module_version": "1.2.0",
      "model_name": "LayoutModel",
      "state": {
       "_model_module": "@jupyter-widgets/base",
       "_model_module_version": "1.2.0",
       "_model_name": "LayoutModel",
       "_view_count": null,
       "_view_module": "@jupyter-widgets/base",
       "_view_module_version": "1.2.0",
       "_view_name": "LayoutView",
       "align_content": null,
       "align_items": null,
       "align_self": null,
       "border": null,
       "bottom": null,
       "display": null,
       "flex": null,
       "flex_flow": null,
       "grid_area": null,
       "grid_auto_columns": null,
       "grid_auto_flow": null,
       "grid_auto_rows": null,
       "grid_column": null,
       "grid_gap": null,
       "grid_row": null,
       "grid_template_areas": null,
       "grid_template_columns": null,
       "grid_template_rows": null,
       "height": null,
       "justify_content": null,
       "justify_items": null,
       "left": null,
       "margin": null,
       "max_height": null,
       "max_width": null,
       "min_height": null,
       "min_width": null,
       "object_fit": null,
       "object_position": null,
       "order": null,
       "overflow": null,
       "overflow_x": null,
       "overflow_y": null,
       "padding": null,
       "right": null,
       "top": null,
       "visibility": null,
       "width": "auto"
      }
     },
     "4c4f7bd35fcc444ca03caa8d4c00022c": {
      "model_module": "@jupyter-widgets/base",
      "model_module_version": "1.2.0",
      "model_name": "LayoutModel",
      "state": {
       "_model_module": "@jupyter-widgets/base",
       "_model_module_version": "1.2.0",
       "_model_name": "LayoutModel",
       "_view_count": null,
       "_view_module": "@jupyter-widgets/base",
       "_view_module_version": "1.2.0",
       "_view_name": "LayoutView",
       "align_content": null,
       "align_items": null,
       "align_self": null,
       "border": null,
       "bottom": null,
       "display": null,
       "flex": null,
       "flex_flow": null,
       "grid_area": null,
       "grid_auto_columns": null,
       "grid_auto_flow": null,
       "grid_auto_rows": null,
       "grid_column": null,
       "grid_gap": null,
       "grid_row": null,
       "grid_template_areas": null,
       "grid_template_columns": null,
       "grid_template_rows": null,
       "height": null,
       "justify_content": null,
       "justify_items": null,
       "left": null,
       "margin": null,
       "max_height": null,
       "max_width": null,
       "min_height": null,
       "min_width": null,
       "object_fit": null,
       "object_position": null,
       "order": null,
       "overflow": null,
       "overflow_x": null,
       "overflow_y": null,
       "padding": null,
       "right": null,
       "top": null,
       "visibility": null,
       "width": "auto"
      }
     },
     "5f62169d068040bf8cfd153b3d73d33f": {
      "model_module": "@jupyter-widgets/controls",
      "model_module_version": "1.5.0",
      "model_name": "FloatProgressModel",
      "state": {
       "_dom_classes": [],
       "_model_module": "@jupyter-widgets/controls",
       "_model_module_version": "1.5.0",
       "_model_name": "FloatProgressModel",
       "_view_count": null,
       "_view_module": "@jupyter-widgets/controls",
       "_view_module_version": "1.5.0",
       "_view_name": "ProgressView",
       "bar_style": "",
       "description": "",
       "description_tooltip": null,
       "layout": "IPY_MODEL_a152e326b8674b0f85d7f56a6634d378",
       "max": 100.0,
       "min": 0.0,
       "orientation": "horizontal",
       "style": "IPY_MODEL_9c717e7f094f4cd9a711d6c5e5e286d4",
       "value": 100.0
      }
     },
     "65d475787a9047118685e7f58acd050d": {
      "model_module": "@jupyter-widgets/base",
      "model_module_version": "1.2.0",
      "model_name": "LayoutModel",
      "state": {
       "_model_module": "@jupyter-widgets/base",
       "_model_module_version": "1.2.0",
       "_model_name": "LayoutModel",
       "_view_count": null,
       "_view_module": "@jupyter-widgets/base",
       "_view_module_version": "1.2.0",
       "_view_name": "LayoutView",
       "align_content": null,
       "align_items": null,
       "align_self": null,
       "border": null,
       "bottom": null,
       "display": null,
       "flex": null,
       "flex_flow": null,
       "grid_area": null,
       "grid_auto_columns": null,
       "grid_auto_flow": null,
       "grid_auto_rows": null,
       "grid_column": null,
       "grid_gap": null,
       "grid_row": null,
       "grid_template_areas": null,
       "grid_template_columns": null,
       "grid_template_rows": null,
       "height": null,
       "justify_content": null,
       "justify_items": null,
       "left": null,
       "margin": null,
       "max_height": null,
       "max_width": null,
       "min_height": null,
       "min_width": null,
       "object_fit": null,
       "object_position": null,
       "order": null,
       "overflow": null,
       "overflow_x": null,
       "overflow_y": null,
       "padding": null,
       "right": null,
       "top": null,
       "visibility": null,
       "width": "auto"
      }
     },
     "6ec46ba9129d4f20a8cc8a638051d954": {
      "model_module": "@jupyter-widgets/controls",
      "model_module_version": "1.5.0",
      "model_name": "FloatProgressModel",
      "state": {
       "_dom_classes": [],
       "_model_module": "@jupyter-widgets/controls",
       "_model_module_version": "1.5.0",
       "_model_name": "FloatProgressModel",
       "_view_count": null,
       "_view_module": "@jupyter-widgets/controls",
       "_view_module_version": "1.5.0",
       "_view_name": "ProgressView",
       "bar_style": "",
       "description": "",
       "description_tooltip": null,
       "layout": "IPY_MODEL_a9bcaca049d14c40ba82ace8b88021e5",
       "max": 100.0,
       "min": 0.0,
       "orientation": "horizontal",
       "style": "IPY_MODEL_cbd668edb5cc44d6a05eb907a7ae4b02",
       "value": 100.0
      }
     },
     "82f9ad93978c4c598d7bfc9ed6aebcd4": {
      "model_module": "@jupyter-widgets/controls",
      "model_module_version": "1.5.0",
      "model_name": "ProgressStyleModel",
      "state": {
       "_model_module": "@jupyter-widgets/controls",
       "_model_module_version": "1.5.0",
       "_model_name": "ProgressStyleModel",
       "_view_count": null,
       "_view_module": "@jupyter-widgets/base",
       "_view_module_version": "1.2.0",
       "_view_name": "StyleView",
       "bar_color": "black",
       "description_width": ""
      }
     },
     "9c717e7f094f4cd9a711d6c5e5e286d4": {
      "model_module": "@jupyter-widgets/controls",
      "model_module_version": "1.5.0",
      "model_name": "ProgressStyleModel",
      "state": {
       "_model_module": "@jupyter-widgets/controls",
       "_model_module_version": "1.5.0",
       "_model_name": "ProgressStyleModel",
       "_view_count": null,
       "_view_module": "@jupyter-widgets/base",
       "_view_module_version": "1.2.0",
       "_view_name": "StyleView",
       "bar_color": "black",
       "description_width": ""
      }
     },
     "a152e326b8674b0f85d7f56a6634d378": {
      "model_module": "@jupyter-widgets/base",
      "model_module_version": "1.2.0",
      "model_name": "LayoutModel",
      "state": {
       "_model_module": "@jupyter-widgets/base",
       "_model_module_version": "1.2.0",
       "_model_name": "LayoutModel",
       "_view_count": null,
       "_view_module": "@jupyter-widgets/base",
       "_view_module_version": "1.2.0",
       "_view_name": "LayoutView",
       "align_content": null,
       "align_items": null,
       "align_self": null,
       "border": null,
       "bottom": null,
       "display": null,
       "flex": null,
       "flex_flow": null,
       "grid_area": null,
       "grid_auto_columns": null,
       "grid_auto_flow": null,
       "grid_auto_rows": null,
       "grid_column": null,
       "grid_gap": null,
       "grid_row": null,
       "grid_template_areas": null,
       "grid_template_columns": null,
       "grid_template_rows": null,
       "height": null,
       "justify_content": null,
       "justify_items": null,
       "left": null,
       "margin": null,
       "max_height": null,
       "max_width": null,
       "min_height": null,
       "min_width": null,
       "object_fit": null,
       "object_position": null,
       "order": null,
       "overflow": null,
       "overflow_x": null,
       "overflow_y": null,
       "padding": null,
       "right": null,
       "top": null,
       "visibility": null,
       "width": "auto"
      }
     },
     "a2eb6a8c60314fc3b0e684d0c32ed433": {
      "model_module": "@jupyter-widgets/controls",
      "model_module_version": "1.5.0",
      "model_name": "FloatProgressModel",
      "state": {
       "_dom_classes": [],
       "_model_module": "@jupyter-widgets/controls",
       "_model_module_version": "1.5.0",
       "_model_name": "FloatProgressModel",
       "_view_count": null,
       "_view_module": "@jupyter-widgets/controls",
       "_view_module_version": "1.5.0",
       "_view_name": "ProgressView",
       "bar_style": "",
       "description": "",
       "description_tooltip": null,
       "layout": "IPY_MODEL_4c4f7bd35fcc444ca03caa8d4c00022c",
       "max": 100.0,
       "min": 0.0,
       "orientation": "horizontal",
       "style": "IPY_MODEL_82f9ad93978c4c598d7bfc9ed6aebcd4",
       "value": 100.0
      }
     },
     "a9aeecdcc0f145f5880d751f63b77bcc": {
      "model_module": "@jupyter-widgets/base",
      "model_module_version": "1.2.0",
      "model_name": "LayoutModel",
      "state": {
       "_model_module": "@jupyter-widgets/base",
       "_model_module_version": "1.2.0",
       "_model_name": "LayoutModel",
       "_view_count": null,
       "_view_module": "@jupyter-widgets/base",
       "_view_module_version": "1.2.0",
       "_view_name": "LayoutView",
       "align_content": null,
       "align_items": null,
       "align_self": null,
       "border": null,
       "bottom": null,
       "display": null,
       "flex": null,
       "flex_flow": null,
       "grid_area": null,
       "grid_auto_columns": null,
       "grid_auto_flow": null,
       "grid_auto_rows": null,
       "grid_column": null,
       "grid_gap": null,
       "grid_row": null,
       "grid_template_areas": null,
       "grid_template_columns": null,
       "grid_template_rows": null,
       "height": null,
       "justify_content": null,
       "justify_items": null,
       "left": null,
       "margin": null,
       "max_height": null,
       "max_width": null,
       "min_height": null,
       "min_width": null,
       "object_fit": null,
       "object_position": null,
       "order": null,
       "overflow": null,
       "overflow_x": null,
       "overflow_y": null,
       "padding": null,
       "right": null,
       "top": null,
       "visibility": null,
       "width": "auto"
      }
     },
     "a9bcaca049d14c40ba82ace8b88021e5": {
      "model_module": "@jupyter-widgets/base",
      "model_module_version": "1.2.0",
      "model_name": "LayoutModel",
      "state": {
       "_model_module": "@jupyter-widgets/base",
       "_model_module_version": "1.2.0",
       "_model_name": "LayoutModel",
       "_view_count": null,
       "_view_module": "@jupyter-widgets/base",
       "_view_module_version": "1.2.0",
       "_view_name": "LayoutView",
       "align_content": null,
       "align_items": null,
       "align_self": null,
       "border": null,
       "bottom": null,
       "display": null,
       "flex": null,
       "flex_flow": null,
       "grid_area": null,
       "grid_auto_columns": null,
       "grid_auto_flow": null,
       "grid_auto_rows": null,
       "grid_column": null,
       "grid_gap": null,
       "grid_row": null,
       "grid_template_areas": null,
       "grid_template_columns": null,
       "grid_template_rows": null,
       "height": null,
       "justify_content": null,
       "justify_items": null,
       "left": null,
       "margin": null,
       "max_height": null,
       "max_width": null,
       "min_height": null,
       "min_width": null,
       "object_fit": null,
       "object_position": null,
       "order": null,
       "overflow": null,
       "overflow_x": null,
       "overflow_y": null,
       "padding": null,
       "right": null,
       "top": null,
       "visibility": null,
       "width": "auto"
      }
     },
     "bce655e9b59e42a88f8569e25711e7d3": {
      "model_module": "@jupyter-widgets/controls",
      "model_module_version": "1.5.0",
      "model_name": "ProgressStyleModel",
      "state": {
       "_model_module": "@jupyter-widgets/controls",
       "_model_module_version": "1.5.0",
       "_model_name": "ProgressStyleModel",
       "_view_count": null,
       "_view_module": "@jupyter-widgets/base",
       "_view_module_version": "1.2.0",
       "_view_name": "StyleView",
       "bar_color": "black",
       "description_width": ""
      }
     },
     "bd75a9a56b054b4cbf5b022a0a9bbb5c": {
      "model_module": "@jupyter-widgets/controls",
      "model_module_version": "1.5.0",
      "model_name": "FloatProgressModel",
      "state": {
       "_dom_classes": [],
       "_model_module": "@jupyter-widgets/controls",
       "_model_module_version": "1.5.0",
       "_model_name": "FloatProgressModel",
       "_view_count": null,
       "_view_module": "@jupyter-widgets/controls",
       "_view_module_version": "1.5.0",
       "_view_name": "ProgressView",
       "bar_style": "",
       "description": "",
       "description_tooltip": null,
       "layout": "IPY_MODEL_a9aeecdcc0f145f5880d751f63b77bcc",
       "max": 100.0,
       "min": 0.0,
       "orientation": "horizontal",
       "style": "IPY_MODEL_bce655e9b59e42a88f8569e25711e7d3",
       "value": 100.0
      }
     },
     "bff9e64988894a8b97127cabd84a3266": {
      "model_module": "@jupyter-widgets/controls",
      "model_module_version": "1.5.0",
      "model_name": "ProgressStyleModel",
      "state": {
       "_model_module": "@jupyter-widgets/controls",
       "_model_module_version": "1.5.0",
       "_model_name": "ProgressStyleModel",
       "_view_count": null,
       "_view_module": "@jupyter-widgets/base",
       "_view_module_version": "1.2.0",
       "_view_name": "StyleView",
       "bar_color": "black",
       "description_width": ""
      }
     },
     "cbd668edb5cc44d6a05eb907a7ae4b02": {
      "model_module": "@jupyter-widgets/controls",
      "model_module_version": "1.5.0",
      "model_name": "ProgressStyleModel",
      "state": {
       "_model_module": "@jupyter-widgets/controls",
       "_model_module_version": "1.5.0",
       "_model_name": "ProgressStyleModel",
       "_view_count": null,
       "_view_module": "@jupyter-widgets/base",
       "_view_module_version": "1.2.0",
       "_view_name": "StyleView",
       "bar_color": "black",
       "description_width": ""
      }
     },
     "e58fdc5f0903481e9a16a814bfd0343c": {
      "model_module": "@jupyter-widgets/controls",
      "model_module_version": "1.5.0",
      "model_name": "FloatProgressModel",
      "state": {
       "_dom_classes": [],
       "_model_module": "@jupyter-widgets/controls",
       "_model_module_version": "1.5.0",
       "_model_name": "FloatProgressModel",
       "_view_count": null,
       "_view_module": "@jupyter-widgets/controls",
       "_view_module_version": "1.5.0",
       "_view_name": "ProgressView",
       "bar_style": "",
       "description": "",
       "description_tooltip": null,
       "layout": "IPY_MODEL_248efdffb3524804a213c19f86451ccf",
       "max": 100.0,
       "min": 0.0,
       "orientation": "horizontal",
       "style": "IPY_MODEL_ef4af7292cf843559a6f0fea6311f292",
       "value": 100.0
      }
     },
     "ef4af7292cf843559a6f0fea6311f292": {
      "model_module": "@jupyter-widgets/controls",
      "model_module_version": "1.5.0",
      "model_name": "ProgressStyleModel",
      "state": {
       "_model_module": "@jupyter-widgets/controls",
       "_model_module_version": "1.5.0",
       "_model_name": "ProgressStyleModel",
       "_view_count": null,
       "_view_module": "@jupyter-widgets/base",
       "_view_module_version": "1.2.0",
       "_view_name": "StyleView",
       "bar_color": "black",
       "description_width": ""
      }
     }
    },
    "version_major": 2,
    "version_minor": 0
   }
  }
 },
 "nbformat": 4,
 "nbformat_minor": 5
}
