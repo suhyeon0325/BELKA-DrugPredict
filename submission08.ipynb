{
 "cells": [
  {
   "cell_type": "code",
   "execution_count": 1,
   "id": "03e86c81",
   "metadata": {
    "execution": {
     "iopub.execute_input": "2024-06-02T14:36:36.679315Z",
     "iopub.status.busy": "2024-06-02T14:36:36.678343Z",
     "iopub.status.idle": "2024-06-02T14:36:36.689423Z",
     "shell.execute_reply": "2024-06-02T14:36:36.688350Z"
    },
    "papermill": {
     "duration": 0.021841,
     "end_time": "2024-06-02T14:36:36.691842",
     "exception": false,
     "start_time": "2024-06-02T14:36:36.670001",
     "status": "completed"
    },
    "tags": []
   },
   "outputs": [],
   "source": [
    "import warnings\n",
    "warnings.filterwarnings('ignore')"
   ]
  },
  {
   "cell_type": "code",
   "execution_count": 2,
   "id": "78ac8d4b",
   "metadata": {
    "execution": {
     "iopub.execute_input": "2024-06-02T14:36:36.704750Z",
     "iopub.status.busy": "2024-06-02T14:36:36.704373Z",
     "iopub.status.idle": "2024-06-02T14:37:06.810072Z",
     "shell.execute_reply": "2024-06-02T14:37:06.808956Z"
    },
    "papermill": {
     "duration": 30.115057,
     "end_time": "2024-06-02T14:37:06.812758",
     "exception": false,
     "start_time": "2024-06-02T14:36:36.697701",
     "status": "completed"
    },
    "tags": []
   },
   "outputs": [
    {
     "name": "stdout",
     "output_type": "stream",
     "text": [
      "Collecting rdkit\r\n",
      "  Downloading rdkit-2023.9.6-cp310-cp310-manylinux_2_17_x86_64.manylinux2014_x86_64.whl.metadata (3.9 kB)\r\n",
      "Requirement already satisfied: numpy in /opt/conda/lib/python3.10/site-packages (from rdkit) (1.26.4)\r\n",
      "Requirement already satisfied: Pillow in /opt/conda/lib/python3.10/site-packages (from rdkit) (9.5.0)\r\n",
      "Downloading rdkit-2023.9.6-cp310-cp310-manylinux_2_17_x86_64.manylinux2014_x86_64.whl (34.9 MB)\r\n",
      "\u001b[2K   \u001b[90m━━━━━━━━━━━━━━━━━━━━━━━━━━━━━━━━━━━━━━━━\u001b[0m \u001b[32m34.9/34.9 MB\u001b[0m \u001b[31m45.2 MB/s\u001b[0m eta \u001b[36m0:00:00\u001b[0m\r\n",
      "\u001b[?25h\u001b[33mWARNING: Error parsing requirements for aiohttp: [Errno 2] No such file or directory: '/opt/conda/lib/python3.10/site-packages/aiohttp-3.9.1.dist-info/METADATA'\u001b[0m\u001b[33m\r\n",
      "\u001b[0mInstalling collected packages: rdkit\r\n",
      "Successfully installed rdkit-2023.9.6\r\n",
      "Collecting duckdb\r\n",
      "  Downloading duckdb-0.10.3-cp310-cp310-manylinux_2_17_x86_64.manylinux2014_x86_64.whl.metadata (763 bytes)\r\n",
      "Downloading duckdb-0.10.3-cp310-cp310-manylinux_2_17_x86_64.manylinux2014_x86_64.whl (18.5 MB)\r\n",
      "\u001b[2K   \u001b[90m━━━━━━━━━━━━━━━━━━━━━━━━━━━━━━━━━━━━━━━━\u001b[0m \u001b[32m18.5/18.5 MB\u001b[0m \u001b[31m72.6 MB/s\u001b[0m eta \u001b[36m0:00:00\u001b[0m\r\n",
      "\u001b[?25h\u001b[33mWARNING: Error parsing requirements for aiohttp: [Errno 2] No such file or directory: '/opt/conda/lib/python3.10/site-packages/aiohttp-3.9.1.dist-info/METADATA'\u001b[0m\u001b[33m\r\n",
      "\u001b[0mInstalling collected packages: duckdb\r\n",
      "Successfully installed duckdb-0.10.3\r\n"
     ]
    }
   ],
   "source": [
    "!pip install rdkit\n",
    "!pip install duckdb"
   ]
  },
  {
   "cell_type": "code",
   "execution_count": 3,
   "id": "f979bc57",
   "metadata": {
    "execution": {
     "iopub.execute_input": "2024-06-02T14:37:06.829674Z",
     "iopub.status.busy": "2024-06-02T14:37:06.829255Z",
     "iopub.status.idle": "2024-06-02T14:37:24.459363Z",
     "shell.execute_reply": "2024-06-02T14:37:24.457928Z"
    },
    "papermill": {
     "duration": 17.641983,
     "end_time": "2024-06-02T14:37:24.461923",
     "exception": false,
     "start_time": "2024-06-02T14:37:06.819940",
     "status": "completed"
    },
    "tags": []
   },
   "outputs": [
    {
     "name": "stderr",
     "output_type": "stream",
     "text": [
      "2024-06-02 14:37:11.808286: E external/local_xla/xla/stream_executor/cuda/cuda_dnn.cc:9261] Unable to register cuDNN factory: Attempting to register factory for plugin cuDNN when one has already been registered\n",
      "2024-06-02 14:37:11.808427: E external/local_xla/xla/stream_executor/cuda/cuda_fft.cc:607] Unable to register cuFFT factory: Attempting to register factory for plugin cuFFT when one has already been registered\n",
      "2024-06-02 14:37:11.980775: E external/local_xla/xla/stream_executor/cuda/cuda_blas.cc:1515] Unable to register cuBLAS factory: Attempting to register factory for plugin cuBLAS when one has already been registered\n"
     ]
    }
   ],
   "source": [
    "import pandas as pd\n",
    "from rdkit import Chem\n",
    "from rdkit.Chem import AllChem, Descriptors\n",
    "from sklearn.model_selection import train_test_split\n",
    "from sklearn.preprocessing import OneHotEncoder, StandardScaler\n",
    "from sklearn.metrics import average_precision_score\n",
    "import numpy as np\n",
    "import tensorflow as tf\n",
    "from tensorflow.keras.models import Sequential\n",
    "from tensorflow.keras.layers import Dense, Dropout\n",
    "from tensorflow.keras.optimizers import Adam\n",
    "import duckdb"
   ]
  },
  {
   "cell_type": "code",
   "execution_count": 4,
   "id": "93affaa0",
   "metadata": {
    "execution": {
     "iopub.execute_input": "2024-06-02T14:37:24.479012Z",
     "iopub.status.busy": "2024-06-02T14:37:24.478379Z",
     "iopub.status.idle": "2024-06-02T14:37:24.483247Z",
     "shell.execute_reply": "2024-06-02T14:37:24.482015Z"
    },
    "papermill": {
     "duration": 0.016146,
     "end_time": "2024-06-02T14:37:24.485636",
     "exception": false,
     "start_time": "2024-06-02T14:37:24.469490",
     "status": "completed"
    },
    "tags": []
   },
   "outputs": [],
   "source": [
    "train_path = '/kaggle/input/leash-BELKA/train.parquet'\n",
    "test_path = '/kaggle/input/leash-BELKA/test.parquet'"
   ]
  },
  {
   "cell_type": "code",
   "execution_count": 5,
   "id": "4eee05fb",
   "metadata": {
    "execution": {
     "iopub.execute_input": "2024-06-02T14:37:24.502853Z",
     "iopub.status.busy": "2024-06-02T14:37:24.502457Z",
     "iopub.status.idle": "2024-06-02T14:39:28.915725Z",
     "shell.execute_reply": "2024-06-02T14:39:28.914111Z"
    },
    "papermill": {
     "duration": 124.425055,
     "end_time": "2024-06-02T14:39:28.918467",
     "exception": false,
     "start_time": "2024-06-02T14:37:24.493412",
     "status": "completed"
    },
    "tags": []
   },
   "outputs": [
    {
     "data": {
      "application/vnd.jupyter.widget-view+json": {
       "model_id": "b8c1d232632147028765cd2c31819103",
       "version_major": 2,
       "version_minor": 0
      },
      "text/plain": [
       "FloatProgress(value=0.0, layout=Layout(width='auto'), style=ProgressStyle(bar_color='black'))"
      ]
     },
     "metadata": {},
     "output_type": "display_data"
    },
    {
     "data": {
      "application/vnd.jupyter.widget-view+json": {
       "model_id": "9b0bbd267cfb4cddbc320a420428e5cc",
       "version_major": 2,
       "version_minor": 0
      },
      "text/plain": [
       "FloatProgress(value=0.0, layout=Layout(width='auto'), style=ProgressStyle(bar_color='black'))"
      ]
     },
     "metadata": {},
     "output_type": "display_data"
    },
    {
     "data": {
      "application/vnd.jupyter.widget-view+json": {
       "model_id": "c8e21fd0e0654554ae22fbe12e641e7d",
       "version_major": 2,
       "version_minor": 0
      },
      "text/plain": [
       "FloatProgress(value=0.0, layout=Layout(width='auto'), style=ProgressStyle(bar_color='black'))"
      ]
     },
     "metadata": {},
     "output_type": "display_data"
    },
    {
     "data": {
      "application/vnd.jupyter.widget-view+json": {
       "model_id": "25bd09437ec84c7894e6e06a76dec08f",
       "version_major": 2,
       "version_minor": 0
      },
      "text/plain": [
       "FloatProgress(value=0.0, layout=Layout(width='auto'), style=ProgressStyle(bar_color='black'))"
      ]
     },
     "metadata": {},
     "output_type": "display_data"
    },
    {
     "data": {
      "application/vnd.jupyter.widget-view+json": {
       "model_id": "ee3b32dc6b0a4a3bbce801422eb7c44e",
       "version_major": 2,
       "version_minor": 0
      },
      "text/plain": [
       "FloatProgress(value=0.0, layout=Layout(width='auto'), style=ProgressStyle(bar_color='black'))"
      ]
     },
     "metadata": {},
     "output_type": "display_data"
    },
    {
     "data": {
      "application/vnd.jupyter.widget-view+json": {
       "model_id": "933113c009ac46318b71e3def8ced161",
       "version_major": 2,
       "version_minor": 0
      },
      "text/plain": [
       "FloatProgress(value=0.0, layout=Layout(width='auto'), style=ProgressStyle(bar_color='black'))"
      ]
     },
     "metadata": {},
     "output_type": "display_data"
    }
   ],
   "source": [
    "con = duckdb.connect()\n",
    "\n",
    "# 각 단백질에 대해 binds=0,1 데이터를 각각 12000개씩 불러오기\n",
    "df_brd4_0 = con.query(f\"\"\"\n",
    "    SELECT * \n",
    "    FROM parquet_scan('{train_path}') \n",
    "    WHERE binds = 0 AND protein_name = 'BRD4'\n",
    "    ORDER BY random()\n",
    "    LIMIT 20000\n",
    "\"\"\").df()\n",
    "\n",
    "df_brd4_1 = con.query(f\"\"\"\n",
    "    SELECT * \n",
    "    FROM parquet_scan('{train_path}') \n",
    "    WHERE binds = 1 AND protein_name = 'BRD4'\n",
    "    ORDER BY random()\n",
    "    LIMIT 20000\n",
    "\"\"\").df()\n",
    "\n",
    "df_hsa_0 = con.query(f\"\"\"\n",
    "    SELECT * \n",
    "    FROM parquet_scan('{train_path}') \n",
    "    WHERE binds = 0 AND protein_name = 'HSA'\n",
    "    ORDER BY random()\n",
    "    LIMIT 20000\n",
    "\"\"\").df()\n",
    "\n",
    "df_hsa_1 = con.query(f\"\"\"\n",
    "    SELECT * \n",
    "    FROM parquet_scan('{train_path}') \n",
    "    WHERE binds = 1 AND protein_name = 'HSA'\n",
    "    ORDER BY random()\n",
    "    LIMIT 20000\n",
    "\"\"\").df()\n",
    "\n",
    "df_seh_0 = con.query(f\"\"\"\n",
    "    SELECT * \n",
    "    FROM parquet_scan('{train_path}') \n",
    "    WHERE binds = 0 AND protein_name = 'sEH'\n",
    "    ORDER BY random()\n",
    "    LIMIT 20000\n",
    "\"\"\").df()\n",
    "\n",
    "df_seh_1 = con.query(f\"\"\"\n",
    "    SELECT * \n",
    "    FROM parquet_scan('{train_path}') \n",
    "    WHERE binds = 1 AND protein_name = 'sEH'\n",
    "    ORDER BY random()\n",
    "    LIMIT 20000\n",
    "\"\"\").df()\n",
    "\n",
    "# 데이터프레임 결합\n",
    "df = pd.concat([df_brd4_0, df_brd4_1, df_hsa_0, df_hsa_1, df_seh_0, df_seh_1], axis=0).reset_index(drop=True)\n",
    "con.close()"
   ]
  },
  {
   "cell_type": "code",
   "execution_count": 6,
   "id": "b8e768c8",
   "metadata": {
    "execution": {
     "iopub.execute_input": "2024-06-02T14:39:28.938072Z",
     "iopub.status.busy": "2024-06-02T14:39:28.936772Z",
     "iopub.status.idle": "2024-06-02T14:39:28.942585Z",
     "shell.execute_reply": "2024-06-02T14:39:28.941618Z"
    },
    "papermill": {
     "duration": 0.018297,
     "end_time": "2024-06-02T14:39:28.944822",
     "exception": false,
     "start_time": "2024-06-02T14:39:28.926525",
     "status": "completed"
    },
    "tags": []
   },
   "outputs": [],
   "source": [
    "# ECFP 생성 함수\n",
    "def generate_ecfp(molecule, radius=2, bits=2048):\n",
    "    if molecule is None:\n",
    "        return None\n",
    "    return list(AllChem.GetMorganFingerprintAsBitVect(molecule, radius, nBits=bits))"
   ]
  },
  {
   "cell_type": "code",
   "execution_count": 7,
   "id": "a58672b6",
   "metadata": {
    "execution": {
     "iopub.execute_input": "2024-06-02T14:39:28.964176Z",
     "iopub.status.busy": "2024-06-02T14:39:28.962908Z",
     "iopub.status.idle": "2024-06-02T14:39:28.970363Z",
     "shell.execute_reply": "2024-06-02T14:39:28.969330Z"
    },
    "papermill": {
     "duration": 0.020029,
     "end_time": "2024-06-02T14:39:28.972972",
     "exception": false,
     "start_time": "2024-06-02T14:39:28.952943",
     "status": "completed"
    },
    "tags": []
   },
   "outputs": [],
   "source": [
    "# 분자의 물리화학적 특성을 추출하는 함수\n",
    "def generate_physchem_features(molecule):\n",
    "    if molecule is None:\n",
    "        return [np.nan] * 7\n",
    "    return [\n",
    "        Descriptors.MolWt(molecule),                   # 분자량\n",
    "        Descriptors.MolLogP(molecule),                 # 로그 P\n",
    "        Descriptors.NumHDonors(molecule),              # 수소 결합 공여자 수\n",
    "        Descriptors.NumHAcceptors(molecule),           # 수소 결합 수용체 수\n",
    "        Descriptors.TPSA(molecule),                    # TPSA (극성 표면적)\n",
    "        Descriptors.NumRotatableBonds(molecule),       # 회전 가능한 결합 수\n",
    "        Descriptors.RingCount(molecule)                # 고리의 수\n",
    "    ]"
   ]
  },
  {
   "cell_type": "code",
   "execution_count": 8,
   "id": "5a23f090",
   "metadata": {
    "execution": {
     "iopub.execute_input": "2024-06-02T14:39:28.992140Z",
     "iopub.status.busy": "2024-06-02T14:39:28.991198Z",
     "iopub.status.idle": "2024-06-02T14:45:18.856849Z",
     "shell.execute_reply": "2024-06-02T14:45:18.855791Z"
    },
    "papermill": {
     "duration": 349.877724,
     "end_time": "2024-06-02T14:45:18.859464",
     "exception": false,
     "start_time": "2024-06-02T14:39:28.981740",
     "status": "completed"
    },
    "tags": []
   },
   "outputs": [],
   "source": [
    "# 데이터 전처리\n",
    "df['molecule'] = df['molecule_smiles'].apply(Chem.MolFromSmiles)\n",
    "df['physchem'] = df['molecule'].apply(generate_physchem_features)\n",
    "df['ecfp'] = df['molecule'].apply(generate_ecfp)"
   ]
  },
  {
   "cell_type": "code",
   "execution_count": 9,
   "id": "29a432a6",
   "metadata": {
    "execution": {
     "iopub.execute_input": "2024-06-02T14:45:18.878248Z",
     "iopub.status.busy": "2024-06-02T14:45:18.877546Z",
     "iopub.status.idle": "2024-06-02T14:45:19.015304Z",
     "shell.execute_reply": "2024-06-02T14:45:19.014106Z"
    },
    "papermill": {
     "duration": 0.149898,
     "end_time": "2024-06-02T14:45:19.017908",
     "exception": false,
     "start_time": "2024-06-02T14:45:18.868010",
     "status": "completed"
    },
    "tags": []
   },
   "outputs": [],
   "source": [
    "# 물리화학적 특성을 정규화\n",
    "physchem_features = np.array(df['physchem'].tolist())\n",
    "scaler = StandardScaler()\n",
    "physchem_features_scaled = scaler.fit_transform(physchem_features)"
   ]
  },
  {
   "cell_type": "code",
   "execution_count": 10,
   "id": "6871185c",
   "metadata": {
    "execution": {
     "iopub.execute_input": "2024-06-02T14:45:19.036192Z",
     "iopub.status.busy": "2024-06-02T14:45:19.035767Z",
     "iopub.status.idle": "2024-06-02T14:45:25.464539Z",
     "shell.execute_reply": "2024-06-02T14:45:25.463156Z"
    },
    "papermill": {
     "duration": 6.44101,
     "end_time": "2024-06-02T14:45:25.467299",
     "exception": false,
     "start_time": "2024-06-02T14:45:19.026289",
     "status": "completed"
    },
    "tags": []
   },
   "outputs": [],
   "source": [
    "# ECFP와 정규화된 물리화학적 특성을 결합\n",
    "df['features'] = [ecfp + physchem_scaled.tolist() for ecfp, physchem_scaled in zip(df['ecfp'], physchem_features_scaled)]"
   ]
  },
  {
   "cell_type": "code",
   "execution_count": 11,
   "id": "fe77174c",
   "metadata": {
    "execution": {
     "iopub.execute_input": "2024-06-02T14:45:25.485186Z",
     "iopub.status.busy": "2024-06-02T14:45:25.484771Z",
     "iopub.status.idle": "2024-06-02T14:45:25.531355Z",
     "shell.execute_reply": "2024-06-02T14:45:25.530175Z"
    },
    "papermill": {
     "duration": 0.058365,
     "end_time": "2024-06-02T14:45:25.533917",
     "exception": false,
     "start_time": "2024-06-02T14:45:25.475552",
     "status": "completed"
    },
    "tags": []
   },
   "outputs": [],
   "source": [
    "# 단백질 이름을 원-핫 인코딩\n",
    "onehot_encoder = OneHotEncoder(sparse_output=False)\n",
    "protein_onehot = onehot_encoder.fit_transform(df['protein_name'].values.reshape(-1, 1))"
   ]
  },
  {
   "cell_type": "code",
   "execution_count": 12,
   "id": "bb1289ad",
   "metadata": {
    "execution": {
     "iopub.execute_input": "2024-06-02T14:45:25.551557Z",
     "iopub.status.busy": "2024-06-02T14:45:25.551141Z",
     "iopub.status.idle": "2024-06-02T14:45:55.238450Z",
     "shell.execute_reply": "2024-06-02T14:45:55.237245Z"
    },
    "papermill": {
     "duration": 29.699163,
     "end_time": "2024-06-02T14:45:55.241129",
     "exception": false,
     "start_time": "2024-06-02T14:45:25.541966",
     "status": "completed"
    },
    "tags": []
   },
   "outputs": [],
   "source": [
    "# 최종 입력 데이터 생성\n",
    "X = np.array([features + list(protein) for features, protein in zip(df['features'].tolist(), protein_onehot.tolist())])\n",
    "y = np.array(df['binds'].tolist())"
   ]
  },
  {
   "cell_type": "code",
   "execution_count": 13,
   "id": "6fbaf60d",
   "metadata": {
    "execution": {
     "iopub.execute_input": "2024-06-02T14:45:55.259809Z",
     "iopub.status.busy": "2024-06-02T14:45:55.259389Z",
     "iopub.status.idle": "2024-06-02T14:45:55.917785Z",
     "shell.execute_reply": "2024-06-02T14:45:55.916687Z"
    },
    "papermill": {
     "duration": 0.670259,
     "end_time": "2024-06-02T14:45:55.920127",
     "exception": false,
     "start_time": "2024-06-02T14:45:55.249868",
     "status": "completed"
    },
    "tags": []
   },
   "outputs": [],
   "source": [
    "# 데이터 분할\n",
    "X_train, X_test, y_train, y_test = train_test_split(X, y, test_size=0.2, random_state=42)"
   ]
  },
  {
   "cell_type": "code",
   "execution_count": 14,
   "id": "5bddb601",
   "metadata": {
    "execution": {
     "iopub.execute_input": "2024-06-02T14:45:55.937749Z",
     "iopub.status.busy": "2024-06-02T14:45:55.937332Z",
     "iopub.status.idle": "2024-06-02T14:45:56.118199Z",
     "shell.execute_reply": "2024-06-02T14:45:56.117029Z"
    },
    "papermill": {
     "duration": 0.193118,
     "end_time": "2024-06-02T14:45:56.121186",
     "exception": false,
     "start_time": "2024-06-02T14:45:55.928068",
     "status": "completed"
    },
    "tags": []
   },
   "outputs": [],
   "source": [
    "# 신경망 모델 정의\n",
    "model = Sequential()\n",
    "model.add(Dense(1024, input_dim=X_train.shape[1], activation='relu'))\n",
    "model.add(Dropout(0.4))\n",
    "model.add(Dense(512, activation='relu'))\n",
    "model.add(Dropout(0.4))\n",
    "model.add(Dense(256, activation='relu'))\n",
    "model.add(Dropout(0.3))\n",
    "model.add(Dense(128, activation='relu'))\n",
    "model.add(Dropout(0.3))\n",
    "model.add(Dense(1, activation='sigmoid'))"
   ]
  },
  {
   "cell_type": "code",
   "execution_count": 15,
   "id": "59520af2",
   "metadata": {
    "execution": {
     "iopub.execute_input": "2024-06-02T14:45:56.139276Z",
     "iopub.status.busy": "2024-06-02T14:45:56.138494Z",
     "iopub.status.idle": "2024-06-02T14:45:56.154284Z",
     "shell.execute_reply": "2024-06-02T14:45:56.153173Z"
    },
    "papermill": {
     "duration": 0.02768,
     "end_time": "2024-06-02T14:45:56.156949",
     "exception": false,
     "start_time": "2024-06-02T14:45:56.129269",
     "status": "completed"
    },
    "tags": []
   },
   "outputs": [],
   "source": [
    "# 모델 컴파일\n",
    "model.compile(optimizer=Adam(learning_rate=0.0001), loss='binary_crossentropy', metrics=['accuracy'])"
   ]
  },
  {
   "cell_type": "code",
   "execution_count": 16,
   "id": "999363a5",
   "metadata": {
    "execution": {
     "iopub.execute_input": "2024-06-02T14:45:56.174948Z",
     "iopub.status.busy": "2024-06-02T14:45:56.174103Z",
     "iopub.status.idle": "2024-06-02T15:48:03.349954Z",
     "shell.execute_reply": "2024-06-02T15:48:03.348762Z"
    },
    "papermill": {
     "duration": 3727.18762,
     "end_time": "2024-06-02T15:48:03.352559",
     "exception": false,
     "start_time": "2024-06-02T14:45:56.164939",
     "status": "completed"
    },
    "tags": []
   },
   "outputs": [
    {
     "name": "stdout",
     "output_type": "stream",
     "text": [
      "Epoch 1/100\n",
      "\u001b[1m1200/1200\u001b[0m \u001b[32m━━━━━━━━━━━━━━━━━━━━\u001b[0m\u001b[37m\u001b[0m \u001b[1m33s\u001b[0m 26ms/step - accuracy: 0.7346 - loss: 0.5084 - val_accuracy: 0.8840 - val_loss: 0.2885\n",
      "Epoch 2/100\n",
      "\u001b[1m1200/1200\u001b[0m \u001b[32m━━━━━━━━━━━━━━━━━━━━\u001b[0m\u001b[37m\u001b[0m \u001b[1m40s\u001b[0m 25ms/step - accuracy: 0.8796 - loss: 0.2969 - val_accuracy: 0.8959 - val_loss: 0.2516\n",
      "Epoch 3/100\n",
      "\u001b[1m1200/1200\u001b[0m \u001b[32m━━━━━━━━━━━━━━━━━━━━\u001b[0m\u001b[37m\u001b[0m \u001b[1m34s\u001b[0m 28ms/step - accuracy: 0.9043 - loss: 0.2407 - val_accuracy: 0.9056 - val_loss: 0.2309\n",
      "Epoch 4/100\n",
      "\u001b[1m1200/1200\u001b[0m \u001b[32m━━━━━━━━━━━━━━━━━━━━\u001b[0m\u001b[37m\u001b[0m \u001b[1m33s\u001b[0m 27ms/step - accuracy: 0.9185 - loss: 0.2021 - val_accuracy: 0.9108 - val_loss: 0.2195\n",
      "Epoch 5/100\n",
      "\u001b[1m1200/1200\u001b[0m \u001b[32m━━━━━━━━━━━━━━━━━━━━\u001b[0m\u001b[37m\u001b[0m \u001b[1m32s\u001b[0m 26ms/step - accuracy: 0.9349 - loss: 0.1661 - val_accuracy: 0.9138 - val_loss: 0.2188\n",
      "Epoch 6/100\n",
      "\u001b[1m1200/1200\u001b[0m \u001b[32m━━━━━━━━━━━━━━━━━━━━\u001b[0m\u001b[37m\u001b[0m \u001b[1m30s\u001b[0m 25ms/step - accuracy: 0.9477 - loss: 0.1358 - val_accuracy: 0.9170 - val_loss: 0.2237\n",
      "Epoch 7/100\n",
      "\u001b[1m1200/1200\u001b[0m \u001b[32m━━━━━━━━━━━━━━━━━━━━\u001b[0m\u001b[37m\u001b[0m \u001b[1m32s\u001b[0m 27ms/step - accuracy: 0.9553 - loss: 0.1180 - val_accuracy: 0.9162 - val_loss: 0.2287\n",
      "Epoch 8/100\n",
      "\u001b[1m1200/1200\u001b[0m \u001b[32m━━━━━━━━━━━━━━━━━━━━\u001b[0m\u001b[37m\u001b[0m \u001b[1m32s\u001b[0m 26ms/step - accuracy: 0.9626 - loss: 0.0985 - val_accuracy: 0.9152 - val_loss: 0.2468\n",
      "Epoch 9/100\n",
      "\u001b[1m1200/1200\u001b[0m \u001b[32m━━━━━━━━━━━━━━━━━━━━\u001b[0m\u001b[37m\u001b[0m \u001b[1m41s\u001b[0m 26ms/step - accuracy: 0.9687 - loss: 0.0832 - val_accuracy: 0.9133 - val_loss: 0.2527\n",
      "Epoch 10/100\n",
      "\u001b[1m1200/1200\u001b[0m \u001b[32m━━━━━━━━━━━━━━━━━━━━\u001b[0m\u001b[37m\u001b[0m \u001b[1m41s\u001b[0m 26ms/step - accuracy: 0.9737 - loss: 0.0715 - val_accuracy: 0.9129 - val_loss: 0.2736\n",
      "Epoch 11/100\n",
      "\u001b[1m1200/1200\u001b[0m \u001b[32m━━━━━━━━━━━━━━━━━━━━\u001b[0m\u001b[37m\u001b[0m \u001b[1m41s\u001b[0m 26ms/step - accuracy: 0.9760 - loss: 0.0637 - val_accuracy: 0.9145 - val_loss: 0.2851\n",
      "Epoch 12/100\n",
      "\u001b[1m1200/1200\u001b[0m \u001b[32m━━━━━━━━━━━━━━━━━━━━\u001b[0m\u001b[37m\u001b[0m \u001b[1m41s\u001b[0m 26ms/step - accuracy: 0.9810 - loss: 0.0526 - val_accuracy: 0.9125 - val_loss: 0.3184\n",
      "Epoch 13/100\n",
      "\u001b[1m1200/1200\u001b[0m \u001b[32m━━━━━━━━━━━━━━━━━━━━\u001b[0m\u001b[37m\u001b[0m \u001b[1m31s\u001b[0m 26ms/step - accuracy: 0.9826 - loss: 0.0483 - val_accuracy: 0.9127 - val_loss: 0.3087\n",
      "Epoch 14/100\n",
      "\u001b[1m1200/1200\u001b[0m \u001b[32m━━━━━━━━━━━━━━━━━━━━\u001b[0m\u001b[37m\u001b[0m \u001b[1m41s\u001b[0m 26ms/step - accuracy: 0.9845 - loss: 0.0424 - val_accuracy: 0.9120 - val_loss: 0.3253\n",
      "Epoch 15/100\n",
      "\u001b[1m1200/1200\u001b[0m \u001b[32m━━━━━━━━━━━━━━━━━━━━\u001b[0m\u001b[37m\u001b[0m \u001b[1m31s\u001b[0m 26ms/step - accuracy: 0.9854 - loss: 0.0399 - val_accuracy: 0.9123 - val_loss: 0.3449\n",
      "Epoch 16/100\n",
      "\u001b[1m1200/1200\u001b[0m \u001b[32m━━━━━━━━━━━━━━━━━━━━\u001b[0m\u001b[37m\u001b[0m \u001b[1m41s\u001b[0m 26ms/step - accuracy: 0.9883 - loss: 0.0322 - val_accuracy: 0.9129 - val_loss: 0.3634\n",
      "Epoch 17/100\n",
      "\u001b[1m1200/1200\u001b[0m \u001b[32m━━━━━━━━━━━━━━━━━━━━\u001b[0m\u001b[37m\u001b[0m \u001b[1m41s\u001b[0m 26ms/step - accuracy: 0.9882 - loss: 0.0324 - val_accuracy: 0.9136 - val_loss: 0.3611\n",
      "Epoch 18/100\n",
      "\u001b[1m1200/1200\u001b[0m \u001b[32m━━━━━━━━━━━━━━━━━━━━\u001b[0m\u001b[37m\u001b[0m \u001b[1m41s\u001b[0m 26ms/step - accuracy: 0.9890 - loss: 0.0304 - val_accuracy: 0.9140 - val_loss: 0.3754\n",
      "Epoch 19/100\n",
      "\u001b[1m1200/1200\u001b[0m \u001b[32m━━━━━━━━━━━━━━━━━━━━\u001b[0m\u001b[37m\u001b[0m \u001b[1m29s\u001b[0m 25ms/step - accuracy: 0.9902 - loss: 0.0278 - val_accuracy: 0.9131 - val_loss: 0.4042\n",
      "Epoch 20/100\n",
      "\u001b[1m1200/1200\u001b[0m \u001b[32m━━━━━━━━━━━━━━━━━━━━\u001b[0m\u001b[37m\u001b[0m \u001b[1m30s\u001b[0m 25ms/step - accuracy: 0.9910 - loss: 0.0251 - val_accuracy: 0.9108 - val_loss: 0.4094\n",
      "Epoch 21/100\n",
      "\u001b[1m1200/1200\u001b[0m \u001b[32m━━━━━━━━━━━━━━━━━━━━\u001b[0m\u001b[37m\u001b[0m \u001b[1m42s\u001b[0m 25ms/step - accuracy: 0.9903 - loss: 0.0259 - val_accuracy: 0.9136 - val_loss: 0.4069\n",
      "Epoch 22/100\n",
      "\u001b[1m1200/1200\u001b[0m \u001b[32m━━━━━━━━━━━━━━━━━━━━\u001b[0m\u001b[37m\u001b[0m \u001b[1m41s\u001b[0m 25ms/step - accuracy: 0.9922 - loss: 0.0213 - val_accuracy: 0.9134 - val_loss: 0.4124\n",
      "Epoch 23/100\n",
      "\u001b[1m1200/1200\u001b[0m \u001b[32m━━━━━━━━━━━━━━━━━━━━\u001b[0m\u001b[37m\u001b[0m \u001b[1m42s\u001b[0m 26ms/step - accuracy: 0.9923 - loss: 0.0208 - val_accuracy: 0.9130 - val_loss: 0.4335\n",
      "Epoch 24/100\n",
      "\u001b[1m1200/1200\u001b[0m \u001b[32m━━━━━━━━━━━━━━━━━━━━\u001b[0m\u001b[37m\u001b[0m \u001b[1m41s\u001b[0m 26ms/step - accuracy: 0.9920 - loss: 0.0215 - val_accuracy: 0.9141 - val_loss: 0.4334\n",
      "Epoch 25/100\n",
      "\u001b[1m1200/1200\u001b[0m \u001b[32m━━━━━━━━━━━━━━━━━━━━\u001b[0m\u001b[37m\u001b[0m \u001b[1m31s\u001b[0m 26ms/step - accuracy: 0.9931 - loss: 0.0187 - val_accuracy: 0.9139 - val_loss: 0.4328\n",
      "Epoch 26/100\n",
      "\u001b[1m1200/1200\u001b[0m \u001b[32m━━━━━━━━━━━━━━━━━━━━\u001b[0m\u001b[37m\u001b[0m \u001b[1m41s\u001b[0m 26ms/step - accuracy: 0.9934 - loss: 0.0195 - val_accuracy: 0.9134 - val_loss: 0.4591\n",
      "Epoch 27/100\n",
      "\u001b[1m1200/1200\u001b[0m \u001b[32m━━━━━━━━━━━━━━━━━━━━\u001b[0m\u001b[37m\u001b[0m \u001b[1m31s\u001b[0m 26ms/step - accuracy: 0.9933 - loss: 0.0183 - val_accuracy: 0.9125 - val_loss: 0.4410\n",
      "Epoch 28/100\n",
      "\u001b[1m1200/1200\u001b[0m \u001b[32m━━━━━━━━━━━━━━━━━━━━\u001b[0m\u001b[37m\u001b[0m \u001b[1m41s\u001b[0m 26ms/step - accuracy: 0.9941 - loss: 0.0162 - val_accuracy: 0.9146 - val_loss: 0.4518\n",
      "Epoch 29/100\n",
      "\u001b[1m1200/1200\u001b[0m \u001b[32m━━━━━━━━━━━━━━━━━━━━\u001b[0m\u001b[37m\u001b[0m \u001b[1m32s\u001b[0m 27ms/step - accuracy: 0.9950 - loss: 0.0141 - val_accuracy: 0.9146 - val_loss: 0.4844\n",
      "Epoch 30/100\n",
      "\u001b[1m1200/1200\u001b[0m \u001b[32m━━━━━━━━━━━━━━━━━━━━\u001b[0m\u001b[37m\u001b[0m \u001b[1m32s\u001b[0m 27ms/step - accuracy: 0.9943 - loss: 0.0160 - val_accuracy: 0.9112 - val_loss: 0.4701\n",
      "Epoch 31/100\n",
      "\u001b[1m1200/1200\u001b[0m \u001b[32m━━━━━━━━━━━━━━━━━━━━\u001b[0m\u001b[37m\u001b[0m \u001b[1m31s\u001b[0m 26ms/step - accuracy: 0.9946 - loss: 0.0148 - val_accuracy: 0.9135 - val_loss: 0.5021\n",
      "Epoch 32/100\n",
      "\u001b[1m1200/1200\u001b[0m \u001b[32m━━━━━━━━━━━━━━━━━━━━\u001b[0m\u001b[37m\u001b[0m \u001b[1m30s\u001b[0m 25ms/step - accuracy: 0.9950 - loss: 0.0140 - val_accuracy: 0.9135 - val_loss: 0.5016\n",
      "Epoch 33/100\n",
      "\u001b[1m1200/1200\u001b[0m \u001b[32m━━━━━━━━━━━━━━━━━━━━\u001b[0m\u001b[37m\u001b[0m \u001b[1m30s\u001b[0m 25ms/step - accuracy: 0.9956 - loss: 0.0126 - val_accuracy: 0.9151 - val_loss: 0.4828\n",
      "Epoch 34/100\n",
      "\u001b[1m1200/1200\u001b[0m \u001b[32m━━━━━━━━━━━━━━━━━━━━\u001b[0m\u001b[37m\u001b[0m \u001b[1m42s\u001b[0m 25ms/step - accuracy: 0.9951 - loss: 0.0141 - val_accuracy: 0.9144 - val_loss: 0.4784\n",
      "Epoch 35/100\n",
      "\u001b[1m1200/1200\u001b[0m \u001b[32m━━━━━━━━━━━━━━━━━━━━\u001b[0m\u001b[37m\u001b[0m \u001b[1m31s\u001b[0m 25ms/step - accuracy: 0.9959 - loss: 0.0128 - val_accuracy: 0.9139 - val_loss: 0.4660\n",
      "Epoch 36/100\n",
      "\u001b[1m1200/1200\u001b[0m \u001b[32m━━━━━━━━━━━━━━━━━━━━\u001b[0m\u001b[37m\u001b[0m \u001b[1m41s\u001b[0m 25ms/step - accuracy: 0.9959 - loss: 0.0118 - val_accuracy: 0.9140 - val_loss: 0.5279\n",
      "Epoch 37/100\n",
      "\u001b[1m1200/1200\u001b[0m \u001b[32m━━━━━━━━━━━━━━━━━━━━\u001b[0m\u001b[37m\u001b[0m \u001b[1m42s\u001b[0m 27ms/step - accuracy: 0.9952 - loss: 0.0124 - val_accuracy: 0.9145 - val_loss: 0.5201\n",
      "Epoch 38/100\n",
      "\u001b[1m1200/1200\u001b[0m \u001b[32m━━━━━━━━━━━━━━━━━━━━\u001b[0m\u001b[37m\u001b[0m \u001b[1m41s\u001b[0m 27ms/step - accuracy: 0.9959 - loss: 0.0111 - val_accuracy: 0.9157 - val_loss: 0.5264\n",
      "Epoch 39/100\n",
      "\u001b[1m1200/1200\u001b[0m \u001b[32m━━━━━━━━━━━━━━━━━━━━\u001b[0m\u001b[37m\u001b[0m \u001b[1m41s\u001b[0m 27ms/step - accuracy: 0.9961 - loss: 0.0117 - val_accuracy: 0.9162 - val_loss: 0.5066\n",
      "Epoch 40/100\n",
      "\u001b[1m1200/1200\u001b[0m \u001b[32m━━━━━━━━━━━━━━━━━━━━\u001b[0m\u001b[37m\u001b[0m \u001b[1m32s\u001b[0m 26ms/step - accuracy: 0.9963 - loss: 0.0104 - val_accuracy: 0.9148 - val_loss: 0.5431\n",
      "Epoch 41/100\n",
      "\u001b[1m1200/1200\u001b[0m \u001b[32m━━━━━━━━━━━━━━━━━━━━\u001b[0m\u001b[37m\u001b[0m \u001b[1m30s\u001b[0m 25ms/step - accuracy: 0.9971 - loss: 0.0092 - val_accuracy: 0.9134 - val_loss: 0.5316\n",
      "Epoch 42/100\n",
      "\u001b[1m1200/1200\u001b[0m \u001b[32m━━━━━━━━━━━━━━━━━━━━\u001b[0m\u001b[37m\u001b[0m \u001b[1m42s\u001b[0m 27ms/step - accuracy: 0.9960 - loss: 0.0115 - val_accuracy: 0.9141 - val_loss: 0.5469\n",
      "Epoch 43/100\n",
      "\u001b[1m1200/1200\u001b[0m \u001b[32m━━━━━━━━━━━━━━━━━━━━\u001b[0m\u001b[37m\u001b[0m \u001b[1m33s\u001b[0m 27ms/step - accuracy: 0.9964 - loss: 0.0100 - val_accuracy: 0.9139 - val_loss: 0.5549\n",
      "Epoch 44/100\n",
      "\u001b[1m1200/1200\u001b[0m \u001b[32m━━━━━━━━━━━━━━━━━━━━\u001b[0m\u001b[37m\u001b[0m \u001b[1m40s\u001b[0m 27ms/step - accuracy: 0.9969 - loss: 0.0092 - val_accuracy: 0.9153 - val_loss: 0.5374\n",
      "Epoch 45/100\n",
      "\u001b[1m1200/1200\u001b[0m \u001b[32m━━━━━━━━━━━━━━━━━━━━\u001b[0m\u001b[37m\u001b[0m \u001b[1m30s\u001b[0m 25ms/step - accuracy: 0.9964 - loss: 0.0102 - val_accuracy: 0.9123 - val_loss: 0.5266\n",
      "Epoch 46/100\n",
      "\u001b[1m1200/1200\u001b[0m \u001b[32m━━━━━━━━━━━━━━━━━━━━\u001b[0m\u001b[37m\u001b[0m \u001b[1m31s\u001b[0m 26ms/step - accuracy: 0.9968 - loss: 0.0097 - val_accuracy: 0.9141 - val_loss: 0.5666\n",
      "Epoch 47/100\n",
      "\u001b[1m1200/1200\u001b[0m \u001b[32m━━━━━━━━━━━━━━━━━━━━\u001b[0m\u001b[37m\u001b[0m \u001b[1m31s\u001b[0m 26ms/step - accuracy: 0.9971 - loss: 0.0086 - val_accuracy: 0.9155 - val_loss: 0.5720\n",
      "Epoch 48/100\n",
      "\u001b[1m1200/1200\u001b[0m \u001b[32m━━━━━━━━━━━━━━━━━━━━\u001b[0m\u001b[37m\u001b[0m \u001b[1m32s\u001b[0m 27ms/step - accuracy: 0.9972 - loss: 0.0079 - val_accuracy: 0.9159 - val_loss: 0.5845\n",
      "Epoch 49/100\n",
      "\u001b[1m1200/1200\u001b[0m \u001b[32m━━━━━━━━━━━━━━━━━━━━\u001b[0m\u001b[37m\u001b[0m \u001b[1m41s\u001b[0m 27ms/step - accuracy: 0.9974 - loss: 0.0080 - val_accuracy: 0.9156 - val_loss: 0.5983\n",
      "Epoch 50/100\n",
      "\u001b[1m1200/1200\u001b[0m \u001b[32m━━━━━━━━━━━━━━━━━━━━\u001b[0m\u001b[37m\u001b[0m \u001b[1m39s\u001b[0m 25ms/step - accuracy: 0.9972 - loss: 0.0081 - val_accuracy: 0.9165 - val_loss: 0.5604\n",
      "Epoch 51/100\n",
      "\u001b[1m1200/1200\u001b[0m \u001b[32m━━━━━━━━━━━━━━━━━━━━\u001b[0m\u001b[37m\u001b[0m \u001b[1m42s\u001b[0m 26ms/step - accuracy: 0.9966 - loss: 0.0092 - val_accuracy: 0.9162 - val_loss: 0.5945\n",
      "Epoch 52/100\n",
      "\u001b[1m1200/1200\u001b[0m \u001b[32m━━━━━━━━━━━━━━━━━━━━\u001b[0m\u001b[37m\u001b[0m \u001b[1m41s\u001b[0m 26ms/step - accuracy: 0.9975 - loss: 0.0075 - val_accuracy: 0.9158 - val_loss: 0.5561\n",
      "Epoch 53/100\n",
      "\u001b[1m1200/1200\u001b[0m \u001b[32m━━━━━━━━━━━━━━━━━━━━\u001b[0m\u001b[37m\u001b[0m \u001b[1m32s\u001b[0m 27ms/step - accuracy: 0.9972 - loss: 0.0077 - val_accuracy: 0.9167 - val_loss: 0.5375\n",
      "Epoch 54/100\n",
      "\u001b[1m1200/1200\u001b[0m \u001b[32m━━━━━━━━━━━━━━━━━━━━\u001b[0m\u001b[37m\u001b[0m \u001b[1m41s\u001b[0m 27ms/step - accuracy: 0.9977 - loss: 0.0074 - val_accuracy: 0.9147 - val_loss: 0.5914\n",
      "Epoch 55/100\n",
      "\u001b[1m1200/1200\u001b[0m \u001b[32m━━━━━━━━━━━━━━━━━━━━\u001b[0m\u001b[37m\u001b[0m \u001b[1m33s\u001b[0m 28ms/step - accuracy: 0.9980 - loss: 0.0062 - val_accuracy: 0.9144 - val_loss: 0.5874\n",
      "Epoch 56/100\n",
      "\u001b[1m1200/1200\u001b[0m \u001b[32m━━━━━━━━━━━━━━━━━━━━\u001b[0m\u001b[37m\u001b[0m \u001b[1m41s\u001b[0m 28ms/step - accuracy: 0.9975 - loss: 0.0068 - val_accuracy: 0.9142 - val_loss: 0.6204\n",
      "Epoch 57/100\n",
      "\u001b[1m1200/1200\u001b[0m \u001b[32m━━━━━━━━━━━━━━━━━━━━\u001b[0m\u001b[37m\u001b[0m \u001b[1m40s\u001b[0m 27ms/step - accuracy: 0.9980 - loss: 0.0058 - val_accuracy: 0.9158 - val_loss: 0.5806\n",
      "Epoch 58/100\n",
      "\u001b[1m1200/1200\u001b[0m \u001b[32m━━━━━━━━━━━━━━━━━━━━\u001b[0m\u001b[37m\u001b[0m \u001b[1m40s\u001b[0m 27ms/step - accuracy: 0.9979 - loss: 0.0067 - val_accuracy: 0.9140 - val_loss: 0.6240\n",
      "Epoch 59/100\n",
      "\u001b[1m1200/1200\u001b[0m \u001b[32m━━━━━━━━━━━━━━━━━━━━\u001b[0m\u001b[37m\u001b[0m \u001b[1m33s\u001b[0m 27ms/step - accuracy: 0.9977 - loss: 0.0064 - val_accuracy: 0.9154 - val_loss: 0.6196\n",
      "Epoch 60/100\n",
      "\u001b[1m1200/1200\u001b[0m \u001b[32m━━━━━━━━━━━━━━━━━━━━\u001b[0m\u001b[37m\u001b[0m \u001b[1m41s\u001b[0m 27ms/step - accuracy: 0.9978 - loss: 0.0060 - val_accuracy: 0.9162 - val_loss: 0.5701\n",
      "Epoch 61/100\n",
      "\u001b[1m1200/1200\u001b[0m \u001b[32m━━━━━━━━━━━━━━━━━━━━\u001b[0m\u001b[37m\u001b[0m \u001b[1m40s\u001b[0m 26ms/step - accuracy: 0.9981 - loss: 0.0061 - val_accuracy: 0.9145 - val_loss: 0.5936\n",
      "Epoch 62/100\n",
      "\u001b[1m1200/1200\u001b[0m \u001b[32m━━━━━━━━━━━━━━━━━━━━\u001b[0m\u001b[37m\u001b[0m \u001b[1m42s\u001b[0m 27ms/step - accuracy: 0.9977 - loss: 0.0066 - val_accuracy: 0.9156 - val_loss: 0.6003\n",
      "Epoch 63/100\n",
      "\u001b[1m1200/1200\u001b[0m \u001b[32m━━━━━━━━━━━━━━━━━━━━\u001b[0m\u001b[37m\u001b[0m \u001b[1m39s\u001b[0m 25ms/step - accuracy: 0.9979 - loss: 0.0061 - val_accuracy: 0.9146 - val_loss: 0.6506\n",
      "Epoch 64/100\n",
      "\u001b[1m1200/1200\u001b[0m \u001b[32m━━━━━━━━━━━━━━━━━━━━\u001b[0m\u001b[37m\u001b[0m \u001b[1m41s\u001b[0m 26ms/step - accuracy: 0.9977 - loss: 0.0067 - val_accuracy: 0.9166 - val_loss: 0.5814\n",
      "Epoch 65/100\n",
      "\u001b[1m1200/1200\u001b[0m \u001b[32m━━━━━━━━━━━━━━━━━━━━\u001b[0m\u001b[37m\u001b[0m \u001b[1m31s\u001b[0m 26ms/step - accuracy: 0.9983 - loss: 0.0052 - val_accuracy: 0.9161 - val_loss: 0.5849\n",
      "Epoch 66/100\n",
      "\u001b[1m1200/1200\u001b[0m \u001b[32m━━━━━━━━━━━━━━━━━━━━\u001b[0m\u001b[37m\u001b[0m \u001b[1m42s\u001b[0m 27ms/step - accuracy: 0.9980 - loss: 0.0053 - val_accuracy: 0.9153 - val_loss: 0.6478\n",
      "Epoch 67/100\n",
      "\u001b[1m1200/1200\u001b[0m \u001b[32m━━━━━━━━━━━━━━━━━━━━\u001b[0m\u001b[37m\u001b[0m \u001b[1m33s\u001b[0m 27ms/step - accuracy: 0.9985 - loss: 0.0051 - val_accuracy: 0.9154 - val_loss: 0.6774\n",
      "Epoch 68/100\n",
      "\u001b[1m1200/1200\u001b[0m \u001b[32m━━━━━━━━━━━━━━━━━━━━\u001b[0m\u001b[37m\u001b[0m \u001b[1m41s\u001b[0m 27ms/step - accuracy: 0.9985 - loss: 0.0046 - val_accuracy: 0.9166 - val_loss: 0.5983\n",
      "Epoch 69/100\n",
      "\u001b[1m1200/1200\u001b[0m \u001b[32m━━━━━━━━━━━━━━━━━━━━\u001b[0m\u001b[37m\u001b[0m \u001b[1m33s\u001b[0m 27ms/step - accuracy: 0.9982 - loss: 0.0055 - val_accuracy: 0.9161 - val_loss: 0.6537\n",
      "Epoch 70/100\n",
      "\u001b[1m1200/1200\u001b[0m \u001b[32m━━━━━━━━━━━━━━━━━━━━\u001b[0m\u001b[37m\u001b[0m \u001b[1m41s\u001b[0m 28ms/step - accuracy: 0.9978 - loss: 0.0064 - val_accuracy: 0.9155 - val_loss: 0.6431\n",
      "Epoch 71/100\n",
      "\u001b[1m1200/1200\u001b[0m \u001b[32m━━━━━━━━━━━━━━━━━━━━\u001b[0m\u001b[37m\u001b[0m \u001b[1m31s\u001b[0m 26ms/step - accuracy: 0.9981 - loss: 0.0054 - val_accuracy: 0.9147 - val_loss: 0.6775\n",
      "Epoch 72/100\n",
      "\u001b[1m1200/1200\u001b[0m \u001b[32m━━━━━━━━━━━━━━━━━━━━\u001b[0m\u001b[37m\u001b[0m \u001b[1m40s\u001b[0m 26ms/step - accuracy: 0.9984 - loss: 0.0047 - val_accuracy: 0.9160 - val_loss: 0.6194\n",
      "Epoch 73/100\n",
      "\u001b[1m1200/1200\u001b[0m \u001b[32m━━━━━━━━━━━━━━━━━━━━\u001b[0m\u001b[37m\u001b[0m \u001b[1m42s\u001b[0m 26ms/step - accuracy: 0.9981 - loss: 0.0050 - val_accuracy: 0.9172 - val_loss: 0.6938\n",
      "Epoch 74/100\n",
      "\u001b[1m1200/1200\u001b[0m \u001b[32m━━━━━━━━━━━━━━━━━━━━\u001b[0m\u001b[37m\u001b[0m \u001b[1m41s\u001b[0m 26ms/step - accuracy: 0.9983 - loss: 0.0047 - val_accuracy: 0.9144 - val_loss: 0.6537\n",
      "Epoch 75/100\n",
      "\u001b[1m1200/1200\u001b[0m \u001b[32m━━━━━━━━━━━━━━━━━━━━\u001b[0m\u001b[37m\u001b[0m \u001b[1m41s\u001b[0m 27ms/step - accuracy: 0.9987 - loss: 0.0043 - val_accuracy: 0.9160 - val_loss: 0.6495\n",
      "Epoch 76/100\n",
      "\u001b[1m1200/1200\u001b[0m \u001b[32m━━━━━━━━━━━━━━━━━━━━\u001b[0m\u001b[37m\u001b[0m \u001b[1m31s\u001b[0m 26ms/step - accuracy: 0.9983 - loss: 0.0051 - val_accuracy: 0.9167 - val_loss: 0.6442\n",
      "Epoch 77/100\n",
      "\u001b[1m1200/1200\u001b[0m \u001b[32m━━━━━━━━━━━━━━━━━━━━\u001b[0m\u001b[37m\u001b[0m \u001b[1m41s\u001b[0m 26ms/step - accuracy: 0.9985 - loss: 0.0041 - val_accuracy: 0.9143 - val_loss: 0.6964\n",
      "Epoch 78/100\n",
      "\u001b[1m1200/1200\u001b[0m \u001b[32m━━━━━━━━━━━━━━━━━━━━\u001b[0m\u001b[37m\u001b[0m \u001b[1m41s\u001b[0m 26ms/step - accuracy: 0.9988 - loss: 0.0038 - val_accuracy: 0.9137 - val_loss: 0.7046\n",
      "Epoch 79/100\n",
      "\u001b[1m1200/1200\u001b[0m \u001b[32m━━━━━━━━━━━━━━━━━━━━\u001b[0m\u001b[37m\u001b[0m \u001b[1m42s\u001b[0m 27ms/step - accuracy: 0.9983 - loss: 0.0050 - val_accuracy: 0.9140 - val_loss: 0.6604\n",
      "Epoch 80/100\n",
      "\u001b[1m1200/1200\u001b[0m \u001b[32m━━━━━━━━━━━━━━━━━━━━\u001b[0m\u001b[37m\u001b[0m \u001b[1m42s\u001b[0m 27ms/step - accuracy: 0.9987 - loss: 0.0041 - val_accuracy: 0.9153 - val_loss: 0.6453\n",
      "Epoch 81/100\n",
      "\u001b[1m1200/1200\u001b[0m \u001b[32m━━━━━━━━━━━━━━━━━━━━\u001b[0m\u001b[37m\u001b[0m \u001b[1m32s\u001b[0m 27ms/step - accuracy: 0.9985 - loss: 0.0043 - val_accuracy: 0.9170 - val_loss: 0.6394\n",
      "Epoch 82/100\n",
      "\u001b[1m1200/1200\u001b[0m \u001b[32m━━━━━━━━━━━━━━━━━━━━\u001b[0m\u001b[37m\u001b[0m \u001b[1m41s\u001b[0m 27ms/step - accuracy: 0.9983 - loss: 0.0051 - val_accuracy: 0.9163 - val_loss: 0.6366\n",
      "Epoch 83/100\n",
      "\u001b[1m1200/1200\u001b[0m \u001b[32m━━━━━━━━━━━━━━━━━━━━\u001b[0m\u001b[37m\u001b[0m \u001b[1m41s\u001b[0m 27ms/step - accuracy: 0.9989 - loss: 0.0033 - val_accuracy: 0.9152 - val_loss: 0.6633\n",
      "Epoch 84/100\n",
      "\u001b[1m1200/1200\u001b[0m \u001b[32m━━━━━━━━━━━━━━━━━━━━\u001b[0m\u001b[37m\u001b[0m \u001b[1m41s\u001b[0m 27ms/step - accuracy: 0.9988 - loss: 0.0041 - val_accuracy: 0.9177 - val_loss: 0.6923\n",
      "Epoch 85/100\n",
      "\u001b[1m1200/1200\u001b[0m \u001b[32m━━━━━━━━━━━━━━━━━━━━\u001b[0m\u001b[37m\u001b[0m \u001b[1m32s\u001b[0m 26ms/step - accuracy: 0.9987 - loss: 0.0039 - val_accuracy: 0.9159 - val_loss: 0.6366\n",
      "Epoch 86/100\n",
      "\u001b[1m1200/1200\u001b[0m \u001b[32m━━━━━━━━━━━━━━━━━━━━\u001b[0m\u001b[37m\u001b[0m \u001b[1m42s\u001b[0m 27ms/step - accuracy: 0.9986 - loss: 0.0038 - val_accuracy: 0.9152 - val_loss: 0.6870\n",
      "Epoch 87/100\n",
      "\u001b[1m1200/1200\u001b[0m \u001b[32m━━━━━━━━━━━━━━━━━━━━\u001b[0m\u001b[37m\u001b[0m \u001b[1m33s\u001b[0m 27ms/step - accuracy: 0.9983 - loss: 0.0047 - val_accuracy: 0.9167 - val_loss: 0.7217\n",
      "Epoch 88/100\n",
      "\u001b[1m1200/1200\u001b[0m \u001b[32m━━━━━━━━━━━━━━━━━━━━\u001b[0m\u001b[37m\u001b[0m \u001b[1m40s\u001b[0m 27ms/step - accuracy: 0.9989 - loss: 0.0034 - val_accuracy: 0.9169 - val_loss: 0.6902\n",
      "Epoch 89/100\n",
      "\u001b[1m1200/1200\u001b[0m \u001b[32m━━━━━━━━━━━━━━━━━━━━\u001b[0m\u001b[37m\u001b[0m \u001b[1m41s\u001b[0m 26ms/step - accuracy: 0.9991 - loss: 0.0029 - val_accuracy: 0.9176 - val_loss: 0.6540\n",
      "Epoch 90/100\n",
      "\u001b[1m1200/1200\u001b[0m \u001b[32m━━━━━━━━━━━━━━━━━━━━\u001b[0m\u001b[37m\u001b[0m \u001b[1m41s\u001b[0m 26ms/step - accuracy: 0.9989 - loss: 0.0034 - val_accuracy: 0.9159 - val_loss: 0.6676\n",
      "Epoch 91/100\n",
      "\u001b[1m1200/1200\u001b[0m \u001b[32m━━━━━━━━━━━━━━━━━━━━\u001b[0m\u001b[37m\u001b[0m \u001b[1m41s\u001b[0m 26ms/step - accuracy: 0.9986 - loss: 0.0045 - val_accuracy: 0.9176 - val_loss: 0.7117\n",
      "Epoch 92/100\n",
      "\u001b[1m1200/1200\u001b[0m \u001b[32m━━━━━━━━━━━━━━━━━━━━\u001b[0m\u001b[37m\u001b[0m \u001b[1m41s\u001b[0m 26ms/step - accuracy: 0.9989 - loss: 0.0035 - val_accuracy: 0.9154 - val_loss: 0.6827\n",
      "Epoch 93/100\n",
      "\u001b[1m1200/1200\u001b[0m \u001b[32m━━━━━━━━━━━━━━━━━━━━\u001b[0m\u001b[37m\u001b[0m \u001b[1m32s\u001b[0m 26ms/step - accuracy: 0.9989 - loss: 0.0034 - val_accuracy: 0.9139 - val_loss: 0.8023\n",
      "Epoch 94/100\n",
      "\u001b[1m1200/1200\u001b[0m \u001b[32m━━━━━━━━━━━━━━━━━━━━\u001b[0m\u001b[37m\u001b[0m \u001b[1m41s\u001b[0m 27ms/step - accuracy: 0.9988 - loss: 0.0034 - val_accuracy: 0.9163 - val_loss: 0.7384\n",
      "Epoch 95/100\n",
      "\u001b[1m1200/1200\u001b[0m \u001b[32m━━━━━━━━━━━━━━━━━━━━\u001b[0m\u001b[37m\u001b[0m \u001b[1m42s\u001b[0m 28ms/step - accuracy: 0.9987 - loss: 0.0035 - val_accuracy: 0.9159 - val_loss: 0.7008\n",
      "Epoch 96/100\n",
      "\u001b[1m1200/1200\u001b[0m \u001b[32m━━━━━━━━━━━━━━━━━━━━\u001b[0m\u001b[37m\u001b[0m \u001b[1m33s\u001b[0m 27ms/step - accuracy: 0.9990 - loss: 0.0030 - val_accuracy: 0.9158 - val_loss: 0.6876\n",
      "Epoch 97/100\n",
      "\u001b[1m1200/1200\u001b[0m \u001b[32m━━━━━━━━━━━━━━━━━━━━\u001b[0m\u001b[37m\u001b[0m \u001b[1m33s\u001b[0m 27ms/step - accuracy: 0.9989 - loss: 0.0031 - val_accuracy: 0.9154 - val_loss: 0.7042\n",
      "Epoch 98/100\n",
      "\u001b[1m1200/1200\u001b[0m \u001b[32m━━━━━━━━━━━━━━━━━━━━\u001b[0m\u001b[37m\u001b[0m \u001b[1m41s\u001b[0m 27ms/step - accuracy: 0.9989 - loss: 0.0033 - val_accuracy: 0.9162 - val_loss: 0.7846\n",
      "Epoch 99/100\n",
      "\u001b[1m1200/1200\u001b[0m \u001b[32m━━━━━━━━━━━━━━━━━━━━\u001b[0m\u001b[37m\u001b[0m \u001b[1m42s\u001b[0m 28ms/step - accuracy: 0.9990 - loss: 0.0026 - val_accuracy: 0.9148 - val_loss: 0.7543\n",
      "Epoch 100/100\n",
      "\u001b[1m1200/1200\u001b[0m \u001b[32m━━━━━━━━━━━━━━━━━━━━\u001b[0m\u001b[37m\u001b[0m \u001b[1m40s\u001b[0m 27ms/step - accuracy: 0.9987 - loss: 0.0039 - val_accuracy: 0.9165 - val_loss: 0.7181\n"
     ]
    },
    {
     "data": {
      "text/plain": [
       "<keras.src.callbacks.history.History at 0x7f6544d2ab30>"
      ]
     },
     "execution_count": 16,
     "metadata": {},
     "output_type": "execute_result"
    }
   ],
   "source": [
    "# 모델 학습\n",
    "model.fit(X_train, y_train, epochs=100, batch_size=64, validation_split=0.2, verbose=1)"
   ]
  },
  {
   "cell_type": "code",
   "execution_count": 17,
   "id": "632c3fa8",
   "metadata": {
    "execution": {
     "iopub.execute_input": "2024-06-02T15:48:09.913007Z",
     "iopub.status.busy": "2024-06-02T15:48:09.912627Z",
     "iopub.status.idle": "2024-06-02T15:48:15.528350Z",
     "shell.execute_reply": "2024-06-02T15:48:15.526384Z"
    },
    "papermill": {
     "duration": 8.861581,
     "end_time": "2024-06-02T15:48:15.531679",
     "exception": false,
     "start_time": "2024-06-02T15:48:06.670098",
     "status": "completed"
    },
    "tags": []
   },
   "outputs": [
    {
     "name": "stdout",
     "output_type": "stream",
     "text": [
      "\u001b[1m750/750\u001b[0m \u001b[32m━━━━━━━━━━━━━━━━━━━━\u001b[0m\u001b[37m\u001b[0m \u001b[1m5s\u001b[0m 6ms/step\n",
      "Mean Average Precision (MAP) Score: 0.9663069425099892\n"
     ]
    }
   ],
   "source": [
    "# 예측\n",
    "y_pred_proba = model.predict(X_test).flatten()\n",
    "map_score = average_precision_score(y_test, y_pred_proba)\n",
    "print(f\"Mean Average Precision (MAP) Score: {map_score}\")"
   ]
  },
  {
   "cell_type": "code",
   "execution_count": 18,
   "id": "bddccccb",
   "metadata": {
    "execution": {
     "iopub.execute_input": "2024-06-02T15:48:24.575271Z",
     "iopub.status.busy": "2024-06-02T15:48:24.573932Z",
     "iopub.status.idle": "2024-06-02T15:48:24.582380Z",
     "shell.execute_reply": "2024-06-02T15:48:24.581138Z"
    },
    "papermill": {
     "duration": 3.941465,
     "end_time": "2024-06-02T15:48:24.584819",
     "exception": false,
     "start_time": "2024-06-02T15:48:20.643354",
     "status": "completed"
    },
    "tags": []
   },
   "outputs": [],
   "source": [
    "# 테스트 데이터 예측 및 저장\n",
    "test_file = '/kaggle/input/leash-BELKA/test.csv'  \n",
    "output_file = '/kaggle/working/submission8.csv'  # 출력 파일 경로"
   ]
  },
  {
   "cell_type": "code",
   "execution_count": 19,
   "id": "b03103fd",
   "metadata": {
    "execution": {
     "iopub.execute_input": "2024-06-02T15:48:31.242825Z",
     "iopub.status.busy": "2024-06-02T15:48:31.242337Z",
     "iopub.status.idle": "2024-06-02T17:28:15.995436Z",
     "shell.execute_reply": "2024-06-02T17:28:15.993885Z"
    },
    "papermill": {
     "duration": 5988.068754,
     "end_time": "2024-06-02T17:28:15.998811",
     "exception": false,
     "start_time": "2024-06-02T15:48:27.930057",
     "status": "completed"
    },
    "tags": []
   },
   "outputs": [
    {
     "name": "stdout",
     "output_type": "stream",
     "text": [
      "\u001b[1m3125/3125\u001b[0m \u001b[32m━━━━━━━━━━━━━━━━━━━━\u001b[0m\u001b[37m\u001b[0m \u001b[1m19s\u001b[0m 6ms/step\n",
      "\u001b[1m3125/3125\u001b[0m \u001b[32m━━━━━━━━━━━━━━━━━━━━\u001b[0m\u001b[37m\u001b[0m \u001b[1m19s\u001b[0m 6ms/step\n",
      "\u001b[1m3125/3125\u001b[0m \u001b[32m━━━━━━━━━━━━━━━━━━━━\u001b[0m\u001b[37m\u001b[0m \u001b[1m18s\u001b[0m 6ms/step\n",
      "\u001b[1m3125/3125\u001b[0m \u001b[32m━━━━━━━━━━━━━━━━━━━━\u001b[0m\u001b[37m\u001b[0m \u001b[1m18s\u001b[0m 6ms/step\n",
      "\u001b[1m3125/3125\u001b[0m \u001b[32m━━━━━━━━━━━━━━━━━━━━\u001b[0m\u001b[37m\u001b[0m \u001b[1m19s\u001b[0m 6ms/step\n",
      "\u001b[1m3125/3125\u001b[0m \u001b[32m━━━━━━━━━━━━━━━━━━━━\u001b[0m\u001b[37m\u001b[0m \u001b[1m22s\u001b[0m 7ms/step\n",
      "\u001b[1m3125/3125\u001b[0m \u001b[32m━━━━━━━━━━━━━━━━━━━━\u001b[0m\u001b[37m\u001b[0m \u001b[1m18s\u001b[0m 6ms/step\n",
      "\u001b[1m3125/3125\u001b[0m \u001b[32m━━━━━━━━━━━━━━━━━━━━\u001b[0m\u001b[37m\u001b[0m \u001b[1m18s\u001b[0m 6ms/step\n",
      "\u001b[1m3125/3125\u001b[0m \u001b[32m━━━━━━━━━━━━━━━━━━━━\u001b[0m\u001b[37m\u001b[0m \u001b[1m18s\u001b[0m 6ms/step\n",
      "\u001b[1m3125/3125\u001b[0m \u001b[32m━━━━━━━━━━━━━━━━━━━━\u001b[0m\u001b[37m\u001b[0m \u001b[1m18s\u001b[0m 6ms/step\n",
      "\u001b[1m3125/3125\u001b[0m \u001b[32m━━━━━━━━━━━━━━━━━━━━\u001b[0m\u001b[37m\u001b[0m \u001b[1m18s\u001b[0m 6ms/step\n",
      "\u001b[1m3125/3125\u001b[0m \u001b[32m━━━━━━━━━━━━━━━━━━━━\u001b[0m\u001b[37m\u001b[0m \u001b[1m18s\u001b[0m 6ms/step\n",
      "\u001b[1m3125/3125\u001b[0m \u001b[32m━━━━━━━━━━━━━━━━━━━━\u001b[0m\u001b[37m\u001b[0m \u001b[1m18s\u001b[0m 6ms/step\n",
      "\u001b[1m3125/3125\u001b[0m \u001b[32m━━━━━━━━━━━━━━━━━━━━\u001b[0m\u001b[37m\u001b[0m \u001b[1m19s\u001b[0m 6ms/step\n",
      "\u001b[1m3125/3125\u001b[0m \u001b[32m━━━━━━━━━━━━━━━━━━━━\u001b[0m\u001b[37m\u001b[0m \u001b[1m18s\u001b[0m 6ms/step\n",
      "\u001b[1m3125/3125\u001b[0m \u001b[32m━━━━━━━━━━━━━━━━━━━━\u001b[0m\u001b[37m\u001b[0m \u001b[1m18s\u001b[0m 6ms/step\n",
      "\u001b[1m2341/2341\u001b[0m \u001b[32m━━━━━━━━━━━━━━━━━━━━\u001b[0m\u001b[37m\u001b[0m \u001b[1m14s\u001b[0m 6ms/step\n"
     ]
    }
   ],
   "source": [
    "import os\n",
    "\n",
    "for df_test in pd.read_csv(test_file, chunksize=100000):\n",
    "    df_test['molecule'] = df_test['molecule_smiles'].apply(Chem.MolFromSmiles)\n",
    "    df_test['ecfp'] = df_test['molecule'].apply(generate_ecfp)\n",
    "    df_test['physchem'] = df_test['molecule'].apply(generate_physchem_features)\n",
    "    \n",
    "    # 테스트 데이터의 물리화학적 특성 정규화\n",
    "    physchem_features_test = np.array(df_test['physchem'].tolist())\n",
    "    physchem_features_test_scaled = scaler.transform(physchem_features_test)\n",
    "    \n",
    "    df_test['features'] = [ecfp + physchem_scaled.tolist() for ecfp, physchem_scaled in zip(df_test['ecfp'], physchem_features_test_scaled)]\n",
    "    protein_onehot = onehot_encoder.transform(df_test['protein_name'].values.reshape(-1, 1))\n",
    "    X_test = np.array([features + list(protein) for features, protein in zip(df_test['features'].tolist(), protein_onehot.tolist())])\n",
    "    \n",
    "    probabilities = model.predict(X_test).flatten()\n",
    "    output_df = pd.DataFrame({'id': df_test['id'], 'binds': probabilities})\n",
    "    output_df.to_csv(output_file, index=False, mode='a', header=not os.path.exists(output_file))"
   ]
  },
  {
   "cell_type": "code",
   "execution_count": null,
   "id": "bde8520b",
   "metadata": {
    "papermill": {
     "duration": 3.759891,
     "end_time": "2024-06-02T17:28:23.490118",
     "exception": false,
     "start_time": "2024-06-02T17:28:19.730227",
     "status": "completed"
    },
    "tags": []
   },
   "outputs": [],
   "source": []
  },
  {
   "cell_type": "code",
   "execution_count": null,
   "id": "68708b50",
   "metadata": {
    "papermill": {
     "duration": 3.699114,
     "end_time": "2024-06-02T17:28:31.039874",
     "exception": false,
     "start_time": "2024-06-02T17:28:27.340760",
     "status": "completed"
    },
    "tags": []
   },
   "outputs": [],
   "source": []
  }
 ],
 "metadata": {
  "kaggle": {
   "accelerator": "none",
   "dataSources": [
    {
     "databundleVersionId": 8006601,
     "sourceId": 67356,
     "sourceType": "competition"
    }
   ],
   "dockerImageVersionId": 30715,
   "isGpuEnabled": false,
   "isInternetEnabled": true,
   "language": "python",
   "sourceType": "notebook"
  },
  "kernelspec": {
   "display_name": "Python 3",
   "language": "python",
   "name": "python3"
  },
  "language_info": {
   "codemirror_mode": {
    "name": "ipython",
    "version": 3
   },
   "file_extension": ".py",
   "mimetype": "text/x-python",
   "name": "python",
   "nbconvert_exporter": "python",
   "pygments_lexer": "ipython3",
   "version": "3.10.13"
  },
  "papermill": {
   "default_parameters": {},
   "duration": 10324.82411,
   "end_time": "2024-06-02T17:28:38.626478",
   "environment_variables": {},
   "exception": null,
   "input_path": "__notebook__.ipynb",
   "output_path": "__notebook__.ipynb",
   "parameters": {},
   "start_time": "2024-06-02T14:36:33.802368",
   "version": "2.5.0"
  },
  "widgets": {
   "application/vnd.jupyter.widget-state+json": {
    "state": {
     "0a2a0541059948df87a7f7788942010b": {
      "model_module": "@jupyter-widgets/controls",
      "model_module_version": "1.5.0",
      "model_name": "ProgressStyleModel",
      "state": {
       "_model_module": "@jupyter-widgets/controls",
       "_model_module_version": "1.5.0",
       "_model_name": "ProgressStyleModel",
       "_view_count": null,
       "_view_module": "@jupyter-widgets/base",
       "_view_module_version": "1.2.0",
       "_view_name": "StyleView",
       "bar_color": "black",
       "description_width": ""
      }
     },
     "1b0aa309098f433f8ffd277344113429": {
      "model_module": "@jupyter-widgets/controls",
      "model_module_version": "1.5.0",
      "model_name": "ProgressStyleModel",
      "state": {
       "_model_module": "@jupyter-widgets/controls",
       "_model_module_version": "1.5.0",
       "_model_name": "ProgressStyleModel",
       "_view_count": null,
       "_view_module": "@jupyter-widgets/base",
       "_view_module_version": "1.2.0",
       "_view_name": "StyleView",
       "bar_color": "black",
       "description_width": ""
      }
     },
     "25bd09437ec84c7894e6e06a76dec08f": {
      "model_module": "@jupyter-widgets/controls",
      "model_module_version": "1.5.0",
      "model_name": "FloatProgressModel",
      "state": {
       "_dom_classes": [],
       "_model_module": "@jupyter-widgets/controls",
       "_model_module_version": "1.5.0",
       "_model_name": "FloatProgressModel",
       "_view_count": null,
       "_view_module": "@jupyter-widgets/controls",
       "_view_module_version": "1.5.0",
       "_view_name": "ProgressView",
       "bar_style": "",
       "description": "",
       "description_tooltip": null,
       "layout": "IPY_MODEL_ce8ceeb3aefe45a1b8e39f510c277cd1",
       "max": 100.0,
       "min": 0.0,
       "orientation": "horizontal",
       "style": "IPY_MODEL_3b0321788c5247a1b88aaa1fac982f90",
       "value": 100.0
      }
     },
     "2bc0f53cecbb4cb580b55afc30183d82": {
      "model_module": "@jupyter-widgets/controls",
      "model_module_version": "1.5.0",
      "model_name": "ProgressStyleModel",
      "state": {
       "_model_module": "@jupyter-widgets/controls",
       "_model_module_version": "1.5.0",
       "_model_name": "ProgressStyleModel",
       "_view_count": null,
       "_view_module": "@jupyter-widgets/base",
       "_view_module_version": "1.2.0",
       "_view_name": "StyleView",
       "bar_color": "black",
       "description_width": ""
      }
     },
     "3b0321788c5247a1b88aaa1fac982f90": {
      "model_module": "@jupyter-widgets/controls",
      "model_module_version": "1.5.0",
      "model_name": "ProgressStyleModel",
      "state": {
       "_model_module": "@jupyter-widgets/controls",
       "_model_module_version": "1.5.0",
       "_model_name": "ProgressStyleModel",
       "_view_count": null,
       "_view_module": "@jupyter-widgets/base",
       "_view_module_version": "1.2.0",
       "_view_name": "StyleView",
       "bar_color": "black",
       "description_width": ""
      }
     },
     "6551b17f4a81483494ae0c7158fe1f64": {
      "model_module": "@jupyter-widgets/base",
      "model_module_version": "1.2.0",
      "model_name": "LayoutModel",
      "state": {
       "_model_module": "@jupyter-widgets/base",
       "_model_module_version": "1.2.0",
       "_model_name": "LayoutModel",
       "_view_count": null,
       "_view_module": "@jupyter-widgets/base",
       "_view_module_version": "1.2.0",
       "_view_name": "LayoutView",
       "align_content": null,
       "align_items": null,
       "align_self": null,
       "border": null,
       "bottom": null,
       "display": null,
       "flex": null,
       "flex_flow": null,
       "grid_area": null,
       "grid_auto_columns": null,
       "grid_auto_flow": null,
       "grid_auto_rows": null,
       "grid_column": null,
       "grid_gap": null,
       "grid_row": null,
       "grid_template_areas": null,
       "grid_template_columns": null,
       "grid_template_rows": null,
       "height": null,
       "justify_content": null,
       "justify_items": null,
       "left": null,
       "margin": null,
       "max_height": null,
       "max_width": null,
       "min_height": null,
       "min_width": null,
       "object_fit": null,
       "object_position": null,
       "order": null,
       "overflow": null,
       "overflow_x": null,
       "overflow_y": null,
       "padding": null,
       "right": null,
       "top": null,
       "visibility": null,
       "width": "auto"
      }
     },
     "7314396262de42aca4beeb7e9ef1e51a": {
      "model_module": "@jupyter-widgets/base",
      "model_module_version": "1.2.0",
      "model_name": "LayoutModel",
      "state": {
       "_model_module": "@jupyter-widgets/base",
       "_model_module_version": "1.2.0",
       "_model_name": "LayoutModel",
       "_view_count": null,
       "_view_module": "@jupyter-widgets/base",
       "_view_module_version": "1.2.0",
       "_view_name": "LayoutView",
       "align_content": null,
       "align_items": null,
       "align_self": null,
       "border": null,
       "bottom": null,
       "display": null,
       "flex": null,
       "flex_flow": null,
       "grid_area": null,
       "grid_auto_columns": null,
       "grid_auto_flow": null,
       "grid_auto_rows": null,
       "grid_column": null,
       "grid_gap": null,
       "grid_row": null,
       "grid_template_areas": null,
       "grid_template_columns": null,
       "grid_template_rows": null,
       "height": null,
       "justify_content": null,
       "justify_items": null,
       "left": null,
       "margin": null,
       "max_height": null,
       "max_width": null,
       "min_height": null,
       "min_width": null,
       "object_fit": null,
       "object_position": null,
       "order": null,
       "overflow": null,
       "overflow_x": null,
       "overflow_y": null,
       "padding": null,
       "right": null,
       "top": null,
       "visibility": null,
       "width": "auto"
      }
     },
     "85825dad5a2540689bb83f755f422138": {
      "model_module": "@jupyter-widgets/controls",
      "model_module_version": "1.5.0",
      "model_name": "ProgressStyleModel",
      "state": {
       "_model_module": "@jupyter-widgets/controls",
       "_model_module_version": "1.5.0",
       "_model_name": "ProgressStyleModel",
       "_view_count": null,
       "_view_module": "@jupyter-widgets/base",
       "_view_module_version": "1.2.0",
       "_view_name": "StyleView",
       "bar_color": "black",
       "description_width": ""
      }
     },
     "933113c009ac46318b71e3def8ced161": {
      "model_module": "@jupyter-widgets/controls",
      "model_module_version": "1.5.0",
      "model_name": "FloatProgressModel",
      "state": {
       "_dom_classes": [],
       "_model_module": "@jupyter-widgets/controls",
       "_model_module_version": "1.5.0",
       "_model_name": "FloatProgressModel",
       "_view_count": null,
       "_view_module": "@jupyter-widgets/controls",
       "_view_module_version": "1.5.0",
       "_view_name": "ProgressView",
       "bar_style": "",
       "description": "",
       "description_tooltip": null,
       "layout": "IPY_MODEL_a3eb6b75df5b4889b1e329741fb9fe7e",
       "max": 100.0,
       "min": 0.0,
       "orientation": "horizontal",
       "style": "IPY_MODEL_1b0aa309098f433f8ffd277344113429",
       "value": 100.0
      }
     },
     "9b0bbd267cfb4cddbc320a420428e5cc": {
      "model_module": "@jupyter-widgets/controls",
      "model_module_version": "1.5.0",
      "model_name": "FloatProgressModel",
      "state": {
       "_dom_classes": [],
       "_model_module": "@jupyter-widgets/controls",
       "_model_module_version": "1.5.0",
       "_model_name": "FloatProgressModel",
       "_view_count": null,
       "_view_module": "@jupyter-widgets/controls",
       "_view_module_version": "1.5.0",
       "_view_name": "ProgressView",
       "bar_style": "",
       "description": "",
       "description_tooltip": null,
       "layout": "IPY_MODEL_ecac2ac092414b8ebb0a1e5f6d2d17cf",
       "max": 100.0,
       "min": 0.0,
       "orientation": "horizontal",
       "style": "IPY_MODEL_2bc0f53cecbb4cb580b55afc30183d82",
       "value": 100.0
      }
     },
     "a3eb6b75df5b4889b1e329741fb9fe7e": {
      "model_module": "@jupyter-widgets/base",
      "model_module_version": "1.2.0",
      "model_name": "LayoutModel",
      "state": {
       "_model_module": "@jupyter-widgets/base",
       "_model_module_version": "1.2.0",
       "_model_name": "LayoutModel",
       "_view_count": null,
       "_view_module": "@jupyter-widgets/base",
       "_view_module_version": "1.2.0",
       "_view_name": "LayoutView",
       "align_content": null,
       "align_items": null,
       "align_self": null,
       "border": null,
       "bottom": null,
       "display": null,
       "flex": null,
       "flex_flow": null,
       "grid_area": null,
       "grid_auto_columns": null,
       "grid_auto_flow": null,
       "grid_auto_rows": null,
       "grid_column": null,
       "grid_gap": null,
       "grid_row": null,
       "grid_template_areas": null,
       "grid_template_columns": null,
       "grid_template_rows": null,
       "height": null,
       "justify_content": null,
       "justify_items": null,
       "left": null,
       "margin": null,
       "max_height": null,
       "max_width": null,
       "min_height": null,
       "min_width": null,
       "object_fit": null,
       "object_position": null,
       "order": null,
       "overflow": null,
       "overflow_x": null,
       "overflow_y": null,
       "padding": null,
       "right": null,
       "top": null,
       "visibility": null,
       "width": "auto"
      }
     },
     "a4cb12104965478bad076d0d4a71a95d": {
      "model_module": "@jupyter-widgets/controls",
      "model_module_version": "1.5.0",
      "model_name": "ProgressStyleModel",
      "state": {
       "_model_module": "@jupyter-widgets/controls",
       "_model_module_version": "1.5.0",
       "_model_name": "ProgressStyleModel",
       "_view_count": null,
       "_view_module": "@jupyter-widgets/base",
       "_view_module_version": "1.2.0",
       "_view_name": "StyleView",
       "bar_color": "black",
       "description_width": ""
      }
     },
     "b8c1d232632147028765cd2c31819103": {
      "model_module": "@jupyter-widgets/controls",
      "model_module_version": "1.5.0",
      "model_name": "FloatProgressModel",
      "state": {
       "_dom_classes": [],
       "_model_module": "@jupyter-widgets/controls",
       "_model_module_version": "1.5.0",
       "_model_name": "FloatProgressModel",
       "_view_count": null,
       "_view_module": "@jupyter-widgets/controls",
       "_view_module_version": "1.5.0",
       "_view_name": "ProgressView",
       "bar_style": "",
       "description": "",
       "description_tooltip": null,
       "layout": "IPY_MODEL_6551b17f4a81483494ae0c7158fe1f64",
       "max": 100.0,
       "min": 0.0,
       "orientation": "horizontal",
       "style": "IPY_MODEL_0a2a0541059948df87a7f7788942010b",
       "value": 100.0
      }
     },
     "c8e21fd0e0654554ae22fbe12e641e7d": {
      "model_module": "@jupyter-widgets/controls",
      "model_module_version": "1.5.0",
      "model_name": "FloatProgressModel",
      "state": {
       "_dom_classes": [],
       "_model_module": "@jupyter-widgets/controls",
       "_model_module_version": "1.5.0",
       "_model_name": "FloatProgressModel",
       "_view_count": null,
       "_view_module": "@jupyter-widgets/controls",
       "_view_module_version": "1.5.0",
       "_view_name": "ProgressView",
       "bar_style": "",
       "description": "",
       "description_tooltip": null,
       "layout": "IPY_MODEL_e79a63fd2e764ac89aa94d46fbbb3d1c",
       "max": 100.0,
       "min": 0.0,
       "orientation": "horizontal",
       "style": "IPY_MODEL_85825dad5a2540689bb83f755f422138",
       "value": 100.0
      }
     },
     "ce8ceeb3aefe45a1b8e39f510c277cd1": {
      "model_module": "@jupyter-widgets/base",
      "model_module_version": "1.2.0",
      "model_name": "LayoutModel",
      "state": {
       "_model_module": "@jupyter-widgets/base",
       "_model_module_version": "1.2.0",
       "_model_name": "LayoutModel",
       "_view_count": null,
       "_view_module": "@jupyter-widgets/base",
       "_view_module_version": "1.2.0",
       "_view_name": "LayoutView",
       "align_content": null,
       "align_items": null,
       "align_self": null,
       "border": null,
       "bottom": null,
       "display": null,
       "flex": null,
       "flex_flow": null,
       "grid_area": null,
       "grid_auto_columns": null,
       "grid_auto_flow": null,
       "grid_auto_rows": null,
       "grid_column": null,
       "grid_gap": null,
       "grid_row": null,
       "grid_template_areas": null,
       "grid_template_columns": null,
       "grid_template_rows": null,
       "height": null,
       "justify_content": null,
       "justify_items": null,
       "left": null,
       "margin": null,
       "max_height": null,
       "max_width": null,
       "min_height": null,
       "min_width": null,
       "object_fit": null,
       "object_position": null,
       "order": null,
       "overflow": null,
       "overflow_x": null,
       "overflow_y": null,
       "padding": null,
       "right": null,
       "top": null,
       "visibility": null,
       "width": "auto"
      }
     },
     "e79a63fd2e764ac89aa94d46fbbb3d1c": {
      "model_module": "@jupyter-widgets/base",
      "model_module_version": "1.2.0",
      "model_name": "LayoutModel",
      "state": {
       "_model_module": "@jupyter-widgets/base",
       "_model_module_version": "1.2.0",
       "_model_name": "LayoutModel",
       "_view_count": null,
       "_view_module": "@jupyter-widgets/base",
       "_view_module_version": "1.2.0",
       "_view_name": "LayoutView",
       "align_content": null,
       "align_items": null,
       "align_self": null,
       "border": null,
       "bottom": null,
       "display": null,
       "flex": null,
       "flex_flow": null,
       "grid_area": null,
       "grid_auto_columns": null,
       "grid_auto_flow": null,
       "grid_auto_rows": null,
       "grid_column": null,
       "grid_gap": null,
       "grid_row": null,
       "grid_template_areas": null,
       "grid_template_columns": null,
       "grid_template_rows": null,
       "height": null,
       "justify_content": null,
       "justify_items": null,
       "left": null,
       "margin": null,
       "max_height": null,
       "max_width": null,
       "min_height": null,
       "min_width": null,
       "object_fit": null,
       "object_position": null,
       "order": null,
       "overflow": null,
       "overflow_x": null,
       "overflow_y": null,
       "padding": null,
       "right": null,
       "top": null,
       "visibility": null,
       "width": "auto"
      }
     },
     "ecac2ac092414b8ebb0a1e5f6d2d17cf": {
      "model_module": "@jupyter-widgets/base",
      "model_module_version": "1.2.0",
      "model_name": "LayoutModel",
      "state": {
       "_model_module": "@jupyter-widgets/base",
       "_model_module_version": "1.2.0",
       "_model_name": "LayoutModel",
       "_view_count": null,
       "_view_module": "@jupyter-widgets/base",
       "_view_module_version": "1.2.0",
       "_view_name": "LayoutView",
       "align_content": null,
       "align_items": null,
       "align_self": null,
       "border": null,
       "bottom": null,
       "display": null,
       "flex": null,
       "flex_flow": null,
       "grid_area": null,
       "grid_auto_columns": null,
       "grid_auto_flow": null,
       "grid_auto_rows": null,
       "grid_column": null,
       "grid_gap": null,
       "grid_row": null,
       "grid_template_areas": null,
       "grid_template_columns": null,
       "grid_template_rows": null,
       "height": null,
       "justify_content": null,
       "justify_items": null,
       "left": null,
       "margin": null,
       "max_height": null,
       "max_width": null,
       "min_height": null,
       "min_width": null,
       "object_fit": null,
       "object_position": null,
       "order": null,
       "overflow": null,
       "overflow_x": null,
       "overflow_y": null,
       "padding": null,
       "right": null,
       "top": null,
       "visibility": null,
       "width": "auto"
      }
     },
     "ee3b32dc6b0a4a3bbce801422eb7c44e": {
      "model_module": "@jupyter-widgets/controls",
      "model_module_version": "1.5.0",
      "model_name": "FloatProgressModel",
      "state": {
       "_dom_classes": [],
       "_model_module": "@jupyter-widgets/controls",
       "_model_module_version": "1.5.0",
       "_model_name": "FloatProgressModel",
       "_view_count": null,
       "_view_module": "@jupyter-widgets/controls",
       "_view_module_version": "1.5.0",
       "_view_name": "ProgressView",
       "bar_style": "",
       "description": "",
       "description_tooltip": null,
       "layout": "IPY_MODEL_7314396262de42aca4beeb7e9ef1e51a",
       "max": 100.0,
       "min": 0.0,
       "orientation": "horizontal",
       "style": "IPY_MODEL_a4cb12104965478bad076d0d4a71a95d",
       "value": 100.0
      }
     }
    },
    "version_major": 2,
    "version_minor": 0
   }
  }
 },
 "nbformat": 4,
 "nbformat_minor": 5
}
