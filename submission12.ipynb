{
 "cells": [
  {
   "cell_type": "code",
   "execution_count": 1,
   "id": "f92a1605",
   "metadata": {
    "execution": {
     "iopub.execute_input": "2024-06-04T18:06:35.367655Z",
     "iopub.status.busy": "2024-06-04T18:06:35.367149Z",
     "iopub.status.idle": "2024-06-04T18:07:13.800275Z",
     "shell.execute_reply": "2024-06-04T18:07:13.798999Z"
    },
    "papermill": {
     "duration": 38.444458,
     "end_time": "2024-06-04T18:07:13.803308",
     "exception": false,
     "start_time": "2024-06-04T18:06:35.358850",
     "status": "completed"
    },
    "tags": []
   },
   "outputs": [
    {
     "name": "stdout",
     "output_type": "stream",
     "text": [
      "Collecting rdkit-pypi\r\n",
      "  Downloading rdkit_pypi-2022.9.5-cp310-cp310-manylinux_2_17_x86_64.manylinux2014_x86_64.whl.metadata (3.9 kB)\r\n",
      "Requirement already satisfied: numpy in /opt/conda/lib/python3.10/site-packages (from rdkit-pypi) (1.26.4)\r\n",
      "Requirement already satisfied: Pillow in /opt/conda/lib/python3.10/site-packages (from rdkit-pypi) (9.5.0)\r\n",
      "Downloading rdkit_pypi-2022.9.5-cp310-cp310-manylinux_2_17_x86_64.manylinux2014_x86_64.whl (29.4 MB)\r\n",
      "\u001b[2K   \u001b[90m━━━━━━━━━━━━━━━━━━━━━━━━━━━━━━━━━━━━━━━━\u001b[0m \u001b[32m29.4/29.4 MB\u001b[0m \u001b[31m50.0 MB/s\u001b[0m eta \u001b[36m0:00:00\u001b[0m\r\n",
      "\u001b[?25h\u001b[33mWARNING: Error parsing requirements for aiohttp: [Errno 2] No such file or directory: '/opt/conda/lib/python3.10/site-packages/aiohttp-3.9.1.dist-info/METADATA'\u001b[0m\u001b[33m\r\n",
      "\u001b[0mInstalling collected packages: rdkit-pypi\r\n",
      "Successfully installed rdkit-pypi-2022.9.5\r\n",
      "Collecting duckdb\r\n",
      "  Downloading duckdb-1.0.0-cp310-cp310-manylinux_2_17_x86_64.manylinux2014_x86_64.whl.metadata (762 bytes)\r\n",
      "Downloading duckdb-1.0.0-cp310-cp310-manylinux_2_17_x86_64.manylinux2014_x86_64.whl (18.5 MB)\r\n",
      "\u001b[2K   \u001b[90m━━━━━━━━━━━━━━━━━━━━━━━━━━━━━━━━━━━━━━━━\u001b[0m \u001b[32m18.5/18.5 MB\u001b[0m \u001b[31m59.8 MB/s\u001b[0m eta \u001b[36m0:00:00\u001b[0m\r\n",
      "\u001b[?25h\u001b[33mWARNING: Error parsing requirements for aiohttp: [Errno 2] No such file or directory: '/opt/conda/lib/python3.10/site-packages/aiohttp-3.9.1.dist-info/METADATA'\u001b[0m\u001b[33m\r\n",
      "\u001b[0mInstalling collected packages: duckdb\r\n",
      "Successfully installed duckdb-1.0.0\r\n"
     ]
    }
   ],
   "source": [
    "# 기본 패키지 설치\n",
    "!pip install rdkit-pypi\n",
    "!pip install duckdb"
   ]
  },
  {
   "cell_type": "code",
   "execution_count": 2,
   "id": "c13aa1f4",
   "metadata": {
    "execution": {
     "iopub.execute_input": "2024-06-04T18:07:13.822956Z",
     "iopub.status.busy": "2024-06-04T18:07:13.822526Z",
     "iopub.status.idle": "2024-06-04T18:07:34.072166Z",
     "shell.execute_reply": "2024-06-04T18:07:34.070869Z"
    },
    "papermill": {
     "duration": 20.263185,
     "end_time": "2024-06-04T18:07:34.075343",
     "exception": false,
     "start_time": "2024-06-04T18:07:13.812158",
     "status": "completed"
    },
    "tags": []
   },
   "outputs": [
    {
     "name": "stderr",
     "output_type": "stream",
     "text": [
      "2024-06-04 18:07:19.324946: E external/local_xla/xla/stream_executor/cuda/cuda_dnn.cc:9261] Unable to register cuDNN factory: Attempting to register factory for plugin cuDNN when one has already been registered\n",
      "2024-06-04 18:07:19.325083: E external/local_xla/xla/stream_executor/cuda/cuda_fft.cc:607] Unable to register cuFFT factory: Attempting to register factory for plugin cuFFT when one has already been registered\n",
      "2024-06-04 18:07:19.509113: E external/local_xla/xla/stream_executor/cuda/cuda_blas.cc:1515] Unable to register cuBLAS factory: Attempting to register factory for plugin cuBLAS when one has already been registered\n"
     ]
    }
   ],
   "source": [
    "from rdkit import Chem\n",
    "from rdkit.Chem import AllChem, Descriptors\n",
    "import numpy as np\n",
    "import pandas as pd\n",
    "from sklearn.preprocessing import StandardScaler, OneHotEncoder\n",
    "from sklearn.model_selection import train_test_split\n",
    "import tensorflow as tf\n",
    "import os\n",
    "import optuna\n",
    "import duckdb\n",
    "from catboost import CatBoostClassifier\n",
    "import catboost as cat\n",
    "from tensorflow.keras.optimizers import Adam\n",
    "from sklearn.metrics import roc_auc_score"
   ]
  },
  {
   "cell_type": "code",
   "execution_count": 3,
   "id": "4314490d",
   "metadata": {
    "execution": {
     "iopub.execute_input": "2024-06-04T18:07:34.095304Z",
     "iopub.status.busy": "2024-06-04T18:07:34.094564Z",
     "iopub.status.idle": "2024-06-04T18:07:34.100770Z",
     "shell.execute_reply": "2024-06-04T18:07:34.099443Z"
    },
    "papermill": {
     "duration": 0.018832,
     "end_time": "2024-06-04T18:07:34.103189",
     "exception": false,
     "start_time": "2024-06-04T18:07:34.084357",
     "status": "completed"
    },
    "tags": []
   },
   "outputs": [],
   "source": [
    "train_path = '/kaggle/input/leash-BELKA/train.parquet'\n",
    "test_path = '/kaggle/input/leash-BELKA/test.parquet'"
   ]
  },
  {
   "cell_type": "code",
   "execution_count": 4,
   "id": "d81e11b6",
   "metadata": {
    "execution": {
     "iopub.execute_input": "2024-06-04T18:07:34.122826Z",
     "iopub.status.busy": "2024-06-04T18:07:34.122380Z",
     "iopub.status.idle": "2024-06-04T18:09:39.312524Z",
     "shell.execute_reply": "2024-06-04T18:09:39.311211Z"
    },
    "papermill": {
     "duration": 125.203172,
     "end_time": "2024-06-04T18:09:39.315456",
     "exception": false,
     "start_time": "2024-06-04T18:07:34.112284",
     "status": "completed"
    },
    "tags": []
   },
   "outputs": [
    {
     "data": {
      "application/vnd.jupyter.widget-view+json": {
       "model_id": "8e41fe7d9d5c45d2a3b7538d9b4a3c08",
       "version_major": 2,
       "version_minor": 0
      },
      "text/plain": [
       "FloatProgress(value=0.0, layout=Layout(width='auto'), style=ProgressStyle(bar_color='black'))"
      ]
     },
     "metadata": {},
     "output_type": "display_data"
    },
    {
     "data": {
      "application/vnd.jupyter.widget-view+json": {
       "model_id": "79a0576f807d4b62b11417a5e1ede4e3",
       "version_major": 2,
       "version_minor": 0
      },
      "text/plain": [
       "FloatProgress(value=0.0, layout=Layout(width='auto'), style=ProgressStyle(bar_color='black'))"
      ]
     },
     "metadata": {},
     "output_type": "display_data"
    },
    {
     "data": {
      "application/vnd.jupyter.widget-view+json": {
       "model_id": "22cbfa4363d344c789a80e3cb00a1c31",
       "version_major": 2,
       "version_minor": 0
      },
      "text/plain": [
       "FloatProgress(value=0.0, layout=Layout(width='auto'), style=ProgressStyle(bar_color='black'))"
      ]
     },
     "metadata": {},
     "output_type": "display_data"
    },
    {
     "data": {
      "application/vnd.jupyter.widget-view+json": {
       "model_id": "bae2cde1acd94c5dbbbf48b1978b53db",
       "version_major": 2,
       "version_minor": 0
      },
      "text/plain": [
       "FloatProgress(value=0.0, layout=Layout(width='auto'), style=ProgressStyle(bar_color='black'))"
      ]
     },
     "metadata": {},
     "output_type": "display_data"
    },
    {
     "data": {
      "application/vnd.jupyter.widget-view+json": {
       "model_id": "b587dacec0d545eeac2d2b51d8955b39",
       "version_major": 2,
       "version_minor": 0
      },
      "text/plain": [
       "FloatProgress(value=0.0, layout=Layout(width='auto'), style=ProgressStyle(bar_color='black'))"
      ]
     },
     "metadata": {},
     "output_type": "display_data"
    },
    {
     "data": {
      "application/vnd.jupyter.widget-view+json": {
       "model_id": "4d4d2165cc424b2281e84fc3a21c3e42",
       "version_major": 2,
       "version_minor": 0
      },
      "text/plain": [
       "FloatProgress(value=0.0, layout=Layout(width='auto'), style=ProgressStyle(bar_color='black'))"
      ]
     },
     "metadata": {},
     "output_type": "display_data"
    }
   ],
   "source": [
    "# 각 단백질에 대해 binds=0,1 데이터를 각각 12000개씩 불러오기\n",
    "con = duckdb.connect()\n",
    "\n",
    "df_brd4_0 = con.query(f\"\"\"\n",
    "    SELECT * \n",
    "    FROM parquet_scan('{train_path}') \n",
    "    WHERE binds = 0 AND protein_name = 'BRD4'\n",
    "    ORDER BY random()\n",
    "    LIMIT 12000\n",
    "\"\"\").df()\n",
    "\n",
    "df_brd4_1 = con.query(f\"\"\"\n",
    "    SELECT * \n",
    "    FROM parquet_scan('{train_path}') \n",
    "    WHERE binds = 1 AND protein_name = 'BRD4'\n",
    "    ORDER BY random()\n",
    "    LIMIT 12000\n",
    "\"\"\").df()\n",
    "\n",
    "df_hsa_0 = con.query(f\"\"\"\n",
    "    SELECT * \n",
    "    FROM parquet_scan('{train_path}') \n",
    "    WHERE binds = 0 AND protein_name = 'HSA'\n",
    "    ORDER BY random()\n",
    "    LIMIT 12000\n",
    "\"\"\").df()\n",
    "\n",
    "df_hsa_1 = con.query(f\"\"\"\n",
    "    SELECT * \n",
    "    FROM parquet_scan('{train_path}') \n",
    "    WHERE binds = 1 AND protein_name = 'HSA'\n",
    "    ORDER BY random()\n",
    "    LIMIT 12000\n",
    "\"\"\").df()\n",
    "\n",
    "df_seh_0 = con.query(f\"\"\"\n",
    "    SELECT * \n",
    "    FROM parquet_scan('{train_path}') \n",
    "    WHERE binds = 0 AND protein_name = 'sEH'\n",
    "    ORDER BY random()\n",
    "    LIMIT 12000\n",
    "\"\"\").df()\n",
    "\n",
    "df_seh_1 = con.query(f\"\"\"\n",
    "    SELECT * \n",
    "    FROM parquet_scan('{train_path}') \n",
    "    WHERE binds = 1 AND protein_name = 'sEH'\n",
    "    ORDER BY random()\n",
    "    LIMIT 12000\n",
    "\"\"\").df()\n",
    "\n",
    "# 데이터프레임 결합\n",
    "df = pd.concat([df_brd4_0, df_brd4_1, df_hsa_0, df_hsa_1, df_seh_0, df_seh_1], axis=0).reset_index(drop=True)\n",
    "con.close()"
   ]
  },
  {
   "cell_type": "code",
   "execution_count": 5,
   "id": "f84d4a4b",
   "metadata": {
    "execution": {
     "iopub.execute_input": "2024-06-04T18:09:39.337884Z",
     "iopub.status.busy": "2024-06-04T18:09:39.337384Z",
     "iopub.status.idle": "2024-06-04T18:09:39.348055Z",
     "shell.execute_reply": "2024-06-04T18:09:39.346687Z"
    },
    "papermill": {
     "duration": 0.025043,
     "end_time": "2024-06-04T18:09:39.350603",
     "exception": false,
     "start_time": "2024-06-04T18:09:39.325560",
     "status": "completed"
    },
    "tags": []
   },
   "outputs": [],
   "source": [
    "# ECFP 생성 함수\n",
    "def generate_ecfp(molecule, radius=2, bits=2048):\n",
    "    if molecule is None:\n",
    "        return None\n",
    "    return list(AllChem.GetMorganFingerprintAsBitVect(molecule, radius, nBits=bits))\n",
    "\n",
    "# MACCS keys 생성 함수\n",
    "def generate_maccs_keys(molecule):\n",
    "    if molecule is None:\n",
    "        return None\n",
    "    return list(AllChem.GetMACCSKeysFingerprint(molecule))\n",
    "\n",
    "# 분자의 물리화학적 특성을 추출하는 함수\n",
    "def generate_physchem_features(molecule):\n",
    "    if molecule is None:\n",
    "        return [np.nan] * 6\n",
    "    return [\n",
    "        Descriptors.MolWt(molecule),                   # 분자량\n",
    "        Descriptors.MolLogP(molecule),                 # 로그 P\n",
    "        Descriptors.NumHDonors(molecule),              # 수소 결합 공여자 수\n",
    "        Descriptors.NumHAcceptors(molecule),           # 수소 결합 수용체 수\n",
    "        Descriptors.TPSA(molecule),                    # TPSA (극성 표면적)\n",
    "        Descriptors.NumRotatableBonds(molecule)        # 회전 가능한 결합 수\n",
    "    ]"
   ]
  },
  {
   "cell_type": "code",
   "execution_count": 6,
   "id": "73af8c66",
   "metadata": {
    "execution": {
     "iopub.execute_input": "2024-06-04T18:09:39.373740Z",
     "iopub.status.busy": "2024-06-04T18:09:39.372632Z",
     "iopub.status.idle": "2024-06-04T18:10:05.663410Z",
     "shell.execute_reply": "2024-06-04T18:10:05.660602Z"
    },
    "papermill": {
     "duration": 26.305713,
     "end_time": "2024-06-04T18:10:05.666884",
     "exception": false,
     "start_time": "2024-06-04T18:09:39.361171",
     "status": "completed"
    },
    "tags": []
   },
   "outputs": [],
   "source": [
    "df['molecule'] = df['molecule_smiles'].apply(Chem.MolFromSmiles)"
   ]
  },
  {
   "cell_type": "code",
   "execution_count": 7,
   "id": "81d57e48",
   "metadata": {
    "execution": {
     "iopub.execute_input": "2024-06-04T18:10:05.690857Z",
     "iopub.status.busy": "2024-06-04T18:10:05.690427Z",
     "iopub.status.idle": "2024-06-04T18:11:35.786707Z",
     "shell.execute_reply": "2024-06-04T18:11:35.784051Z"
    },
    "papermill": {
     "duration": 90.112586,
     "end_time": "2024-06-04T18:11:35.790453",
     "exception": false,
     "start_time": "2024-06-04T18:10:05.677867",
     "status": "completed"
    },
    "tags": []
   },
   "outputs": [],
   "source": [
    "df['physchem'] = df['molecule'].apply(generate_physchem_features)"
   ]
  },
  {
   "cell_type": "code",
   "execution_count": 8,
   "id": "e4a47128",
   "metadata": {
    "execution": {
     "iopub.execute_input": "2024-06-04T18:11:35.815468Z",
     "iopub.status.busy": "2024-06-04T18:11:35.814996Z",
     "iopub.status.idle": "2024-06-04T18:13:53.958619Z",
     "shell.execute_reply": "2024-06-04T18:13:53.957349Z"
    },
    "papermill": {
     "duration": 138.159129,
     "end_time": "2024-06-04T18:13:53.961533",
     "exception": false,
     "start_time": "2024-06-04T18:11:35.802404",
     "status": "completed"
    },
    "tags": []
   },
   "outputs": [],
   "source": [
    "df['ecfp'] = df['molecule'].apply(generate_ecfp)"
   ]
  },
  {
   "cell_type": "code",
   "execution_count": 9,
   "id": "3eb4f24a",
   "metadata": {
    "execution": {
     "iopub.execute_input": "2024-06-04T18:13:53.984809Z",
     "iopub.status.busy": "2024-06-04T18:13:53.984385Z",
     "iopub.status.idle": "2024-06-04T18:16:38.521418Z",
     "shell.execute_reply": "2024-06-04T18:16:38.519132Z"
    },
    "papermill": {
     "duration": 164.553501,
     "end_time": "2024-06-04T18:16:38.526316",
     "exception": false,
     "start_time": "2024-06-04T18:13:53.972815",
     "status": "completed"
    },
    "tags": []
   },
   "outputs": [],
   "source": [
    "df['maccs'] = df['molecule'].apply(generate_maccs_keys)"
   ]
  },
  {
   "cell_type": "code",
   "execution_count": 10,
   "id": "6200948e",
   "metadata": {
    "execution": {
     "iopub.execute_input": "2024-06-04T18:16:38.552831Z",
     "iopub.status.busy": "2024-06-04T18:16:38.552341Z",
     "iopub.status.idle": "2024-06-04T18:16:38.690868Z",
     "shell.execute_reply": "2024-06-04T18:16:38.688735Z"
    },
    "papermill": {
     "duration": 0.155923,
     "end_time": "2024-06-04T18:16:38.694368",
     "exception": false,
     "start_time": "2024-06-04T18:16:38.538445",
     "status": "completed"
    },
    "tags": []
   },
   "outputs": [],
   "source": [
    "# 물리화학적 특성을 정규화\n",
    "physchem_features = np.array(df['physchem'].tolist())\n",
    "scaler = StandardScaler()\n",
    "physchem_features_scaled = scaler.fit_transform(physchem_features)"
   ]
  },
  {
   "cell_type": "code",
   "execution_count": 11,
   "id": "8acbf645",
   "metadata": {
    "execution": {
     "iopub.execute_input": "2024-06-04T18:16:38.719549Z",
     "iopub.status.busy": "2024-06-04T18:16:38.719104Z",
     "iopub.status.idle": "2024-06-04T18:16:43.588584Z",
     "shell.execute_reply": "2024-06-04T18:16:43.587185Z"
    },
    "papermill": {
     "duration": 4.88544,
     "end_time": "2024-06-04T18:16:43.591423",
     "exception": false,
     "start_time": "2024-06-04T18:16:38.705983",
     "status": "completed"
    },
    "tags": []
   },
   "outputs": [],
   "source": [
    "# ECFP, MACCS keys, 정규화된 물리화학적 특성을 결합\n",
    "df['features'] = [ecfp + maccs + physchem_scaled.tolist() for ecfp, maccs, physchem_scaled in zip(df['ecfp'], df['maccs'], physchem_features_scaled)]"
   ]
  },
  {
   "cell_type": "code",
   "execution_count": 12,
   "id": "dd0e8bea",
   "metadata": {
    "execution": {
     "iopub.execute_input": "2024-06-04T18:16:43.617154Z",
     "iopub.status.busy": "2024-06-04T18:16:43.616738Z",
     "iopub.status.idle": "2024-06-04T18:16:43.664656Z",
     "shell.execute_reply": "2024-06-04T18:16:43.663144Z"
    },
    "papermill": {
     "duration": 0.064681,
     "end_time": "2024-06-04T18:16:43.668052",
     "exception": false,
     "start_time": "2024-06-04T18:16:43.603371",
     "status": "completed"
    },
    "tags": []
   },
   "outputs": [],
   "source": [
    "# 단백질 이름을 원-핫 인코딩\n",
    "onehot_encoder = OneHotEncoder(sparse_output=False)\n",
    "protein_onehot = onehot_encoder.fit_transform(df['protein_name'].values.reshape(-1, 1))"
   ]
  },
  {
   "cell_type": "code",
   "execution_count": 13,
   "id": "8e2534d8",
   "metadata": {
    "execution": {
     "iopub.execute_input": "2024-06-04T18:16:43.693124Z",
     "iopub.status.busy": "2024-06-04T18:16:43.692539Z",
     "iopub.status.idle": "2024-06-04T18:17:15.694667Z",
     "shell.execute_reply": "2024-06-04T18:17:15.692538Z"
    },
    "papermill": {
     "duration": 32.019302,
     "end_time": "2024-06-04T18:17:15.698118",
     "exception": false,
     "start_time": "2024-06-04T18:16:43.678816",
     "status": "completed"
    },
    "tags": []
   },
   "outputs": [],
   "source": [
    "# 최종 입력 데이터 생성\n",
    "X = np.array([features + list(protein) for features, protein in zip(df['features'].tolist(), protein_onehot.tolist())])\n",
    "y = np.array(df['binds'].tolist())"
   ]
  },
  {
   "cell_type": "code",
   "execution_count": 14,
   "id": "cf1c14fa",
   "metadata": {
    "execution": {
     "iopub.execute_input": "2024-06-04T18:17:15.724533Z",
     "iopub.status.busy": "2024-06-04T18:17:15.724006Z",
     "iopub.status.idle": "2024-06-04T18:17:16.245211Z",
     "shell.execute_reply": "2024-06-04T18:17:16.243441Z"
    },
    "papermill": {
     "duration": 0.537476,
     "end_time": "2024-06-04T18:17:16.248740",
     "exception": false,
     "start_time": "2024-06-04T18:17:15.711264",
     "status": "completed"
    },
    "tags": []
   },
   "outputs": [],
   "source": [
    "# 데이터 분할\n",
    "X_train, X_test, y_train, y_test = train_test_split(X, y, test_size=0.2, random_state=42)"
   ]
  },
  {
   "cell_type": "code",
   "execution_count": 15,
   "id": "34398180",
   "metadata": {
    "execution": {
     "iopub.execute_input": "2024-06-04T18:17:16.273845Z",
     "iopub.status.busy": "2024-06-04T18:17:16.273344Z",
     "iopub.status.idle": "2024-06-04T18:17:16.282421Z",
     "shell.execute_reply": "2024-06-04T18:17:16.280145Z"
    },
    "papermill": {
     "duration": 0.026016,
     "end_time": "2024-06-04T18:17:16.286196",
     "exception": false,
     "start_time": "2024-06-04T18:17:16.260180",
     "status": "completed"
    },
    "tags": []
   },
   "outputs": [],
   "source": [
    "params_cat={'depth': 10, 'iterations': 477, 'learning_rate': 0.13339489081604566, 'l2_leaf_reg': 9.72917927648512, 'border_count': 215}"
   ]
  },
  {
   "cell_type": "code",
   "execution_count": 16,
   "id": "99e575b0",
   "metadata": {
    "execution": {
     "iopub.execute_input": "2024-06-04T18:17:16.311425Z",
     "iopub.status.busy": "2024-06-04T18:17:16.310958Z",
     "iopub.status.idle": "2024-06-04T18:25:31.376936Z",
     "shell.execute_reply": "2024-06-04T18:25:31.375814Z"
    },
    "papermill": {
     "duration": 495.091864,
     "end_time": "2024-06-04T18:25:31.389880",
     "exception": false,
     "start_time": "2024-06-04T18:17:16.298016",
     "status": "completed"
    },
    "tags": []
   },
   "outputs": [
    {
     "data": {
      "text/plain": [
       "<catboost.core.CatBoostClassifier at 0x7ba5e06b6ce0>"
      ]
     },
     "execution_count": 16,
     "metadata": {},
     "output_type": "execute_result"
    }
   ],
   "source": [
    "# 최적의 파라미터로 모델 학습\n",
    "best_model = CatBoostClassifier(**params_cat, verbose=0)\n",
    "best_model.fit(X_train, y_train)"
   ]
  },
  {
   "cell_type": "code",
   "execution_count": 17,
   "id": "56dd1d50",
   "metadata": {
    "execution": {
     "iopub.execute_input": "2024-06-04T18:25:31.414139Z",
     "iopub.status.busy": "2024-06-04T18:25:31.413700Z",
     "iopub.status.idle": "2024-06-04T18:25:49.630138Z",
     "shell.execute_reply": "2024-06-04T18:25:49.628701Z"
    },
    "papermill": {
     "duration": 18.231717,
     "end_time": "2024-06-04T18:25:49.632924",
     "exception": false,
     "start_time": "2024-06-04T18:25:31.401207",
     "status": "completed"
    },
    "tags": []
   },
   "outputs": [
    {
     "name": "stdout",
     "output_type": "stream",
     "text": [
      "Test AUC Score: 0.9733\n"
     ]
    }
   ],
   "source": [
    "# 테스트 데이터 예측 및 평가\n",
    "y_pred = best_model.predict_proba(X_test)[:, 1]\n",
    "auc_score = roc_auc_score(y_test, y_pred)\n",
    "print(f'Test AUC Score: {auc_score:.4f}')"
   ]
  },
  {
   "cell_type": "code",
   "execution_count": 18,
   "id": "62a29eaa",
   "metadata": {
    "execution": {
     "iopub.execute_input": "2024-06-04T18:25:49.656766Z",
     "iopub.status.busy": "2024-06-04T18:25:49.656270Z",
     "iopub.status.idle": "2024-06-04T18:25:49.662421Z",
     "shell.execute_reply": "2024-06-04T18:25:49.661169Z"
    },
    "papermill": {
     "duration": 0.020974,
     "end_time": "2024-06-04T18:25:49.664971",
     "exception": false,
     "start_time": "2024-06-04T18:25:49.643997",
     "status": "completed"
    },
    "tags": []
   },
   "outputs": [],
   "source": [
    "# 테스트 데이터 예측 및 저장\n",
    "test_file = '/kaggle/input/leash-BELKA/test.csv'  \n",
    "output_file = '/kaggle/working/submission12.csv'  # 출력 파일 경로"
   ]
  },
  {
   "cell_type": "code",
   "execution_count": 19,
   "id": "59aef00d",
   "metadata": {
    "execution": {
     "iopub.execute_input": "2024-06-04T18:25:49.688882Z",
     "iopub.status.busy": "2024-06-04T18:25:49.688440Z",
     "iopub.status.idle": "2024-06-04T21:48:19.940418Z",
     "shell.execute_reply": "2024-06-04T21:48:19.938385Z"
    },
    "papermill": {
     "duration": 12150.279127,
     "end_time": "2024-06-04T21:48:19.955133",
     "exception": false,
     "start_time": "2024-06-04T18:25:49.676006",
     "status": "completed"
    },
    "tags": []
   },
   "outputs": [],
   "source": [
    "for df_test in pd.read_csv(test_file, chunksize=100000):\n",
    "    df_test['molecule'] = df_test['molecule_smiles'].apply(Chem.MolFromSmiles)\n",
    "    df_test['ecfp'] = df_test['molecule'].apply(generate_ecfp)\n",
    "    df_test['maccs'] = df_test['molecule'].apply(generate_maccs_keys)\n",
    "    df_test['physchem'] = df_test['molecule'].apply(generate_physchem_features)\n",
    "    \n",
    "    # 테스트 데이터의 물리화학적 특성 정규화\n",
    "    physchem_features_test = np.array(df_test['physchem'].tolist())\n",
    "    physchem_features_test_scaled = scaler.transform(physchem_features_test)\n",
    "    \n",
    "    df_test['features'] = [ecfp + maccs + physchem_scaled.tolist() for ecfp, maccs, physchem_scaled in zip(df_test['ecfp'], df_test['maccs'], physchem_features_test_scaled)]\n",
    "    protein_onehot = onehot_encoder.transform(df_test['protein_name'].values.reshape(-1, 1))\n",
    "    X_test = np.array([features + list(protein) for features, protein in zip(df_test['features'].tolist(), protein_onehot.tolist())])\n",
    "    \n",
    "    probabilities = best_model.predict_proba(X_test)[:, 1]\n",
    "    output_df = pd.DataFrame({'id': df_test['id'], 'binds': probabilities})\n",
    "    output_df.to_csv(output_file, index=False, mode='a', header=not os.path.exists(output_file))"
   ]
  }
 ],
 "metadata": {
  "kaggle": {
   "accelerator": "none",
   "dataSources": [
    {
     "databundleVersionId": 8006601,
     "sourceId": 67356,
     "sourceType": "competition"
    },
    {
     "datasetId": 4914065,
     "sourceId": 8275617,
     "sourceType": "datasetVersion"
    }
   ],
   "dockerImageVersionId": 30715,
   "isGpuEnabled": false,
   "isInternetEnabled": true,
   "language": "python",
   "sourceType": "notebook"
  },
  "kernelspec": {
   "display_name": "Python 3",
   "language": "python",
   "name": "python3"
  },
  "language_info": {
   "codemirror_mode": {
    "name": "ipython",
    "version": 3
   },
   "file_extension": ".py",
   "mimetype": "text/x-python",
   "name": "python",
   "nbconvert_exporter": "python",
   "pygments_lexer": "ipython3",
   "version": "3.10.13"
  },
  "papermill": {
   "default_parameters": {},
   "duration": 13311.966859,
   "end_time": "2024-06-04T21:48:23.877359",
   "environment_variables": {},
   "exception": null,
   "input_path": "__notebook__.ipynb",
   "output_path": "__notebook__.ipynb",
   "parameters": {},
   "start_time": "2024-06-04T18:06:31.910500",
   "version": "2.5.0"
  },
  "widgets": {
   "application/vnd.jupyter.widget-state+json": {
    "state": {
     "0ecdf8f2088e4c19aed4b943c71e85bd": {
      "model_module": "@jupyter-widgets/base",
      "model_module_version": "1.2.0",
      "model_name": "LayoutModel",
      "state": {
       "_model_module": "@jupyter-widgets/base",
       "_model_module_version": "1.2.0",
       "_model_name": "LayoutModel",
       "_view_count": null,
       "_view_module": "@jupyter-widgets/base",
       "_view_module_version": "1.2.0",
       "_view_name": "LayoutView",
       "align_content": null,
       "align_items": null,
       "align_self": null,
       "border": null,
       "bottom": null,
       "display": null,
       "flex": null,
       "flex_flow": null,
       "grid_area": null,
       "grid_auto_columns": null,
       "grid_auto_flow": null,
       "grid_auto_rows": null,
       "grid_column": null,
       "grid_gap": null,
       "grid_row": null,
       "grid_template_areas": null,
       "grid_template_columns": null,
       "grid_template_rows": null,
       "height": null,
       "justify_content": null,
       "justify_items": null,
       "left": null,
       "margin": null,
       "max_height": null,
       "max_width": null,
       "min_height": null,
       "min_width": null,
       "object_fit": null,
       "object_position": null,
       "order": null,
       "overflow": null,
       "overflow_x": null,
       "overflow_y": null,
       "padding": null,
       "right": null,
       "top": null,
       "visibility": null,
       "width": "auto"
      }
     },
     "1672a2b0f6894b088eb10e3a131aa51f": {
      "model_module": "@jupyter-widgets/base",
      "model_module_version": "1.2.0",
      "model_name": "LayoutModel",
      "state": {
       "_model_module": "@jupyter-widgets/base",
       "_model_module_version": "1.2.0",
       "_model_name": "LayoutModel",
       "_view_count": null,
       "_view_module": "@jupyter-widgets/base",
       "_view_module_version": "1.2.0",
       "_view_name": "LayoutView",
       "align_content": null,
       "align_items": null,
       "align_self": null,
       "border": null,
       "bottom": null,
       "display": null,
       "flex": null,
       "flex_flow": null,
       "grid_area": null,
       "grid_auto_columns": null,
       "grid_auto_flow": null,
       "grid_auto_rows": null,
       "grid_column": null,
       "grid_gap": null,
       "grid_row": null,
       "grid_template_areas": null,
       "grid_template_columns": null,
       "grid_template_rows": null,
       "height": null,
       "justify_content": null,
       "justify_items": null,
       "left": null,
       "margin": null,
       "max_height": null,
       "max_width": null,
       "min_height": null,
       "min_width": null,
       "object_fit": null,
       "object_position": null,
       "order": null,
       "overflow": null,
       "overflow_x": null,
       "overflow_y": null,
       "padding": null,
       "right": null,
       "top": null,
       "visibility": null,
       "width": "auto"
      }
     },
     "22cbfa4363d344c789a80e3cb00a1c31": {
      "model_module": "@jupyter-widgets/controls",
      "model_module_version": "1.5.0",
      "model_name": "FloatProgressModel",
      "state": {
       "_dom_classes": [],
       "_model_module": "@jupyter-widgets/controls",
       "_model_module_version": "1.5.0",
       "_model_name": "FloatProgressModel",
       "_view_count": null,
       "_view_module": "@jupyter-widgets/controls",
       "_view_module_version": "1.5.0",
       "_view_name": "ProgressView",
       "bar_style": "",
       "description": "",
       "description_tooltip": null,
       "layout": "IPY_MODEL_a2ca55d9f36d47f8af82e2e9c7a496c7",
       "max": 100.0,
       "min": 0.0,
       "orientation": "horizontal",
       "style": "IPY_MODEL_41546259f0c44f22a3f66b26021bc56d",
       "value": 100.0
      }
     },
     "2a5b830c5c634632ab95429bc92d3266": {
      "model_module": "@jupyter-widgets/controls",
      "model_module_version": "1.5.0",
      "model_name": "ProgressStyleModel",
      "state": {
       "_model_module": "@jupyter-widgets/controls",
       "_model_module_version": "1.5.0",
       "_model_name": "ProgressStyleModel",
       "_view_count": null,
       "_view_module": "@jupyter-widgets/base",
       "_view_module_version": "1.2.0",
       "_view_name": "StyleView",
       "bar_color": "black",
       "description_width": ""
      }
     },
     "38a07b310aa64f22baf8cc487ab8eced": {
      "model_module": "@jupyter-widgets/base",
      "model_module_version": "1.2.0",
      "model_name": "LayoutModel",
      "state": {
       "_model_module": "@jupyter-widgets/base",
       "_model_module_version": "1.2.0",
       "_model_name": "LayoutModel",
       "_view_count": null,
       "_view_module": "@jupyter-widgets/base",
       "_view_module_version": "1.2.0",
       "_view_name": "LayoutView",
       "align_content": null,
       "align_items": null,
       "align_self": null,
       "border": null,
       "bottom": null,
       "display": null,
       "flex": null,
       "flex_flow": null,
       "grid_area": null,
       "grid_auto_columns": null,
       "grid_auto_flow": null,
       "grid_auto_rows": null,
       "grid_column": null,
       "grid_gap": null,
       "grid_row": null,
       "grid_template_areas": null,
       "grid_template_columns": null,
       "grid_template_rows": null,
       "height": null,
       "justify_content": null,
       "justify_items": null,
       "left": null,
       "margin": null,
       "max_height": null,
       "max_width": null,
       "min_height": null,
       "min_width": null,
       "object_fit": null,
       "object_position": null,
       "order": null,
       "overflow": null,
       "overflow_x": null,
       "overflow_y": null,
       "padding": null,
       "right": null,
       "top": null,
       "visibility": null,
       "width": "auto"
      }
     },
     "41546259f0c44f22a3f66b26021bc56d": {
      "model_module": "@jupyter-widgets/controls",
      "model_module_version": "1.5.0",
      "model_name": "ProgressStyleModel",
      "state": {
       "_model_module": "@jupyter-widgets/controls",
       "_model_module_version": "1.5.0",
       "_model_name": "ProgressStyleModel",
       "_view_count": null,
       "_view_module": "@jupyter-widgets/base",
       "_view_module_version": "1.2.0",
       "_view_name": "StyleView",
       "bar_color": "black",
       "description_width": ""
      }
     },
     "4d4d2165cc424b2281e84fc3a21c3e42": {
      "model_module": "@jupyter-widgets/controls",
      "model_module_version": "1.5.0",
      "model_name": "FloatProgressModel",
      "state": {
       "_dom_classes": [],
       "_model_module": "@jupyter-widgets/controls",
       "_model_module_version": "1.5.0",
       "_model_name": "FloatProgressModel",
       "_view_count": null,
       "_view_module": "@jupyter-widgets/controls",
       "_view_module_version": "1.5.0",
       "_view_name": "ProgressView",
       "bar_style": "",
       "description": "",
       "description_tooltip": null,
       "layout": "IPY_MODEL_0ecdf8f2088e4c19aed4b943c71e85bd",
       "max": 100.0,
       "min": 0.0,
       "orientation": "horizontal",
       "style": "IPY_MODEL_fb6a305fdfcb4114981d1c737b0787cc",
       "value": 100.0
      }
     },
     "79a0576f807d4b62b11417a5e1ede4e3": {
      "model_module": "@jupyter-widgets/controls",
      "model_module_version": "1.5.0",
      "model_name": "FloatProgressModel",
      "state": {
       "_dom_classes": [],
       "_model_module": "@jupyter-widgets/controls",
       "_model_module_version": "1.5.0",
       "_model_name": "FloatProgressModel",
       "_view_count": null,
       "_view_module": "@jupyter-widgets/controls",
       "_view_module_version": "1.5.0",
       "_view_name": "ProgressView",
       "bar_style": "",
       "description": "",
       "description_tooltip": null,
       "layout": "IPY_MODEL_1672a2b0f6894b088eb10e3a131aa51f",
       "max": 100.0,
       "min": 0.0,
       "orientation": "horizontal",
       "style": "IPY_MODEL_b53bd5afde05471fa5f43f42c87c6f4d",
       "value": 100.0
      }
     },
     "8d4a714d791f42389feae2f43505daf3": {
      "model_module": "@jupyter-widgets/base",
      "model_module_version": "1.2.0",
      "model_name": "LayoutModel",
      "state": {
       "_model_module": "@jupyter-widgets/base",
       "_model_module_version": "1.2.0",
       "_model_name": "LayoutModel",
       "_view_count": null,
       "_view_module": "@jupyter-widgets/base",
       "_view_module_version": "1.2.0",
       "_view_name": "LayoutView",
       "align_content": null,
       "align_items": null,
       "align_self": null,
       "border": null,
       "bottom": null,
       "display": null,
       "flex": null,
       "flex_flow": null,
       "grid_area": null,
       "grid_auto_columns": null,
       "grid_auto_flow": null,
       "grid_auto_rows": null,
       "grid_column": null,
       "grid_gap": null,
       "grid_row": null,
       "grid_template_areas": null,
       "grid_template_columns": null,
       "grid_template_rows": null,
       "height": null,
       "justify_content": null,
       "justify_items": null,
       "left": null,
       "margin": null,
       "max_height": null,
       "max_width": null,
       "min_height": null,
       "min_width": null,
       "object_fit": null,
       "object_position": null,
       "order": null,
       "overflow": null,
       "overflow_x": null,
       "overflow_y": null,
       "padding": null,
       "right": null,
       "top": null,
       "visibility": null,
       "width": "auto"
      }
     },
     "8e41fe7d9d5c45d2a3b7538d9b4a3c08": {
      "model_module": "@jupyter-widgets/controls",
      "model_module_version": "1.5.0",
      "model_name": "FloatProgressModel",
      "state": {
       "_dom_classes": [],
       "_model_module": "@jupyter-widgets/controls",
       "_model_module_version": "1.5.0",
       "_model_name": "FloatProgressModel",
       "_view_count": null,
       "_view_module": "@jupyter-widgets/controls",
       "_view_module_version": "1.5.0",
       "_view_name": "ProgressView",
       "bar_style": "",
       "description": "",
       "description_tooltip": null,
       "layout": "IPY_MODEL_8d4a714d791f42389feae2f43505daf3",
       "max": 100.0,
       "min": 0.0,
       "orientation": "horizontal",
       "style": "IPY_MODEL_2a5b830c5c634632ab95429bc92d3266",
       "value": 100.0
      }
     },
     "a2ca55d9f36d47f8af82e2e9c7a496c7": {
      "model_module": "@jupyter-widgets/base",
      "model_module_version": "1.2.0",
      "model_name": "LayoutModel",
      "state": {
       "_model_module": "@jupyter-widgets/base",
       "_model_module_version": "1.2.0",
       "_model_name": "LayoutModel",
       "_view_count": null,
       "_view_module": "@jupyter-widgets/base",
       "_view_module_version": "1.2.0",
       "_view_name": "LayoutView",
       "align_content": null,
       "align_items": null,
       "align_self": null,
       "border": null,
       "bottom": null,
       "display": null,
       "flex": null,
       "flex_flow": null,
       "grid_area": null,
       "grid_auto_columns": null,
       "grid_auto_flow": null,
       "grid_auto_rows": null,
       "grid_column": null,
       "grid_gap": null,
       "grid_row": null,
       "grid_template_areas": null,
       "grid_template_columns": null,
       "grid_template_rows": null,
       "height": null,
       "justify_content": null,
       "justify_items": null,
       "left": null,
       "margin": null,
       "max_height": null,
       "max_width": null,
       "min_height": null,
       "min_width": null,
       "object_fit": null,
       "object_position": null,
       "order": null,
       "overflow": null,
       "overflow_x": null,
       "overflow_y": null,
       "padding": null,
       "right": null,
       "top": null,
       "visibility": null,
       "width": "auto"
      }
     },
     "ad3e4144625147be9445d1db0272e303": {
      "model_module": "@jupyter-widgets/controls",
      "model_module_version": "1.5.0",
      "model_name": "ProgressStyleModel",
      "state": {
       "_model_module": "@jupyter-widgets/controls",
       "_model_module_version": "1.5.0",
       "_model_name": "ProgressStyleModel",
       "_view_count": null,
       "_view_module": "@jupyter-widgets/base",
       "_view_module_version": "1.2.0",
       "_view_name": "StyleView",
       "bar_color": "black",
       "description_width": ""
      }
     },
     "b53bd5afde05471fa5f43f42c87c6f4d": {
      "model_module": "@jupyter-widgets/controls",
      "model_module_version": "1.5.0",
      "model_name": "ProgressStyleModel",
      "state": {
       "_model_module": "@jupyter-widgets/controls",
       "_model_module_version": "1.5.0",
       "_model_name": "ProgressStyleModel",
       "_view_count": null,
       "_view_module": "@jupyter-widgets/base",
       "_view_module_version": "1.2.0",
       "_view_name": "StyleView",
       "bar_color": "black",
       "description_width": ""
      }
     },
     "b587dacec0d545eeac2d2b51d8955b39": {
      "model_module": "@jupyter-widgets/controls",
      "model_module_version": "1.5.0",
      "model_name": "FloatProgressModel",
      "state": {
       "_dom_classes": [],
       "_model_module": "@jupyter-widgets/controls",
       "_model_module_version": "1.5.0",
       "_model_name": "FloatProgressModel",
       "_view_count": null,
       "_view_module": "@jupyter-widgets/controls",
       "_view_module_version": "1.5.0",
       "_view_name": "ProgressView",
       "bar_style": "",
       "description": "",
       "description_tooltip": null,
       "layout": "IPY_MODEL_38a07b310aa64f22baf8cc487ab8eced",
       "max": 100.0,
       "min": 0.0,
       "orientation": "horizontal",
       "style": "IPY_MODEL_ef3c19f1dc4348899ffbed7d91cb140f",
       "value": 100.0
      }
     },
     "bae2cde1acd94c5dbbbf48b1978b53db": {
      "model_module": "@jupyter-widgets/controls",
      "model_module_version": "1.5.0",
      "model_name": "FloatProgressModel",
      "state": {
       "_dom_classes": [],
       "_model_module": "@jupyter-widgets/controls",
       "_model_module_version": "1.5.0",
       "_model_name": "FloatProgressModel",
       "_view_count": null,
       "_view_module": "@jupyter-widgets/controls",
       "_view_module_version": "1.5.0",
       "_view_name": "ProgressView",
       "bar_style": "",
       "description": "",
       "description_tooltip": null,
       "layout": "IPY_MODEL_dcf71b9a864843508e3a3a87d4e67e72",
       "max": 100.0,
       "min": 0.0,
       "orientation": "horizontal",
       "style": "IPY_MODEL_ad3e4144625147be9445d1db0272e303",
       "value": 100.0
      }
     },
     "dcf71b9a864843508e3a3a87d4e67e72": {
      "model_module": "@jupyter-widgets/base",
      "model_module_version": "1.2.0",
      "model_name": "LayoutModel",
      "state": {
       "_model_module": "@jupyter-widgets/base",
       "_model_module_version": "1.2.0",
       "_model_name": "LayoutModel",
       "_view_count": null,
       "_view_module": "@jupyter-widgets/base",
       "_view_module_version": "1.2.0",
       "_view_name": "LayoutView",
       "align_content": null,
       "align_items": null,
       "align_self": null,
       "border": null,
       "bottom": null,
       "display": null,
       "flex": null,
       "flex_flow": null,
       "grid_area": null,
       "grid_auto_columns": null,
       "grid_auto_flow": null,
       "grid_auto_rows": null,
       "grid_column": null,
       "grid_gap": null,
       "grid_row": null,
       "grid_template_areas": null,
       "grid_template_columns": null,
       "grid_template_rows": null,
       "height": null,
       "justify_content": null,
       "justify_items": null,
       "left": null,
       "margin": null,
       "max_height": null,
       "max_width": null,
       "min_height": null,
       "min_width": null,
       "object_fit": null,
       "object_position": null,
       "order": null,
       "overflow": null,
       "overflow_x": null,
       "overflow_y": null,
       "padding": null,
       "right": null,
       "top": null,
       "visibility": null,
       "width": "auto"
      }
     },
     "ef3c19f1dc4348899ffbed7d91cb140f": {
      "model_module": "@jupyter-widgets/controls",
      "model_module_version": "1.5.0",
      "model_name": "ProgressStyleModel",
      "state": {
       "_model_module": "@jupyter-widgets/controls",
       "_model_module_version": "1.5.0",
       "_model_name": "ProgressStyleModel",
       "_view_count": null,
       "_view_module": "@jupyter-widgets/base",
       "_view_module_version": "1.2.0",
       "_view_name": "StyleView",
       "bar_color": "black",
       "description_width": ""
      }
     },
     "fb6a305fdfcb4114981d1c737b0787cc": {
      "model_module": "@jupyter-widgets/controls",
      "model_module_version": "1.5.0",
      "model_name": "ProgressStyleModel",
      "state": {
       "_model_module": "@jupyter-widgets/controls",
       "_model_module_version": "1.5.0",
       "_model_name": "ProgressStyleModel",
       "_view_count": null,
       "_view_module": "@jupyter-widgets/base",
       "_view_module_version": "1.2.0",
       "_view_name": "StyleView",
       "bar_color": "black",
       "description_width": ""
      }
     }
    },
    "version_major": 2,
    "version_minor": 0
   }
  }
 },
 "nbformat": 4,
 "nbformat_minor": 5
}
