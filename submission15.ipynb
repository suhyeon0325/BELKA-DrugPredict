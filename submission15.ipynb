{
 "cells": [
  {
   "cell_type": "code",
   "execution_count": 1,
   "id": "53fc4f97",
   "metadata": {
    "execution": {
     "iopub.execute_input": "2024-06-05T17:18:59.724408Z",
     "iopub.status.busy": "2024-06-05T17:18:59.723965Z",
     "iopub.status.idle": "2024-06-05T17:18:59.738254Z",
     "shell.execute_reply": "2024-06-05T17:18:59.737169Z"
    },
    "papermill": {
     "duration": 0.030003,
     "end_time": "2024-06-05T17:18:59.741022",
     "exception": false,
     "start_time": "2024-06-05T17:18:59.711019",
     "status": "completed"
    },
    "tags": []
   },
   "outputs": [],
   "source": [
    "import warnings\n",
    "warnings.filterwarnings('ignore')"
   ]
  },
  {
   "cell_type": "code",
   "execution_count": 2,
   "id": "21eb86ae",
   "metadata": {
    "_cell_guid": "b1076dfc-b9ad-4769-8c92-a6c4dae69d19",
    "_uuid": "8f2839f25d086af736a60e9eeb907d3b93b6e0e5",
    "execution": {
     "iopub.execute_input": "2024-06-05T17:18:59.765263Z",
     "iopub.status.busy": "2024-06-05T17:18:59.764804Z",
     "iopub.status.idle": "2024-06-05T17:19:35.644435Z",
     "shell.execute_reply": "2024-06-05T17:19:35.642957Z"
    },
    "papermill": {
     "duration": 35.895237,
     "end_time": "2024-06-05T17:19:35.647424",
     "exception": false,
     "start_time": "2024-06-05T17:18:59.752187",
     "status": "completed"
    },
    "tags": []
   },
   "outputs": [
    {
     "name": "stdout",
     "output_type": "stream",
     "text": [
      "Collecting rdkit\r\n",
      "  Downloading rdkit-2023.9.6-cp310-cp310-manylinux_2_17_x86_64.manylinux2014_x86_64.whl.metadata (3.9 kB)\r\n",
      "Requirement already satisfied: numpy in /opt/conda/lib/python3.10/site-packages (from rdkit) (1.26.4)\r\n",
      "Requirement already satisfied: Pillow in /opt/conda/lib/python3.10/site-packages (from rdkit) (9.5.0)\r\n",
      "Downloading rdkit-2023.9.6-cp310-cp310-manylinux_2_17_x86_64.manylinux2014_x86_64.whl (34.9 MB)\r\n",
      "\u001b[2K   \u001b[90m━━━━━━━━━━━━━━━━━━━━━━━━━━━━━━━━━━━━━━━━\u001b[0m \u001b[32m34.9/34.9 MB\u001b[0m \u001b[31m37.7 MB/s\u001b[0m eta \u001b[36m0:00:00\u001b[0m\r\n",
      "\u001b[?25hInstalling collected packages: rdkit\r\n",
      "Successfully installed rdkit-2023.9.6\r\n",
      "Collecting duckdb\r\n",
      "  Downloading duckdb-1.0.0-cp310-cp310-manylinux_2_17_x86_64.manylinux2014_x86_64.whl.metadata (762 bytes)\r\n",
      "Downloading duckdb-1.0.0-cp310-cp310-manylinux_2_17_x86_64.manylinux2014_x86_64.whl (18.5 MB)\r\n",
      "\u001b[2K   \u001b[90m━━━━━━━━━━━━━━━━━━━━━━━━━━━━━━━━━━━━━━━━\u001b[0m \u001b[32m18.5/18.5 MB\u001b[0m \u001b[31m63.4 MB/s\u001b[0m eta \u001b[36m0:00:00\u001b[0m\r\n",
      "\u001b[?25hInstalling collected packages: duckdb\r\n",
      "Successfully installed duckdb-1.0.0\r\n"
     ]
    }
   ],
   "source": [
    "!pip install rdkit\n",
    "!pip install duckdb"
   ]
  },
  {
   "cell_type": "code",
   "execution_count": 3,
   "id": "576c20f3",
   "metadata": {
    "execution": {
     "iopub.execute_input": "2024-06-05T17:19:35.676161Z",
     "iopub.status.busy": "2024-06-05T17:19:35.675688Z",
     "iopub.status.idle": "2024-06-05T17:19:40.598166Z",
     "shell.execute_reply": "2024-06-05T17:19:40.597065Z"
    },
    "papermill": {
     "duration": 4.940508,
     "end_time": "2024-06-05T17:19:40.601272",
     "exception": false,
     "start_time": "2024-06-05T17:19:35.660764",
     "status": "completed"
    },
    "tags": []
   },
   "outputs": [],
   "source": [
    "import pandas as pd\n",
    "from rdkit import Chem\n",
    "from rdkit.Chem import AllChem, Descriptors, MACCSkeys, rdMolDescriptors\n",
    "from sklearn.model_selection import train_test_split\n",
    "from sklearn.preprocessing import OneHotEncoder, StandardScaler\n",
    "from sklearn.svm import SVC\n",
    "from sklearn.neighbors import KNeighborsClassifier\n",
    "from sklearn.metrics import average_precision_score\n",
    "import numpy as np\n",
    "import lightgbm as lgb\n",
    "import os\n",
    "import xgboost as xgb\n",
    "import optuna\n",
    "import duckdb\n",
    "from sklearn.metrics import roc_auc_score"
   ]
  },
  {
   "cell_type": "code",
   "execution_count": 4,
   "id": "9a9ef277",
   "metadata": {
    "execution": {
     "iopub.execute_input": "2024-06-05T17:19:40.631193Z",
     "iopub.status.busy": "2024-06-05T17:19:40.630039Z",
     "iopub.status.idle": "2024-06-05T17:19:40.635541Z",
     "shell.execute_reply": "2024-06-05T17:19:40.634402Z"
    },
    "papermill": {
     "duration": 0.023474,
     "end_time": "2024-06-05T17:19:40.638178",
     "exception": false,
     "start_time": "2024-06-05T17:19:40.614704",
     "status": "completed"
    },
    "tags": []
   },
   "outputs": [],
   "source": [
    "train_path = '/kaggle/input/leash-BELKA/train.parquet'\n",
    "test_path = '/kaggle/input/leash-BELKA/test.parquet'"
   ]
  },
  {
   "cell_type": "code",
   "execution_count": 5,
   "id": "0d695c5f",
   "metadata": {
    "execution": {
     "iopub.execute_input": "2024-06-05T17:19:40.666660Z",
     "iopub.status.busy": "2024-06-05T17:19:40.666218Z",
     "iopub.status.idle": "2024-06-05T17:21:38.958819Z",
     "shell.execute_reply": "2024-06-05T17:21:38.957592Z"
    },
    "papermill": {
     "duration": 118.310205,
     "end_time": "2024-06-05T17:21:38.961607",
     "exception": false,
     "start_time": "2024-06-05T17:19:40.651402",
     "status": "completed"
    },
    "tags": []
   },
   "outputs": [
    {
     "data": {
      "application/vnd.jupyter.widget-view+json": {
       "model_id": "97b02a7d65e34414be41fd0cfc20fafe",
       "version_major": 2,
       "version_minor": 0
      },
      "text/plain": [
       "FloatProgress(value=0.0, layout=Layout(width='auto'), style=ProgressStyle(bar_color='black'))"
      ]
     },
     "metadata": {},
     "output_type": "display_data"
    },
    {
     "data": {
      "application/vnd.jupyter.widget-view+json": {
       "model_id": "14e3ae69abf345768e002f7993d3c0f3",
       "version_major": 2,
       "version_minor": 0
      },
      "text/plain": [
       "FloatProgress(value=0.0, layout=Layout(width='auto'), style=ProgressStyle(bar_color='black'))"
      ]
     },
     "metadata": {},
     "output_type": "display_data"
    },
    {
     "data": {
      "application/vnd.jupyter.widget-view+json": {
       "model_id": "e3b3046d1b1946dfb6f7b1d2a8b03236",
       "version_major": 2,
       "version_minor": 0
      },
      "text/plain": [
       "FloatProgress(value=0.0, layout=Layout(width='auto'), style=ProgressStyle(bar_color='black'))"
      ]
     },
     "metadata": {},
     "output_type": "display_data"
    },
    {
     "data": {
      "application/vnd.jupyter.widget-view+json": {
       "model_id": "1dcd44f847ac4772b3f138f6cb12dcca",
       "version_major": 2,
       "version_minor": 0
      },
      "text/plain": [
       "FloatProgress(value=0.0, layout=Layout(width='auto'), style=ProgressStyle(bar_color='black'))"
      ]
     },
     "metadata": {},
     "output_type": "display_data"
    },
    {
     "data": {
      "application/vnd.jupyter.widget-view+json": {
       "model_id": "c9827e3a2d574e8da6441ac4120277ad",
       "version_major": 2,
       "version_minor": 0
      },
      "text/plain": [
       "FloatProgress(value=0.0, layout=Layout(width='auto'), style=ProgressStyle(bar_color='black'))"
      ]
     },
     "metadata": {},
     "output_type": "display_data"
    },
    {
     "data": {
      "application/vnd.jupyter.widget-view+json": {
       "model_id": "86e61851e6fa4b6280683aea7284216a",
       "version_major": 2,
       "version_minor": 0
      },
      "text/plain": [
       "FloatProgress(value=0.0, layout=Layout(width='auto'), style=ProgressStyle(bar_color='black'))"
      ]
     },
     "metadata": {},
     "output_type": "display_data"
    }
   ],
   "source": [
    "con = duckdb.connect()\n",
    "\n",
    "# 각 단백질에 대해 binds=0,1 데이터를 각각 12000개씩 불러오기\n",
    "df_brd4_0 = con.query(f\"\"\"\n",
    "    SELECT * \n",
    "    FROM parquet_scan('{train_path}') \n",
    "    WHERE binds = 0 AND protein_name = 'BRD4'\n",
    "    ORDER BY random()\n",
    "    LIMIT 10000\n",
    "\"\"\").df()\n",
    "\n",
    "df_brd4_1 = con.query(f\"\"\"\n",
    "    SELECT * \n",
    "    FROM parquet_scan('{train_path}') \n",
    "    WHERE binds = 1 AND protein_name = 'BRD4'\n",
    "    ORDER BY random()\n",
    "    LIMIT 10000\n",
    "\"\"\").df()\n",
    "\n",
    "df_hsa_0 = con.query(f\"\"\"\n",
    "    SELECT * \n",
    "    FROM parquet_scan('{train_path}') \n",
    "    WHERE binds = 0 AND protein_name = 'HSA'\n",
    "    ORDER BY random()\n",
    "    LIMIT 10000\n",
    "\"\"\").df()\n",
    "\n",
    "df_hsa_1 = con.query(f\"\"\"\n",
    "    SELECT * \n",
    "    FROM parquet_scan('{train_path}') \n",
    "    WHERE binds = 1 AND protein_name = 'HSA'\n",
    "    ORDER BY random()\n",
    "    LIMIT 10000\n",
    "\"\"\").df()\n",
    "\n",
    "df_seh_0 = con.query(f\"\"\"\n",
    "    SELECT * \n",
    "    FROM parquet_scan('{train_path}') \n",
    "    WHERE binds = 0 AND protein_name = 'sEH'\n",
    "    ORDER BY random()\n",
    "    LIMIT 10000\n",
    "\"\"\").df()\n",
    "\n",
    "df_seh_1 = con.query(f\"\"\"\n",
    "    SELECT * \n",
    "    FROM parquet_scan('{train_path}') \n",
    "    WHERE binds = 1 AND protein_name = 'sEH'\n",
    "    ORDER BY random()\n",
    "    LIMIT 10000\n",
    "\"\"\").df()\n",
    "\n",
    "# 데이터프레임 결합\n",
    "df = pd.concat([df_brd4_0, df_brd4_1, df_hsa_0, df_hsa_1, df_seh_0, df_seh_1], axis=0).reset_index(drop=True)\n",
    "con.close()"
   ]
  },
  {
   "cell_type": "code",
   "execution_count": 6,
   "id": "3cd1c587",
   "metadata": {
    "execution": {
     "iopub.execute_input": "2024-06-05T17:21:38.992570Z",
     "iopub.status.busy": "2024-06-05T17:21:38.992111Z",
     "iopub.status.idle": "2024-06-05T17:21:39.008238Z",
     "shell.execute_reply": "2024-06-05T17:21:39.006925Z"
    },
    "papermill": {
     "duration": 0.03524,
     "end_time": "2024-06-05T17:21:39.011287",
     "exception": false,
     "start_time": "2024-06-05T17:21:38.976047",
     "status": "completed"
    },
    "tags": []
   },
   "outputs": [],
   "source": [
    "# ECFP 생성 함수\n",
    "def generate_ecfp(molecule, radius=2, bits=2048):\n",
    "    if molecule is None:\n",
    "        return None\n",
    "    return list(AllChem.GetMorganFingerprintAsBitVect(molecule, radius, nBits=bits))\n",
    "\n",
    "# MACCS keys 생성 함수\n",
    "def generate_maccs_keys(molecule):\n",
    "    if molecule is None:\n",
    "        return None\n",
    "    return list(MACCSkeys.GenMACCSKeys(molecule))\n",
    "\n",
    "# Atom pairs fingerprints 생성 함수\n",
    "def generate_atom_pairs(molecule):\n",
    "    if molecule is None:\n",
    "        return None\n",
    "    fp = rdMolDescriptors.GetHashedAtomPairFingerprintAsBitVect(molecule, nBits=2048)\n",
    "    return list(fp)\n",
    "\n",
    "# Topological fingerprints 생성 함수\n",
    "def generate_topological_torsion(molecule):\n",
    "    if molecule is None:\n",
    "        return None\n",
    "    fp = rdMolDescriptors.GetHashedTopologicalTorsionFingerprintAsBitVect(molecule, nBits=2048)\n",
    "    return list(fp)\n",
    "\n",
    "# PubChem fingerprints 생성 함수\n",
    "def generate_pubchem_fingerprints(molecule):\n",
    "    if molecule is None:\n",
    "        return None\n",
    "    return list(AllChem.GetMorganFingerprintAsBitVect(molecule, radius=2, nBits=881))  # PubChem-like fingerprints\n",
    "\n",
    "# 분자의 물리화학적 특성을 추출하는 함수\n",
    "def generate_physchem_features(molecule):\n",
    "    if molecule is None:\n",
    "        return [np.nan] * 8\n",
    "    return [\n",
    "        Descriptors.MolWt(molecule),                   # 분자량\n",
    "        Descriptors.MolLogP(molecule),                 # 로그 P\n",
    "        Descriptors.NumHDonors(molecule),              # 수소 결합 공여자 수\n",
    "        Descriptors.NumHAcceptors(molecule),           # 수소 결합 수용체 수\n",
    "        Descriptors.TPSA(molecule),                    # TPSA (극성 표면적)\n",
    "        Descriptors.NumRotatableBonds(molecule),       # 회전 가능한 결합 수\n",
    "        Descriptors.FpDensityMorgan1(molecule),        # 분자 복잡도 지표 예시\n",
    "        Descriptors.FpDensityMorgan2(molecule)         # 분자 복잡도 지표 예시\n",
    "    ]"
   ]
  },
  {
   "cell_type": "code",
   "execution_count": 7,
   "id": "c8b4e26d",
   "metadata": {
    "execution": {
     "iopub.execute_input": "2024-06-05T17:21:39.042791Z",
     "iopub.status.busy": "2024-06-05T17:21:39.042347Z",
     "iopub.status.idle": "2024-06-05T17:33:51.342010Z",
     "shell.execute_reply": "2024-06-05T17:33:51.340499Z"
    },
    "papermill": {
     "duration": 732.318703,
     "end_time": "2024-06-05T17:33:51.345097",
     "exception": false,
     "start_time": "2024-06-05T17:21:39.026394",
     "status": "completed"
    },
    "tags": []
   },
   "outputs": [],
   "source": [
    "# DataFrame에 새로운 특징 추가\n",
    "df['molecule'] = df['molecule_smiles'].apply(Chem.MolFromSmiles)\n",
    "df['physchem'] = df['molecule'].apply(generate_physchem_features)\n",
    "df['ecfp'] = df['molecule'].apply(generate_ecfp)\n",
    "df['maccs'] = df['molecule'].apply(generate_maccs_keys)\n",
    "df['atom_pairs'] = df['molecule'].apply(generate_atom_pairs)\n",
    "df['topological'] = df['molecule'].apply(generate_topological_torsion)\n",
    "df['pubchem'] = df['molecule'].apply(generate_pubchem_fingerprints)"
   ]
  },
  {
   "cell_type": "code",
   "execution_count": 8,
   "id": "6aa5260e",
   "metadata": {
    "execution": {
     "iopub.execute_input": "2024-06-05T17:33:51.376460Z",
     "iopub.status.busy": "2024-06-05T17:33:51.375966Z",
     "iopub.status.idle": "2024-06-05T17:33:51.498134Z",
     "shell.execute_reply": "2024-06-05T17:33:51.496845Z"
    },
    "papermill": {
     "duration": 0.140982,
     "end_time": "2024-06-05T17:33:51.501064",
     "exception": false,
     "start_time": "2024-06-05T17:33:51.360082",
     "status": "completed"
    },
    "tags": []
   },
   "outputs": [],
   "source": [
    "# 물리화학적 특성을 정규화\n",
    "physchem_features = np.array(df['physchem'].tolist())\n",
    "scaler = StandardScaler()\n",
    "physchem_features_scaled = scaler.fit_transform(physchem_features)"
   ]
  },
  {
   "cell_type": "code",
   "execution_count": 9,
   "id": "c31678ca",
   "metadata": {
    "execution": {
     "iopub.execute_input": "2024-06-05T17:33:51.532002Z",
     "iopub.status.busy": "2024-06-05T17:33:51.531582Z",
     "iopub.status.idle": "2024-06-05T17:34:09.432242Z",
     "shell.execute_reply": "2024-06-05T17:34:09.430981Z"
    },
    "papermill": {
     "duration": 17.91943,
     "end_time": "2024-06-05T17:34:09.435109",
     "exception": false,
     "start_time": "2024-06-05T17:33:51.515679",
     "status": "completed"
    },
    "tags": []
   },
   "outputs": [],
   "source": [
    "# 모든 특징 결합\n",
    "df['features'] = [ecfp + maccs + atom_pairs + topological + pubchem + physchem_scaled.tolist() \n",
    "                  for ecfp, maccs, atom_pairs, topological, pubchem, physchem_scaled \n",
    "                  in zip(df['ecfp'], df['maccs'], df['atom_pairs'], df['topological'], df['pubchem'], physchem_features_scaled)]"
   ]
  },
  {
   "cell_type": "code",
   "execution_count": 10,
   "id": "08d2df59",
   "metadata": {
    "execution": {
     "iopub.execute_input": "2024-06-05T17:34:09.465697Z",
     "iopub.status.busy": "2024-06-05T17:34:09.465289Z",
     "iopub.status.idle": "2024-06-05T17:34:09.504796Z",
     "shell.execute_reply": "2024-06-05T17:34:09.503707Z"
    },
    "papermill": {
     "duration": 0.058085,
     "end_time": "2024-06-05T17:34:09.507799",
     "exception": false,
     "start_time": "2024-06-05T17:34:09.449714",
     "status": "completed"
    },
    "tags": []
   },
   "outputs": [],
   "source": [
    "# 단백질 이름을 원-핫 인코딩\n",
    "onehot_encoder = OneHotEncoder(sparse_output=False)\n",
    "protein_onehot = onehot_encoder.fit_transform(df['protein_name'].values.reshape(-1, 1))"
   ]
  },
  {
   "cell_type": "code",
   "execution_count": 11,
   "id": "4f2d32a8",
   "metadata": {
    "execution": {
     "iopub.execute_input": "2024-06-05T17:34:09.538711Z",
     "iopub.status.busy": "2024-06-05T17:34:09.538240Z",
     "iopub.status.idle": "2024-06-05T17:35:30.440983Z",
     "shell.execute_reply": "2024-06-05T17:35:30.439820Z"
    },
    "papermill": {
     "duration": 80.921797,
     "end_time": "2024-06-05T17:35:30.444118",
     "exception": false,
     "start_time": "2024-06-05T17:34:09.522321",
     "status": "completed"
    },
    "tags": []
   },
   "outputs": [],
   "source": [
    "# 최종 입력 데이터 생성\n",
    "X = np.array([features + list(protein) for features, protein in zip(df['features'].tolist(), protein_onehot.tolist())])\n",
    "y = np.array(df['binds'].tolist())"
   ]
  },
  {
   "cell_type": "code",
   "execution_count": 12,
   "id": "cab922c3",
   "metadata": {
    "execution": {
     "iopub.execute_input": "2024-06-05T17:35:30.475692Z",
     "iopub.status.busy": "2024-06-05T17:35:30.475244Z",
     "iopub.status.idle": "2024-06-05T17:35:31.693294Z",
     "shell.execute_reply": "2024-06-05T17:35:31.692003Z"
    },
    "papermill": {
     "duration": 1.237385,
     "end_time": "2024-06-05T17:35:31.696164",
     "exception": false,
     "start_time": "2024-06-05T17:35:30.458779",
     "status": "completed"
    },
    "tags": []
   },
   "outputs": [],
   "source": [
    "# 데이터 분할\n",
    "X_train, X_test, y_train, y_test = train_test_split(X, y, test_size=0.2, random_state=42)\n",
    "\n",
    "params_xgb={'n_estimators': 492, 'max_depth': 12, 'learning_rate': 0.06526681602705492, 'subsample': 0.8558301475773353, 'colsample_bytree': 0.7260882797862166}"
   ]
  },
  {
   "cell_type": "code",
   "execution_count": 13,
   "id": "657242d6",
   "metadata": {
    "execution": {
     "iopub.execute_input": "2024-06-05T17:35:31.727011Z",
     "iopub.status.busy": "2024-06-05T17:35:31.726627Z",
     "iopub.status.idle": "2024-06-05T17:43:32.045227Z",
     "shell.execute_reply": "2024-06-05T17:43:32.042724Z"
    },
    "papermill": {
     "duration": 480.358557,
     "end_time": "2024-06-05T17:43:32.069204",
     "exception": false,
     "start_time": "2024-06-05T17:35:31.710647",
     "status": "completed"
    },
    "tags": []
   },
   "outputs": [
    {
     "data": {
      "text/html": [
       "<style>#sk-container-id-1 {color: black;background-color: white;}#sk-container-id-1 pre{padding: 0;}#sk-container-id-1 div.sk-toggleable {background-color: white;}#sk-container-id-1 label.sk-toggleable__label {cursor: pointer;display: block;width: 100%;margin-bottom: 0;padding: 0.3em;box-sizing: border-box;text-align: center;}#sk-container-id-1 label.sk-toggleable__label-arrow:before {content: \"▸\";float: left;margin-right: 0.25em;color: #696969;}#sk-container-id-1 label.sk-toggleable__label-arrow:hover:before {color: black;}#sk-container-id-1 div.sk-estimator:hover label.sk-toggleable__label-arrow:before {color: black;}#sk-container-id-1 div.sk-toggleable__content {max-height: 0;max-width: 0;overflow: hidden;text-align: left;background-color: #f0f8ff;}#sk-container-id-1 div.sk-toggleable__content pre {margin: 0.2em;color: black;border-radius: 0.25em;background-color: #f0f8ff;}#sk-container-id-1 input.sk-toggleable__control:checked~div.sk-toggleable__content {max-height: 200px;max-width: 100%;overflow: auto;}#sk-container-id-1 input.sk-toggleable__control:checked~label.sk-toggleable__label-arrow:before {content: \"▾\";}#sk-container-id-1 div.sk-estimator input.sk-toggleable__control:checked~label.sk-toggleable__label {background-color: #d4ebff;}#sk-container-id-1 div.sk-label input.sk-toggleable__control:checked~label.sk-toggleable__label {background-color: #d4ebff;}#sk-container-id-1 input.sk-hidden--visually {border: 0;clip: rect(1px 1px 1px 1px);clip: rect(1px, 1px, 1px, 1px);height: 1px;margin: -1px;overflow: hidden;padding: 0;position: absolute;width: 1px;}#sk-container-id-1 div.sk-estimator {font-family: monospace;background-color: #f0f8ff;border: 1px dotted black;border-radius: 0.25em;box-sizing: border-box;margin-bottom: 0.5em;}#sk-container-id-1 div.sk-estimator:hover {background-color: #d4ebff;}#sk-container-id-1 div.sk-parallel-item::after {content: \"\";width: 100%;border-bottom: 1px solid gray;flex-grow: 1;}#sk-container-id-1 div.sk-label:hover label.sk-toggleable__label {background-color: #d4ebff;}#sk-container-id-1 div.sk-serial::before {content: \"\";position: absolute;border-left: 1px solid gray;box-sizing: border-box;top: 0;bottom: 0;left: 50%;z-index: 0;}#sk-container-id-1 div.sk-serial {display: flex;flex-direction: column;align-items: center;background-color: white;padding-right: 0.2em;padding-left: 0.2em;position: relative;}#sk-container-id-1 div.sk-item {position: relative;z-index: 1;}#sk-container-id-1 div.sk-parallel {display: flex;align-items: stretch;justify-content: center;background-color: white;position: relative;}#sk-container-id-1 div.sk-item::before, #sk-container-id-1 div.sk-parallel-item::before {content: \"\";position: absolute;border-left: 1px solid gray;box-sizing: border-box;top: 0;bottom: 0;left: 50%;z-index: -1;}#sk-container-id-1 div.sk-parallel-item {display: flex;flex-direction: column;z-index: 1;position: relative;background-color: white;}#sk-container-id-1 div.sk-parallel-item:first-child::after {align-self: flex-end;width: 50%;}#sk-container-id-1 div.sk-parallel-item:last-child::after {align-self: flex-start;width: 50%;}#sk-container-id-1 div.sk-parallel-item:only-child::after {width: 0;}#sk-container-id-1 div.sk-dashed-wrapped {border: 1px dashed gray;margin: 0 0.4em 0.5em 0.4em;box-sizing: border-box;padding-bottom: 0.4em;background-color: white;}#sk-container-id-1 div.sk-label label {font-family: monospace;font-weight: bold;display: inline-block;line-height: 1.2em;}#sk-container-id-1 div.sk-label-container {text-align: center;}#sk-container-id-1 div.sk-container {/* jupyter's `normalize.less` sets `[hidden] { display: none; }` but bootstrap.min.css set `[hidden] { display: none !important; }` so we also need the `!important` here to be able to override the default hidden behavior on the sphinx rendered scikit-learn.org. See: https://github.com/scikit-learn/scikit-learn/issues/21755 */display: inline-block !important;position: relative;}#sk-container-id-1 div.sk-text-repr-fallback {display: none;}</style><div id=\"sk-container-id-1\" class=\"sk-top-container\"><div class=\"sk-text-repr-fallback\"><pre>XGBClassifier(base_score=None, booster=None, callbacks=None,\n",
       "              colsample_bylevel=None, colsample_bynode=None,\n",
       "              colsample_bytree=0.7260882797862166, device=None,\n",
       "              early_stopping_rounds=None, enable_categorical=False,\n",
       "              eval_metric=None, feature_types=None, gamma=None,\n",
       "              grow_policy=None, importance_type=None,\n",
       "              interaction_constraints=None, learning_rate=0.06526681602705492,\n",
       "              max_bin=None, max_cat_threshold=None, max_cat_to_onehot=None,\n",
       "              max_delta_step=None, max_depth=12, max_leaves=None,\n",
       "              min_child_weight=None, missing=nan, monotone_constraints=None,\n",
       "              multi_strategy=None, n_estimators=492, n_jobs=None,\n",
       "              num_parallel_tree=None, random_state=None, ...)</pre><b>In a Jupyter environment, please rerun this cell to show the HTML representation or trust the notebook. <br />On GitHub, the HTML representation is unable to render, please try loading this page with nbviewer.org.</b></div><div class=\"sk-container\" hidden><div class=\"sk-item\"><div class=\"sk-estimator sk-toggleable\"><input class=\"sk-toggleable__control sk-hidden--visually\" id=\"sk-estimator-id-1\" type=\"checkbox\" checked><label for=\"sk-estimator-id-1\" class=\"sk-toggleable__label sk-toggleable__label-arrow\">XGBClassifier</label><div class=\"sk-toggleable__content\"><pre>XGBClassifier(base_score=None, booster=None, callbacks=None,\n",
       "              colsample_bylevel=None, colsample_bynode=None,\n",
       "              colsample_bytree=0.7260882797862166, device=None,\n",
       "              early_stopping_rounds=None, enable_categorical=False,\n",
       "              eval_metric=None, feature_types=None, gamma=None,\n",
       "              grow_policy=None, importance_type=None,\n",
       "              interaction_constraints=None, learning_rate=0.06526681602705492,\n",
       "              max_bin=None, max_cat_threshold=None, max_cat_to_onehot=None,\n",
       "              max_delta_step=None, max_depth=12, max_leaves=None,\n",
       "              min_child_weight=None, missing=nan, monotone_constraints=None,\n",
       "              multi_strategy=None, n_estimators=492, n_jobs=None,\n",
       "              num_parallel_tree=None, random_state=None, ...)</pre></div></div></div></div></div>"
      ],
      "text/plain": [
       "XGBClassifier(base_score=None, booster=None, callbacks=None,\n",
       "              colsample_bylevel=None, colsample_bynode=None,\n",
       "              colsample_bytree=0.7260882797862166, device=None,\n",
       "              early_stopping_rounds=None, enable_categorical=False,\n",
       "              eval_metric=None, feature_types=None, gamma=None,\n",
       "              grow_policy=None, importance_type=None,\n",
       "              interaction_constraints=None, learning_rate=0.06526681602705492,\n",
       "              max_bin=None, max_cat_threshold=None, max_cat_to_onehot=None,\n",
       "              max_delta_step=None, max_depth=12, max_leaves=None,\n",
       "              min_child_weight=None, missing=nan, monotone_constraints=None,\n",
       "              multi_strategy=None, n_estimators=492, n_jobs=None,\n",
       "              num_parallel_tree=None, random_state=None, ...)"
      ]
     },
     "execution_count": 13,
     "metadata": {},
     "output_type": "execute_result"
    }
   ],
   "source": [
    "# 최적의 파라미터로 모델 학습\n",
    "best_model = xgb.XGBClassifier(**params_xgb, use_label_encoder=False)\n",
    "best_model.fit(X_train, y_train)"
   ]
  },
  {
   "cell_type": "code",
   "execution_count": 14,
   "id": "d7f0a612",
   "metadata": {
    "execution": {
     "iopub.execute_input": "2024-06-05T17:43:32.103048Z",
     "iopub.status.busy": "2024-06-05T17:43:32.102475Z",
     "iopub.status.idle": "2024-06-05T17:43:32.908530Z",
     "shell.execute_reply": "2024-06-05T17:43:32.907340Z"
    },
    "papermill": {
     "duration": 0.827409,
     "end_time": "2024-06-05T17:43:32.911417",
     "exception": false,
     "start_time": "2024-06-05T17:43:32.084008",
     "status": "completed"
    },
    "tags": []
   },
   "outputs": [
    {
     "name": "stdout",
     "output_type": "stream",
     "text": [
      "Test AUC Score: 0.9692\n"
     ]
    }
   ],
   "source": [
    "# 테스트 데이터 예측 및 평가\n",
    "y_pred = best_model.predict_proba(X_test)[:, 1]\n",
    "auc_score = roc_auc_score(y_test, y_pred)\n",
    "print(f'Test AUC Score: {auc_score:.4f}')"
   ]
  },
  {
   "cell_type": "code",
   "execution_count": 15,
   "id": "d9fb72a1",
   "metadata": {
    "execution": {
     "iopub.execute_input": "2024-06-05T17:43:32.944364Z",
     "iopub.status.busy": "2024-06-05T17:43:32.943905Z",
     "iopub.status.idle": "2024-06-05T17:43:32.950967Z",
     "shell.execute_reply": "2024-06-05T17:43:32.949233Z"
    },
    "papermill": {
     "duration": 0.026612,
     "end_time": "2024-06-05T17:43:32.953884",
     "exception": false,
     "start_time": "2024-06-05T17:43:32.927272",
     "status": "completed"
    },
    "tags": []
   },
   "outputs": [],
   "source": [
    "# 테스트 데이터 예측 및 저장\n",
    "test_file = '/kaggle/input/leash-BELKA/test.csv'  \n",
    "output_file = '/kaggle/working/submission15.csv'  # 출력 파일 경로"
   ]
  },
  {
   "cell_type": "code",
   "execution_count": 16,
   "id": "1f4142e6",
   "metadata": {
    "execution": {
     "iopub.execute_input": "2024-06-05T17:43:32.986641Z",
     "iopub.status.busy": "2024-06-05T17:43:32.986044Z",
     "iopub.status.idle": "2024-06-06T00:08:56.566318Z",
     "shell.execute_reply": "2024-06-06T00:08:56.564117Z"
    },
    "papermill": {
     "duration": 23123.610138,
     "end_time": "2024-06-06T00:08:56.579204",
     "exception": false,
     "start_time": "2024-06-05T17:43:32.969066",
     "status": "completed"
    },
    "tags": []
   },
   "outputs": [],
   "source": [
    "for df_test in pd.read_csv(test_file, chunksize=20000):\n",
    "    df_test['molecule'] = df_test['molecule_smiles'].apply(Chem.MolFromSmiles)\n",
    "    df_test['ecfp'] = df_test['molecule'].apply(generate_ecfp)\n",
    "    df_test['maccs'] = df_test['molecule'].apply(generate_maccs_keys)\n",
    "    df_test['atom_pairs'] = df_test['molecule'].apply(generate_atom_pairs)\n",
    "    df_test['topological'] = df_test['molecule'].apply(generate_topological_torsion)\n",
    "    df_test['pubchem'] = df_test['molecule'].apply(generate_pubchem_fingerprints)\n",
    "    df_test['physchem'] = df_test['molecule'].apply(generate_physchem_features)\n",
    "    \n",
    "    # 테스트 데이터의 물리화학적 특성 정규화\n",
    "    physchem_features_test = np.array(df_test['physchem'].tolist())\n",
    "    physchem_features_test_scaled = scaler.transform(physchem_features_test)\n",
    "    \n",
    "    df_test['features'] = [ecfp + maccs + atom_pairs + topological + pubchem + physchem_scaled.tolist() \n",
    "                           for ecfp, maccs, atom_pairs, topological, pubchem, physchem_scaled \n",
    "                           in zip(df_test['ecfp'], df_test['maccs'], df_test['atom_pairs'], df_test['topological'], df_test['pubchem'], physchem_features_test_scaled)]\n",
    "    \n",
    "    protein_onehot = onehot_encoder.transform(df_test['protein_name'].values.reshape(-1, 1))\n",
    "    X_test = np.array([features + list(protein) for features, protein in zip(df_test['features'].tolist(), protein_onehot.tolist())])\n",
    "    \n",
    "    probabilities = best_model.predict_proba(X_test)[:, 1]\n",
    "    output_df = pd.DataFrame({'id': df_test['id'], 'binds': probabilities})\n",
    "    output_df.to_csv(output_file, index=False, mode='a', header=not os.path.exists(output_file))"
   ]
  },
  {
   "cell_type": "code",
   "execution_count": null,
   "id": "ed0a593a",
   "metadata": {
    "papermill": {
     "duration": 0.016041,
     "end_time": "2024-06-06T00:08:56.626864",
     "exception": false,
     "start_time": "2024-06-06T00:08:56.610823",
     "status": "completed"
    },
    "tags": []
   },
   "outputs": [],
   "source": []
  },
  {
   "cell_type": "code",
   "execution_count": null,
   "id": "b93d52aa",
   "metadata": {
    "papermill": {
     "duration": 0.014926,
     "end_time": "2024-06-06T00:08:56.657384",
     "exception": false,
     "start_time": "2024-06-06T00:08:56.642458",
     "status": "completed"
    },
    "tags": []
   },
   "outputs": [],
   "source": []
  }
 ],
 "metadata": {
  "kaggle": {
   "accelerator": "none",
   "dataSources": [
    {
     "databundleVersionId": 8006601,
     "sourceId": 67356,
     "sourceType": "competition"
    }
   ],
   "isGpuEnabled": false,
   "isInternetEnabled": true,
   "language": "python",
   "sourceType": "notebook"
  },
  "kernelspec": {
   "display_name": "Python 3",
   "language": "python",
   "name": "python3"
  },
  "language_info": {
   "codemirror_mode": {
    "name": "ipython",
    "version": 3
   },
   "file_extension": ".py",
   "mimetype": "text/x-python",
   "name": "python",
   "nbconvert_exporter": "python",
   "pygments_lexer": "ipython3",
   "version": "3.10.13"
  },
  "papermill": {
   "default_parameters": {},
   "duration": 24604.750358,
   "end_time": "2024-06-06T00:09:01.118551",
   "environment_variables": {},
   "exception": null,
   "input_path": "__notebook__.ipynb",
   "output_path": "__notebook__.ipynb",
   "parameters": {},
   "start_time": "2024-06-05T17:18:56.368193",
   "version": "2.5.0"
  },
  "widgets": {
   "application/vnd.jupyter.widget-state+json": {
    "state": {
     "0aeac856966845a79da1cf98b8690a8b": {
      "model_module": "@jupyter-widgets/base",
      "model_module_version": "1.2.0",
      "model_name": "LayoutModel",
      "state": {
       "_model_module": "@jupyter-widgets/base",
       "_model_module_version": "1.2.0",
       "_model_name": "LayoutModel",
       "_view_count": null,
       "_view_module": "@jupyter-widgets/base",
       "_view_module_version": "1.2.0",
       "_view_name": "LayoutView",
       "align_content": null,
       "align_items": null,
       "align_self": null,
       "border": null,
       "bottom": null,
       "display": null,
       "flex": null,
       "flex_flow": null,
       "grid_area": null,
       "grid_auto_columns": null,
       "grid_auto_flow": null,
       "grid_auto_rows": null,
       "grid_column": null,
       "grid_gap": null,
       "grid_row": null,
       "grid_template_areas": null,
       "grid_template_columns": null,
       "grid_template_rows": null,
       "height": null,
       "justify_content": null,
       "justify_items": null,
       "left": null,
       "margin": null,
       "max_height": null,
       "max_width": null,
       "min_height": null,
       "min_width": null,
       "object_fit": null,
       "object_position": null,
       "order": null,
       "overflow": null,
       "overflow_x": null,
       "overflow_y": null,
       "padding": null,
       "right": null,
       "top": null,
       "visibility": null,
       "width": "auto"
      }
     },
     "0fa1651f4ad842ae92e34a23d9a1c2e2": {
      "model_module": "@jupyter-widgets/base",
      "model_module_version": "1.2.0",
      "model_name": "LayoutModel",
      "state": {
       "_model_module": "@jupyter-widgets/base",
       "_model_module_version": "1.2.0",
       "_model_name": "LayoutModel",
       "_view_count": null,
       "_view_module": "@jupyter-widgets/base",
       "_view_module_version": "1.2.0",
       "_view_name": "LayoutView",
       "align_content": null,
       "align_items": null,
       "align_self": null,
       "border": null,
       "bottom": null,
       "display": null,
       "flex": null,
       "flex_flow": null,
       "grid_area": null,
       "grid_auto_columns": null,
       "grid_auto_flow": null,
       "grid_auto_rows": null,
       "grid_column": null,
       "grid_gap": null,
       "grid_row": null,
       "grid_template_areas": null,
       "grid_template_columns": null,
       "grid_template_rows": null,
       "height": null,
       "justify_content": null,
       "justify_items": null,
       "left": null,
       "margin": null,
       "max_height": null,
       "max_width": null,
       "min_height": null,
       "min_width": null,
       "object_fit": null,
       "object_position": null,
       "order": null,
       "overflow": null,
       "overflow_x": null,
       "overflow_y": null,
       "padding": null,
       "right": null,
       "top": null,
       "visibility": null,
       "width": "auto"
      }
     },
     "14e3ae69abf345768e002f7993d3c0f3": {
      "model_module": "@jupyter-widgets/controls",
      "model_module_version": "1.5.0",
      "model_name": "FloatProgressModel",
      "state": {
       "_dom_classes": [],
       "_model_module": "@jupyter-widgets/controls",
       "_model_module_version": "1.5.0",
       "_model_name": "FloatProgressModel",
       "_view_count": null,
       "_view_module": "@jupyter-widgets/controls",
       "_view_module_version": "1.5.0",
       "_view_name": "ProgressView",
       "bar_style": "",
       "description": "",
       "description_tooltip": null,
       "layout": "IPY_MODEL_0fa1651f4ad842ae92e34a23d9a1c2e2",
       "max": 100.0,
       "min": 0.0,
       "orientation": "horizontal",
       "style": "IPY_MODEL_223f5ba0eb5a487fb35d9ca194a2a8ce",
       "value": 100.0
      }
     },
     "1dcd44f847ac4772b3f138f6cb12dcca": {
      "model_module": "@jupyter-widgets/controls",
      "model_module_version": "1.5.0",
      "model_name": "FloatProgressModel",
      "state": {
       "_dom_classes": [],
       "_model_module": "@jupyter-widgets/controls",
       "_model_module_version": "1.5.0",
       "_model_name": "FloatProgressModel",
       "_view_count": null,
       "_view_module": "@jupyter-widgets/controls",
       "_view_module_version": "1.5.0",
       "_view_name": "ProgressView",
       "bar_style": "",
       "description": "",
       "description_tooltip": null,
       "layout": "IPY_MODEL_98e415789a0d45c4831f21d086bea3ab",
       "max": 100.0,
       "min": 0.0,
       "orientation": "horizontal",
       "style": "IPY_MODEL_bcf8db9e7dfc43c5b27f81cc95cbb47b",
       "value": 100.0
      }
     },
     "223f5ba0eb5a487fb35d9ca194a2a8ce": {
      "model_module": "@jupyter-widgets/controls",
      "model_module_version": "1.5.0",
      "model_name": "ProgressStyleModel",
      "state": {
       "_model_module": "@jupyter-widgets/controls",
       "_model_module_version": "1.5.0",
       "_model_name": "ProgressStyleModel",
       "_view_count": null,
       "_view_module": "@jupyter-widgets/base",
       "_view_module_version": "1.2.0",
       "_view_name": "StyleView",
       "bar_color": "black",
       "description_width": ""
      }
     },
     "5568a23e1fb445a8852adebd1853357d": {
      "model_module": "@jupyter-widgets/controls",
      "model_module_version": "1.5.0",
      "model_name": "ProgressStyleModel",
      "state": {
       "_model_module": "@jupyter-widgets/controls",
       "_model_module_version": "1.5.0",
       "_model_name": "ProgressStyleModel",
       "_view_count": null,
       "_view_module": "@jupyter-widgets/base",
       "_view_module_version": "1.2.0",
       "_view_name": "StyleView",
       "bar_color": "black",
       "description_width": ""
      }
     },
     "557a513358e840908b2852d466deb8b1": {
      "model_module": "@jupyter-widgets/base",
      "model_module_version": "1.2.0",
      "model_name": "LayoutModel",
      "state": {
       "_model_module": "@jupyter-widgets/base",
       "_model_module_version": "1.2.0",
       "_model_name": "LayoutModel",
       "_view_count": null,
       "_view_module": "@jupyter-widgets/base",
       "_view_module_version": "1.2.0",
       "_view_name": "LayoutView",
       "align_content": null,
       "align_items": null,
       "align_self": null,
       "border": null,
       "bottom": null,
       "display": null,
       "flex": null,
       "flex_flow": null,
       "grid_area": null,
       "grid_auto_columns": null,
       "grid_auto_flow": null,
       "grid_auto_rows": null,
       "grid_column": null,
       "grid_gap": null,
       "grid_row": null,
       "grid_template_areas": null,
       "grid_template_columns": null,
       "grid_template_rows": null,
       "height": null,
       "justify_content": null,
       "justify_items": null,
       "left": null,
       "margin": null,
       "max_height": null,
       "max_width": null,
       "min_height": null,
       "min_width": null,
       "object_fit": null,
       "object_position": null,
       "order": null,
       "overflow": null,
       "overflow_x": null,
       "overflow_y": null,
       "padding": null,
       "right": null,
       "top": null,
       "visibility": null,
       "width": "auto"
      }
     },
     "5cf5448598f54ec0b9000869fb4f37a3": {
      "model_module": "@jupyter-widgets/controls",
      "model_module_version": "1.5.0",
      "model_name": "ProgressStyleModel",
      "state": {
       "_model_module": "@jupyter-widgets/controls",
       "_model_module_version": "1.5.0",
       "_model_name": "ProgressStyleModel",
       "_view_count": null,
       "_view_module": "@jupyter-widgets/base",
       "_view_module_version": "1.2.0",
       "_view_name": "StyleView",
       "bar_color": "black",
       "description_width": ""
      }
     },
     "80413fc69e6a442c9759ca28bf75a5b0": {
      "model_module": "@jupyter-widgets/controls",
      "model_module_version": "1.5.0",
      "model_name": "ProgressStyleModel",
      "state": {
       "_model_module": "@jupyter-widgets/controls",
       "_model_module_version": "1.5.0",
       "_model_name": "ProgressStyleModel",
       "_view_count": null,
       "_view_module": "@jupyter-widgets/base",
       "_view_module_version": "1.2.0",
       "_view_name": "StyleView",
       "bar_color": "black",
       "description_width": ""
      }
     },
     "83656490761e46f3852d12d7acf75496": {
      "model_module": "@jupyter-widgets/base",
      "model_module_version": "1.2.0",
      "model_name": "LayoutModel",
      "state": {
       "_model_module": "@jupyter-widgets/base",
       "_model_module_version": "1.2.0",
       "_model_name": "LayoutModel",
       "_view_count": null,
       "_view_module": "@jupyter-widgets/base",
       "_view_module_version": "1.2.0",
       "_view_name": "LayoutView",
       "align_content": null,
       "align_items": null,
       "align_self": null,
       "border": null,
       "bottom": null,
       "display": null,
       "flex": null,
       "flex_flow": null,
       "grid_area": null,
       "grid_auto_columns": null,
       "grid_auto_flow": null,
       "grid_auto_rows": null,
       "grid_column": null,
       "grid_gap": null,
       "grid_row": null,
       "grid_template_areas": null,
       "grid_template_columns": null,
       "grid_template_rows": null,
       "height": null,
       "justify_content": null,
       "justify_items": null,
       "left": null,
       "margin": null,
       "max_height": null,
       "max_width": null,
       "min_height": null,
       "min_width": null,
       "object_fit": null,
       "object_position": null,
       "order": null,
       "overflow": null,
       "overflow_x": null,
       "overflow_y": null,
       "padding": null,
       "right": null,
       "top": null,
       "visibility": null,
       "width": "auto"
      }
     },
     "86e61851e6fa4b6280683aea7284216a": {
      "model_module": "@jupyter-widgets/controls",
      "model_module_version": "1.5.0",
      "model_name": "FloatProgressModel",
      "state": {
       "_dom_classes": [],
       "_model_module": "@jupyter-widgets/controls",
       "_model_module_version": "1.5.0",
       "_model_name": "FloatProgressModel",
       "_view_count": null,
       "_view_module": "@jupyter-widgets/controls",
       "_view_module_version": "1.5.0",
       "_view_name": "ProgressView",
       "bar_style": "",
       "description": "",
       "description_tooltip": null,
       "layout": "IPY_MODEL_a3d9cbdf3eec41479ac98874979b0ab6",
       "max": 100.0,
       "min": 0.0,
       "orientation": "horizontal",
       "style": "IPY_MODEL_5cf5448598f54ec0b9000869fb4f37a3",
       "value": 100.0
      }
     },
     "97b02a7d65e34414be41fd0cfc20fafe": {
      "model_module": "@jupyter-widgets/controls",
      "model_module_version": "1.5.0",
      "model_name": "FloatProgressModel",
      "state": {
       "_dom_classes": [],
       "_model_module": "@jupyter-widgets/controls",
       "_model_module_version": "1.5.0",
       "_model_name": "FloatProgressModel",
       "_view_count": null,
       "_view_module": "@jupyter-widgets/controls",
       "_view_module_version": "1.5.0",
       "_view_name": "ProgressView",
       "bar_style": "",
       "description": "",
       "description_tooltip": null,
       "layout": "IPY_MODEL_0aeac856966845a79da1cf98b8690a8b",
       "max": 100.0,
       "min": 0.0,
       "orientation": "horizontal",
       "style": "IPY_MODEL_5568a23e1fb445a8852adebd1853357d",
       "value": 100.0
      }
     },
     "98e415789a0d45c4831f21d086bea3ab": {
      "model_module": "@jupyter-widgets/base",
      "model_module_version": "1.2.0",
      "model_name": "LayoutModel",
      "state": {
       "_model_module": "@jupyter-widgets/base",
       "_model_module_version": "1.2.0",
       "_model_name": "LayoutModel",
       "_view_count": null,
       "_view_module": "@jupyter-widgets/base",
       "_view_module_version": "1.2.0",
       "_view_name": "LayoutView",
       "align_content": null,
       "align_items": null,
       "align_self": null,
       "border": null,
       "bottom": null,
       "display": null,
       "flex": null,
       "flex_flow": null,
       "grid_area": null,
       "grid_auto_columns": null,
       "grid_auto_flow": null,
       "grid_auto_rows": null,
       "grid_column": null,
       "grid_gap": null,
       "grid_row": null,
       "grid_template_areas": null,
       "grid_template_columns": null,
       "grid_template_rows": null,
       "height": null,
       "justify_content": null,
       "justify_items": null,
       "left": null,
       "margin": null,
       "max_height": null,
       "max_width": null,
       "min_height": null,
       "min_width": null,
       "object_fit": null,
       "object_position": null,
       "order": null,
       "overflow": null,
       "overflow_x": null,
       "overflow_y": null,
       "padding": null,
       "right": null,
       "top": null,
       "visibility": null,
       "width": "auto"
      }
     },
     "a3d9cbdf3eec41479ac98874979b0ab6": {
      "model_module": "@jupyter-widgets/base",
      "model_module_version": "1.2.0",
      "model_name": "LayoutModel",
      "state": {
       "_model_module": "@jupyter-widgets/base",
       "_model_module_version": "1.2.0",
       "_model_name": "LayoutModel",
       "_view_count": null,
       "_view_module": "@jupyter-widgets/base",
       "_view_module_version": "1.2.0",
       "_view_name": "LayoutView",
       "align_content": null,
       "align_items": null,
       "align_self": null,
       "border": null,
       "bottom": null,
       "display": null,
       "flex": null,
       "flex_flow": null,
       "grid_area": null,
       "grid_auto_columns": null,
       "grid_auto_flow": null,
       "grid_auto_rows": null,
       "grid_column": null,
       "grid_gap": null,
       "grid_row": null,
       "grid_template_areas": null,
       "grid_template_columns": null,
       "grid_template_rows": null,
       "height": null,
       "justify_content": null,
       "justify_items": null,
       "left": null,
       "margin": null,
       "max_height": null,
       "max_width": null,
       "min_height": null,
       "min_width": null,
       "object_fit": null,
       "object_position": null,
       "order": null,
       "overflow": null,
       "overflow_x": null,
       "overflow_y": null,
       "padding": null,
       "right": null,
       "top": null,
       "visibility": null,
       "width": "auto"
      }
     },
     "bcf8db9e7dfc43c5b27f81cc95cbb47b": {
      "model_module": "@jupyter-widgets/controls",
      "model_module_version": "1.5.0",
      "model_name": "ProgressStyleModel",
      "state": {
       "_model_module": "@jupyter-widgets/controls",
       "_model_module_version": "1.5.0",
       "_model_name": "ProgressStyleModel",
       "_view_count": null,
       "_view_module": "@jupyter-widgets/base",
       "_view_module_version": "1.2.0",
       "_view_name": "StyleView",
       "bar_color": "black",
       "description_width": ""
      }
     },
     "c9827e3a2d574e8da6441ac4120277ad": {
      "model_module": "@jupyter-widgets/controls",
      "model_module_version": "1.5.0",
      "model_name": "FloatProgressModel",
      "state": {
       "_dom_classes": [],
       "_model_module": "@jupyter-widgets/controls",
       "_model_module_version": "1.5.0",
       "_model_name": "FloatProgressModel",
       "_view_count": null,
       "_view_module": "@jupyter-widgets/controls",
       "_view_module_version": "1.5.0",
       "_view_name": "ProgressView",
       "bar_style": "",
       "description": "",
       "description_tooltip": null,
       "layout": "IPY_MODEL_557a513358e840908b2852d466deb8b1",
       "max": 100.0,
       "min": 0.0,
       "orientation": "horizontal",
       "style": "IPY_MODEL_fb9a2356f1124df5b34570673750b70f",
       "value": 100.0
      }
     },
     "e3b3046d1b1946dfb6f7b1d2a8b03236": {
      "model_module": "@jupyter-widgets/controls",
      "model_module_version": "1.5.0",
      "model_name": "FloatProgressModel",
      "state": {
       "_dom_classes": [],
       "_model_module": "@jupyter-widgets/controls",
       "_model_module_version": "1.5.0",
       "_model_name": "FloatProgressModel",
       "_view_count": null,
       "_view_module": "@jupyter-widgets/controls",
       "_view_module_version": "1.5.0",
       "_view_name": "ProgressView",
       "bar_style": "",
       "description": "",
       "description_tooltip": null,
       "layout": "IPY_MODEL_83656490761e46f3852d12d7acf75496",
       "max": 100.0,
       "min": 0.0,
       "orientation": "horizontal",
       "style": "IPY_MODEL_80413fc69e6a442c9759ca28bf75a5b0",
       "value": 100.0
      }
     },
     "fb9a2356f1124df5b34570673750b70f": {
      "model_module": "@jupyter-widgets/controls",
      "model_module_version": "1.5.0",
      "model_name": "ProgressStyleModel",
      "state": {
       "_model_module": "@jupyter-widgets/controls",
       "_model_module_version": "1.5.0",
       "_model_name": "ProgressStyleModel",
       "_view_count": null,
       "_view_module": "@jupyter-widgets/base",
       "_view_module_version": "1.2.0",
       "_view_name": "StyleView",
       "bar_color": "black",
       "description_width": ""
      }
     }
    },
    "version_major": 2,
    "version_minor": 0
   }
  }
 },
 "nbformat": 4,
 "nbformat_minor": 5
}
