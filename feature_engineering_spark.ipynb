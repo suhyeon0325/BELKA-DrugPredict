{
 "cells": [
  {
   "cell_type": "code",
   "execution_count": 1,
   "id": "17e6f152",
   "metadata": {
    "_cell_guid": "b1076dfc-b9ad-4769-8c92-a6c4dae69d19",
    "_uuid": "8f2839f25d086af736a60e9eeb907d3b93b6e0e5",
    "execution": {
     "iopub.execute_input": "2024-04-18T14:19:57.004353Z",
     "iopub.status.busy": "2024-04-18T14:19:57.003857Z",
     "iopub.status.idle": "2024-04-18T14:19:57.994979Z",
     "shell.execute_reply": "2024-04-18T14:19:57.993877Z"
    },
    "papermill": {
     "duration": 1.00583,
     "end_time": "2024-04-18T14:19:57.998031",
     "exception": false,
     "start_time": "2024-04-18T14:19:56.992201",
     "status": "completed"
    },
    "tags": []
   },
   "outputs": [
    {
     "name": "stdout",
     "output_type": "stream",
     "text": [
      "/kaggle/input/leash-BELKA/sample_submission.csv\n",
      "/kaggle/input/leash-BELKA/train.parquet\n",
      "/kaggle/input/leash-BELKA/test.parquet\n",
      "/kaggle/input/leash-BELKA/train.csv\n",
      "/kaggle/input/leash-BELKA/test.csv\n"
     ]
    }
   ],
   "source": [
    "# This Python 3 environment comes with many helpful analytics libraries installed\n",
    "# It is defined by the kaggle/python Docker image: https://github.com/kaggle/docker-python\n",
    "# For example, here's several helpful packages to load\n",
    "\n",
    "import numpy as np # linear algebra\n",
    "import pandas as pd # data processing, CSV file I/O (e.g. pd.read_csv)\n",
    "\n",
    "# Input data files are available in the read-only \"../input/\" directory\n",
    "# For example, running this (by clicking run or pressing Shift+Enter) will list all files under the input directory\n",
    "\n",
    "import os\n",
    "for dirname, _, filenames in os.walk('/kaggle/input'):\n",
    "    for filename in filenames:\n",
    "        print(os.path.join(dirname, filename))\n",
    "\n",
    "# You can write up to 20GB to the current directory (/kaggle/working/) that gets preserved as output when you create a version using \"Save & Run All\" \n",
    "# You can also write temporary files to /kaggle/temp/, but they won't be saved outside of the current session"
   ]
  },
  {
   "cell_type": "code",
   "execution_count": 2,
   "id": "91cd384c",
   "metadata": {
    "execution": {
     "iopub.execute_input": "2024-04-18T14:19:58.019822Z",
     "iopub.status.busy": "2024-04-18T14:19:58.019291Z",
     "iopub.status.idle": "2024-04-18T14:20:17.353706Z",
     "shell.execute_reply": "2024-04-18T14:20:17.352262Z"
    },
    "papermill": {
     "duration": 19.348531,
     "end_time": "2024-04-18T14:20:17.356638",
     "exception": false,
     "start_time": "2024-04-18T14:19:58.008107",
     "status": "completed"
    },
    "tags": []
   },
   "outputs": [
    {
     "name": "stdout",
     "output_type": "stream",
     "text": [
      "Collecting rdkit\r\n",
      "  Downloading rdkit-2023.9.5-cp310-cp310-manylinux_2_17_x86_64.manylinux2014_x86_64.whl.metadata (3.9 kB)\r\n",
      "Requirement already satisfied: numpy in /opt/conda/lib/python3.10/site-packages (from rdkit) (1.26.4)\r\n",
      "Requirement already satisfied: Pillow in /opt/conda/lib/python3.10/site-packages (from rdkit) (9.5.0)\r\n",
      "Downloading rdkit-2023.9.5-cp310-cp310-manylinux_2_17_x86_64.manylinux2014_x86_64.whl (34.4 MB)\r\n",
      "\u001b[2K   \u001b[90m━━━━━━━━━━━━━━━━━━━━━━━━━━━━━━━━━━━━━━━━\u001b[0m \u001b[32m34.4/34.4 MB\u001b[0m \u001b[31m35.7 MB/s\u001b[0m eta \u001b[36m0:00:00\u001b[0m\r\n",
      "\u001b[?25hInstalling collected packages: rdkit\r\n",
      "Successfully installed rdkit-2023.9.5\r\n"
     ]
    }
   ],
   "source": [
    "! pip install rdkit"
   ]
  },
  {
   "cell_type": "code",
   "execution_count": 3,
   "id": "5e741f18",
   "metadata": {
    "execution": {
     "iopub.execute_input": "2024-04-18T14:20:17.381013Z",
     "iopub.status.busy": "2024-04-18T14:20:17.380518Z",
     "iopub.status.idle": "2024-04-18T14:21:16.027455Z",
     "shell.execute_reply": "2024-04-18T14:21:16.025936Z"
    },
    "papermill": {
     "duration": 58.662777,
     "end_time": "2024-04-18T14:21:16.030393",
     "exception": false,
     "start_time": "2024-04-18T14:20:17.367616",
     "status": "completed"
    },
    "tags": []
   },
   "outputs": [
    {
     "name": "stdout",
     "output_type": "stream",
     "text": [
      "Collecting pyspark\r\n",
      "  Downloading pyspark-3.5.1.tar.gz (317.0 MB)\r\n",
      "\u001b[2K     \u001b[90m━━━━━━━━━━━━━━━━━━━━━━━━━━━━━━━━━━━━━━━\u001b[0m \u001b[32m317.0/317.0 MB\u001b[0m \u001b[31m3.7 MB/s\u001b[0m eta \u001b[36m0:00:00\u001b[0m\r\n",
      "\u001b[?25h  Preparing metadata (setup.py) ... \u001b[?25l-\b \b\\\b \bdone\r\n",
      "\u001b[?25hRequirement already satisfied: py4j==0.10.9.7 in /opt/conda/lib/python3.10/site-packages (from pyspark) (0.10.9.7)\r\n",
      "Building wheels for collected packages: pyspark\r\n",
      "  Building wheel for pyspark (setup.py) ... \u001b[?25l-\b \b\\\b \b|\b \bdone\r\n",
      "\u001b[?25h  Created wheel for pyspark: filename=pyspark-3.5.1-py2.py3-none-any.whl size=317488493 sha256=ba713d421f5a894d9b23072d550aba6180cd7d8eb52e0057acd1c4af5a605dd0\r\n",
      "  Stored in directory: /root/.cache/pip/wheels/80/1d/60/2c256ed38dddce2fdd93be545214a63e02fbd8d74fb0b7f3a6\r\n",
      "Successfully built pyspark\r\n",
      "Installing collected packages: pyspark\r\n",
      "Successfully installed pyspark-3.5.1\r\n"
     ]
    }
   ],
   "source": [
    "! pip install pyspark"
   ]
  },
  {
   "cell_type": "code",
   "execution_count": 4,
   "id": "4dd59a45",
   "metadata": {
    "execution": {
     "iopub.execute_input": "2024-04-18T14:21:16.090246Z",
     "iopub.status.busy": "2024-04-18T14:21:16.089579Z",
     "iopub.status.idle": "2024-04-18T14:21:33.844107Z",
     "shell.execute_reply": "2024-04-18T14:21:33.842898Z"
    },
    "papermill": {
     "duration": 17.788214,
     "end_time": "2024-04-18T14:21:33.846880",
     "exception": false,
     "start_time": "2024-04-18T14:21:16.058666",
     "status": "completed"
    },
    "tags": []
   },
   "outputs": [
    {
     "name": "stderr",
     "output_type": "stream",
     "text": [
      "2024-04-18 14:21:21.101462: E external/local_xla/xla/stream_executor/cuda/cuda_dnn.cc:9261] Unable to register cuDNN factory: Attempting to register factory for plugin cuDNN when one has already been registered\n",
      "2024-04-18 14:21:21.101641: E external/local_xla/xla/stream_executor/cuda/cuda_fft.cc:607] Unable to register cuFFT factory: Attempting to register factory for plugin cuFFT when one has already been registered\n",
      "2024-04-18 14:21:21.289699: E external/local_xla/xla/stream_executor/cuda/cuda_blas.cc:1515] Unable to register cuBLAS factory: Attempting to register factory for plugin cuBLAS when one has already been registered\n"
     ]
    }
   ],
   "source": [
    "# 데이터 처리 및 분석\n",
    "import numpy as np\n",
    "import pandas as pd\n",
    "import matplotlib.pyplot as plt\n",
    "import seaborn as sns\n",
    "\n",
    "# 분자 데이터 처리\n",
    "from rdkit import Chem\n",
    "from rdkit.Chem import Descriptors, Draw, Crippen, rdMolDescriptors\n",
    "from rdkit.Chem.Draw import IPythonConsole\n",
    "from rdkit.Chem import AllChem\n",
    "from rdkit.Chem import GraphDescriptors\n",
    "from rdkit.Chem import rdchem\n",
    "from rdkit.Chem import EnumerateStereoisomers\n",
    "from rdkit.Chem import ResonanceMolSupplier\n",
    "\n",
    "# 머신러닝\n",
    "from sklearn.model_selection import train_test_split, GridSearchCV, cross_val_score\n",
    "from sklearn.preprocessing import StandardScaler, LabelEncoder, OneHotEncoder\n",
    "from sklearn.metrics import accuracy_score, confusion_matrix, roc_auc_score\n",
    "from sklearn.ensemble import RandomForestClassifier, GradientBoostingClassifier\n",
    "from sklearn.manifold import TSNE\n",
    "from sklearn.compose import ColumnTransformer\n",
    "from sklearn.pipeline import Pipeline\n",
    "from sklearn.impute import SimpleImputer\n",
    "\n",
    "# Spark\n",
    "from pyspark.sql import SparkSession\n",
    "from pyspark.sql.functions import col, expr, when, lit, udf\n",
    "from pyspark.ml.feature import StringIndexer, VectorAssembler, OneHotEncoder\n",
    "from pyspark.ml.linalg import Vectors\n",
    "from pyspark.sql.types import IntegerType, FloatType, StringType, ArrayType\n",
    "\n",
    "# 딥러닝\n",
    "import tensorflow as tf\n",
    "from tensorflow import keras\n",
    "from keras.models import Sequential\n",
    "from keras.layers import Dense, Conv1D, Flatten, Dropout, MaxPooling1D\n",
    "\n",
    "# 기타 유틸리티\n",
    "import os\n",
    "import sys\n",
    "import json\n",
    "import warnings\n",
    "from collections import defaultdict\n",
    "\n",
    "# 경고 메시지 무시 설정\n",
    "warnings.filterwarnings('ignore')"
   ]
  },
  {
   "cell_type": "code",
   "execution_count": 5,
   "id": "7848826d",
   "metadata": {
    "execution": {
     "iopub.execute_input": "2024-04-18T14:21:33.904142Z",
     "iopub.status.busy": "2024-04-18T14:21:33.902977Z",
     "iopub.status.idle": "2024-04-18T14:21:40.231584Z",
     "shell.execute_reply": "2024-04-18T14:21:40.230445Z"
    },
    "papermill": {
     "duration": 6.360967,
     "end_time": "2024-04-18T14:21:40.234602",
     "exception": false,
     "start_time": "2024-04-18T14:21:33.873635",
     "status": "completed"
    },
    "tags": []
   },
   "outputs": [
    {
     "name": "stderr",
     "output_type": "stream",
     "text": [
      "Setting default log level to \"WARN\".\n",
      "To adjust logging level use sc.setLogLevel(newLevel). For SparkR, use setLogLevel(newLevel).\n",
      "24/04/18 14:21:37 WARN NativeCodeLoader: Unable to load native-hadoop library for your platform... using builtin-java classes where applicable\n"
     ]
    }
   ],
   "source": [
    "# SparkSession 생성\n",
    "spark = SparkSession.builder \\\n",
    "        .appName(\"Leash BELKA Test Data Load\") \\\n",
    "        .getOrCreate()"
   ]
  },
  {
   "cell_type": "code",
   "execution_count": 6,
   "id": "7e0bedbb",
   "metadata": {
    "execution": {
     "iopub.execute_input": "2024-04-18T14:21:40.293158Z",
     "iopub.status.busy": "2024-04-18T14:21:40.292291Z",
     "iopub.status.idle": "2024-04-18T14:21:45.761333Z",
     "shell.execute_reply": "2024-04-18T14:21:45.760335Z"
    },
    "papermill": {
     "duration": 5.502014,
     "end_time": "2024-04-18T14:21:45.764557",
     "exception": false,
     "start_time": "2024-04-18T14:21:40.262543",
     "status": "completed"
    },
    "tags": []
   },
   "outputs": [
    {
     "name": "stderr",
     "output_type": "stream",
     "text": [
      "                                                                                \r"
     ]
    }
   ],
   "source": [
    "# Parquet 파일 로드\n",
    "train = spark.read.parquet(\"/kaggle/input/leash-BELKA/test.parquet\")"
   ]
  },
  {
   "cell_type": "code",
   "execution_count": 7,
   "id": "59cfdf79",
   "metadata": {
    "execution": {
     "iopub.execute_input": "2024-04-18T14:21:45.821707Z",
     "iopub.status.busy": "2024-04-18T14:21:45.821285Z",
     "iopub.status.idle": "2024-04-18T14:21:52.964109Z",
     "shell.execute_reply": "2024-04-18T14:21:52.963107Z"
    },
    "papermill": {
     "duration": 7.174565,
     "end_time": "2024-04-18T14:21:52.966667",
     "exception": false,
     "start_time": "2024-04-18T14:21:45.792102",
     "status": "completed"
    },
    "tags": []
   },
   "outputs": [
    {
     "name": "stderr",
     "output_type": "stream",
     "text": [
      "                                                                                \r"
     ]
    },
    {
     "name": "stdout",
     "output_type": "stream",
     "text": [
      "+---------+---------------------+---------------------+---------------------+--------------------+------------+-----------------+-----------------+-----------------+-----------+\n",
      "|       id|buildingblock1_smiles|buildingblock2_smiles|buildingblock3_smiles|     molecule_smiles|protein_name|mw_buildingblock1|mw_buildingblock2|mw_buildingblock3|mw_molecule|\n",
      "+---------+---------------------+---------------------+---------------------+--------------------+------------+-----------------+-----------------+-----------------+-----------+\n",
      "|295246830| C#CCCC[C@H](NC(=O...|       C=Cc1ccc(N)cc1|       C=Cc1ccc(N)cc1|C#CCCC[C@H](Nc1nc...|        BRD4|          363.413|          119.167|          119.167|    615.042|\n",
      "|295246831| C#CCCC[C@H](NC(=O...|       C=Cc1ccc(N)cc1|       C=Cc1ccc(N)cc1|C#CCCC[C@H](Nc1nc...|         HSA|          363.413|          119.167|          119.167|    615.042|\n",
      "|295246832| C#CCCC[C@H](NC(=O...|       C=Cc1ccc(N)cc1|       C=Cc1ccc(N)cc1|C#CCCC[C@H](Nc1nc...|         sEH|          363.413|          119.167|          119.167|    615.042|\n",
      "|295246833| C#CCCC[C@H](NC(=O...|       C=Cc1ccc(N)cc1| CC(O)Cn1cnc2c(N)n...|C#CCCC[C@H](Nc1nc...|        BRD4|          363.413|          119.167|           193.21|    689.085|\n",
      "|295246834| C#CCCC[C@H](NC(=O...|       C=Cc1ccc(N)cc1| CC(O)Cn1cnc2c(N)n...|C#CCCC[C@H](Nc1nc...|         HSA|          363.413|          119.167|           193.21|    689.085|\n",
      "|295246835| C#CCCC[C@H](NC(=O...|       C=Cc1ccc(N)cc1| CC(O)Cn1cnc2c(N)n...|C#CCCC[C@H](Nc1nc...|         sEH|          363.413|          119.167|           193.21|    689.085|\n",
      "|295246836| C#CCCC[C@H](NC(=O...|       C=Cc1ccc(N)cc1|     CC1(C)CCCC1(O)CN|C#CCCC[C@H](Nc1nc...|        BRD4|          363.413|          119.167|           143.23|    639.105|\n",
      "|295246837| C#CCCC[C@H](NC(=O...|       C=Cc1ccc(N)cc1|     CC1(C)CCCC1(O)CN|C#CCCC[C@H](Nc1nc...|         HSA|          363.413|          119.167|           143.23|    639.105|\n",
      "|295246838| C#CCCC[C@H](NC(=O...|       C=Cc1ccc(N)cc1|     CC1(C)CCCC1(O)CN|C#CCCC[C@H](Nc1nc...|         sEH|          363.413|          119.167|           143.23|    639.105|\n",
      "|295246839| C#CCCC[C@H](NC(=O...|       C=Cc1ccc(N)cc1|  COC(=O)c1cc(Cl)sc1N|C#CCCC[C@H](Nc1nc...|        BRD4|          363.413|          119.167|          191.639|    687.514|\n",
      "|295246840| C#CCCC[C@H](NC(=O...|       C=Cc1ccc(N)cc1|  COC(=O)c1cc(Cl)sc1N|C#CCCC[C@H](Nc1nc...|         HSA|          363.413|          119.167|          191.639|    687.514|\n",
      "|295246841| C#CCCC[C@H](NC(=O...|       C=Cc1ccc(N)cc1|  COC(=O)c1cc(Cl)sc1N|C#CCCC[C@H](Nc1nc...|         sEH|          363.413|          119.167|          191.639|    687.514|\n",
      "|295246842| C#CCCC[C@H](NC(=O...|       C=Cc1ccc(N)cc1|       CSC1CCC(CN)CC1|C#CCCC[C@H](Nc1nc...|        BRD4|          363.413|          119.167|          159.298|    655.173|\n",
      "|295246843| C#CCCC[C@H](NC(=O...|       C=Cc1ccc(N)cc1|       CSC1CCC(CN)CC1|C#CCCC[C@H](Nc1nc...|         HSA|          363.413|          119.167|          159.298|    655.173|\n",
      "|295246844| C#CCCC[C@H](NC(=O...|       C=Cc1ccc(N)cc1|       CSC1CCC(CN)CC1|C#CCCC[C@H](Nc1nc...|         sEH|          363.413|          119.167|          159.298|    655.173|\n",
      "|295246845| C#CCCC[C@H](NC(=O...|       C=Cc1ccc(N)cc1| Cc1ccc(CN)c(N2CCC...|C#CCCC[C@H](Nc1nc...|        BRD4|          363.413|          119.167|          263.212|    686.165|\n",
      "|295246846| C#CCCC[C@H](NC(=O...|       C=Cc1ccc(N)cc1| Cc1ccc(CN)c(N2CCC...|C#CCCC[C@H](Nc1nc...|         HSA|          363.413|          119.167|          263.212|    686.165|\n",
      "|295246847| C#CCCC[C@H](NC(=O...|       C=Cc1ccc(N)cc1| Cc1ccc(CN)c(N2CCC...|C#CCCC[C@H](Nc1nc...|         sEH|          363.413|          119.167|          263.212|    686.165|\n",
      "|295246848| C#CCCC[C@H](NC(=O...|       C=Cc1ccc(N)cc1| Cc1cccc(NC(=O)COc...|C#CCCC[C@H](Nc1nc...|        BRD4|          363.413|          119.167|           320.82|    780.234|\n",
      "|295246849| C#CCCC[C@H](NC(=O...|       C=Cc1ccc(N)cc1| Cc1cccc(NC(=O)COc...|C#CCCC[C@H](Nc1nc...|         HSA|          363.413|          119.167|           320.82|    780.234|\n",
      "+---------+---------------------+---------------------+---------------------+--------------------+------------+-----------------+-----------------+-----------------+-----------+\n",
      "only showing top 20 rows\n",
      "\n"
     ]
    }
   ],
   "source": [
    "# 분자 무게를 계산하는 UDF 생성\n",
    "def calculate_mw(smiles):\n",
    "    molecule = Chem.MolFromSmiles(smiles)\n",
    "    return Descriptors.MolWt(molecule) if molecule else None\n",
    "\n",
    "calculate_mw_udf = udf(calculate_mw, FloatType())\n",
    "\n",
    "# 각 building block과 molecule의 분자 무게를 계산하여 새로운 열로 추가\n",
    "train = train.withColumn(\"mw_buildingblock1\", calculate_mw_udf(train[\"buildingblock1_smiles\"]))\n",
    "train = train.withColumn(\"mw_buildingblock2\", calculate_mw_udf(train[\"buildingblock2_smiles\"]))\n",
    "train = train.withColumn(\"mw_buildingblock3\", calculate_mw_udf(train[\"buildingblock3_smiles\"]))\n",
    "train = train.withColumn(\"mw_molecule\", calculate_mw_udf(train[\"molecule_smiles\"]))\n",
    "\n",
    "# 데이터프레임의 업데이트된 구조 및 데이터 확인\n",
    "train.show()"
   ]
  },
  {
   "cell_type": "code",
   "execution_count": 8,
   "id": "aae517e4",
   "metadata": {
    "execution": {
     "iopub.execute_input": "2024-04-18T14:21:53.025496Z",
     "iopub.status.busy": "2024-04-18T14:21:53.024995Z",
     "iopub.status.idle": "2024-04-18T14:21:54.762506Z",
     "shell.execute_reply": "2024-04-18T14:21:54.761182Z"
    },
    "papermill": {
     "duration": 1.771633,
     "end_time": "2024-04-18T14:21:54.766771",
     "exception": false,
     "start_time": "2024-04-18T14:21:52.995138",
     "status": "completed"
    },
    "tags": []
   },
   "outputs": [
    {
     "name": "stderr",
     "output_type": "stream",
     "text": [
      "[Stage 4:===================>                                       (1 + 2) / 3]\r"
     ]
    },
    {
     "name": "stdout",
     "output_type": "stream",
     "text": [
      "+---------+---------------------+---------------------+---------------------+--------------------+------------+-----------------+-----------------+-----------------+-----------+-------+\n",
      "|       id|buildingblock1_smiles|buildingblock2_smiles|buildingblock3_smiles|     molecule_smiles|protein_name|mw_buildingblock1|mw_buildingblock2|mw_buildingblock3|mw_molecule|   logP|\n",
      "+---------+---------------------+---------------------+---------------------+--------------------+------------+-----------------+-----------------+-----------------+-----------+-------+\n",
      "|295246830| C#CCCC[C@H](NC(=O...|       C=Cc1ccc(N)cc1|       C=Cc1ccc(N)cc1|C#CCCC[C@H](Nc1nc...|        BRD4|          363.413|          119.167|          119.167|    615.042| 4.8093|\n",
      "|295246831| C#CCCC[C@H](NC(=O...|       C=Cc1ccc(N)cc1|       C=Cc1ccc(N)cc1|C#CCCC[C@H](Nc1nc...|         HSA|          363.413|          119.167|          119.167|    615.042| 4.8093|\n",
      "|295246832| C#CCCC[C@H](NC(=O...|       C=Cc1ccc(N)cc1|       C=Cc1ccc(N)cc1|C#CCCC[C@H](Nc1nc...|         sEH|          363.413|          119.167|          119.167|    615.042| 4.8093|\n",
      "|295246833| C#CCCC[C@H](NC(=O...|       C=Cc1ccc(N)cc1| CC(O)Cn1cnc2c(N)n...|C#CCCC[C@H](Nc1nc...|        BRD4|          363.413|          119.167|           193.21|    689.085| 2.6868|\n",
      "|295246834| C#CCCC[C@H](NC(=O...|       C=Cc1ccc(N)cc1| CC(O)Cn1cnc2c(N)n...|C#CCCC[C@H](Nc1nc...|         HSA|          363.413|          119.167|           193.21|    689.085| 2.6868|\n",
      "|295246835| C#CCCC[C@H](NC(=O...|       C=Cc1ccc(N)cc1| CC(O)Cn1cnc2c(N)n...|C#CCCC[C@H](Nc1nc...|         sEH|          363.413|          119.167|           193.21|    689.085| 2.6868|\n",
      "|295246836| C#CCCC[C@H](NC(=O...|       C=Cc1ccc(N)cc1|     CC1(C)CCCC1(O)CN|C#CCCC[C@H](Nc1nc...|        BRD4|          363.413|          119.167|           143.23|    639.105| 3.7758|\n",
      "|295246837| C#CCCC[C@H](NC(=O...|       C=Cc1ccc(N)cc1|     CC1(C)CCCC1(O)CN|C#CCCC[C@H](Nc1nc...|         HSA|          363.413|          119.167|           143.23|    639.105| 3.7758|\n",
      "|295246838| C#CCCC[C@H](NC(=O...|       C=Cc1ccc(N)cc1|     CC1(C)CCCC1(O)CN|C#CCCC[C@H](Nc1nc...|         sEH|          363.413|          119.167|           143.23|    639.105| 3.7758|\n",
      "|295246839| C#CCCC[C@H](NC(=O...|       C=Cc1ccc(N)cc1|  COC(=O)c1cc(Cl)sc1N|C#CCCC[C@H](Nc1nc...|        BRD4|          363.413|          119.167|          191.639|    687.514| 4.6678|\n",
      "|295246840| C#CCCC[C@H](NC(=O...|       C=Cc1ccc(N)cc1|  COC(=O)c1cc(Cl)sc1N|C#CCCC[C@H](Nc1nc...|         HSA|          363.413|          119.167|          191.639|    687.514| 4.6678|\n",
      "|295246841| C#CCCC[C@H](NC(=O...|       C=Cc1ccc(N)cc1|  COC(=O)c1cc(Cl)sc1N|C#CCCC[C@H](Nc1nc...|         sEH|          363.413|          119.167|          191.639|    687.514| 4.6678|\n",
      "|295246842| C#CCCC[C@H](NC(=O...|       C=Cc1ccc(N)cc1|       CSC1CCC(CN)CC1|C#CCCC[C@H](Nc1nc...|        BRD4|          363.413|          119.167|          159.298|    655.173| 4.7564|\n",
      "|295246843| C#CCCC[C@H](NC(=O...|       C=Cc1ccc(N)cc1|       CSC1CCC(CN)CC1|C#CCCC[C@H](Nc1nc...|         HSA|          363.413|          119.167|          159.298|    655.173| 4.7564|\n",
      "|295246844| C#CCCC[C@H](NC(=O...|       C=Cc1ccc(N)cc1|       CSC1CCC(CN)CC1|C#CCCC[C@H](Nc1nc...|         sEH|          363.413|          119.167|          159.298|    655.173| 4.7564|\n",
      "|295246845| C#CCCC[C@H](NC(=O...|       C=Cc1ccc(N)cc1| Cc1ccc(CN)c(N2CCC...|C#CCCC[C@H](Nc1nc...|        BRD4|          363.413|          119.167|          263.212|    686.165|4.94342|\n",
      "|295246846| C#CCCC[C@H](NC(=O...|       C=Cc1ccc(N)cc1| Cc1ccc(CN)c(N2CCC...|C#CCCC[C@H](Nc1nc...|         HSA|          363.413|          119.167|          263.212|    686.165|4.94342|\n",
      "|295246847| C#CCCC[C@H](NC(=O...|       C=Cc1ccc(N)cc1| Cc1ccc(CN)c(N2CCC...|C#CCCC[C@H](Nc1nc...|         sEH|          363.413|          119.167|          263.212|    686.165|4.94342|\n",
      "|295246848| C#CCCC[C@H](NC(=O...|       C=Cc1ccc(N)cc1| Cc1cccc(NC(=O)COc...|C#CCCC[C@H](Nc1nc...|        BRD4|          363.413|          119.167|           320.82|    780.234|5.40322|\n",
      "|295246849| C#CCCC[C@H](NC(=O...|       C=Cc1ccc(N)cc1| Cc1cccc(NC(=O)COc...|C#CCCC[C@H](Nc1nc...|         HSA|          363.413|          119.167|           320.82|    780.234|5.40322|\n",
      "+---------+---------------------+---------------------+---------------------+--------------------+------------+-----------------+-----------------+-----------------+-----------+-------+\n",
      "only showing top 20 rows\n",
      "\n"
     ]
    },
    {
     "name": "stderr",
     "output_type": "stream",
     "text": [
      "                                                                                \r"
     ]
    }
   ],
   "source": [
    "# 로그 P 값을 계산하는 UDF 생성\n",
    "def calculate_logP(smiles):\n",
    "    molecule = Chem.MolFromSmiles(smiles)\n",
    "    return Crippen.MolLogP(molecule) if molecule else None\n",
    "\n",
    "calculate_logP_udf = udf(calculate_logP, FloatType())\n",
    "\n",
    "# molecule SMILES로부터 로그 P 값을 계산하여 새로운 열로 추가\n",
    "train = train.withColumn(\"logP\", calculate_logP_udf(train[\"molecule_smiles\"]))\n",
    "\n",
    "# 데이터프레임의 업데이트된 구조 및 데이터 확인\n",
    "train.show()"
   ]
  },
  {
   "cell_type": "code",
   "execution_count": 9,
   "id": "eaeeaafc",
   "metadata": {
    "execution": {
     "iopub.execute_input": "2024-04-18T14:21:54.839477Z",
     "iopub.status.busy": "2024-04-18T14:21:54.839028Z",
     "iopub.status.idle": "2024-04-18T14:21:56.662088Z",
     "shell.execute_reply": "2024-04-18T14:21:56.660786Z"
    },
    "papermill": {
     "duration": 1.857588,
     "end_time": "2024-04-18T14:21:56.665719",
     "exception": false,
     "start_time": "2024-04-18T14:21:54.808131",
     "status": "completed"
    },
    "tags": []
   },
   "outputs": [
    {
     "name": "stderr",
     "output_type": "stream",
     "text": [
      "                                                                                \r"
     ]
    },
    {
     "name": "stdout",
     "output_type": "stream",
     "text": [
      "+---------+---------------------+---------------------+---------------------+--------------------+------------+-----------------+-----------------+-----------------+-----------+-------+-------+-------+\n",
      "|       id|buildingblock1_smiles|buildingblock2_smiles|buildingblock3_smiles|     molecule_smiles|protein_name|mw_buildingblock1|mw_buildingblock2|mw_buildingblock3|mw_molecule|   logP|num_hbd|num_hba|\n",
      "+---------+---------------------+---------------------+---------------------+--------------------+------------+-----------------+-----------------+-----------------+-----------+-------+-------+-------+\n",
      "|295246830| C#CCCC[C@H](NC(=O...|       C=Cc1ccc(N)cc1|       C=Cc1ccc(N)cc1|C#CCCC[C@H](Nc1nc...|        BRD4|          363.413|          119.167|          119.167|    615.042| 4.8093|      4|      7|\n",
      "|295246831| C#CCCC[C@H](NC(=O...|       C=Cc1ccc(N)cc1|       C=Cc1ccc(N)cc1|C#CCCC[C@H](Nc1nc...|         HSA|          363.413|          119.167|          119.167|    615.042| 4.8093|      4|      7|\n",
      "|295246832| C#CCCC[C@H](NC(=O...|       C=Cc1ccc(N)cc1|       C=Cc1ccc(N)cc1|C#CCCC[C@H](Nc1nc...|         sEH|          363.413|          119.167|          119.167|    615.042| 4.8093|      4|      7|\n",
      "|295246833| C#CCCC[C@H](NC(=O...|       C=Cc1ccc(N)cc1| CC(O)Cn1cnc2c(N)n...|C#CCCC[C@H](Nc1nc...|        BRD4|          363.413|          119.167|           193.21|    689.085| 2.6868|      5|     12|\n",
      "|295246834| C#CCCC[C@H](NC(=O...|       C=Cc1ccc(N)cc1| CC(O)Cn1cnc2c(N)n...|C#CCCC[C@H](Nc1nc...|         HSA|          363.413|          119.167|           193.21|    689.085| 2.6868|      5|     12|\n",
      "|295246835| C#CCCC[C@H](NC(=O...|       C=Cc1ccc(N)cc1| CC(O)Cn1cnc2c(N)n...|C#CCCC[C@H](Nc1nc...|         sEH|          363.413|          119.167|           193.21|    689.085| 2.6868|      5|     12|\n",
      "|295246836| C#CCCC[C@H](NC(=O...|       C=Cc1ccc(N)cc1|     CC1(C)CCCC1(O)CN|C#CCCC[C@H](Nc1nc...|        BRD4|          363.413|          119.167|           143.23|    639.105| 3.7758|      5|      8|\n",
      "|295246837| C#CCCC[C@H](NC(=O...|       C=Cc1ccc(N)cc1|     CC1(C)CCCC1(O)CN|C#CCCC[C@H](Nc1nc...|         HSA|          363.413|          119.167|           143.23|    639.105| 3.7758|      5|      8|\n",
      "|295246838| C#CCCC[C@H](NC(=O...|       C=Cc1ccc(N)cc1|     CC1(C)CCCC1(O)CN|C#CCCC[C@H](Nc1nc...|         sEH|          363.413|          119.167|           143.23|    639.105| 3.7758|      5|      8|\n",
      "|295246839| C#CCCC[C@H](NC(=O...|       C=Cc1ccc(N)cc1|  COC(=O)c1cc(Cl)sc1N|C#CCCC[C@H](Nc1nc...|        BRD4|          363.413|          119.167|          191.639|    687.514| 4.6678|      4|     10|\n",
      "|295246840| C#CCCC[C@H](NC(=O...|       C=Cc1ccc(N)cc1|  COC(=O)c1cc(Cl)sc1N|C#CCCC[C@H](Nc1nc...|         HSA|          363.413|          119.167|          191.639|    687.514| 4.6678|      4|     10|\n",
      "|295246841| C#CCCC[C@H](NC(=O...|       C=Cc1ccc(N)cc1|  COC(=O)c1cc(Cl)sc1N|C#CCCC[C@H](Nc1nc...|         sEH|          363.413|          119.167|          191.639|    687.514| 4.6678|      4|     10|\n",
      "|295246842| C#CCCC[C@H](NC(=O...|       C=Cc1ccc(N)cc1|       CSC1CCC(CN)CC1|C#CCCC[C@H](Nc1nc...|        BRD4|          363.413|          119.167|          159.298|    655.173| 4.7564|      4|      8|\n",
      "|295246843| C#CCCC[C@H](NC(=O...|       C=Cc1ccc(N)cc1|       CSC1CCC(CN)CC1|C#CCCC[C@H](Nc1nc...|         HSA|          363.413|          119.167|          159.298|    655.173| 4.7564|      4|      8|\n",
      "|295246844| C#CCCC[C@H](NC(=O...|       C=Cc1ccc(N)cc1|       CSC1CCC(CN)CC1|C#CCCC[C@H](Nc1nc...|         sEH|          363.413|          119.167|          159.298|    655.173| 4.7564|      4|      8|\n",
      "|295246845| C#CCCC[C@H](NC(=O...|       C=Cc1ccc(N)cc1| Cc1ccc(CN)c(N2CCC...|C#CCCC[C@H](Nc1nc...|        BRD4|          363.413|          119.167|          263.212|    686.165|4.94342|      4|      8|\n",
      "|295246846| C#CCCC[C@H](NC(=O...|       C=Cc1ccc(N)cc1| Cc1ccc(CN)c(N2CCC...|C#CCCC[C@H](Nc1nc...|         HSA|          363.413|          119.167|          263.212|    686.165|4.94342|      4|      8|\n",
      "|295246847| C#CCCC[C@H](NC(=O...|       C=Cc1ccc(N)cc1| Cc1ccc(CN)c(N2CCC...|C#CCCC[C@H](Nc1nc...|         sEH|          363.413|          119.167|          263.212|    686.165|4.94342|      4|      8|\n",
      "|295246848| C#CCCC[C@H](NC(=O...|       C=Cc1ccc(N)cc1| Cc1cccc(NC(=O)COc...|C#CCCC[C@H](Nc1nc...|        BRD4|          363.413|          119.167|           320.82|    780.234|5.40322|      5|      9|\n",
      "|295246849| C#CCCC[C@H](NC(=O...|       C=Cc1ccc(N)cc1| Cc1cccc(NC(=O)COc...|C#CCCC[C@H](Nc1nc...|         HSA|          363.413|          119.167|           320.82|    780.234|5.40322|      5|      9|\n",
      "+---------+---------------------+---------------------+---------------------+--------------------+------------+-----------------+-----------------+-----------------+-----------+-------+-------+-------+\n",
      "only showing top 20 rows\n",
      "\n"
     ]
    }
   ],
   "source": [
    "# 수소결합 기증자(HBD) 수를 계산하는 UDF 생성\n",
    "def calculate_hbd(smiles):\n",
    "    molecule = Chem.MolFromSmiles(smiles)\n",
    "    return rdMolDescriptors.CalcNumHBD(molecule) if molecule else None\n",
    "\n",
    "# 수소결합 수용체(HBA) 수를 계산하는 UDF 생성\n",
    "def calculate_hba(smiles):\n",
    "    molecule = Chem.MolFromSmiles(smiles)\n",
    "    return rdMolDescriptors.CalcNumHBA(molecule) if molecule else None\n",
    "\n",
    "# UDF 등록\n",
    "calculate_hbd_udf = udf(calculate_hbd, IntegerType())\n",
    "calculate_hba_udf = udf(calculate_hba, IntegerType())\n",
    "\n",
    "# DataFrame에 수소결합 기증자와 수용체 수를 계산하여 새로운 열로 추가\n",
    "train = train.withColumn(\"num_hbd\", calculate_hbd_udf(train[\"molecule_smiles\"]))\n",
    "train = train.withColumn(\"num_hba\", calculate_hba_udf(train[\"molecule_smiles\"]))\n",
    "\n",
    "# 데이터프레임의 업데이트된 구조 및 데이터 확인\n",
    "train.show()"
   ]
  },
  {
   "cell_type": "code",
   "execution_count": 10,
   "id": "d16e0292",
   "metadata": {
    "execution": {
     "iopub.execute_input": "2024-04-18T14:21:56.752256Z",
     "iopub.status.busy": "2024-04-18T14:21:56.751717Z",
     "iopub.status.idle": "2024-04-18T14:21:58.287574Z",
     "shell.execute_reply": "2024-04-18T14:21:58.286166Z"
    },
    "papermill": {
     "duration": 1.58512,
     "end_time": "2024-04-18T14:21:58.292713",
     "exception": false,
     "start_time": "2024-04-18T14:21:56.707593",
     "status": "completed"
    },
    "tags": []
   },
   "outputs": [
    {
     "name": "stderr",
     "output_type": "stream",
     "text": [
      "[Stage 8:===================>                                       (1 + 2) / 3]\r"
     ]
    },
    {
     "name": "stdout",
     "output_type": "stream",
     "text": [
      "+---------+---------------------+---------------------+---------------------+--------------------+------------+-----------------+-----------------+-----------------+-----------+-------+-------+-------+-------------------+\n",
      "|       id|buildingblock1_smiles|buildingblock2_smiles|buildingblock3_smiles|     molecule_smiles|protein_name|mw_buildingblock1|mw_buildingblock2|mw_buildingblock3|mw_molecule|   logP|num_hbd|num_hba|num_rotatable_bonds|\n",
      "+---------+---------------------+---------------------+---------------------+--------------------+------------+-----------------+-----------------+-----------------+-----------+-------+-------+-------+-------------------+\n",
      "|295246830| C#CCCC[C@H](NC(=O...|       C=Cc1ccc(N)cc1|       C=Cc1ccc(N)cc1|C#CCCC[C@H](Nc1nc...|        BRD4|          363.413|          119.167|          119.167|    615.042| 4.8093|      4|      7|                 12|\n",
      "|295246831| C#CCCC[C@H](NC(=O...|       C=Cc1ccc(N)cc1|       C=Cc1ccc(N)cc1|C#CCCC[C@H](Nc1nc...|         HSA|          363.413|          119.167|          119.167|    615.042| 4.8093|      4|      7|                 12|\n",
      "|295246832| C#CCCC[C@H](NC(=O...|       C=Cc1ccc(N)cc1|       C=Cc1ccc(N)cc1|C#CCCC[C@H](Nc1nc...|         sEH|          363.413|          119.167|          119.167|    615.042| 4.8093|      4|      7|                 12|\n",
      "|295246833| C#CCCC[C@H](NC(=O...|       C=Cc1ccc(N)cc1| CC(O)Cn1cnc2c(N)n...|C#CCCC[C@H](Nc1nc...|        BRD4|          363.413|          119.167|           193.21|    689.085| 2.6868|      5|     12|                 13|\n",
      "|295246834| C#CCCC[C@H](NC(=O...|       C=Cc1ccc(N)cc1| CC(O)Cn1cnc2c(N)n...|C#CCCC[C@H](Nc1nc...|         HSA|          363.413|          119.167|           193.21|    689.085| 2.6868|      5|     12|                 13|\n",
      "|295246835| C#CCCC[C@H](NC(=O...|       C=Cc1ccc(N)cc1| CC(O)Cn1cnc2c(N)n...|C#CCCC[C@H](Nc1nc...|         sEH|          363.413|          119.167|           193.21|    689.085| 2.6868|      5|     12|                 13|\n",
      "|295246836| C#CCCC[C@H](NC(=O...|       C=Cc1ccc(N)cc1|     CC1(C)CCCC1(O)CN|C#CCCC[C@H](Nc1nc...|        BRD4|          363.413|          119.167|           143.23|    639.105| 3.7758|      5|      8|                 12|\n",
      "|295246837| C#CCCC[C@H](NC(=O...|       C=Cc1ccc(N)cc1|     CC1(C)CCCC1(O)CN|C#CCCC[C@H](Nc1nc...|         HSA|          363.413|          119.167|           143.23|    639.105| 3.7758|      5|      8|                 12|\n",
      "|295246838| C#CCCC[C@H](NC(=O...|       C=Cc1ccc(N)cc1|     CC1(C)CCCC1(O)CN|C#CCCC[C@H](Nc1nc...|         sEH|          363.413|          119.167|           143.23|    639.105| 3.7758|      5|      8|                 12|\n",
      "|295246839| C#CCCC[C@H](NC(=O...|       C=Cc1ccc(N)cc1|  COC(=O)c1cc(Cl)sc1N|C#CCCC[C@H](Nc1nc...|        BRD4|          363.413|          119.167|          191.639|    687.514| 4.6678|      4|     10|                 12|\n",
      "|295246840| C#CCCC[C@H](NC(=O...|       C=Cc1ccc(N)cc1|  COC(=O)c1cc(Cl)sc1N|C#CCCC[C@H](Nc1nc...|         HSA|          363.413|          119.167|          191.639|    687.514| 4.6678|      4|     10|                 12|\n",
      "|295246841| C#CCCC[C@H](NC(=O...|       C=Cc1ccc(N)cc1|  COC(=O)c1cc(Cl)sc1N|C#CCCC[C@H](Nc1nc...|         sEH|          363.413|          119.167|          191.639|    687.514| 4.6678|      4|     10|                 12|\n",
      "|295246842| C#CCCC[C@H](NC(=O...|       C=Cc1ccc(N)cc1|       CSC1CCC(CN)CC1|C#CCCC[C@H](Nc1nc...|        BRD4|          363.413|          119.167|          159.298|    655.173| 4.7564|      4|      8|                 13|\n",
      "|295246843| C#CCCC[C@H](NC(=O...|       C=Cc1ccc(N)cc1|       CSC1CCC(CN)CC1|C#CCCC[C@H](Nc1nc...|         HSA|          363.413|          119.167|          159.298|    655.173| 4.7564|      4|      8|                 13|\n",
      "|295246844| C#CCCC[C@H](NC(=O...|       C=Cc1ccc(N)cc1|       CSC1CCC(CN)CC1|C#CCCC[C@H](Nc1nc...|         sEH|          363.413|          119.167|          159.298|    655.173| 4.7564|      4|      8|                 13|\n",
      "|295246845| C#CCCC[C@H](NC(=O...|       C=Cc1ccc(N)cc1| Cc1ccc(CN)c(N2CCC...|C#CCCC[C@H](Nc1nc...|        BRD4|          363.413|          119.167|          263.212|    686.165|4.94342|      4|      8|                 13|\n",
      "|295246846| C#CCCC[C@H](NC(=O...|       C=Cc1ccc(N)cc1| Cc1ccc(CN)c(N2CCC...|C#CCCC[C@H](Nc1nc...|         HSA|          363.413|          119.167|          263.212|    686.165|4.94342|      4|      8|                 13|\n",
      "|295246847| C#CCCC[C@H](NC(=O...|       C=Cc1ccc(N)cc1| Cc1ccc(CN)c(N2CCC...|C#CCCC[C@H](Nc1nc...|         sEH|          363.413|          119.167|          263.212|    686.165|4.94342|      4|      8|                 13|\n",
      "|295246848| C#CCCC[C@H](NC(=O...|       C=Cc1ccc(N)cc1| Cc1cccc(NC(=O)COc...|C#CCCC[C@H](Nc1nc...|        BRD4|          363.413|          119.167|           320.82|    780.234|5.40322|      5|      9|                 17|\n",
      "|295246849| C#CCCC[C@H](NC(=O...|       C=Cc1ccc(N)cc1| Cc1cccc(NC(=O)COc...|C#CCCC[C@H](Nc1nc...|         HSA|          363.413|          119.167|           320.82|    780.234|5.40322|      5|      9|                 17|\n",
      "+---------+---------------------+---------------------+---------------------+--------------------+------------+-----------------+-----------------+-----------------+-----------+-------+-------+-------+-------------------+\n",
      "only showing top 20 rows\n",
      "\n"
     ]
    },
    {
     "name": "stderr",
     "output_type": "stream",
     "text": [
      "                                                                                \r"
     ]
    }
   ],
   "source": [
    "# 회전 가능한 결합 수를 계산하는 UDF 생성\n",
    "def calculate_rot_bonds(smiles):\n",
    "    molecule = Chem.MolFromSmiles(smiles)\n",
    "    return rdMolDescriptors.CalcNumRotatableBonds(molecule) if molecule else None\n",
    "\n",
    "# UDF를 등록\n",
    "calculate_rot_bonds_udf = udf(calculate_rot_bonds, IntegerType())\n",
    "\n",
    "# DataFrame에 회전 가능한 결합 수를 계산하여 새로운 열로 추가\n",
    "train = train.withColumn(\"num_rotatable_bonds\", calculate_rot_bonds_udf(train[\"molecule_smiles\"]))\n",
    "\n",
    "# 데이터프레임의 업데이트된 구조 및 데이터 확인\n",
    "train.show()"
   ]
  },
  {
   "cell_type": "code",
   "execution_count": 11,
   "id": "9e7aff73",
   "metadata": {
    "execution": {
     "iopub.execute_input": "2024-04-18T14:21:58.359969Z",
     "iopub.status.busy": "2024-04-18T14:21:58.359551Z",
     "iopub.status.idle": "2024-04-18T14:21:59.978837Z",
     "shell.execute_reply": "2024-04-18T14:21:59.977573Z"
    },
    "papermill": {
     "duration": 1.653901,
     "end_time": "2024-04-18T14:21:59.982445",
     "exception": false,
     "start_time": "2024-04-18T14:21:58.328544",
     "status": "completed"
    },
    "tags": []
   },
   "outputs": [
    {
     "name": "stderr",
     "output_type": "stream",
     "text": [
      "[Stage 10:======================================>                   (2 + 1) / 3]\r"
     ]
    },
    {
     "name": "stdout",
     "output_type": "stream",
     "text": [
      "+---------+---------------------+---------------------+---------------------+--------------------+------------+-----------------+-----------------+-----------------+-----------+-------+-------+-------+-------------------+---------+\n",
      "|       id|buildingblock1_smiles|buildingblock2_smiles|buildingblock3_smiles|     molecule_smiles|protein_name|mw_buildingblock1|mw_buildingblock2|mw_buildingblock3|mw_molecule|   logP|num_hbd|num_hba|num_rotatable_bonds|num_rings|\n",
      "+---------+---------------------+---------------------+---------------------+--------------------+------------+-----------------+-----------------+-----------------+-----------+-------+-------+-------+-------------------+---------+\n",
      "|295246830| C#CCCC[C@H](NC(=O...|       C=Cc1ccc(N)cc1|       C=Cc1ccc(N)cc1|C#CCCC[C@H](Nc1nc...|        BRD4|          363.413|          119.167|          119.167|    615.042| 4.8093|      4|      7|                 12|        3|\n",
      "|295246831| C#CCCC[C@H](NC(=O...|       C=Cc1ccc(N)cc1|       C=Cc1ccc(N)cc1|C#CCCC[C@H](Nc1nc...|         HSA|          363.413|          119.167|          119.167|    615.042| 4.8093|      4|      7|                 12|        3|\n",
      "|295246832| C#CCCC[C@H](NC(=O...|       C=Cc1ccc(N)cc1|       C=Cc1ccc(N)cc1|C#CCCC[C@H](Nc1nc...|         sEH|          363.413|          119.167|          119.167|    615.042| 4.8093|      4|      7|                 12|        3|\n",
      "|295246833| C#CCCC[C@H](NC(=O...|       C=Cc1ccc(N)cc1| CC(O)Cn1cnc2c(N)n...|C#CCCC[C@H](Nc1nc...|        BRD4|          363.413|          119.167|           193.21|    689.085| 2.6868|      5|     12|                 13|        4|\n",
      "|295246834| C#CCCC[C@H](NC(=O...|       C=Cc1ccc(N)cc1| CC(O)Cn1cnc2c(N)n...|C#CCCC[C@H](Nc1nc...|         HSA|          363.413|          119.167|           193.21|    689.085| 2.6868|      5|     12|                 13|        4|\n",
      "|295246835| C#CCCC[C@H](NC(=O...|       C=Cc1ccc(N)cc1| CC(O)Cn1cnc2c(N)n...|C#CCCC[C@H](Nc1nc...|         sEH|          363.413|          119.167|           193.21|    689.085| 2.6868|      5|     12|                 13|        4|\n",
      "|295246836| C#CCCC[C@H](NC(=O...|       C=Cc1ccc(N)cc1|     CC1(C)CCCC1(O)CN|C#CCCC[C@H](Nc1nc...|        BRD4|          363.413|          119.167|           143.23|    639.105| 3.7758|      5|      8|                 12|        3|\n",
      "|295246837| C#CCCC[C@H](NC(=O...|       C=Cc1ccc(N)cc1|     CC1(C)CCCC1(O)CN|C#CCCC[C@H](Nc1nc...|         HSA|          363.413|          119.167|           143.23|    639.105| 3.7758|      5|      8|                 12|        3|\n",
      "|295246838| C#CCCC[C@H](NC(=O...|       C=Cc1ccc(N)cc1|     CC1(C)CCCC1(O)CN|C#CCCC[C@H](Nc1nc...|         sEH|          363.413|          119.167|           143.23|    639.105| 3.7758|      5|      8|                 12|        3|\n",
      "|295246839| C#CCCC[C@H](NC(=O...|       C=Cc1ccc(N)cc1|  COC(=O)c1cc(Cl)sc1N|C#CCCC[C@H](Nc1nc...|        BRD4|          363.413|          119.167|          191.639|    687.514| 4.6678|      4|     10|                 12|        3|\n",
      "|295246840| C#CCCC[C@H](NC(=O...|       C=Cc1ccc(N)cc1|  COC(=O)c1cc(Cl)sc1N|C#CCCC[C@H](Nc1nc...|         HSA|          363.413|          119.167|          191.639|    687.514| 4.6678|      4|     10|                 12|        3|\n",
      "|295246841| C#CCCC[C@H](NC(=O...|       C=Cc1ccc(N)cc1|  COC(=O)c1cc(Cl)sc1N|C#CCCC[C@H](Nc1nc...|         sEH|          363.413|          119.167|          191.639|    687.514| 4.6678|      4|     10|                 12|        3|\n",
      "|295246842| C#CCCC[C@H](NC(=O...|       C=Cc1ccc(N)cc1|       CSC1CCC(CN)CC1|C#CCCC[C@H](Nc1nc...|        BRD4|          363.413|          119.167|          159.298|    655.173| 4.7564|      4|      8|                 13|        3|\n",
      "|295246843| C#CCCC[C@H](NC(=O...|       C=Cc1ccc(N)cc1|       CSC1CCC(CN)CC1|C#CCCC[C@H](Nc1nc...|         HSA|          363.413|          119.167|          159.298|    655.173| 4.7564|      4|      8|                 13|        3|\n",
      "|295246844| C#CCCC[C@H](NC(=O...|       C=Cc1ccc(N)cc1|       CSC1CCC(CN)CC1|C#CCCC[C@H](Nc1nc...|         sEH|          363.413|          119.167|          159.298|    655.173| 4.7564|      4|      8|                 13|        3|\n",
      "|295246845| C#CCCC[C@H](NC(=O...|       C=Cc1ccc(N)cc1| Cc1ccc(CN)c(N2CCC...|C#CCCC[C@H](Nc1nc...|        BRD4|          363.413|          119.167|          263.212|    686.165|4.94342|      4|      8|                 13|        4|\n",
      "|295246846| C#CCCC[C@H](NC(=O...|       C=Cc1ccc(N)cc1| Cc1ccc(CN)c(N2CCC...|C#CCCC[C@H](Nc1nc...|         HSA|          363.413|          119.167|          263.212|    686.165|4.94342|      4|      8|                 13|        4|\n",
      "|295246847| C#CCCC[C@H](NC(=O...|       C=Cc1ccc(N)cc1| Cc1ccc(CN)c(N2CCC...|C#CCCC[C@H](Nc1nc...|         sEH|          363.413|          119.167|          263.212|    686.165|4.94342|      4|      8|                 13|        4|\n",
      "|295246848| C#CCCC[C@H](NC(=O...|       C=Cc1ccc(N)cc1| Cc1cccc(NC(=O)COc...|C#CCCC[C@H](Nc1nc...|        BRD4|          363.413|          119.167|           320.82|    780.234|5.40322|      5|      9|                 17|        4|\n",
      "|295246849| C#CCCC[C@H](NC(=O...|       C=Cc1ccc(N)cc1| Cc1cccc(NC(=O)COc...|C#CCCC[C@H](Nc1nc...|         HSA|          363.413|          119.167|           320.82|    780.234|5.40322|      5|      9|                 17|        4|\n",
      "+---------+---------------------+---------------------+---------------------+--------------------+------------+-----------------+-----------------+-----------------+-----------+-------+-------+-------+-------------------+---------+\n",
      "only showing top 20 rows\n",
      "\n"
     ]
    },
    {
     "name": "stderr",
     "output_type": "stream",
     "text": [
      "                                                                                \r"
     ]
    }
   ],
   "source": [
    "# 고리 수를 계산하는 UDF 생성\n",
    "def calculate_ring_count(smiles):\n",
    "    molecule = Chem.MolFromSmiles(smiles)\n",
    "    return rdMolDescriptors.CalcNumRings(molecule) if molecule else None\n",
    "\n",
    "# UDF를 등록\n",
    "calculate_ring_count_udf = udf(calculate_ring_count, IntegerType())\n",
    "\n",
    "# DataFrame에 고리 수를 계산하여 새로운 열로 추가\n",
    "train = train.withColumn(\"num_rings\", calculate_ring_count_udf(train[\"molecule_smiles\"]))\n",
    "\n",
    "# 데이터프레임의 업데이트된 구조 및 데이터 확인\n",
    "train.show()"
   ]
  },
  {
   "cell_type": "code",
   "execution_count": 12,
   "id": "67ff8efa",
   "metadata": {
    "execution": {
     "iopub.execute_input": "2024-04-18T14:22:00.069620Z",
     "iopub.status.busy": "2024-04-18T14:22:00.069112Z",
     "iopub.status.idle": "2024-04-18T14:22:01.646551Z",
     "shell.execute_reply": "2024-04-18T14:22:01.645223Z"
    },
    "papermill": {
     "duration": 1.626457,
     "end_time": "2024-04-18T14:22:01.650420",
     "exception": false,
     "start_time": "2024-04-18T14:22:00.023963",
     "status": "completed"
    },
    "tags": []
   },
   "outputs": [
    {
     "name": "stderr",
     "output_type": "stream",
     "text": [
      "                                                                                \r"
     ]
    },
    {
     "name": "stdout",
     "output_type": "stream",
     "text": [
      "+---------+---------------------+---------------------+---------------------+--------------------+------------+-----------------+-----------------+-----------------+-----------+-------+-------+-------+-------------------+---------+------------+\n",
      "|       id|buildingblock1_smiles|buildingblock2_smiles|buildingblock3_smiles|     molecule_smiles|protein_name|mw_buildingblock1|mw_buildingblock2|mw_buildingblock3|mw_molecule|   logP|num_hbd|num_hba|num_rotatable_bonds|num_rings|num_c1ccccc1|\n",
      "+---------+---------------------+---------------------+---------------------+--------------------+------------+-----------------+-----------------+-----------------+-----------+-------+-------+-------+-------------------+---------+------------+\n",
      "|295246830| C#CCCC[C@H](NC(=O...|       C=Cc1ccc(N)cc1|       C=Cc1ccc(N)cc1|C#CCCC[C@H](Nc1nc...|        BRD4|          363.413|          119.167|          119.167|    615.042| 4.8093|      4|      7|                 12|        3|           2|\n",
      "|295246831| C#CCCC[C@H](NC(=O...|       C=Cc1ccc(N)cc1|       C=Cc1ccc(N)cc1|C#CCCC[C@H](Nc1nc...|         HSA|          363.413|          119.167|          119.167|    615.042| 4.8093|      4|      7|                 12|        3|           2|\n",
      "|295246832| C#CCCC[C@H](NC(=O...|       C=Cc1ccc(N)cc1|       C=Cc1ccc(N)cc1|C#CCCC[C@H](Nc1nc...|         sEH|          363.413|          119.167|          119.167|    615.042| 4.8093|      4|      7|                 12|        3|           2|\n",
      "|295246833| C#CCCC[C@H](NC(=O...|       C=Cc1ccc(N)cc1| CC(O)Cn1cnc2c(N)n...|C#CCCC[C@H](Nc1nc...|        BRD4|          363.413|          119.167|           193.21|    689.085| 2.6868|      5|     12|                 13|        4|           1|\n",
      "|295246834| C#CCCC[C@H](NC(=O...|       C=Cc1ccc(N)cc1| CC(O)Cn1cnc2c(N)n...|C#CCCC[C@H](Nc1nc...|         HSA|          363.413|          119.167|           193.21|    689.085| 2.6868|      5|     12|                 13|        4|           1|\n",
      "|295246835| C#CCCC[C@H](NC(=O...|       C=Cc1ccc(N)cc1| CC(O)Cn1cnc2c(N)n...|C#CCCC[C@H](Nc1nc...|         sEH|          363.413|          119.167|           193.21|    689.085| 2.6868|      5|     12|                 13|        4|           1|\n",
      "|295246836| C#CCCC[C@H](NC(=O...|       C=Cc1ccc(N)cc1|     CC1(C)CCCC1(O)CN|C#CCCC[C@H](Nc1nc...|        BRD4|          363.413|          119.167|           143.23|    639.105| 3.7758|      5|      8|                 12|        3|           1|\n",
      "|295246837| C#CCCC[C@H](NC(=O...|       C=Cc1ccc(N)cc1|     CC1(C)CCCC1(O)CN|C#CCCC[C@H](Nc1nc...|         HSA|          363.413|          119.167|           143.23|    639.105| 3.7758|      5|      8|                 12|        3|           1|\n",
      "|295246838| C#CCCC[C@H](NC(=O...|       C=Cc1ccc(N)cc1|     CC1(C)CCCC1(O)CN|C#CCCC[C@H](Nc1nc...|         sEH|          363.413|          119.167|           143.23|    639.105| 3.7758|      5|      8|                 12|        3|           1|\n",
      "|295246839| C#CCCC[C@H](NC(=O...|       C=Cc1ccc(N)cc1|  COC(=O)c1cc(Cl)sc1N|C#CCCC[C@H](Nc1nc...|        BRD4|          363.413|          119.167|          191.639|    687.514| 4.6678|      4|     10|                 12|        3|           1|\n",
      "|295246840| C#CCCC[C@H](NC(=O...|       C=Cc1ccc(N)cc1|  COC(=O)c1cc(Cl)sc1N|C#CCCC[C@H](Nc1nc...|         HSA|          363.413|          119.167|          191.639|    687.514| 4.6678|      4|     10|                 12|        3|           1|\n",
      "|295246841| C#CCCC[C@H](NC(=O...|       C=Cc1ccc(N)cc1|  COC(=O)c1cc(Cl)sc1N|C#CCCC[C@H](Nc1nc...|         sEH|          363.413|          119.167|          191.639|    687.514| 4.6678|      4|     10|                 12|        3|           1|\n",
      "|295246842| C#CCCC[C@H](NC(=O...|       C=Cc1ccc(N)cc1|       CSC1CCC(CN)CC1|C#CCCC[C@H](Nc1nc...|        BRD4|          363.413|          119.167|          159.298|    655.173| 4.7564|      4|      8|                 13|        3|           1|\n",
      "|295246843| C#CCCC[C@H](NC(=O...|       C=Cc1ccc(N)cc1|       CSC1CCC(CN)CC1|C#CCCC[C@H](Nc1nc...|         HSA|          363.413|          119.167|          159.298|    655.173| 4.7564|      4|      8|                 13|        3|           1|\n",
      "|295246844| C#CCCC[C@H](NC(=O...|       C=Cc1ccc(N)cc1|       CSC1CCC(CN)CC1|C#CCCC[C@H](Nc1nc...|         sEH|          363.413|          119.167|          159.298|    655.173| 4.7564|      4|      8|                 13|        3|           1|\n",
      "|295246845| C#CCCC[C@H](NC(=O...|       C=Cc1ccc(N)cc1| Cc1ccc(CN)c(N2CCC...|C#CCCC[C@H](Nc1nc...|        BRD4|          363.413|          119.167|          263.212|    686.165|4.94342|      4|      8|                 13|        4|           2|\n",
      "|295246846| C#CCCC[C@H](NC(=O...|       C=Cc1ccc(N)cc1| Cc1ccc(CN)c(N2CCC...|C#CCCC[C@H](Nc1nc...|         HSA|          363.413|          119.167|          263.212|    686.165|4.94342|      4|      8|                 13|        4|           2|\n",
      "|295246847| C#CCCC[C@H](NC(=O...|       C=Cc1ccc(N)cc1| Cc1ccc(CN)c(N2CCC...|C#CCCC[C@H](Nc1nc...|         sEH|          363.413|          119.167|          263.212|    686.165|4.94342|      4|      8|                 13|        4|           2|\n",
      "|295246848| C#CCCC[C@H](NC(=O...|       C=Cc1ccc(N)cc1| Cc1cccc(NC(=O)COc...|C#CCCC[C@H](Nc1nc...|        BRD4|          363.413|          119.167|           320.82|    780.234|5.40322|      5|      9|                 17|        4|           3|\n",
      "|295246849| C#CCCC[C@H](NC(=O...|       C=Cc1ccc(N)cc1| Cc1cccc(NC(=O)COc...|C#CCCC[C@H](Nc1nc...|         HSA|          363.413|          119.167|           320.82|    780.234|5.40322|      5|      9|                 17|        4|           3|\n",
      "+---------+---------------------+---------------------+---------------------+--------------------+------------+-----------------+-----------------+-----------------+-----------+-------+-------+-------+-------------------+---------+------------+\n",
      "only showing top 20 rows\n",
      "\n"
     ]
    }
   ],
   "source": [
    "# 부분 구조 검색 결과를 계산하는 UDF 생성\n",
    "def calculate_substructure_count(smiles, substruct_smiles):\n",
    "    molecule = Chem.MolFromSmiles(smiles)\n",
    "    substructure = Chem.MolFromSmiles(substruct_smiles)\n",
    "    return len(molecule.GetSubstructMatches(substructure)) if molecule and substructure else 0\n",
    "\n",
    "# UDF 등록 (이번 경우에는 부분 구조 SMILES도 인자로 전달)\n",
    "substruct_smiles = 'c1ccccc1'\n",
    "calculate_substructure_count_udf = udf(lambda smiles: calculate_substructure_count(smiles, substruct_smiles), IntegerType())\n",
    "\n",
    "# DataFrame에 부분 구조 개수를 계산하여 새로운 열로 추가\n",
    "column_name = f'num_{substruct_smiles}'\n",
    "train = train.withColumn(column_name, calculate_substructure_count_udf(col(\"molecule_smiles\")))\n",
    "\n",
    "# 데이터프레임의 업데이트된 구조 및 데이터 확인\n",
    "train.show()"
   ]
  },
  {
   "cell_type": "code",
   "execution_count": 13,
   "id": "9d841499",
   "metadata": {
    "execution": {
     "iopub.execute_input": "2024-04-18T14:22:01.729768Z",
     "iopub.status.busy": "2024-04-18T14:22:01.728159Z",
     "iopub.status.idle": "2024-04-18T14:22:03.427173Z",
     "shell.execute_reply": "2024-04-18T14:22:03.425779Z"
    },
    "papermill": {
     "duration": 1.739156,
     "end_time": "2024-04-18T14:22:03.431320",
     "exception": false,
     "start_time": "2024-04-18T14:22:01.692164",
     "status": "completed"
    },
    "tags": []
   },
   "outputs": [
    {
     "name": "stderr",
     "output_type": "stream",
     "text": [
      "[Stage 14:===================>                                      (1 + 2) / 3]\r"
     ]
    },
    {
     "name": "stdout",
     "output_type": "stream",
     "text": [
      "+---------+---------------------+---------------------+---------------------+--------------------+------------+-----------------+-----------------+-----------------+-----------+-------+-------+-------+-------------------+---------+------------+------+\n",
      "|       id|buildingblock1_smiles|buildingblock2_smiles|buildingblock3_smiles|     molecule_smiles|protein_name|mw_buildingblock1|mw_buildingblock2|mw_buildingblock3|mw_molecule|   logP|num_hbd|num_hba|num_rotatable_bonds|num_rings|num_c1ccccc1|  tpsa|\n",
      "+---------+---------------------+---------------------+---------------------+--------------------+------------+-----------------+-----------------+-----------------+-----------+-------+-------+-------+-------------------+---------+------------+------+\n",
      "|295246830| C#CCCC[C@H](NC(=O...|       C=Cc1ccc(N)cc1|       C=Cc1ccc(N)cc1|C#CCCC[C@H](Nc1nc...|        BRD4|          363.413|          119.167|          119.167|    615.042| 4.8093|      4|      7|                 12|        3|           2|103.86|\n",
      "|295246831| C#CCCC[C@H](NC(=O...|       C=Cc1ccc(N)cc1|       C=Cc1ccc(N)cc1|C#CCCC[C@H](Nc1nc...|         HSA|          363.413|          119.167|          119.167|    615.042| 4.8093|      4|      7|                 12|        3|           2|103.86|\n",
      "|295246832| C#CCCC[C@H](NC(=O...|       C=Cc1ccc(N)cc1|       C=Cc1ccc(N)cc1|C#CCCC[C@H](Nc1nc...|         sEH|          363.413|          119.167|          119.167|    615.042| 4.8093|      4|      7|                 12|        3|           2|103.86|\n",
      "|295246833| C#CCCC[C@H](NC(=O...|       C=Cc1ccc(N)cc1| CC(O)Cn1cnc2c(N)n...|C#CCCC[C@H](Nc1nc...|        BRD4|          363.413|          119.167|           193.21|    689.085| 2.6868|      5|     12|                 13|        4|           1|167.69|\n",
      "|295246834| C#CCCC[C@H](NC(=O...|       C=Cc1ccc(N)cc1| CC(O)Cn1cnc2c(N)n...|C#CCCC[C@H](Nc1nc...|         HSA|          363.413|          119.167|           193.21|    689.085| 2.6868|      5|     12|                 13|        4|           1|167.69|\n",
      "|295246835| C#CCCC[C@H](NC(=O...|       C=Cc1ccc(N)cc1| CC(O)Cn1cnc2c(N)n...|C#CCCC[C@H](Nc1nc...|         sEH|          363.413|          119.167|           193.21|    689.085| 2.6868|      5|     12|                 13|        4|           1|167.69|\n",
      "|295246836| C#CCCC[C@H](NC(=O...|       C=Cc1ccc(N)cc1|     CC1(C)CCCC1(O)CN|C#CCCC[C@H](Nc1nc...|        BRD4|          363.413|          119.167|           143.23|    639.105| 3.7758|      5|      8|                 12|        3|           1|124.09|\n",
      "|295246837| C#CCCC[C@H](NC(=O...|       C=Cc1ccc(N)cc1|     CC1(C)CCCC1(O)CN|C#CCCC[C@H](Nc1nc...|         HSA|          363.413|          119.167|           143.23|    639.105| 3.7758|      5|      8|                 12|        3|           1|124.09|\n",
      "|295246838| C#CCCC[C@H](NC(=O...|       C=Cc1ccc(N)cc1|     CC1(C)CCCC1(O)CN|C#CCCC[C@H](Nc1nc...|         sEH|          363.413|          119.167|           143.23|    639.105| 3.7758|      5|      8|                 12|        3|           1|124.09|\n",
      "|295246839| C#CCCC[C@H](NC(=O...|       C=Cc1ccc(N)cc1|  COC(=O)c1cc(Cl)sc1N|C#CCCC[C@H](Nc1nc...|        BRD4|          363.413|          119.167|          191.639|    687.514| 4.6678|      4|     10|                 12|        3|           1|130.16|\n",
      "|295246840| C#CCCC[C@H](NC(=O...|       C=Cc1ccc(N)cc1|  COC(=O)c1cc(Cl)sc1N|C#CCCC[C@H](Nc1nc...|         HSA|          363.413|          119.167|          191.639|    687.514| 4.6678|      4|     10|                 12|        3|           1|130.16|\n",
      "|295246841| C#CCCC[C@H](NC(=O...|       C=Cc1ccc(N)cc1|  COC(=O)c1cc(Cl)sc1N|C#CCCC[C@H](Nc1nc...|         sEH|          363.413|          119.167|          191.639|    687.514| 4.6678|      4|     10|                 12|        3|           1|130.16|\n",
      "|295246842| C#CCCC[C@H](NC(=O...|       C=Cc1ccc(N)cc1|       CSC1CCC(CN)CC1|C#CCCC[C@H](Nc1nc...|        BRD4|          363.413|          119.167|          159.298|    655.173| 4.7564|      4|      8|                 13|        3|           1|103.86|\n",
      "|295246843| C#CCCC[C@H](NC(=O...|       C=Cc1ccc(N)cc1|       CSC1CCC(CN)CC1|C#CCCC[C@H](Nc1nc...|         HSA|          363.413|          119.167|          159.298|    655.173| 4.7564|      4|      8|                 13|        3|           1|103.86|\n",
      "|295246844| C#CCCC[C@H](NC(=O...|       C=Cc1ccc(N)cc1|       CSC1CCC(CN)CC1|C#CCCC[C@H](Nc1nc...|         sEH|          363.413|          119.167|          159.298|    655.173| 4.7564|      4|      8|                 13|        3|           1|103.86|\n",
      "|295246845| C#CCCC[C@H](NC(=O...|       C=Cc1ccc(N)cc1| Cc1ccc(CN)c(N2CCC...|C#CCCC[C@H](Nc1nc...|        BRD4|          363.413|          119.167|          263.212|    686.165|4.94342|      4|      8|                 13|        4|           2| 107.1|\n",
      "|295246846| C#CCCC[C@H](NC(=O...|       C=Cc1ccc(N)cc1| Cc1ccc(CN)c(N2CCC...|C#CCCC[C@H](Nc1nc...|         HSA|          363.413|          119.167|          263.212|    686.165|4.94342|      4|      8|                 13|        4|           2| 107.1|\n",
      "|295246847| C#CCCC[C@H](NC(=O...|       C=Cc1ccc(N)cc1| Cc1ccc(CN)c(N2CCC...|C#CCCC[C@H](Nc1nc...|         sEH|          363.413|          119.167|          263.212|    686.165|4.94342|      4|      8|                 13|        4|           2| 107.1|\n",
      "|295246848| C#CCCC[C@H](NC(=O...|       C=Cc1ccc(N)cc1| Cc1cccc(NC(=O)COc...|C#CCCC[C@H](Nc1nc...|        BRD4|          363.413|          119.167|           320.82|    780.234|5.40322|      5|      9|                 17|        4|           3|142.19|\n",
      "|295246849| C#CCCC[C@H](NC(=O...|       C=Cc1ccc(N)cc1| Cc1cccc(NC(=O)COc...|C#CCCC[C@H](Nc1nc...|         HSA|          363.413|          119.167|           320.82|    780.234|5.40322|      5|      9|                 17|        4|           3|142.19|\n",
      "+---------+---------------------+---------------------+---------------------+--------------------+------------+-----------------+-----------------+-----------------+-----------+-------+-------+-------+-------------------+---------+------------+------+\n",
      "only showing top 20 rows\n",
      "\n"
     ]
    },
    {
     "name": "stderr",
     "output_type": "stream",
     "text": [
      "                                                                                \r"
     ]
    }
   ],
   "source": [
    "# TPSA를 계산하는 UDF 생성\n",
    "def calculate_tpsa(smiles):\n",
    "    molecule = Chem.MolFromSmiles(smiles)\n",
    "    return rdMolDescriptors.CalcTPSA(molecule) if molecule else 0\n",
    "\n",
    "calculate_tpsa_udf = udf(calculate_tpsa, FloatType())\n",
    "\n",
    "# DataFrame에 TPSA를 계산하여 새로운 열로 추가\n",
    "train = train.withColumn(\"tpsa\", calculate_tpsa_udf(train[\"molecule_smiles\"]))\n",
    "\n",
    "# 데이터프레임의 업데이트된 구조 및 데이터 확인\n",
    "train.show()"
   ]
  },
  {
   "cell_type": "code",
   "execution_count": 14,
   "id": "a994d27d",
   "metadata": {
    "execution": {
     "iopub.execute_input": "2024-04-18T14:22:03.503700Z",
     "iopub.status.busy": "2024-04-18T14:22:03.503290Z",
     "iopub.status.idle": "2024-04-18T14:22:05.087873Z",
     "shell.execute_reply": "2024-04-18T14:22:05.086483Z"
    },
    "papermill": {
     "duration": 1.620892,
     "end_time": "2024-04-18T14:22:05.091679",
     "exception": false,
     "start_time": "2024-04-18T14:22:03.470787",
     "status": "completed"
    },
    "tags": []
   },
   "outputs": [
    {
     "name": "stderr",
     "output_type": "stream",
     "text": [
      "[Stage 16:===================>                                      (1 + 2) / 3]\r"
     ]
    },
    {
     "name": "stdout",
     "output_type": "stream",
     "text": [
      "+---------+---------------------+---------------------+---------------------+--------------------+------------+-----------------+-----------------+-----------------+-----------+-------+-------+-------+-------------------+---------+------------+------+--------------------+\n",
      "|       id|buildingblock1_smiles|buildingblock2_smiles|buildingblock3_smiles|     molecule_smiles|protein_name|mw_buildingblock1|mw_buildingblock2|mw_buildingblock3|mw_molecule|   logP|num_hbd|num_hba|num_rotatable_bonds|num_rings|num_c1ccccc1|  tpsa|molecular_complexity|\n",
      "+---------+---------------------+---------------------+---------------------+--------------------+------------+-----------------+-----------------+-----------------+-----------+-------+-------+-------+-------------------+---------+------------+------+--------------------+\n",
      "|295246830| C#CCCC[C@H](NC(=O...|       C=Cc1ccc(N)cc1|       C=Cc1ccc(N)cc1|C#CCCC[C@H](Nc1nc...|        BRD4|          363.413|          119.167|          119.167|    615.042| 4.8093|      4|      7|                 12|        3|           2|103.86|           1132.1151|\n",
      "|295246831| C#CCCC[C@H](NC(=O...|       C=Cc1ccc(N)cc1|       C=Cc1ccc(N)cc1|C#CCCC[C@H](Nc1nc...|         HSA|          363.413|          119.167|          119.167|    615.042| 4.8093|      4|      7|                 12|        3|           2|103.86|           1132.1151|\n",
      "|295246832| C#CCCC[C@H](NC(=O...|       C=Cc1ccc(N)cc1|       C=Cc1ccc(N)cc1|C#CCCC[C@H](Nc1nc...|         sEH|          363.413|          119.167|          119.167|    615.042| 4.8093|      4|      7|                 12|        3|           2|103.86|           1132.1151|\n",
      "|295246833| C#CCCC[C@H](NC(=O...|       C=Cc1ccc(N)cc1| CC(O)Cn1cnc2c(N)n...|C#CCCC[C@H](Nc1nc...|        BRD4|          363.413|          119.167|           193.21|    689.085| 2.6868|      5|     12|                 13|        4|           1|167.69|           1515.6115|\n",
      "|295246834| C#CCCC[C@H](NC(=O...|       C=Cc1ccc(N)cc1| CC(O)Cn1cnc2c(N)n...|C#CCCC[C@H](Nc1nc...|         HSA|          363.413|          119.167|           193.21|    689.085| 2.6868|      5|     12|                 13|        4|           1|167.69|           1515.6115|\n",
      "|295246835| C#CCCC[C@H](NC(=O...|       C=Cc1ccc(N)cc1| CC(O)Cn1cnc2c(N)n...|C#CCCC[C@H](Nc1nc...|         sEH|          363.413|          119.167|           193.21|    689.085| 2.6868|      5|     12|                 13|        4|           1|167.69|           1515.6115|\n",
      "|295246836| C#CCCC[C@H](NC(=O...|       C=Cc1ccc(N)cc1|     CC1(C)CCCC1(O)CN|C#CCCC[C@H](Nc1nc...|        BRD4|          363.413|          119.167|           143.23|    639.105| 3.7758|      5|      8|                 12|        3|           1|124.09|           1100.4618|\n",
      "|295246837| C#CCCC[C@H](NC(=O...|       C=Cc1ccc(N)cc1|     CC1(C)CCCC1(O)CN|C#CCCC[C@H](Nc1nc...|         HSA|          363.413|          119.167|           143.23|    639.105| 3.7758|      5|      8|                 12|        3|           1|124.09|           1100.4618|\n",
      "|295246838| C#CCCC[C@H](NC(=O...|       C=Cc1ccc(N)cc1|     CC1(C)CCCC1(O)CN|C#CCCC[C@H](Nc1nc...|         sEH|          363.413|          119.167|           143.23|    639.105| 3.7758|      5|      8|                 12|        3|           1|124.09|           1100.4618|\n",
      "|295246839| C#CCCC[C@H](NC(=O...|       C=Cc1ccc(N)cc1|  COC(=O)c1cc(Cl)sc1N|C#CCCC[C@H](Nc1nc...|        BRD4|          363.413|          119.167|          191.639|    687.514| 4.6678|      4|     10|                 12|        3|           1|130.16|           1310.6617|\n",
      "|295246840| C#CCCC[C@H](NC(=O...|       C=Cc1ccc(N)cc1|  COC(=O)c1cc(Cl)sc1N|C#CCCC[C@H](Nc1nc...|         HSA|          363.413|          119.167|          191.639|    687.514| 4.6678|      4|     10|                 12|        3|           1|130.16|           1310.6617|\n",
      "|295246841| C#CCCC[C@H](NC(=O...|       C=Cc1ccc(N)cc1|  COC(=O)c1cc(Cl)sc1N|C#CCCC[C@H](Nc1nc...|         sEH|          363.413|          119.167|          191.639|    687.514| 4.6678|      4|     10|                 12|        3|           1|130.16|           1310.6617|\n",
      "|295246842| C#CCCC[C@H](NC(=O...|       C=Cc1ccc(N)cc1|       CSC1CCC(CN)CC1|C#CCCC[C@H](Nc1nc...|        BRD4|          363.413|          119.167|          159.298|    655.173| 4.7564|      4|      8|                 13|        3|           1|103.86|           1035.5785|\n",
      "|295246843| C#CCCC[C@H](NC(=O...|       C=Cc1ccc(N)cc1|       CSC1CCC(CN)CC1|C#CCCC[C@H](Nc1nc...|         HSA|          363.413|          119.167|          159.298|    655.173| 4.7564|      4|      8|                 13|        3|           1|103.86|           1035.5785|\n",
      "|295246844| C#CCCC[C@H](NC(=O...|       C=Cc1ccc(N)cc1|       CSC1CCC(CN)CC1|C#CCCC[C@H](Nc1nc...|         sEH|          363.413|          119.167|          159.298|    655.173| 4.7564|      4|      8|                 13|        3|           1|103.86|           1035.5785|\n",
      "|295246845| C#CCCC[C@H](NC(=O...|       C=Cc1ccc(N)cc1| Cc1ccc(CN)c(N2CCC...|C#CCCC[C@H](Nc1nc...|        BRD4|          363.413|          119.167|          263.212|    686.165|4.94342|      4|      8|                 13|        4|           2| 107.1|           1348.8049|\n",
      "|295246846| C#CCCC[C@H](NC(=O...|       C=Cc1ccc(N)cc1| Cc1ccc(CN)c(N2CCC...|C#CCCC[C@H](Nc1nc...|         HSA|          363.413|          119.167|          263.212|    686.165|4.94342|      4|      8|                 13|        4|           2| 107.1|           1348.8049|\n",
      "|295246847| C#CCCC[C@H](NC(=O...|       C=Cc1ccc(N)cc1| Cc1ccc(CN)c(N2CCC...|C#CCCC[C@H](Nc1nc...|         sEH|          363.413|          119.167|          263.212|    686.165|4.94342|      4|      8|                 13|        4|           2| 107.1|           1348.8049|\n",
      "|295246848| C#CCCC[C@H](NC(=O...|       C=Cc1ccc(N)cc1| Cc1cccc(NC(=O)COc...|C#CCCC[C@H](Nc1nc...|        BRD4|          363.413|          119.167|           320.82|    780.234|5.40322|      5|      9|                 17|        4|           3|142.19|            1690.816|\n",
      "|295246849| C#CCCC[C@H](NC(=O...|       C=Cc1ccc(N)cc1| Cc1cccc(NC(=O)COc...|C#CCCC[C@H](Nc1nc...|         HSA|          363.413|          119.167|           320.82|    780.234|5.40322|      5|      9|                 17|        4|           3|142.19|            1690.816|\n",
      "+---------+---------------------+---------------------+---------------------+--------------------+------------+-----------------+-----------------+-----------------+-----------+-------+-------+-------+-------------------+---------+------------+------+--------------------+\n",
      "only showing top 20 rows\n",
      "\n"
     ]
    },
    {
     "name": "stderr",
     "output_type": "stream",
     "text": [
      "                                                                                \r"
     ]
    }
   ],
   "source": [
    "# 분자 복잡성을 계산하는 UDF 생성\n",
    "def calculate_complexity(smiles):\n",
    "    molecule = Chem.MolFromSmiles(smiles)\n",
    "    return GraphDescriptors.BertzCT(molecule) if molecule else 0\n",
    "\n",
    "calculate_complexity_udf = udf(calculate_complexity, FloatType())\n",
    "\n",
    "# DataFrame에 분자 복잡성을 계산하여 새로운 열로 추가\n",
    "train = train.withColumn(\"molecular_complexity\", calculate_complexity_udf(train[\"molecule_smiles\"]))\n",
    "\n",
    "# 데이터프레임의 업데이트된 구조 및 데이터 확인\n",
    "train.show()"
   ]
  },
  {
   "cell_type": "code",
   "execution_count": 15,
   "id": "46b55498",
   "metadata": {
    "execution": {
     "iopub.execute_input": "2024-04-18T14:22:05.168252Z",
     "iopub.status.busy": "2024-04-18T14:22:05.167701Z",
     "iopub.status.idle": "2024-04-18T14:22:07.035096Z",
     "shell.execute_reply": "2024-04-18T14:22:07.033922Z"
    },
    "papermill": {
     "duration": 1.908045,
     "end_time": "2024-04-18T14:22:07.042217",
     "exception": false,
     "start_time": "2024-04-18T14:22:05.134172",
     "status": "completed"
    },
    "tags": []
   },
   "outputs": [
    {
     "name": "stderr",
     "output_type": "stream",
     "text": [
      "[Stage 18:===================>                                      (1 + 2) / 3]\r"
     ]
    },
    {
     "name": "stdout",
     "output_type": "stream",
     "text": [
      "+---------+---------------------+---------------------+---------------------+--------------------+------------+-----------------+-----------------+-----------------+-----------+-------+-------+-------+-------------------+---------+------------+------+--------------------+--------------------+\n",
      "|       id|buildingblock1_smiles|buildingblock2_smiles|buildingblock3_smiles|     molecule_smiles|protein_name|mw_buildingblock1|mw_buildingblock2|mw_buildingblock3|mw_molecule|   logP|num_hbd|num_hba|num_rotatable_bonds|num_rings|num_c1ccccc1|  tpsa|molecular_complexity|chemical_fingerprint|\n",
      "+---------+---------------------+---------------------+---------------------+--------------------+------------+-----------------+-----------------+-----------------+-----------+-------+-------+-------+-------------------+---------+------------+------+--------------------+--------------------+\n",
      "|295246830| C#CCCC[C@H](NC(=O...|       C=Cc1ccc(N)cc1|       C=Cc1ccc(N)cc1|C#CCCC[C@H](Nc1nc...|        BRD4|          363.413|          119.167|          119.167|    615.042| 4.8093|      4|      7|                 12|        3|           2|103.86|           1132.1151|[0, 1, 0, 0, 0, 0...|\n",
      "|295246831| C#CCCC[C@H](NC(=O...|       C=Cc1ccc(N)cc1|       C=Cc1ccc(N)cc1|C#CCCC[C@H](Nc1nc...|         HSA|          363.413|          119.167|          119.167|    615.042| 4.8093|      4|      7|                 12|        3|           2|103.86|           1132.1151|[0, 1, 0, 0, 0, 0...|\n",
      "|295246832| C#CCCC[C@H](NC(=O...|       C=Cc1ccc(N)cc1|       C=Cc1ccc(N)cc1|C#CCCC[C@H](Nc1nc...|         sEH|          363.413|          119.167|          119.167|    615.042| 4.8093|      4|      7|                 12|        3|           2|103.86|           1132.1151|[0, 1, 0, 0, 0, 0...|\n",
      "|295246833| C#CCCC[C@H](NC(=O...|       C=Cc1ccc(N)cc1| CC(O)Cn1cnc2c(N)n...|C#CCCC[C@H](Nc1nc...|        BRD4|          363.413|          119.167|           193.21|    689.085| 2.6868|      5|     12|                 13|        4|           1|167.69|           1515.6115|[0, 1, 0, 0, 0, 0...|\n",
      "|295246834| C#CCCC[C@H](NC(=O...|       C=Cc1ccc(N)cc1| CC(O)Cn1cnc2c(N)n...|C#CCCC[C@H](Nc1nc...|         HSA|          363.413|          119.167|           193.21|    689.085| 2.6868|      5|     12|                 13|        4|           1|167.69|           1515.6115|[0, 1, 0, 0, 0, 0...|\n",
      "|295246835| C#CCCC[C@H](NC(=O...|       C=Cc1ccc(N)cc1| CC(O)Cn1cnc2c(N)n...|C#CCCC[C@H](Nc1nc...|         sEH|          363.413|          119.167|           193.21|    689.085| 2.6868|      5|     12|                 13|        4|           1|167.69|           1515.6115|[0, 1, 0, 0, 0, 0...|\n",
      "|295246836| C#CCCC[C@H](NC(=O...|       C=Cc1ccc(N)cc1|     CC1(C)CCCC1(O)CN|C#CCCC[C@H](Nc1nc...|        BRD4|          363.413|          119.167|           143.23|    639.105| 3.7758|      5|      8|                 12|        3|           1|124.09|           1100.4618|[0, 1, 0, 0, 1, 0...|\n",
      "|295246837| C#CCCC[C@H](NC(=O...|       C=Cc1ccc(N)cc1|     CC1(C)CCCC1(O)CN|C#CCCC[C@H](Nc1nc...|         HSA|          363.413|          119.167|           143.23|    639.105| 3.7758|      5|      8|                 12|        3|           1|124.09|           1100.4618|[0, 1, 0, 0, 1, 0...|\n",
      "|295246838| C#CCCC[C@H](NC(=O...|       C=Cc1ccc(N)cc1|     CC1(C)CCCC1(O)CN|C#CCCC[C@H](Nc1nc...|         sEH|          363.413|          119.167|           143.23|    639.105| 3.7758|      5|      8|                 12|        3|           1|124.09|           1100.4618|[0, 1, 0, 0, 1, 0...|\n",
      "|295246839| C#CCCC[C@H](NC(=O...|       C=Cc1ccc(N)cc1|  COC(=O)c1cc(Cl)sc1N|C#CCCC[C@H](Nc1nc...|        BRD4|          363.413|          119.167|          191.639|    687.514| 4.6678|      4|     10|                 12|        3|           1|130.16|           1310.6617|[0, 1, 0, 0, 0, 0...|\n",
      "|295246840| C#CCCC[C@H](NC(=O...|       C=Cc1ccc(N)cc1|  COC(=O)c1cc(Cl)sc1N|C#CCCC[C@H](Nc1nc...|         HSA|          363.413|          119.167|          191.639|    687.514| 4.6678|      4|     10|                 12|        3|           1|130.16|           1310.6617|[0, 1, 0, 0, 0, 0...|\n",
      "|295246841| C#CCCC[C@H](NC(=O...|       C=Cc1ccc(N)cc1|  COC(=O)c1cc(Cl)sc1N|C#CCCC[C@H](Nc1nc...|         sEH|          363.413|          119.167|          191.639|    687.514| 4.6678|      4|     10|                 12|        3|           1|130.16|           1310.6617|[0, 1, 0, 0, 0, 0...|\n",
      "|295246842| C#CCCC[C@H](NC(=O...|       C=Cc1ccc(N)cc1|       CSC1CCC(CN)CC1|C#CCCC[C@H](Nc1nc...|        BRD4|          363.413|          119.167|          159.298|    655.173| 4.7564|      4|      8|                 13|        3|           1|103.86|           1035.5785|[0, 1, 0, 0, 0, 0...|\n",
      "|295246843| C#CCCC[C@H](NC(=O...|       C=Cc1ccc(N)cc1|       CSC1CCC(CN)CC1|C#CCCC[C@H](Nc1nc...|         HSA|          363.413|          119.167|          159.298|    655.173| 4.7564|      4|      8|                 13|        3|           1|103.86|           1035.5785|[0, 1, 0, 0, 0, 0...|\n",
      "|295246844| C#CCCC[C@H](NC(=O...|       C=Cc1ccc(N)cc1|       CSC1CCC(CN)CC1|C#CCCC[C@H](Nc1nc...|         sEH|          363.413|          119.167|          159.298|    655.173| 4.7564|      4|      8|                 13|        3|           1|103.86|           1035.5785|[0, 1, 0, 0, 0, 0...|\n",
      "|295246845| C#CCCC[C@H](NC(=O...|       C=Cc1ccc(N)cc1| Cc1ccc(CN)c(N2CCC...|C#CCCC[C@H](Nc1nc...|        BRD4|          363.413|          119.167|          263.212|    686.165|4.94342|      4|      8|                 13|        4|           2| 107.1|           1348.8049|[0, 1, 0, 0, 1, 0...|\n",
      "|295246846| C#CCCC[C@H](NC(=O...|       C=Cc1ccc(N)cc1| Cc1ccc(CN)c(N2CCC...|C#CCCC[C@H](Nc1nc...|         HSA|          363.413|          119.167|          263.212|    686.165|4.94342|      4|      8|                 13|        4|           2| 107.1|           1348.8049|[0, 1, 0, 0, 1, 0...|\n",
      "|295246847| C#CCCC[C@H](NC(=O...|       C=Cc1ccc(N)cc1| Cc1ccc(CN)c(N2CCC...|C#CCCC[C@H](Nc1nc...|         sEH|          363.413|          119.167|          263.212|    686.165|4.94342|      4|      8|                 13|        4|           2| 107.1|           1348.8049|[0, 1, 0, 0, 1, 0...|\n",
      "|295246848| C#CCCC[C@H](NC(=O...|       C=Cc1ccc(N)cc1| Cc1cccc(NC(=O)COc...|C#CCCC[C@H](Nc1nc...|        BRD4|          363.413|          119.167|           320.82|    780.234|5.40322|      5|      9|                 17|        4|           3|142.19|            1690.816|[0, 1, 0, 0, 0, 0...|\n",
      "|295246849| C#CCCC[C@H](NC(=O...|       C=Cc1ccc(N)cc1| Cc1cccc(NC(=O)COc...|C#CCCC[C@H](Nc1nc...|         HSA|          363.413|          119.167|           320.82|    780.234|5.40322|      5|      9|                 17|        4|           3|142.19|            1690.816|[0, 1, 0, 0, 0, 0...|\n",
      "+---------+---------------------+---------------------+---------------------+--------------------+------------+-----------------+-----------------+-----------------+-----------+-------+-------+-------+-------------------+---------+------------+------+--------------------+--------------------+\n",
      "only showing top 20 rows\n",
      "\n"
     ]
    },
    {
     "name": "stderr",
     "output_type": "stream",
     "text": [
      "                                                                                \r"
     ]
    }
   ],
   "source": [
    "# Morgan 지문을 계산하는 UDF 생성\n",
    "def calculate_fingerprint(smiles):\n",
    "    molecule = Chem.MolFromSmiles(smiles)\n",
    "    if molecule:\n",
    "        fp = AllChem.GetMorganFingerprintAsBitVect(molecule, radius=2, nBits=1024)\n",
    "        return list(fp)\n",
    "    else:\n",
    "        return [0]*1024  # 모든 비트를 0으로 설정한 배열 반환\n",
    "\n",
    "calculate_fingerprint_udf = udf(calculate_fingerprint, ArrayType(IntegerType()))\n",
    "\n",
    "# DataFrame에 화학적 지문을 계산하여 새로운 열로 추가\n",
    "train = train.withColumn(\"chemical_fingerprint\", calculate_fingerprint_udf(train[\"molecule_smiles\"]))\n",
    "\n",
    "train.show()"
   ]
  },
  {
   "cell_type": "code",
   "execution_count": 16,
   "id": "138db0ac",
   "metadata": {
    "execution": {
     "iopub.execute_input": "2024-04-18T14:22:07.118785Z",
     "iopub.status.busy": "2024-04-18T14:22:07.118360Z",
     "iopub.status.idle": "2024-04-18T14:22:09.503586Z",
     "shell.execute_reply": "2024-04-18T14:22:09.502711Z"
    },
    "papermill": {
     "duration": 2.423202,
     "end_time": "2024-04-18T14:22:09.508808",
     "exception": false,
     "start_time": "2024-04-18T14:22:07.085606",
     "status": "completed"
    },
    "tags": []
   },
   "outputs": [
    {
     "name": "stderr",
     "output_type": "stream",
     "text": [
      "24/04/18 14:22:07 WARN SparkStringUtils: Truncated the string representation of a plan since it was too large. This behavior can be adjusted by setting 'spark.sql.debug.maxToStringFields'.\n",
      "[Stage 20:======================================>                   (2 + 1) / 3]\r"
     ]
    },
    {
     "name": "stdout",
     "output_type": "stream",
     "text": [
      "+---------+---------------------+---------------------+---------------------+--------------------+------------+-----------------+-----------------+-----------------+-----------+-------+-------+-------+-------------------+---------+------------+------+--------------------+--------------------+-------------+---------------------+-----------+------------+--------------+-----------+-------------+-----------+-------------+---------------+--------------+-------------+\n",
      "|       id|buildingblock1_smiles|buildingblock2_smiles|buildingblock3_smiles|     molecule_smiles|protein_name|mw_buildingblock1|mw_buildingblock2|mw_buildingblock3|mw_molecule|   logP|num_hbd|num_hba|num_rotatable_bonds|num_rings|num_c1ccccc1|  tpsa|molecular_complexity|chemical_fingerprint|count_alcohol|count_carboxylic_acid|count_amine|count_ketone|count_ammonium|count_ester|count_nitrile|count_thiol|count_sulfide|count_sulfoxide|count_aldehyde|count_halogen|\n",
      "+---------+---------------------+---------------------+---------------------+--------------------+------------+-----------------+-----------------+-----------------+-----------+-------+-------+-------+-------------------+---------+------------+------+--------------------+--------------------+-------------+---------------------+-----------+------------+--------------+-----------+-------------+-----------+-------------+---------------+--------------+-------------+\n",
      "|295246830| C#CCCC[C@H](NC(=O...|       C=Cc1ccc(N)cc1|       C=Cc1ccc(N)cc1|C#CCCC[C@H](Nc1nc...|        BRD4|          363.413|          119.167|          119.167|    615.042| 4.8093|      4|      7|                 12|        3|           2|103.86|           1132.1151|[0, 1, 0, 0, 0, 0...|            0|                    0|          3|           1|             0|          0|            0|          0|            0|              0|             1|            0|\n",
      "|295246831| C#CCCC[C@H](NC(=O...|       C=Cc1ccc(N)cc1|       C=Cc1ccc(N)cc1|C#CCCC[C@H](Nc1nc...|         HSA|          363.413|          119.167|          119.167|    615.042| 4.8093|      4|      7|                 12|        3|           2|103.86|           1132.1151|[0, 1, 0, 0, 0, 0...|            0|                    0|          3|           1|             0|          0|            0|          0|            0|              0|             1|            0|\n",
      "|295246832| C#CCCC[C@H](NC(=O...|       C=Cc1ccc(N)cc1|       C=Cc1ccc(N)cc1|C#CCCC[C@H](Nc1nc...|         sEH|          363.413|          119.167|          119.167|    615.042| 4.8093|      4|      7|                 12|        3|           2|103.86|           1132.1151|[0, 1, 0, 0, 0, 0...|            0|                    0|          3|           1|             0|          0|            0|          0|            0|              0|             1|            0|\n",
      "|295246833| C#CCCC[C@H](NC(=O...|       C=Cc1ccc(N)cc1| CC(O)Cn1cnc2c(N)n...|C#CCCC[C@H](Nc1nc...|        BRD4|          363.413|          119.167|           193.21|    689.085| 2.6868|      5|     12|                 13|        4|           1|167.69|           1515.6115|[0, 1, 0, 0, 0, 0...|            1|                    0|          3|           1|             0|          0|            0|          0|            0|              0|             1|            0|\n",
      "|295246834| C#CCCC[C@H](NC(=O...|       C=Cc1ccc(N)cc1| CC(O)Cn1cnc2c(N)n...|C#CCCC[C@H](Nc1nc...|         HSA|          363.413|          119.167|           193.21|    689.085| 2.6868|      5|     12|                 13|        4|           1|167.69|           1515.6115|[0, 1, 0, 0, 0, 0...|            1|                    0|          3|           1|             0|          0|            0|          0|            0|              0|             1|            0|\n",
      "|295246835| C#CCCC[C@H](NC(=O...|       C=Cc1ccc(N)cc1| CC(O)Cn1cnc2c(N)n...|C#CCCC[C@H](Nc1nc...|         sEH|          363.413|          119.167|           193.21|    689.085| 2.6868|      5|     12|                 13|        4|           1|167.69|           1515.6115|[0, 1, 0, 0, 0, 0...|            1|                    0|          3|           1|             0|          0|            0|          0|            0|              0|             1|            0|\n",
      "|295246836| C#CCCC[C@H](NC(=O...|       C=Cc1ccc(N)cc1|     CC1(C)CCCC1(O)CN|C#CCCC[C@H](Nc1nc...|        BRD4|          363.413|          119.167|           143.23|    639.105| 3.7758|      5|      8|                 12|        3|           1|124.09|           1100.4618|[0, 1, 0, 0, 1, 0...|            1|                    0|          3|           1|             0|          0|            0|          0|            0|              0|             1|            0|\n",
      "|295246837| C#CCCC[C@H](NC(=O...|       C=Cc1ccc(N)cc1|     CC1(C)CCCC1(O)CN|C#CCCC[C@H](Nc1nc...|         HSA|          363.413|          119.167|           143.23|    639.105| 3.7758|      5|      8|                 12|        3|           1|124.09|           1100.4618|[0, 1, 0, 0, 1, 0...|            1|                    0|          3|           1|             0|          0|            0|          0|            0|              0|             1|            0|\n",
      "|295246838| C#CCCC[C@H](NC(=O...|       C=Cc1ccc(N)cc1|     CC1(C)CCCC1(O)CN|C#CCCC[C@H](Nc1nc...|         sEH|          363.413|          119.167|           143.23|    639.105| 3.7758|      5|      8|                 12|        3|           1|124.09|           1100.4618|[0, 1, 0, 0, 1, 0...|            1|                    0|          3|           1|             0|          0|            0|          0|            0|              0|             1|            0|\n",
      "|295246839| C#CCCC[C@H](NC(=O...|       C=Cc1ccc(N)cc1|  COC(=O)c1cc(Cl)sc1N|C#CCCC[C@H](Nc1nc...|        BRD4|          363.413|          119.167|          191.639|    687.514| 4.6678|      4|     10|                 12|        3|           1|130.16|           1310.6617|[0, 1, 0, 0, 0, 0...|            0|                    0|          3|           2|             0|          1|            0|          0|            0|              0|             2|            1|\n",
      "|295246840| C#CCCC[C@H](NC(=O...|       C=Cc1ccc(N)cc1|  COC(=O)c1cc(Cl)sc1N|C#CCCC[C@H](Nc1nc...|         HSA|          363.413|          119.167|          191.639|    687.514| 4.6678|      4|     10|                 12|        3|           1|130.16|           1310.6617|[0, 1, 0, 0, 0, 0...|            0|                    0|          3|           2|             0|          1|            0|          0|            0|              0|             2|            1|\n",
      "|295246841| C#CCCC[C@H](NC(=O...|       C=Cc1ccc(N)cc1|  COC(=O)c1cc(Cl)sc1N|C#CCCC[C@H](Nc1nc...|         sEH|          363.413|          119.167|          191.639|    687.514| 4.6678|      4|     10|                 12|        3|           1|130.16|           1310.6617|[0, 1, 0, 0, 0, 0...|            0|                    0|          3|           2|             0|          1|            0|          0|            0|              0|             2|            1|\n",
      "|295246842| C#CCCC[C@H](NC(=O...|       C=Cc1ccc(N)cc1|       CSC1CCC(CN)CC1|C#CCCC[C@H](Nc1nc...|        BRD4|          363.413|          119.167|          159.298|    655.173| 4.7564|      4|      8|                 13|        3|           1|103.86|           1035.5785|[0, 1, 0, 0, 0, 0...|            0|                    0|          3|           1|             0|          0|            0|          0|            1|              0|             1|            0|\n",
      "|295246843| C#CCCC[C@H](NC(=O...|       C=Cc1ccc(N)cc1|       CSC1CCC(CN)CC1|C#CCCC[C@H](Nc1nc...|         HSA|          363.413|          119.167|          159.298|    655.173| 4.7564|      4|      8|                 13|        3|           1|103.86|           1035.5785|[0, 1, 0, 0, 0, 0...|            0|                    0|          3|           1|             0|          0|            0|          0|            1|              0|             1|            0|\n",
      "|295246844| C#CCCC[C@H](NC(=O...|       C=Cc1ccc(N)cc1|       CSC1CCC(CN)CC1|C#CCCC[C@H](Nc1nc...|         sEH|          363.413|          119.167|          159.298|    655.173| 4.7564|      4|      8|                 13|        3|           1|103.86|           1035.5785|[0, 1, 0, 0, 0, 0...|            0|                    0|          3|           1|             0|          0|            0|          0|            1|              0|             1|            0|\n",
      "|295246845| C#CCCC[C@H](NC(=O...|       C=Cc1ccc(N)cc1| Cc1ccc(CN)c(N2CCC...|C#CCCC[C@H](Nc1nc...|        BRD4|          363.413|          119.167|          263.212|    686.165|4.94342|      4|      8|                 13|        4|           2| 107.1|           1348.8049|[0, 1, 0, 0, 1, 0...|            0|                    0|          4|           1|             0|          0|            0|          0|            0|              0|             1|            0|\n",
      "|295246846| C#CCCC[C@H](NC(=O...|       C=Cc1ccc(N)cc1| Cc1ccc(CN)c(N2CCC...|C#CCCC[C@H](Nc1nc...|         HSA|          363.413|          119.167|          263.212|    686.165|4.94342|      4|      8|                 13|        4|           2| 107.1|           1348.8049|[0, 1, 0, 0, 1, 0...|            0|                    0|          4|           1|             0|          0|            0|          0|            0|              0|             1|            0|\n",
      "|295246847| C#CCCC[C@H](NC(=O...|       C=Cc1ccc(N)cc1| Cc1ccc(CN)c(N2CCC...|C#CCCC[C@H](Nc1nc...|         sEH|          363.413|          119.167|          263.212|    686.165|4.94342|      4|      8|                 13|        4|           2| 107.1|           1348.8049|[0, 1, 0, 0, 1, 0...|            0|                    0|          4|           1|             0|          0|            0|          0|            0|              0|             1|            0|\n",
      "|295246848| C#CCCC[C@H](NC(=O...|       C=Cc1ccc(N)cc1| Cc1cccc(NC(=O)COc...|C#CCCC[C@H](Nc1nc...|        BRD4|          363.413|          119.167|           320.82|    780.234|5.40322|      5|      9|                 17|        4|           3|142.19|            1690.816|[0, 1, 0, 0, 0, 0...|            0|                    0|          3|           2|             0|          0|            0|          0|            0|              0|             2|            0|\n",
      "|295246849| C#CCCC[C@H](NC(=O...|       C=Cc1ccc(N)cc1| Cc1cccc(NC(=O)COc...|C#CCCC[C@H](Nc1nc...|         HSA|          363.413|          119.167|           320.82|    780.234|5.40322|      5|      9|                 17|        4|           3|142.19|            1690.816|[0, 1, 0, 0, 0, 0...|            0|                    0|          3|           2|             0|          0|            0|          0|            0|              0|             2|            0|\n",
      "+---------+---------------------+---------------------+---------------------+--------------------+------------+-----------------+-----------------+-----------------+-----------+-------+-------+-------+-------------------+---------+------------+------+--------------------+--------------------+-------------+---------------------+-----------+------------+--------------+-----------+-------------+-----------+-------------+---------------+--------------+-------------+\n",
      "only showing top 20 rows\n",
      "\n"
     ]
    },
    {
     "name": "stderr",
     "output_type": "stream",
     "text": [
      "                                                                                \r"
     ]
    }
   ],
   "source": [
    "# SMARTS 패턴을 사용하여 기능적 그룹 정의\n",
    "functional_groups = {\n",
    "    'alcohol': '[OH]',\n",
    "    'carboxylic_acid': 'C(=O)[OH]',\n",
    "    'amine': '[NX3;H2,H1,H0;!$(NC=O)]',\n",
    "    'ketone': '[CX3](=O)[#6]',\n",
    "    'ammonium': '[NX4+]',\n",
    "    'ester': 'C(=O)O',\n",
    "    'nitrile': 'C#N',\n",
    "    'thiol': '[SH]',\n",
    "    'sulfide': '[SX2]',\n",
    "    'sulfoxide': 'S(=O)C',\n",
    "    'aldehyde': 'C=O',\n",
    "    'halogen': '[F,Cl,Br,I]'\n",
    "}\n",
    "\n",
    "# 각 SMILES에 대해 각 기능적 그룹의 수를 계산하는 UDF 생성\n",
    "def count_groups(smiles, pattern):\n",
    "    molecule = Chem.MolFromSmiles(smiles)\n",
    "    if molecule:\n",
    "        substructure = Chem.MolFromSmarts(pattern)\n",
    "        return len(molecule.GetSubstructMatches(substructure))\n",
    "    return 0\n",
    "\n",
    "# 각 기능적 그룹에 대해 UDF 생성 및 데이터프레임에 열 추가\n",
    "for name, pattern in functional_groups.items():\n",
    "    count_groups_udf = udf(lambda x: count_groups(x, pattern), IntegerType())\n",
    "    train = train.withColumn(f'count_{name}', count_groups_udf(col(\"molecule_smiles\")))\n",
    "\n",
    "train.show()"
   ]
  },
  {
   "cell_type": "code",
   "execution_count": 17,
   "id": "92919d5c",
   "metadata": {
    "execution": {
     "iopub.execute_input": "2024-04-18T14:22:09.576386Z",
     "iopub.status.busy": "2024-04-18T14:22:09.575821Z",
     "iopub.status.idle": "2024-04-18T14:22:11.788014Z",
     "shell.execute_reply": "2024-04-18T14:22:11.786616Z"
    },
    "papermill": {
     "duration": 2.250435,
     "end_time": "2024-04-18T14:22:11.791449",
     "exception": false,
     "start_time": "2024-04-18T14:22:09.541014",
     "status": "completed"
    },
    "tags": []
   },
   "outputs": [
    {
     "name": "stderr",
     "output_type": "stream",
     "text": [
      "[Stage 22:======================================>                   (2 + 1) / 3]\r"
     ]
    },
    {
     "name": "stdout",
     "output_type": "stream",
     "text": [
      "+---------+---------------------+---------------------+---------------------+--------------------+------------+-----------------+-----------------+-----------------+-----------+-------+-------+-------+-------------------+---------+------------+------+--------------------+--------------------+-------------+---------------------+-----------+------------+--------------+-----------+-------------+-----------+-------------+---------------+--------------+-------------+---------------------+--------------------------+------------+------------+\n",
      "|       id|buildingblock1_smiles|buildingblock2_smiles|buildingblock3_smiles|     molecule_smiles|protein_name|mw_buildingblock1|mw_buildingblock2|mw_buildingblock3|mw_molecule|   logP|num_hbd|num_hba|num_rotatable_bonds|num_rings|num_c1ccccc1|  tpsa|molecular_complexity|chemical_fingerprint|count_alcohol|count_carboxylic_acid|count_amine|count_ketone|count_ammonium|count_ester|count_nitrile|count_thiol|count_sulfide|count_sulfoxide|count_aldehyde|count_halogen|count_boron_compounds|count_phosphorus_compounds|count_amines|count_ethers|\n",
      "+---------+---------------------+---------------------+---------------------+--------------------+------------+-----------------+-----------------+-----------------+-----------+-------+-------+-------+-------------------+---------+------------+------+--------------------+--------------------+-------------+---------------------+-----------+------------+--------------+-----------+-------------+-----------+-------------+---------------+--------------+-------------+---------------------+--------------------------+------------+------------+\n",
      "|295246830| C#CCCC[C@H](NC(=O...|       C=Cc1ccc(N)cc1|       C=Cc1ccc(N)cc1|C#CCCC[C@H](Nc1nc...|        BRD4|          363.413|          119.167|          119.167|    615.042| 4.8093|      4|      7|                 12|        3|           2|103.86|           1132.1151|[0, 1, 0, 0, 0, 0...|            0|                    0|          3|           1|             0|          0|            0|          0|            0|              0|             1|            0|                    0|                         0|           4|           1|\n",
      "|295246831| C#CCCC[C@H](NC(=O...|       C=Cc1ccc(N)cc1|       C=Cc1ccc(N)cc1|C#CCCC[C@H](Nc1nc...|         HSA|          363.413|          119.167|          119.167|    615.042| 4.8093|      4|      7|                 12|        3|           2|103.86|           1132.1151|[0, 1, 0, 0, 0, 0...|            0|                    0|          3|           1|             0|          0|            0|          0|            0|              0|             1|            0|                    0|                         0|           4|           1|\n",
      "|295246832| C#CCCC[C@H](NC(=O...|       C=Cc1ccc(N)cc1|       C=Cc1ccc(N)cc1|C#CCCC[C@H](Nc1nc...|         sEH|          363.413|          119.167|          119.167|    615.042| 4.8093|      4|      7|                 12|        3|           2|103.86|           1132.1151|[0, 1, 0, 0, 0, 0...|            0|                    0|          3|           1|             0|          0|            0|          0|            0|              0|             1|            0|                    0|                         0|           4|           1|\n",
      "|295246833| C#CCCC[C@H](NC(=O...|       C=Cc1ccc(N)cc1| CC(O)Cn1cnc2c(N)n...|C#CCCC[C@H](Nc1nc...|        BRD4|          363.413|          119.167|           193.21|    689.085| 2.6868|      5|     12|                 13|        4|           1|167.69|           1515.6115|[0, 1, 0, 0, 0, 0...|            1|                    0|          3|           1|             0|          0|            0|          0|            0|              0|             1|            0|                    0|                         0|           4|           2|\n",
      "|295246834| C#CCCC[C@H](NC(=O...|       C=Cc1ccc(N)cc1| CC(O)Cn1cnc2c(N)n...|C#CCCC[C@H](Nc1nc...|         HSA|          363.413|          119.167|           193.21|    689.085| 2.6868|      5|     12|                 13|        4|           1|167.69|           1515.6115|[0, 1, 0, 0, 0, 0...|            1|                    0|          3|           1|             0|          0|            0|          0|            0|              0|             1|            0|                    0|                         0|           4|           2|\n",
      "|295246835| C#CCCC[C@H](NC(=O...|       C=Cc1ccc(N)cc1| CC(O)Cn1cnc2c(N)n...|C#CCCC[C@H](Nc1nc...|         sEH|          363.413|          119.167|           193.21|    689.085| 2.6868|      5|     12|                 13|        4|           1|167.69|           1515.6115|[0, 1, 0, 0, 0, 0...|            1|                    0|          3|           1|             0|          0|            0|          0|            0|              0|             1|            0|                    0|                         0|           4|           2|\n",
      "|295246836| C#CCCC[C@H](NC(=O...|       C=Cc1ccc(N)cc1|     CC1(C)CCCC1(O)CN|C#CCCC[C@H](Nc1nc...|        BRD4|          363.413|          119.167|           143.23|    639.105| 3.7758|      5|      8|                 12|        3|           1|124.09|           1100.4618|[0, 1, 0, 0, 1, 0...|            1|                    0|          3|           1|             0|          0|            0|          0|            0|              0|             1|            0|                    0|                         0|           4|           2|\n",
      "|295246837| C#CCCC[C@H](NC(=O...|       C=Cc1ccc(N)cc1|     CC1(C)CCCC1(O)CN|C#CCCC[C@H](Nc1nc...|         HSA|          363.413|          119.167|           143.23|    639.105| 3.7758|      5|      8|                 12|        3|           1|124.09|           1100.4618|[0, 1, 0, 0, 1, 0...|            1|                    0|          3|           1|             0|          0|            0|          0|            0|              0|             1|            0|                    0|                         0|           4|           2|\n",
      "|295246838| C#CCCC[C@H](NC(=O...|       C=Cc1ccc(N)cc1|     CC1(C)CCCC1(O)CN|C#CCCC[C@H](Nc1nc...|         sEH|          363.413|          119.167|           143.23|    639.105| 3.7758|      5|      8|                 12|        3|           1|124.09|           1100.4618|[0, 1, 0, 0, 1, 0...|            1|                    0|          3|           1|             0|          0|            0|          0|            0|              0|             1|            0|                    0|                         0|           4|           2|\n",
      "|295246839| C#CCCC[C@H](NC(=O...|       C=Cc1ccc(N)cc1|  COC(=O)c1cc(Cl)sc1N|C#CCCC[C@H](Nc1nc...|        BRD4|          363.413|          119.167|          191.639|    687.514| 4.6678|      4|     10|                 12|        3|           1|130.16|           1310.6617|[0, 1, 0, 0, 0, 0...|            0|                    0|          3|           2|             0|          1|            0|          0|            0|              0|             2|            1|                    0|                         0|           4|           3|\n",
      "|295246840| C#CCCC[C@H](NC(=O...|       C=Cc1ccc(N)cc1|  COC(=O)c1cc(Cl)sc1N|C#CCCC[C@H](Nc1nc...|         HSA|          363.413|          119.167|          191.639|    687.514| 4.6678|      4|     10|                 12|        3|           1|130.16|           1310.6617|[0, 1, 0, 0, 0, 0...|            0|                    0|          3|           2|             0|          1|            0|          0|            0|              0|             2|            1|                    0|                         0|           4|           3|\n",
      "|295246841| C#CCCC[C@H](NC(=O...|       C=Cc1ccc(N)cc1|  COC(=O)c1cc(Cl)sc1N|C#CCCC[C@H](Nc1nc...|         sEH|          363.413|          119.167|          191.639|    687.514| 4.6678|      4|     10|                 12|        3|           1|130.16|           1310.6617|[0, 1, 0, 0, 0, 0...|            0|                    0|          3|           2|             0|          1|            0|          0|            0|              0|             2|            1|                    0|                         0|           4|           3|\n",
      "|295246842| C#CCCC[C@H](NC(=O...|       C=Cc1ccc(N)cc1|       CSC1CCC(CN)CC1|C#CCCC[C@H](Nc1nc...|        BRD4|          363.413|          119.167|          159.298|    655.173| 4.7564|      4|      8|                 13|        3|           1|103.86|           1035.5785|[0, 1, 0, 0, 0, 0...|            0|                    0|          3|           1|             0|          0|            0|          0|            1|              0|             1|            0|                    0|                         0|           4|           1|\n",
      "|295246843| C#CCCC[C@H](NC(=O...|       C=Cc1ccc(N)cc1|       CSC1CCC(CN)CC1|C#CCCC[C@H](Nc1nc...|         HSA|          363.413|          119.167|          159.298|    655.173| 4.7564|      4|      8|                 13|        3|           1|103.86|           1035.5785|[0, 1, 0, 0, 0, 0...|            0|                    0|          3|           1|             0|          0|            0|          0|            1|              0|             1|            0|                    0|                         0|           4|           1|\n",
      "|295246844| C#CCCC[C@H](NC(=O...|       C=Cc1ccc(N)cc1|       CSC1CCC(CN)CC1|C#CCCC[C@H](Nc1nc...|         sEH|          363.413|          119.167|          159.298|    655.173| 4.7564|      4|      8|                 13|        3|           1|103.86|           1035.5785|[0, 1, 0, 0, 0, 0...|            0|                    0|          3|           1|             0|          0|            0|          0|            1|              0|             1|            0|                    0|                         0|           4|           1|\n",
      "|295246845| C#CCCC[C@H](NC(=O...|       C=Cc1ccc(N)cc1| Cc1ccc(CN)c(N2CCC...|C#CCCC[C@H](Nc1nc...|        BRD4|          363.413|          119.167|          263.212|    686.165|4.94342|      4|      8|                 13|        4|           2| 107.1|           1348.8049|[0, 1, 0, 0, 1, 0...|            0|                    0|          4|           1|             0|          0|            0|          0|            0|              0|             1|            0|                    0|                         0|           5|           1|\n",
      "|295246846| C#CCCC[C@H](NC(=O...|       C=Cc1ccc(N)cc1| Cc1ccc(CN)c(N2CCC...|C#CCCC[C@H](Nc1nc...|         HSA|          363.413|          119.167|          263.212|    686.165|4.94342|      4|      8|                 13|        4|           2| 107.1|           1348.8049|[0, 1, 0, 0, 1, 0...|            0|                    0|          4|           1|             0|          0|            0|          0|            0|              0|             1|            0|                    0|                         0|           5|           1|\n",
      "|295246847| C#CCCC[C@H](NC(=O...|       C=Cc1ccc(N)cc1| Cc1ccc(CN)c(N2CCC...|C#CCCC[C@H](Nc1nc...|         sEH|          363.413|          119.167|          263.212|    686.165|4.94342|      4|      8|                 13|        4|           2| 107.1|           1348.8049|[0, 1, 0, 0, 1, 0...|            0|                    0|          4|           1|             0|          0|            0|          0|            0|              0|             1|            0|                    0|                         0|           5|           1|\n",
      "|295246848| C#CCCC[C@H](NC(=O...|       C=Cc1ccc(N)cc1| Cc1cccc(NC(=O)COc...|C#CCCC[C@H](Nc1nc...|        BRD4|          363.413|          119.167|           320.82|    780.234|5.40322|      5|      9|                 17|        4|           3|142.19|            1690.816|[0, 1, 0, 0, 0, 0...|            0|                    0|          3|           2|             0|          0|            0|          0|            0|              0|             2|            0|                    0|                         0|           5|           3|\n",
      "|295246849| C#CCCC[C@H](NC(=O...|       C=Cc1ccc(N)cc1| Cc1cccc(NC(=O)COc...|C#CCCC[C@H](Nc1nc...|         HSA|          363.413|          119.167|           320.82|    780.234|5.40322|      5|      9|                 17|        4|           3|142.19|            1690.816|[0, 1, 0, 0, 0, 0...|            0|                    0|          3|           2|             0|          0|            0|          0|            0|              0|             2|            0|                    0|                         0|           5|           3|\n",
      "+---------+---------------------+---------------------+---------------------+--------------------+------------+-----------------+-----------------+-----------------+-----------+-------+-------+-------+-------------------+---------+------------+------+--------------------+--------------------+-------------+---------------------+-----------+------------+--------------+-----------+-------------+-----------+-------------+---------------+--------------+-------------+---------------------+--------------------------+------------+------------+\n",
      "only showing top 20 rows\n",
      "\n"
     ]
    },
    {
     "name": "stderr",
     "output_type": "stream",
     "text": [
      "                                                                                \r"
     ]
    }
   ],
   "source": [
    "# 루이스 산과 염기 패턴 정의\n",
    "lewis_acids = {\n",
    "    'boron_compounds': '[B]',  # 보론 화합물은 전형적인 루이스 산\n",
    "    'phosphorus_compounds': '[PH2]',  # 포스포루스 화합물\n",
    "}\n",
    "\n",
    "lewis_bases = {\n",
    "    'amines': '[N]',  # 아민\n",
    "    'ethers': '[O]',  # 에테르\n",
    "}\n",
    "\n",
    "# 전체 패턴 딕셔너리 합치기\n",
    "all_patterns = {**lewis_acids, **lewis_bases}\n",
    "\n",
    "# 각 SMILES에 대해 해당 패턴의 수를 계산하는 UDF 생성\n",
    "def count_substructures(smiles, pattern):\n",
    "    mol = Chem.MolFromSmiles(smiles)\n",
    "    substruct = Chem.MolFromSmarts(pattern)\n",
    "    return len(mol.GetSubstructMatches(substruct)) if mol else 0\n",
    "\n",
    "# 각 패턴에 대해 UDF 등록 및 데이터프레임에 적용\n",
    "for name, pattern in all_patterns.items():\n",
    "    count_substructures_udf = udf(lambda x: count_substructures(x, pattern), IntegerType())\n",
    "    train = train.withColumn(f'count_{name}', count_substructures_udf(col(\"molecule_smiles\")))\n",
    "    \n",
    "train.show()"
   ]
  },
  {
   "cell_type": "code",
   "execution_count": 18,
   "id": "c1ca1be5",
   "metadata": {
    "execution": {
     "iopub.execute_input": "2024-04-18T14:22:11.885842Z",
     "iopub.status.busy": "2024-04-18T14:22:11.885284Z",
     "iopub.status.idle": "2024-04-18T14:22:13.940368Z",
     "shell.execute_reply": "2024-04-18T14:22:13.938800Z"
    },
    "papermill": {
     "duration": 2.105629,
     "end_time": "2024-04-18T14:22:13.943113",
     "exception": false,
     "start_time": "2024-04-18T14:22:11.837484",
     "status": "completed"
    },
    "tags": []
   },
   "outputs": [
    {
     "name": "stderr",
     "output_type": "stream",
     "text": [
      "[Stage 24:======================================>                   (2 + 1) / 3]\r"
     ]
    },
    {
     "name": "stdout",
     "output_type": "stream",
     "text": [
      "+---------+---------------------+---------------------+---------------------+--------------------+------------+-----------------+-----------------+-----------------+-----------+-------+-------+-------+-------------------+---------+------------+------+--------------------+--------------------+-------------+---------------------+-----------+------------+--------------+-----------+-------------+-----------+-------------+---------------+--------------+-------------+---------------------+--------------------------+------------+------------+------------------+\n",
      "|       id|buildingblock1_smiles|buildingblock2_smiles|buildingblock3_smiles|     molecule_smiles|protein_name|mw_buildingblock1|mw_buildingblock2|mw_buildingblock3|mw_molecule|   logP|num_hbd|num_hba|num_rotatable_bonds|num_rings|num_c1ccccc1|  tpsa|molecular_complexity|chemical_fingerprint|count_alcohol|count_carboxylic_acid|count_amine|count_ketone|count_ammonium|count_ester|count_nitrile|count_thiol|count_sulfide|count_sulfoxide|count_aldehyde|count_halogen|count_boron_compounds|count_phosphorus_compounds|count_amines|count_ethers|substituent_effect|\n",
      "+---------+---------------------+---------------------+---------------------+--------------------+------------+-----------------+-----------------+-----------------+-----------+-------+-------+-------+-------------------+---------+------------+------+--------------------+--------------------+-------------+---------------------+-----------+------------+--------------+-----------+-------------+-----------+-------------+---------------+--------------+-------------+---------------------+--------------------------+------------+------------+------------------+\n",
      "|295246830| C#CCCC[C@H](NC(=O...|       C=Cc1ccc(N)cc1|       C=Cc1ccc(N)cc1|C#CCCC[C@H](Nc1nc...|        BRD4|          363.413|          119.167|          119.167|    615.042| 4.8093|      4|      7|                 12|        3|           2|103.86|           1132.1151|[0, 1, 0, 0, 0, 0...|            0|                    0|          3|           1|             0|          0|            0|          0|            0|              0|             1|            0|                    0|                         0|           4|           1|               0.0|\n",
      "|295246831| C#CCCC[C@H](NC(=O...|       C=Cc1ccc(N)cc1|       C=Cc1ccc(N)cc1|C#CCCC[C@H](Nc1nc...|         HSA|          363.413|          119.167|          119.167|    615.042| 4.8093|      4|      7|                 12|        3|           2|103.86|           1132.1151|[0, 1, 0, 0, 0, 0...|            0|                    0|          3|           1|             0|          0|            0|          0|            0|              0|             1|            0|                    0|                         0|           4|           1|               0.0|\n",
      "|295246832| C#CCCC[C@H](NC(=O...|       C=Cc1ccc(N)cc1|       C=Cc1ccc(N)cc1|C#CCCC[C@H](Nc1nc...|         sEH|          363.413|          119.167|          119.167|    615.042| 4.8093|      4|      7|                 12|        3|           2|103.86|           1132.1151|[0, 1, 0, 0, 0, 0...|            0|                    0|          3|           1|             0|          0|            0|          0|            0|              0|             1|            0|                    0|                         0|           4|           1|               0.0|\n",
      "|295246833| C#CCCC[C@H](NC(=O...|       C=Cc1ccc(N)cc1| CC(O)Cn1cnc2c(N)n...|C#CCCC[C@H](Nc1nc...|        BRD4|          363.413|          119.167|           193.21|    689.085| 2.6868|      5|     12|                 13|        4|           1|167.69|           1515.6115|[0, 1, 0, 0, 0, 0...|            1|                    0|          3|           1|             0|          0|            0|          0|            0|              0|             1|            0|                    0|                         0|           4|           2|             -0.37|\n",
      "|295246834| C#CCCC[C@H](NC(=O...|       C=Cc1ccc(N)cc1| CC(O)Cn1cnc2c(N)n...|C#CCCC[C@H](Nc1nc...|         HSA|          363.413|          119.167|           193.21|    689.085| 2.6868|      5|     12|                 13|        4|           1|167.69|           1515.6115|[0, 1, 0, 0, 0, 0...|            1|                    0|          3|           1|             0|          0|            0|          0|            0|              0|             1|            0|                    0|                         0|           4|           2|             -0.37|\n",
      "|295246835| C#CCCC[C@H](NC(=O...|       C=Cc1ccc(N)cc1| CC(O)Cn1cnc2c(N)n...|C#CCCC[C@H](Nc1nc...|         sEH|          363.413|          119.167|           193.21|    689.085| 2.6868|      5|     12|                 13|        4|           1|167.69|           1515.6115|[0, 1, 0, 0, 0, 0...|            1|                    0|          3|           1|             0|          0|            0|          0|            0|              0|             1|            0|                    0|                         0|           4|           2|             -0.37|\n",
      "|295246836| C#CCCC[C@H](NC(=O...|       C=Cc1ccc(N)cc1|     CC1(C)CCCC1(O)CN|C#CCCC[C@H](Nc1nc...|        BRD4|          363.413|          119.167|           143.23|    639.105| 3.7758|      5|      8|                 12|        3|           1|124.09|           1100.4618|[0, 1, 0, 0, 1, 0...|            1|                    0|          3|           1|             0|          0|            0|          0|            0|              0|             1|            0|                    0|                         0|           4|           2|             -0.37|\n",
      "|295246837| C#CCCC[C@H](NC(=O...|       C=Cc1ccc(N)cc1|     CC1(C)CCCC1(O)CN|C#CCCC[C@H](Nc1nc...|         HSA|          363.413|          119.167|           143.23|    639.105| 3.7758|      5|      8|                 12|        3|           1|124.09|           1100.4618|[0, 1, 0, 0, 1, 0...|            1|                    0|          3|           1|             0|          0|            0|          0|            0|              0|             1|            0|                    0|                         0|           4|           2|             -0.37|\n",
      "|295246838| C#CCCC[C@H](NC(=O...|       C=Cc1ccc(N)cc1|     CC1(C)CCCC1(O)CN|C#CCCC[C@H](Nc1nc...|         sEH|          363.413|          119.167|           143.23|    639.105| 3.7758|      5|      8|                 12|        3|           1|124.09|           1100.4618|[0, 1, 0, 0, 1, 0...|            1|                    0|          3|           1|             0|          0|            0|          0|            0|              0|             1|            0|                    0|                         0|           4|           2|             -0.37|\n",
      "|295246839| C#CCCC[C@H](NC(=O...|       C=Cc1ccc(N)cc1|  COC(=O)c1cc(Cl)sc1N|C#CCCC[C@H](Nc1nc...|        BRD4|          363.413|          119.167|          191.639|    687.514| 4.6678|      4|     10|                 12|        3|           1|130.16|           1310.6617|[0, 1, 0, 0, 0, 0...|            0|                    0|          3|           2|             0|          1|            0|          0|            0|              0|             2|            1|                    0|                         0|           4|           3|             -0.04|\n",
      "|295246840| C#CCCC[C@H](NC(=O...|       C=Cc1ccc(N)cc1|  COC(=O)c1cc(Cl)sc1N|C#CCCC[C@H](Nc1nc...|         HSA|          363.413|          119.167|          191.639|    687.514| 4.6678|      4|     10|                 12|        3|           1|130.16|           1310.6617|[0, 1, 0, 0, 0, 0...|            0|                    0|          3|           2|             0|          1|            0|          0|            0|              0|             2|            1|                    0|                         0|           4|           3|             -0.04|\n",
      "|295246841| C#CCCC[C@H](NC(=O...|       C=Cc1ccc(N)cc1|  COC(=O)c1cc(Cl)sc1N|C#CCCC[C@H](Nc1nc...|         sEH|          363.413|          119.167|          191.639|    687.514| 4.6678|      4|     10|                 12|        3|           1|130.16|           1310.6617|[0, 1, 0, 0, 0, 0...|            0|                    0|          3|           2|             0|          1|            0|          0|            0|              0|             2|            1|                    0|                         0|           4|           3|             -0.04|\n",
      "|295246842| C#CCCC[C@H](NC(=O...|       C=Cc1ccc(N)cc1|       CSC1CCC(CN)CC1|C#CCCC[C@H](Nc1nc...|        BRD4|          363.413|          119.167|          159.298|    655.173| 4.7564|      4|      8|                 13|        3|           1|103.86|           1035.5785|[0, 1, 0, 0, 0, 0...|            0|                    0|          3|           1|             0|          0|            0|          0|            1|              0|             1|            0|                    0|                         0|           4|           1|               0.0|\n",
      "|295246843| C#CCCC[C@H](NC(=O...|       C=Cc1ccc(N)cc1|       CSC1CCC(CN)CC1|C#CCCC[C@H](Nc1nc...|         HSA|          363.413|          119.167|          159.298|    655.173| 4.7564|      4|      8|                 13|        3|           1|103.86|           1035.5785|[0, 1, 0, 0, 0, 0...|            0|                    0|          3|           1|             0|          0|            0|          0|            1|              0|             1|            0|                    0|                         0|           4|           1|               0.0|\n",
      "|295246844| C#CCCC[C@H](NC(=O...|       C=Cc1ccc(N)cc1|       CSC1CCC(CN)CC1|C#CCCC[C@H](Nc1nc...|         sEH|          363.413|          119.167|          159.298|    655.173| 4.7564|      4|      8|                 13|        3|           1|103.86|           1035.5785|[0, 1, 0, 0, 0, 0...|            0|                    0|          3|           1|             0|          0|            0|          0|            1|              0|             1|            0|                    0|                         0|           4|           1|               0.0|\n",
      "|295246845| C#CCCC[C@H](NC(=O...|       C=Cc1ccc(N)cc1| Cc1ccc(CN)c(N2CCC...|C#CCCC[C@H](Nc1nc...|        BRD4|          363.413|          119.167|          263.212|    686.165|4.94342|      4|      8|                 13|        4|           2| 107.1|           1348.8049|[0, 1, 0, 0, 1, 0...|            0|                    0|          4|           1|             0|          0|            0|          0|            0|              0|             1|            0|                    0|                         0|           5|           1|               0.0|\n",
      "|295246846| C#CCCC[C@H](NC(=O...|       C=Cc1ccc(N)cc1| Cc1ccc(CN)c(N2CCC...|C#CCCC[C@H](Nc1nc...|         HSA|          363.413|          119.167|          263.212|    686.165|4.94342|      4|      8|                 13|        4|           2| 107.1|           1348.8049|[0, 1, 0, 0, 1, 0...|            0|                    0|          4|           1|             0|          0|            0|          0|            0|              0|             1|            0|                    0|                         0|           5|           1|               0.0|\n",
      "|295246847| C#CCCC[C@H](NC(=O...|       C=Cc1ccc(N)cc1| Cc1ccc(CN)c(N2CCC...|C#CCCC[C@H](Nc1nc...|         sEH|          363.413|          119.167|          263.212|    686.165|4.94342|      4|      8|                 13|        4|           2| 107.1|           1348.8049|[0, 1, 0, 0, 1, 0...|            0|                    0|          4|           1|             0|          0|            0|          0|            0|              0|             1|            0|                    0|                         0|           5|           1|               0.0|\n",
      "|295246848| C#CCCC[C@H](NC(=O...|       C=Cc1ccc(N)cc1| Cc1cccc(NC(=O)COc...|C#CCCC[C@H](Nc1nc...|        BRD4|          363.413|          119.167|           320.82|    780.234|5.40322|      5|      9|                 17|        4|           3|142.19|            1690.816|[0, 1, 0, 0, 0, 0...|            0|                    0|          3|           2|             0|          0|            0|          0|            0|              0|             2|            0|                    0|                         0|           5|           3|               0.0|\n",
      "|295246849| C#CCCC[C@H](NC(=O...|       C=Cc1ccc(N)cc1| Cc1cccc(NC(=O)COc...|C#CCCC[C@H](Nc1nc...|         HSA|          363.413|          119.167|           320.82|    780.234|5.40322|      5|      9|                 17|        4|           3|142.19|            1690.816|[0, 1, 0, 0, 0, 0...|            0|                    0|          3|           2|             0|          0|            0|          0|            0|              0|             2|            0|                    0|                         0|           5|           3|               0.0|\n",
      "+---------+---------------------+---------------------+---------------------+--------------------+------------+-----------------+-----------------+-----------------+-----------+-------+-------+-------+-------------------+---------+------------+------+--------------------+--------------------+-------------+---------------------+-----------+------------+--------------+-----------+-------------+-----------+-------------+---------------+--------------+-------------+---------------------+--------------------------+------------+------------+------------------+\n",
      "only showing top 20 rows\n",
      "\n"
     ]
    },
    {
     "name": "stderr",
     "output_type": "stream",
     "text": [
      "                                                                                \r"
     ]
    }
   ],
   "source": [
    "from pyspark.sql.functions import udf, col\n",
    "from pyspark.sql.types import FloatType\n",
    "from rdkit import Chem\n",
    "\n",
    "# Hammett constants defined as before\n",
    "hammett_constants = {\n",
    "    'NO2': (\"[N+](=O)[O-]\", 0.78),  # Nitro group\n",
    "    'CN': (\"[C]#[N]\", 0.66),        # Cyano group\n",
    "    'COOH': (\"C(=O)[OH]\", 0.44),    # Carboxylic acid\n",
    "    'F': (\"[F]\", 0.34),             # Fluorine\n",
    "    'Cl': (\"[Cl]\", 0.23),           # Chlorine\n",
    "    'Br': (\"[Br]\", 0.23),           # Bromine\n",
    "    'I': (\"[I]\", 0.28),             # Iodine\n",
    "    'OH': (\"[OH]\", -0.37),          # Hydroxy group\n",
    "    'OCH3': (\"[O][CH3]\", -0.27),    # Methoxy group\n",
    "    'NH2': (\"[NH2]\", -0.66)         # Amino group\n",
    "}\n",
    "\n",
    "def calculate_substituent_effects(smiles):\n",
    "    molecule = Chem.MolFromSmiles(smiles)\n",
    "    if not molecule:  # Check if the molecule is valid\n",
    "        return 0.0\n",
    "\n",
    "    effect_sum = 0.0\n",
    "    for key, (pattern, value) in hammett_constants.items():\n",
    "        substruct = Chem.MolFromSmarts(pattern)\n",
    "        if substruct is None:  # Ensure the SMARTS pattern is valid\n",
    "            continue\n",
    "        if molecule.HasSubstructMatch(substruct):\n",
    "            effect_sum += value\n",
    "\n",
    "    return effect_sum\n",
    "\n",
    "calculate_substituent_effects_udf = udf(calculate_substituent_effects, FloatType())\n",
    "\n",
    "# Applying the UDF to calculate the substituent effect and add it as a new column\n",
    "train = train.withColumn(\"substituent_effect\", calculate_substituent_effects_udf(col(\"molecule_smiles\")))\n",
    "\n",
    "# Show the updated DataFrame\n",
    "train.show()\n"
   ]
  },
  {
   "cell_type": "code",
   "execution_count": 19,
   "id": "1c508f4e",
   "metadata": {
    "execution": {
     "iopub.execute_input": "2024-04-18T14:22:14.011415Z",
     "iopub.status.busy": "2024-04-18T14:22:14.010738Z",
     "iopub.status.idle": "2024-04-18T14:22:16.164481Z",
     "shell.execute_reply": "2024-04-18T14:22:16.162887Z"
    },
    "papermill": {
     "duration": 2.19258,
     "end_time": "2024-04-18T14:22:16.168582",
     "exception": false,
     "start_time": "2024-04-18T14:22:13.976002",
     "status": "completed"
    },
    "tags": []
   },
   "outputs": [
    {
     "name": "stderr",
     "output_type": "stream",
     "text": [
      "[Stage 26:======================================>                   (2 + 1) / 3]\r"
     ]
    },
    {
     "name": "stdout",
     "output_type": "stream",
     "text": [
      "+---------+---------------------+---------------------+---------------------+--------------------+------------+-----------------+-----------------+-----------------+-----------+-------+-------+-------+-------------------+---------+------------+------+--------------------+--------------------+-------------+---------------------+-----------+------------+--------------+-----------+-------------+-----------+-------------+---------------+--------------+-------------+---------------------+--------------------------+------------+------------+------------------+-------------------+\n",
      "|       id|buildingblock1_smiles|buildingblock2_smiles|buildingblock3_smiles|     molecule_smiles|protein_name|mw_buildingblock1|mw_buildingblock2|mw_buildingblock3|mw_molecule|   logP|num_hbd|num_hba|num_rotatable_bonds|num_rings|num_c1ccccc1|  tpsa|molecular_complexity|chemical_fingerprint|count_alcohol|count_carboxylic_acid|count_amine|count_ketone|count_ammonium|count_ester|count_nitrile|count_thiol|count_sulfide|count_sulfoxide|count_aldehyde|count_halogen|count_boron_compounds|count_phosphorus_compounds|count_amines|count_ethers|substituent_effect|stereoisomers_count|\n",
      "+---------+---------------------+---------------------+---------------------+--------------------+------------+-----------------+-----------------+-----------------+-----------+-------+-------+-------+-------------------+---------+------------+------+--------------------+--------------------+-------------+---------------------+-----------+------------+--------------+-----------+-------------+-----------+-------------+---------------+--------------+-------------+---------------------+--------------------------+------------+------------+------------------+-------------------+\n",
      "|295246830| C#CCCC[C@H](NC(=O...|       C=Cc1ccc(N)cc1|       C=Cc1ccc(N)cc1|C#CCCC[C@H](Nc1nc...|        BRD4|          363.413|          119.167|          119.167|    615.042| 4.8093|      4|      7|                 12|        3|           2|103.86|           1132.1151|[0, 1, 0, 0, 0, 0...|            0|                    0|          3|           1|             0|          0|            0|          0|            0|              0|             1|            0|                    0|                         0|           4|           1|               0.0|                  1|\n",
      "|295246831| C#CCCC[C@H](NC(=O...|       C=Cc1ccc(N)cc1|       C=Cc1ccc(N)cc1|C#CCCC[C@H](Nc1nc...|         HSA|          363.413|          119.167|          119.167|    615.042| 4.8093|      4|      7|                 12|        3|           2|103.86|           1132.1151|[0, 1, 0, 0, 0, 0...|            0|                    0|          3|           1|             0|          0|            0|          0|            0|              0|             1|            0|                    0|                         0|           4|           1|               0.0|                  1|\n",
      "|295246832| C#CCCC[C@H](NC(=O...|       C=Cc1ccc(N)cc1|       C=Cc1ccc(N)cc1|C#CCCC[C@H](Nc1nc...|         sEH|          363.413|          119.167|          119.167|    615.042| 4.8093|      4|      7|                 12|        3|           2|103.86|           1132.1151|[0, 1, 0, 0, 0, 0...|            0|                    0|          3|           1|             0|          0|            0|          0|            0|              0|             1|            0|                    0|                         0|           4|           1|               0.0|                  1|\n",
      "|295246833| C#CCCC[C@H](NC(=O...|       C=Cc1ccc(N)cc1| CC(O)Cn1cnc2c(N)n...|C#CCCC[C@H](Nc1nc...|        BRD4|          363.413|          119.167|           193.21|    689.085| 2.6868|      5|     12|                 13|        4|           1|167.69|           1515.6115|[0, 1, 0, 0, 0, 0...|            1|                    0|          3|           1|             0|          0|            0|          0|            0|              0|             1|            0|                    0|                         0|           4|           2|             -0.37|                  2|\n",
      "|295246834| C#CCCC[C@H](NC(=O...|       C=Cc1ccc(N)cc1| CC(O)Cn1cnc2c(N)n...|C#CCCC[C@H](Nc1nc...|         HSA|          363.413|          119.167|           193.21|    689.085| 2.6868|      5|     12|                 13|        4|           1|167.69|           1515.6115|[0, 1, 0, 0, 0, 0...|            1|                    0|          3|           1|             0|          0|            0|          0|            0|              0|             1|            0|                    0|                         0|           4|           2|             -0.37|                  2|\n",
      "|295246835| C#CCCC[C@H](NC(=O...|       C=Cc1ccc(N)cc1| CC(O)Cn1cnc2c(N)n...|C#CCCC[C@H](Nc1nc...|         sEH|          363.413|          119.167|           193.21|    689.085| 2.6868|      5|     12|                 13|        4|           1|167.69|           1515.6115|[0, 1, 0, 0, 0, 0...|            1|                    0|          3|           1|             0|          0|            0|          0|            0|              0|             1|            0|                    0|                         0|           4|           2|             -0.37|                  2|\n",
      "|295246836| C#CCCC[C@H](NC(=O...|       C=Cc1ccc(N)cc1|     CC1(C)CCCC1(O)CN|C#CCCC[C@H](Nc1nc...|        BRD4|          363.413|          119.167|           143.23|    639.105| 3.7758|      5|      8|                 12|        3|           1|124.09|           1100.4618|[0, 1, 0, 0, 1, 0...|            1|                    0|          3|           1|             0|          0|            0|          0|            0|              0|             1|            0|                    0|                         0|           4|           2|             -0.37|                  2|\n",
      "|295246837| C#CCCC[C@H](NC(=O...|       C=Cc1ccc(N)cc1|     CC1(C)CCCC1(O)CN|C#CCCC[C@H](Nc1nc...|         HSA|          363.413|          119.167|           143.23|    639.105| 3.7758|      5|      8|                 12|        3|           1|124.09|           1100.4618|[0, 1, 0, 0, 1, 0...|            1|                    0|          3|           1|             0|          0|            0|          0|            0|              0|             1|            0|                    0|                         0|           4|           2|             -0.37|                  2|\n",
      "|295246838| C#CCCC[C@H](NC(=O...|       C=Cc1ccc(N)cc1|     CC1(C)CCCC1(O)CN|C#CCCC[C@H](Nc1nc...|         sEH|          363.413|          119.167|           143.23|    639.105| 3.7758|      5|      8|                 12|        3|           1|124.09|           1100.4618|[0, 1, 0, 0, 1, 0...|            1|                    0|          3|           1|             0|          0|            0|          0|            0|              0|             1|            0|                    0|                         0|           4|           2|             -0.37|                  2|\n",
      "|295246839| C#CCCC[C@H](NC(=O...|       C=Cc1ccc(N)cc1|  COC(=O)c1cc(Cl)sc1N|C#CCCC[C@H](Nc1nc...|        BRD4|          363.413|          119.167|          191.639|    687.514| 4.6678|      4|     10|                 12|        3|           1|130.16|           1310.6617|[0, 1, 0, 0, 0, 0...|            0|                    0|          3|           2|             0|          1|            0|          0|            0|              0|             2|            1|                    0|                         0|           4|           3|             -0.04|                  1|\n",
      "|295246840| C#CCCC[C@H](NC(=O...|       C=Cc1ccc(N)cc1|  COC(=O)c1cc(Cl)sc1N|C#CCCC[C@H](Nc1nc...|         HSA|          363.413|          119.167|          191.639|    687.514| 4.6678|      4|     10|                 12|        3|           1|130.16|           1310.6617|[0, 1, 0, 0, 0, 0...|            0|                    0|          3|           2|             0|          1|            0|          0|            0|              0|             2|            1|                    0|                         0|           4|           3|             -0.04|                  1|\n",
      "|295246841| C#CCCC[C@H](NC(=O...|       C=Cc1ccc(N)cc1|  COC(=O)c1cc(Cl)sc1N|C#CCCC[C@H](Nc1nc...|         sEH|          363.413|          119.167|          191.639|    687.514| 4.6678|      4|     10|                 12|        3|           1|130.16|           1310.6617|[0, 1, 0, 0, 0, 0...|            0|                    0|          3|           2|             0|          1|            0|          0|            0|              0|             2|            1|                    0|                         0|           4|           3|             -0.04|                  1|\n",
      "|295246842| C#CCCC[C@H](NC(=O...|       C=Cc1ccc(N)cc1|       CSC1CCC(CN)CC1|C#CCCC[C@H](Nc1nc...|        BRD4|          363.413|          119.167|          159.298|    655.173| 4.7564|      4|      8|                 13|        3|           1|103.86|           1035.5785|[0, 1, 0, 0, 0, 0...|            0|                    0|          3|           1|             0|          0|            0|          0|            1|              0|             1|            0|                    0|                         0|           4|           1|               0.0|                  1|\n",
      "|295246843| C#CCCC[C@H](NC(=O...|       C=Cc1ccc(N)cc1|       CSC1CCC(CN)CC1|C#CCCC[C@H](Nc1nc...|         HSA|          363.413|          119.167|          159.298|    655.173| 4.7564|      4|      8|                 13|        3|           1|103.86|           1035.5785|[0, 1, 0, 0, 0, 0...|            0|                    0|          3|           1|             0|          0|            0|          0|            1|              0|             1|            0|                    0|                         0|           4|           1|               0.0|                  1|\n",
      "|295246844| C#CCCC[C@H](NC(=O...|       C=Cc1ccc(N)cc1|       CSC1CCC(CN)CC1|C#CCCC[C@H](Nc1nc...|         sEH|          363.413|          119.167|          159.298|    655.173| 4.7564|      4|      8|                 13|        3|           1|103.86|           1035.5785|[0, 1, 0, 0, 0, 0...|            0|                    0|          3|           1|             0|          0|            0|          0|            1|              0|             1|            0|                    0|                         0|           4|           1|               0.0|                  1|\n",
      "|295246845| C#CCCC[C@H](NC(=O...|       C=Cc1ccc(N)cc1| Cc1ccc(CN)c(N2CCC...|C#CCCC[C@H](Nc1nc...|        BRD4|          363.413|          119.167|          263.212|    686.165|4.94342|      4|      8|                 13|        4|           2| 107.1|           1348.8049|[0, 1, 0, 0, 1, 0...|            0|                    0|          4|           1|             0|          0|            0|          0|            0|              0|             1|            0|                    0|                         0|           5|           1|               0.0|                  1|\n",
      "|295246846| C#CCCC[C@H](NC(=O...|       C=Cc1ccc(N)cc1| Cc1ccc(CN)c(N2CCC...|C#CCCC[C@H](Nc1nc...|         HSA|          363.413|          119.167|          263.212|    686.165|4.94342|      4|      8|                 13|        4|           2| 107.1|           1348.8049|[0, 1, 0, 0, 1, 0...|            0|                    0|          4|           1|             0|          0|            0|          0|            0|              0|             1|            0|                    0|                         0|           5|           1|               0.0|                  1|\n",
      "|295246847| C#CCCC[C@H](NC(=O...|       C=Cc1ccc(N)cc1| Cc1ccc(CN)c(N2CCC...|C#CCCC[C@H](Nc1nc...|         sEH|          363.413|          119.167|          263.212|    686.165|4.94342|      4|      8|                 13|        4|           2| 107.1|           1348.8049|[0, 1, 0, 0, 1, 0...|            0|                    0|          4|           1|             0|          0|            0|          0|            0|              0|             1|            0|                    0|                         0|           5|           1|               0.0|                  1|\n",
      "|295246848| C#CCCC[C@H](NC(=O...|       C=Cc1ccc(N)cc1| Cc1cccc(NC(=O)COc...|C#CCCC[C@H](Nc1nc...|        BRD4|          363.413|          119.167|           320.82|    780.234|5.40322|      5|      9|                 17|        4|           3|142.19|            1690.816|[0, 1, 0, 0, 0, 0...|            0|                    0|          3|           2|             0|          0|            0|          0|            0|              0|             2|            0|                    0|                         0|           5|           3|               0.0|                  1|\n",
      "|295246849| C#CCCC[C@H](NC(=O...|       C=Cc1ccc(N)cc1| Cc1cccc(NC(=O)COc...|C#CCCC[C@H](Nc1nc...|         HSA|          363.413|          119.167|           320.82|    780.234|5.40322|      5|      9|                 17|        4|           3|142.19|            1690.816|[0, 1, 0, 0, 0, 0...|            0|                    0|          3|           2|             0|          0|            0|          0|            0|              0|             2|            0|                    0|                         0|           5|           3|               0.0|                  1|\n",
      "+---------+---------------------+---------------------+---------------------+--------------------+------------+-----------------+-----------------+-----------------+-----------+-------+-------+-------+-------------------+---------+------------+------+--------------------+--------------------+-------------+---------------------+-----------+------------+--------------+-----------+-------------+-----------+-------------+---------------+--------------+-------------+---------------------+--------------------------+------------+------------+------------------+-------------------+\n",
      "only showing top 20 rows\n",
      "\n"
     ]
    },
    {
     "name": "stderr",
     "output_type": "stream",
     "text": [
      "                                                                                \r"
     ]
    }
   ],
   "source": [
    "from pyspark.sql.functions import udf, col\n",
    "from pyspark.sql.types import IntegerType\n",
    "from rdkit import Chem\n",
    "from rdkit.Chem import EnumerateStereoisomers\n",
    "\n",
    "# 스테레오이성질체의 수를 계산하는 UDF 생성\n",
    "def calculate_stereoisomers(smiles):\n",
    "    molecule = Chem.MolFromSmiles(smiles)\n",
    "    if molecule:\n",
    "        isomers = list(EnumerateStereoisomers.EnumerateStereoisomers(molecule))\n",
    "        return len(isomers)\n",
    "    return 0\n",
    "\n",
    "# UDF 등록\n",
    "calculate_stereoisomers_udf = udf(calculate_stereoisomers, IntegerType())\n",
    "\n",
    "# DataFrame에 스테레오이성질체 수를 계산하여 새로운 열로 추가\n",
    "train = train.withColumn(\"stereoisomers_count\", calculate_stereoisomers_udf(col(\"molecule_smiles\")))\n",
    "\n",
    "# DataFrame을 출력하여 결과 확인\n",
    "train.show()\n"
   ]
  },
  {
   "cell_type": "code",
   "execution_count": 20,
   "id": "a150268e",
   "metadata": {
    "execution": {
     "iopub.execute_input": "2024-04-18T14:22:16.268766Z",
     "iopub.status.busy": "2024-04-18T14:22:16.268121Z",
     "iopub.status.idle": "2024-04-18T14:22:18.402764Z",
     "shell.execute_reply": "2024-04-18T14:22:18.401042Z"
    },
    "papermill": {
     "duration": 2.189362,
     "end_time": "2024-04-18T14:22:18.406308",
     "exception": false,
     "start_time": "2024-04-18T14:22:16.216946",
     "status": "completed"
    },
    "tags": []
   },
   "outputs": [
    {
     "name": "stderr",
     "output_type": "stream",
     "text": [
      "[Stage 28:======================================>                   (2 + 1) / 3]\r"
     ]
    },
    {
     "name": "stdout",
     "output_type": "stream",
     "text": [
      "+---------+---------------------+---------------------+---------------------+--------------------+------------+-----------------+-----------------+-----------------+-----------+-------+-------+-------+-------------------+---------+------------+------+--------------------+--------------------+-------------+---------------------+-----------+------------+--------------+-----------+-------------+-----------+-------------+---------------+--------------+-------------+---------------------+--------------------------+------------+------------+------------------+-------------------+-----------------+------------+------------+------------+\n",
      "|       id|buildingblock1_smiles|buildingblock2_smiles|buildingblock3_smiles|     molecule_smiles|protein_name|mw_buildingblock1|mw_buildingblock2|mw_buildingblock3|mw_molecule|   logP|num_hbd|num_hba|num_rotatable_bonds|num_rings|num_c1ccccc1|  tpsa|molecular_complexity|chemical_fingerprint|count_alcohol|count_carboxylic_acid|count_amine|count_ketone|count_ammonium|count_ester|count_nitrile|count_thiol|count_sulfide|count_sulfoxide|count_aldehyde|count_halogen|count_boron_compounds|count_phosphorus_compounds|count_amines|count_ethers|substituent_effect|stereoisomers_count|polarity_molecule|polarity_bb1|polarity_bb2|polarity_bb3|\n",
      "+---------+---------------------+---------------------+---------------------+--------------------+------------+-----------------+-----------------+-----------------+-----------+-------+-------+-------+-------------------+---------+------------+------+--------------------+--------------------+-------------+---------------------+-----------+------------+--------------+-----------+-------------+-----------+-------------+---------------+--------------+-------------+---------------------+--------------------------+------------+------------+------------------+-------------------+-----------------+------------+------------+------------+\n",
      "|295246830| C#CCCC[C@H](NC(=O...|       C=Cc1ccc(N)cc1|       C=Cc1ccc(N)cc1|C#CCCC[C@H](Nc1nc...|        BRD4|          363.413|          119.167|          119.167|    615.042| 4.8093|      4|      7|                 12|        3|           2|103.86|           1132.1151|[0, 1, 0, 0, 0, 0...|            0|                    0|          3|           1|             0|          0|            0|          0|            0|              0|             1|            0|                    0|                         0|           4|           1|               0.0|                  1|       0.20166667|  0.18724138| 0.054444443| 0.054444443|\n",
      "|295246831| C#CCCC[C@H](NC(=O...|       C=Cc1ccc(N)cc1|       C=Cc1ccc(N)cc1|C#CCCC[C@H](Nc1nc...|         HSA|          363.413|          119.167|          119.167|    615.042| 4.8093|      4|      7|                 12|        3|           2|103.86|           1132.1151|[0, 1, 0, 0, 0, 0...|            0|                    0|          3|           1|             0|          0|            0|          0|            0|              0|             1|            0|                    0|                         0|           4|           1|               0.0|                  1|       0.20166667|  0.18724138| 0.054444443| 0.054444443|\n",
      "|295246832| C#CCCC[C@H](NC(=O...|       C=Cc1ccc(N)cc1|       C=Cc1ccc(N)cc1|C#CCCC[C@H](Nc1nc...|         sEH|          363.413|          119.167|          119.167|    615.042| 4.8093|      4|      7|                 12|        3|           2|103.86|           1132.1151|[0, 1, 0, 0, 0, 0...|            0|                    0|          3|           1|             0|          0|            0|          0|            0|              0|             1|            0|                    0|                         0|           4|           1|               0.0|                  1|       0.20166667|  0.18724138| 0.054444443| 0.054444443|\n",
      "|295246833| C#CCCC[C@H](NC(=O...|       C=Cc1ccc(N)cc1| CC(O)Cn1cnc2c(N)n...|C#CCCC[C@H](Nc1nc...|        BRD4|          363.413|          119.167|           193.21|    689.085| 2.6868|      5|     12|                 13|        4|           1|167.69|           1515.6115|[0, 1, 0, 0, 0, 0...|            1|                    0|          3|           1|             0|          0|            0|          0|            0|              0|             1|            0|                    0|                         0|           4|           2|             -0.37|                  2|       0.29904762|  0.18724138| 0.054444443|       0.386|\n",
      "|295246834| C#CCCC[C@H](NC(=O...|       C=Cc1ccc(N)cc1| CC(O)Cn1cnc2c(N)n...|C#CCCC[C@H](Nc1nc...|         HSA|          363.413|          119.167|           193.21|    689.085| 2.6868|      5|     12|                 13|        4|           1|167.69|           1515.6115|[0, 1, 0, 0, 0, 0...|            1|                    0|          3|           1|             0|          0|            0|          0|            0|              0|             1|            0|                    0|                         0|           4|           2|             -0.37|                  2|       0.29904762|  0.18724138| 0.054444443|       0.386|\n",
      "|295246835| C#CCCC[C@H](NC(=O...|       C=Cc1ccc(N)cc1| CC(O)Cn1cnc2c(N)n...|C#CCCC[C@H](Nc1nc...|         sEH|          363.413|          119.167|           193.21|    689.085| 2.6868|      5|     12|                 13|        4|           1|167.69|           1515.6115|[0, 1, 0, 0, 0, 0...|            1|                    0|          3|           1|             0|          0|            0|          0|            0|              0|             1|            0|                    0|                         0|           4|           2|             -0.37|                  2|       0.29904762|  0.18724138| 0.054444443|       0.386|\n",
      "|295246836| C#CCCC[C@H](NC(=O...|       C=Cc1ccc(N)cc1|     CC1(C)CCCC1(O)CN|C#CCCC[C@H](Nc1nc...|        BRD4|          363.413|          119.167|           143.23|    639.105| 3.7758|      5|      8|                 12|        3|           1|124.09|           1100.4618|[0, 1, 0, 0, 1, 0...|            1|                    0|          3|           1|             0|          0|            0|          0|            0|              0|             1|            0|                    0|                         0|           4|           2|             -0.37|                  2|       0.22027028|  0.18724138| 0.054444443|       0.138|\n",
      "|295246837| C#CCCC[C@H](NC(=O...|       C=Cc1ccc(N)cc1|     CC1(C)CCCC1(O)CN|C#CCCC[C@H](Nc1nc...|         HSA|          363.413|          119.167|           143.23|    639.105| 3.7758|      5|      8|                 12|        3|           1|124.09|           1100.4618|[0, 1, 0, 0, 1, 0...|            1|                    0|          3|           1|             0|          0|            0|          0|            0|              0|             1|            0|                    0|                         0|           4|           2|             -0.37|                  2|       0.22027028|  0.18724138| 0.054444443|       0.138|\n",
      "|295246838| C#CCCC[C@H](NC(=O...|       C=Cc1ccc(N)cc1|     CC1(C)CCCC1(O)CN|C#CCCC[C@H](Nc1nc...|         sEH|          363.413|          119.167|           143.23|    639.105| 3.7758|      5|      8|                 12|        3|           1|124.09|           1100.4618|[0, 1, 0, 0, 1, 0...|            1|                    0|          3|           1|             0|          0|            0|          0|            0|              0|             1|            0|                    0|                         0|           4|           2|             -0.37|                  2|       0.22027028|  0.18724138| 0.054444443|       0.138|\n",
      "|295246839| C#CCCC[C@H](NC(=O...|       C=Cc1ccc(N)cc1|  COC(=O)c1cc(Cl)sc1N|C#CCCC[C@H](Nc1nc...|        BRD4|          363.413|          119.167|          191.639|    687.514| 4.6678|      4|     10|                 12|        3|           1|130.16|           1310.6617|[0, 1, 0, 0, 0, 0...|            0|                    0|          3|           2|             0|          1|            0|          0|            0|              0|             2|            1|                    0|                         0|           4|           3|             -0.04|                  1|       0.27894738|  0.18724138| 0.054444443|   0.3481818|\n",
      "|295246840| C#CCCC[C@H](NC(=O...|       C=Cc1ccc(N)cc1|  COC(=O)c1cc(Cl)sc1N|C#CCCC[C@H](Nc1nc...|         HSA|          363.413|          119.167|          191.639|    687.514| 4.6678|      4|     10|                 12|        3|           1|130.16|           1310.6617|[0, 1, 0, 0, 0, 0...|            0|                    0|          3|           2|             0|          1|            0|          0|            0|              0|             2|            1|                    0|                         0|           4|           3|             -0.04|                  1|       0.27894738|  0.18724138| 0.054444443|   0.3481818|\n",
      "|295246841| C#CCCC[C@H](NC(=O...|       C=Cc1ccc(N)cc1|  COC(=O)c1cc(Cl)sc1N|C#CCCC[C@H](Nc1nc...|         sEH|          363.413|          119.167|          191.639|    687.514| 4.6678|      4|     10|                 12|        3|           1|130.16|           1310.6617|[0, 1, 0, 0, 0, 0...|            0|                    0|          3|           2|             0|          1|            0|          0|            0|              0|             2|            1|                    0|                         0|           4|           3|             -0.04|                  1|       0.27894738|  0.18724138| 0.054444443|   0.3481818|\n",
      "|295246842| C#CCCC[C@H](NC(=O...|       C=Cc1ccc(N)cc1|       CSC1CCC(CN)CC1|C#CCCC[C@H](Nc1nc...|        BRD4|          363.413|          119.167|          159.298|    655.173| 4.7564|      4|      8|                 13|        3|           1|103.86|           1035.5785|[0, 1, 0, 0, 0, 0...|            0|                    0|          3|           1|             0|          0|            0|          0|            1|              0|             1|            0|                    0|                         0|           4|           1|               0.0|                  1|       0.19783784|  0.18724138| 0.054444443|       0.055|\n",
      "|295246843| C#CCCC[C@H](NC(=O...|       C=Cc1ccc(N)cc1|       CSC1CCC(CN)CC1|C#CCCC[C@H](Nc1nc...|         HSA|          363.413|          119.167|          159.298|    655.173| 4.7564|      4|      8|                 13|        3|           1|103.86|           1035.5785|[0, 1, 0, 0, 0, 0...|            0|                    0|          3|           1|             0|          0|            0|          0|            1|              0|             1|            0|                    0|                         0|           4|           1|               0.0|                  1|       0.19783784|  0.18724138| 0.054444443|       0.055|\n",
      "|295246844| C#CCCC[C@H](NC(=O...|       C=Cc1ccc(N)cc1|       CSC1CCC(CN)CC1|C#CCCC[C@H](Nc1nc...|         sEH|          363.413|          119.167|          159.298|    655.173| 4.7564|      4|      8|                 13|        3|           1|103.86|           1035.5785|[0, 1, 0, 0, 0, 0...|            0|                    0|          3|           1|             0|          0|            0|          0|            1|              0|             1|            0|                    0|                         0|           4|           1|               0.0|                  1|       0.19783784|  0.18724138| 0.054444443|       0.055|\n",
      "|295246845| C#CCCC[C@H](NC(=O...|       C=Cc1ccc(N)cc1| Cc1ccc(CN)c(N2CCC...|C#CCCC[C@H](Nc1nc...|        BRD4|          363.413|          119.167|          263.212|    686.165|4.94342|      4|      8|                 13|        4|           2| 107.1|           1348.8049|[0, 1, 0, 0, 1, 0...|            0|                    0|          4|           1|             0|          0|            0|          0|            0|              0|             1|            0|                    0|                         0|           5|           1|               0.0|                  1|       0.20785715|  0.18724138| 0.054444443|  0.13066667|\n",
      "|295246846| C#CCCC[C@H](NC(=O...|       C=Cc1ccc(N)cc1| Cc1ccc(CN)c(N2CCC...|C#CCCC[C@H](Nc1nc...|         HSA|          363.413|          119.167|          263.212|    686.165|4.94342|      4|      8|                 13|        4|           2| 107.1|           1348.8049|[0, 1, 0, 0, 1, 0...|            0|                    0|          4|           1|             0|          0|            0|          0|            0|              0|             1|            0|                    0|                         0|           5|           1|               0.0|                  1|       0.20785715|  0.18724138| 0.054444443|  0.13066667|\n",
      "|295246847| C#CCCC[C@H](NC(=O...|       C=Cc1ccc(N)cc1| Cc1ccc(CN)c(N2CCC...|C#CCCC[C@H](Nc1nc...|         sEH|          363.413|          119.167|          263.212|    686.165|4.94342|      4|      8|                 13|        4|           2| 107.1|           1348.8049|[0, 1, 0, 0, 1, 0...|            0|                    0|          4|           1|             0|          0|            0|          0|            0|              0|             1|            0|                    0|                         0|           5|           1|               0.0|                  1|       0.20785715|  0.18724138| 0.054444443|  0.13066667|\n",
      "|295246848| C#CCCC[C@H](NC(=O...|       C=Cc1ccc(N)cc1| Cc1cccc(NC(=O)COc...|C#CCCC[C@H](Nc1nc...|        BRD4|          363.413|          119.167|           320.82|    780.234|5.40322|      5|      9|                 17|        4|           3|142.19|            1690.816|[0, 1, 0, 0, 0, 0...|            0|                    0|          3|           2|             0|          0|            0|          0|            0|              0|             2|            0|                    0|                         0|           5|           3|               0.0|                  1|       0.22265306|  0.18724138| 0.054444443|  0.18818182|\n",
      "|295246849| C#CCCC[C@H](NC(=O...|       C=Cc1ccc(N)cc1| Cc1cccc(NC(=O)COc...|C#CCCC[C@H](Nc1nc...|         HSA|          363.413|          119.167|           320.82|    780.234|5.40322|      5|      9|                 17|        4|           3|142.19|            1690.816|[0, 1, 0, 0, 0, 0...|            0|                    0|          3|           2|             0|          0|            0|          0|            0|              0|             2|            0|                    0|                         0|           5|           3|               0.0|                  1|       0.22265306|  0.18724138| 0.054444443|  0.18818182|\n",
      "+---------+---------------------+---------------------+---------------------+--------------------+------------+-----------------+-----------------+-----------------+-----------+-------+-------+-------+-------------------+---------+------------+------+--------------------+--------------------+-------------+---------------------+-----------+------------+--------------+-----------+-------------+-----------+-------------+---------------+--------------+-------------+---------------------+--------------------------+------------+------------+------------------+-------------------+-----------------+------------+------------+------------+\n",
      "only showing top 20 rows\n",
      "\n"
     ]
    },
    {
     "name": "stderr",
     "output_type": "stream",
     "text": [
      "                                                                                \r"
     ]
    }
   ],
   "source": [
    "# 전기음성도 참조 데이터 (Pauling Scale)\n",
    "electronegativities = {\n",
    "    'H': 2.20, 'B': 2.04, 'C': 2.55, 'N': 3.04,\n",
    "    'O': 3.44, 'F': 3.98, 'Si': 1.90, 'P': 2.19,\n",
    "    'S': 2.58, 'Cl': 3.16, 'Br': 2.96, 'I': 2.66\n",
    "}\n",
    "\n",
    "# 공유결합 극성을 계산하는 UDF 생성\n",
    "def calculate_bond_polarity(smiles):\n",
    "    molecule = Chem.MolFromSmiles(smiles)\n",
    "    polarities = []\n",
    "    if molecule:\n",
    "        for bond in molecule.GetBonds():\n",
    "            begin_atom = bond.GetBeginAtom().GetSymbol()\n",
    "            end_atom = bond.GetEndAtom().GetSymbol()\n",
    "            if begin_atom in electronegativities and end_atom in electronegativities:\n",
    "                polarity = abs(electronegativities[begin_atom] - electronegativities[end_atom])\n",
    "                polarities.append(polarity)\n",
    "    return sum(polarities) / len(polarities) if polarities else 0\n",
    "\n",
    "calculate_bond_polarity_udf = udf(calculate_bond_polarity, FloatType())\n",
    "\n",
    "# DataFrame에 공유결합 극성 변수를 계산하여 새로운 열로 추가\n",
    "train = train.withColumn(\"polarity_molecule\", calculate_bond_polarity_udf(col(\"molecule_smiles\")))\n",
    "train = train.withColumn(\"polarity_bb1\", calculate_bond_polarity_udf(col(\"buildingblock1_smiles\")))\n",
    "train = train.withColumn(\"polarity_bb2\", calculate_bond_polarity_udf(col(\"buildingblock2_smiles\")))\n",
    "train = train.withColumn(\"polarity_bb3\", calculate_bond_polarity_udf(col(\"buildingblock3_smiles\")))\n",
    "\n",
    "train.show()"
   ]
  },
  {
   "cell_type": "code",
   "execution_count": 21,
   "id": "71062505",
   "metadata": {
    "execution": {
     "iopub.execute_input": "2024-04-18T14:22:18.475743Z",
     "iopub.status.busy": "2024-04-18T14:22:18.475344Z",
     "iopub.status.idle": "2024-04-18T14:22:20.524620Z",
     "shell.execute_reply": "2024-04-18T14:22:20.523463Z"
    },
    "papermill": {
     "duration": 2.092596,
     "end_time": "2024-04-18T14:22:20.532498",
     "exception": false,
     "start_time": "2024-04-18T14:22:18.439902",
     "status": "completed"
    },
    "tags": []
   },
   "outputs": [
    {
     "name": "stderr",
     "output_type": "stream",
     "text": [
      "[Stage 30:======================================>                   (2 + 1) / 3]\r"
     ]
    },
    {
     "name": "stdout",
     "output_type": "stream",
     "text": [
      "+---------+---------------------+---------------------+---------------------+--------------------+------------+-----------------+-----------------+-----------------+-----------+-------+-------+-------+-------------------+---------+------------+------+--------------------+--------------------+-------------+---------------------+-----------+------------+--------------+-----------+-------------+-----------+-------------+---------------+--------------+-------------+---------------------+--------------------------+------------+------------+------------------+-------------------+-----------------+------------+------------+------------+--------------+-----------------+\n",
      "|       id|buildingblock1_smiles|buildingblock2_smiles|buildingblock3_smiles|     molecule_smiles|protein_name|mw_buildingblock1|mw_buildingblock2|mw_buildingblock3|mw_molecule|   logP|num_hbd|num_hba|num_rotatable_bonds|num_rings|num_c1ccccc1|  tpsa|molecular_complexity|chemical_fingerprint|count_alcohol|count_carboxylic_acid|count_amine|count_ketone|count_ammonium|count_ester|count_nitrile|count_thiol|count_sulfide|count_sulfoxide|count_aldehyde|count_halogen|count_boron_compounds|count_phosphorus_compounds|count_amines|count_ethers|substituent_effect|stereoisomers_count|polarity_molecule|polarity_bb1|polarity_bb2|polarity_bb3|chiral_centers|geometric_isomers|\n",
      "+---------+---------------------+---------------------+---------------------+--------------------+------------+-----------------+-----------------+-----------------+-----------+-------+-------+-------+-------------------+---------+------------+------+--------------------+--------------------+-------------+---------------------+-----------+------------+--------------+-----------+-------------+-----------+-------------+---------------+--------------+-------------+---------------------+--------------------------+------------+------------+------------------+-------------------+-----------------+------------+------------+------------+--------------+-----------------+\n",
      "|295246830| C#CCCC[C@H](NC(=O...|       C=Cc1ccc(N)cc1|       C=Cc1ccc(N)cc1|C#CCCC[C@H](Nc1nc...|        BRD4|          363.413|          119.167|          119.167|    615.042| 4.8093|      4|      7|                 12|        3|           2|103.86|           1132.1151|[0, 1, 0, 0, 0, 0...|            0|                    0|          3|           1|             0|          0|            0|          0|            0|              0|             1|            0|                    0|                         0|           4|           1|               0.0|                  1|       0.20166667|  0.18724138| 0.054444443| 0.054444443|             1|                0|\n",
      "|295246831| C#CCCC[C@H](NC(=O...|       C=Cc1ccc(N)cc1|       C=Cc1ccc(N)cc1|C#CCCC[C@H](Nc1nc...|         HSA|          363.413|          119.167|          119.167|    615.042| 4.8093|      4|      7|                 12|        3|           2|103.86|           1132.1151|[0, 1, 0, 0, 0, 0...|            0|                    0|          3|           1|             0|          0|            0|          0|            0|              0|             1|            0|                    0|                         0|           4|           1|               0.0|                  1|       0.20166667|  0.18724138| 0.054444443| 0.054444443|             1|                0|\n",
      "|295246832| C#CCCC[C@H](NC(=O...|       C=Cc1ccc(N)cc1|       C=Cc1ccc(N)cc1|C#CCCC[C@H](Nc1nc...|         sEH|          363.413|          119.167|          119.167|    615.042| 4.8093|      4|      7|                 12|        3|           2|103.86|           1132.1151|[0, 1, 0, 0, 0, 0...|            0|                    0|          3|           1|             0|          0|            0|          0|            0|              0|             1|            0|                    0|                         0|           4|           1|               0.0|                  1|       0.20166667|  0.18724138| 0.054444443| 0.054444443|             1|                0|\n",
      "|295246833| C#CCCC[C@H](NC(=O...|       C=Cc1ccc(N)cc1| CC(O)Cn1cnc2c(N)n...|C#CCCC[C@H](Nc1nc...|        BRD4|          363.413|          119.167|           193.21|    689.085| 2.6868|      5|     12|                 13|        4|           1|167.69|           1515.6115|[0, 1, 0, 0, 0, 0...|            1|                    0|          3|           1|             0|          0|            0|          0|            0|              0|             1|            0|                    0|                         0|           4|           2|             -0.37|                  2|       0.29904762|  0.18724138| 0.054444443|       0.386|             1|                0|\n",
      "|295246834| C#CCCC[C@H](NC(=O...|       C=Cc1ccc(N)cc1| CC(O)Cn1cnc2c(N)n...|C#CCCC[C@H](Nc1nc...|         HSA|          363.413|          119.167|           193.21|    689.085| 2.6868|      5|     12|                 13|        4|           1|167.69|           1515.6115|[0, 1, 0, 0, 0, 0...|            1|                    0|          3|           1|             0|          0|            0|          0|            0|              0|             1|            0|                    0|                         0|           4|           2|             -0.37|                  2|       0.29904762|  0.18724138| 0.054444443|       0.386|             1|                0|\n",
      "|295246835| C#CCCC[C@H](NC(=O...|       C=Cc1ccc(N)cc1| CC(O)Cn1cnc2c(N)n...|C#CCCC[C@H](Nc1nc...|         sEH|          363.413|          119.167|           193.21|    689.085| 2.6868|      5|     12|                 13|        4|           1|167.69|           1515.6115|[0, 1, 0, 0, 0, 0...|            1|                    0|          3|           1|             0|          0|            0|          0|            0|              0|             1|            0|                    0|                         0|           4|           2|             -0.37|                  2|       0.29904762|  0.18724138| 0.054444443|       0.386|             1|                0|\n",
      "|295246836| C#CCCC[C@H](NC(=O...|       C=Cc1ccc(N)cc1|     CC1(C)CCCC1(O)CN|C#CCCC[C@H](Nc1nc...|        BRD4|          363.413|          119.167|           143.23|    639.105| 3.7758|      5|      8|                 12|        3|           1|124.09|           1100.4618|[0, 1, 0, 0, 1, 0...|            1|                    0|          3|           1|             0|          0|            0|          0|            0|              0|             1|            0|                    0|                         0|           4|           2|             -0.37|                  2|       0.22027028|  0.18724138| 0.054444443|       0.138|             1|                0|\n",
      "|295246837| C#CCCC[C@H](NC(=O...|       C=Cc1ccc(N)cc1|     CC1(C)CCCC1(O)CN|C#CCCC[C@H](Nc1nc...|         HSA|          363.413|          119.167|           143.23|    639.105| 3.7758|      5|      8|                 12|        3|           1|124.09|           1100.4618|[0, 1, 0, 0, 1, 0...|            1|                    0|          3|           1|             0|          0|            0|          0|            0|              0|             1|            0|                    0|                         0|           4|           2|             -0.37|                  2|       0.22027028|  0.18724138| 0.054444443|       0.138|             1|                0|\n",
      "|295246838| C#CCCC[C@H](NC(=O...|       C=Cc1ccc(N)cc1|     CC1(C)CCCC1(O)CN|C#CCCC[C@H](Nc1nc...|         sEH|          363.413|          119.167|           143.23|    639.105| 3.7758|      5|      8|                 12|        3|           1|124.09|           1100.4618|[0, 1, 0, 0, 1, 0...|            1|                    0|          3|           1|             0|          0|            0|          0|            0|              0|             1|            0|                    0|                         0|           4|           2|             -0.37|                  2|       0.22027028|  0.18724138| 0.054444443|       0.138|             1|                0|\n",
      "|295246839| C#CCCC[C@H](NC(=O...|       C=Cc1ccc(N)cc1|  COC(=O)c1cc(Cl)sc1N|C#CCCC[C@H](Nc1nc...|        BRD4|          363.413|          119.167|          191.639|    687.514| 4.6678|      4|     10|                 12|        3|           1|130.16|           1310.6617|[0, 1, 0, 0, 0, 0...|            0|                    0|          3|           2|             0|          1|            0|          0|            0|              0|             2|            1|                    0|                         0|           4|           3|             -0.04|                  1|       0.27894738|  0.18724138| 0.054444443|   0.3481818|             1|                0|\n",
      "|295246840| C#CCCC[C@H](NC(=O...|       C=Cc1ccc(N)cc1|  COC(=O)c1cc(Cl)sc1N|C#CCCC[C@H](Nc1nc...|         HSA|          363.413|          119.167|          191.639|    687.514| 4.6678|      4|     10|                 12|        3|           1|130.16|           1310.6617|[0, 1, 0, 0, 0, 0...|            0|                    0|          3|           2|             0|          1|            0|          0|            0|              0|             2|            1|                    0|                         0|           4|           3|             -0.04|                  1|       0.27894738|  0.18724138| 0.054444443|   0.3481818|             1|                0|\n",
      "|295246841| C#CCCC[C@H](NC(=O...|       C=Cc1ccc(N)cc1|  COC(=O)c1cc(Cl)sc1N|C#CCCC[C@H](Nc1nc...|         sEH|          363.413|          119.167|          191.639|    687.514| 4.6678|      4|     10|                 12|        3|           1|130.16|           1310.6617|[0, 1, 0, 0, 0, 0...|            0|                    0|          3|           2|             0|          1|            0|          0|            0|              0|             2|            1|                    0|                         0|           4|           3|             -0.04|                  1|       0.27894738|  0.18724138| 0.054444443|   0.3481818|             1|                0|\n",
      "|295246842| C#CCCC[C@H](NC(=O...|       C=Cc1ccc(N)cc1|       CSC1CCC(CN)CC1|C#CCCC[C@H](Nc1nc...|        BRD4|          363.413|          119.167|          159.298|    655.173| 4.7564|      4|      8|                 13|        3|           1|103.86|           1035.5785|[0, 1, 0, 0, 0, 0...|            0|                    0|          3|           1|             0|          0|            0|          0|            1|              0|             1|            0|                    0|                         0|           4|           1|               0.0|                  1|       0.19783784|  0.18724138| 0.054444443|       0.055|             1|                0|\n",
      "|295246843| C#CCCC[C@H](NC(=O...|       C=Cc1ccc(N)cc1|       CSC1CCC(CN)CC1|C#CCCC[C@H](Nc1nc...|         HSA|          363.413|          119.167|          159.298|    655.173| 4.7564|      4|      8|                 13|        3|           1|103.86|           1035.5785|[0, 1, 0, 0, 0, 0...|            0|                    0|          3|           1|             0|          0|            0|          0|            1|              0|             1|            0|                    0|                         0|           4|           1|               0.0|                  1|       0.19783784|  0.18724138| 0.054444443|       0.055|             1|                0|\n",
      "|295246844| C#CCCC[C@H](NC(=O...|       C=Cc1ccc(N)cc1|       CSC1CCC(CN)CC1|C#CCCC[C@H](Nc1nc...|         sEH|          363.413|          119.167|          159.298|    655.173| 4.7564|      4|      8|                 13|        3|           1|103.86|           1035.5785|[0, 1, 0, 0, 0, 0...|            0|                    0|          3|           1|             0|          0|            0|          0|            1|              0|             1|            0|                    0|                         0|           4|           1|               0.0|                  1|       0.19783784|  0.18724138| 0.054444443|       0.055|             1|                0|\n",
      "|295246845| C#CCCC[C@H](NC(=O...|       C=Cc1ccc(N)cc1| Cc1ccc(CN)c(N2CCC...|C#CCCC[C@H](Nc1nc...|        BRD4|          363.413|          119.167|          263.212|    686.165|4.94342|      4|      8|                 13|        4|           2| 107.1|           1348.8049|[0, 1, 0, 0, 1, 0...|            0|                    0|          4|           1|             0|          0|            0|          0|            0|              0|             1|            0|                    0|                         0|           5|           1|               0.0|                  1|       0.20785715|  0.18724138| 0.054444443|  0.13066667|             1|                0|\n",
      "|295246846| C#CCCC[C@H](NC(=O...|       C=Cc1ccc(N)cc1| Cc1ccc(CN)c(N2CCC...|C#CCCC[C@H](Nc1nc...|         HSA|          363.413|          119.167|          263.212|    686.165|4.94342|      4|      8|                 13|        4|           2| 107.1|           1348.8049|[0, 1, 0, 0, 1, 0...|            0|                    0|          4|           1|             0|          0|            0|          0|            0|              0|             1|            0|                    0|                         0|           5|           1|               0.0|                  1|       0.20785715|  0.18724138| 0.054444443|  0.13066667|             1|                0|\n",
      "|295246847| C#CCCC[C@H](NC(=O...|       C=Cc1ccc(N)cc1| Cc1ccc(CN)c(N2CCC...|C#CCCC[C@H](Nc1nc...|         sEH|          363.413|          119.167|          263.212|    686.165|4.94342|      4|      8|                 13|        4|           2| 107.1|           1348.8049|[0, 1, 0, 0, 1, 0...|            0|                    0|          4|           1|             0|          0|            0|          0|            0|              0|             1|            0|                    0|                         0|           5|           1|               0.0|                  1|       0.20785715|  0.18724138| 0.054444443|  0.13066667|             1|                0|\n",
      "|295246848| C#CCCC[C@H](NC(=O...|       C=Cc1ccc(N)cc1| Cc1cccc(NC(=O)COc...|C#CCCC[C@H](Nc1nc...|        BRD4|          363.413|          119.167|           320.82|    780.234|5.40322|      5|      9|                 17|        4|           3|142.19|            1690.816|[0, 1, 0, 0, 0, 0...|            0|                    0|          3|           2|             0|          0|            0|          0|            0|              0|             2|            0|                    0|                         0|           5|           3|               0.0|                  1|       0.22265306|  0.18724138| 0.054444443|  0.18818182|             1|                0|\n",
      "|295246849| C#CCCC[C@H](NC(=O...|       C=Cc1ccc(N)cc1| Cc1cccc(NC(=O)COc...|C#CCCC[C@H](Nc1nc...|         HSA|          363.413|          119.167|           320.82|    780.234|5.40322|      5|      9|                 17|        4|           3|142.19|            1690.816|[0, 1, 0, 0, 0, 0...|            0|                    0|          3|           2|             0|          0|            0|          0|            0|              0|             2|            0|                    0|                         0|           5|           3|               0.0|                  1|       0.22265306|  0.18724138| 0.054444443|  0.18818182|             1|                0|\n",
      "+---------+---------------------+---------------------+---------------------+--------------------+------------+-----------------+-----------------+-----------------+-----------+-------+-------+-------+-------------------+---------+------------+------+--------------------+--------------------+-------------+---------------------+-----------+------------+--------------+-----------+-------------+-----------+-------------+---------------+--------------+-------------+---------------------+--------------------------+------------+------------+------------------+-------------------+-----------------+------------+------------+------------+--------------+-----------------+\n",
      "only showing top 20 rows\n",
      "\n"
     ]
    },
    {
     "name": "stderr",
     "output_type": "stream",
     "text": [
      "                                                                                \r"
     ]
    }
   ],
   "source": [
    "# 키랄 센터 수를 계산하는 UDF\n",
    "def count_chiral_centers(smiles):\n",
    "    mol = Chem.MolFromSmiles(smiles)\n",
    "    if mol:\n",
    "        chiral_centers = [atom for atom in mol.GetAtoms() if atom.GetChiralTag() != Chem.rdchem.ChiralType.CHI_UNSPECIFIED]\n",
    "        return len(chiral_centers)\n",
    "    return 0\n",
    "\n",
    "# 이중 결합의 기하학적 이성질체 수를 계산하는 UDF\n",
    "def count_geometric_isomers(smiles):\n",
    "    mol = Chem.MolFromSmiles(smiles)\n",
    "    if mol:\n",
    "        double_bonds = [bond for bond in mol.GetBonds() if bond.GetBondType() == Chem.rdchem.BondType.DOUBLE]\n",
    "        geom_isomers = sum(1 for bond in double_bonds if bond.GetStereo() != Chem.rdchem.BondStereo.STEREONONE)\n",
    "        return geom_isomers\n",
    "    return 0\n",
    "\n",
    "# UDF 등록\n",
    "count_chiral_centers_udf = udf(count_chiral_centers, IntegerType())\n",
    "count_geometric_isomers_udf = udf(count_geometric_isomers, IntegerType())\n",
    "\n",
    "# DataFrame에 입체화학적 특성 변수를 계산하여 새로운 열로 추가\n",
    "train = train.withColumn(\"chiral_centers\", count_chiral_centers_udf(col(\"molecule_smiles\")))\n",
    "train = train.withColumn(\"geometric_isomers\", count_geometric_isomers_udf(col(\"molecule_smiles\")))\n",
    "\n",
    "train.show()"
   ]
  },
  {
   "cell_type": "code",
   "execution_count": 22,
   "id": "08e6c2fd",
   "metadata": {
    "execution": {
     "iopub.execute_input": "2024-04-18T14:22:20.616118Z",
     "iopub.status.busy": "2024-04-18T14:22:20.615684Z",
     "iopub.status.idle": "2024-04-18T14:22:22.572106Z",
     "shell.execute_reply": "2024-04-18T14:22:22.571178Z"
    },
    "papermill": {
     "duration": 1.998821,
     "end_time": "2024-04-18T14:22:22.576726",
     "exception": false,
     "start_time": "2024-04-18T14:22:20.577905",
     "status": "completed"
    },
    "tags": []
   },
   "outputs": [
    {
     "name": "stderr",
     "output_type": "stream",
     "text": [
      "[Stage 32:===================>                                      (1 + 2) / 3]\r"
     ]
    },
    {
     "name": "stdout",
     "output_type": "stream",
     "text": [
      "+---------------------+---------------------+---------------------+--------------------+------------+-----------------+-----------------+-----------------+-----------+-------+-------+-------+-------------------+---------+------------+------+--------------------+--------------------+-------------+---------------------+-----------+------------+--------------+-----------+-------------+-----------+-------------+---------------+--------------+-------------+---------------------+--------------------------+------------+------------+------------------+-------------------+-----------------+------------+------------+------------+--------------+-----------------+\n",
      "|buildingblock1_smiles|buildingblock2_smiles|buildingblock3_smiles|     molecule_smiles|protein_name|mw_buildingblock1|mw_buildingblock2|mw_buildingblock3|mw_molecule|   logP|num_hbd|num_hba|num_rotatable_bonds|num_rings|num_c1ccccc1|  tpsa|molecular_complexity|chemical_fingerprint|count_alcohol|count_carboxylic_acid|count_amine|count_ketone|count_ammonium|count_ester|count_nitrile|count_thiol|count_sulfide|count_sulfoxide|count_aldehyde|count_halogen|count_boron_compounds|count_phosphorus_compounds|count_amines|count_ethers|substituent_effect|stereoisomers_count|polarity_molecule|polarity_bb1|polarity_bb2|polarity_bb3|chiral_centers|geometric_isomers|\n",
      "+---------------------+---------------------+---------------------+--------------------+------------+-----------------+-----------------+-----------------+-----------+-------+-------+-------+-------------------+---------+------------+------+--------------------+--------------------+-------------+---------------------+-----------+------------+--------------+-----------+-------------+-----------+-------------+---------------+--------------+-------------+---------------------+--------------------------+------------+------------+------------------+-------------------+-----------------+------------+------------+------------+--------------+-----------------+\n",
      "| C#CCCC[C@H](NC(=O...|       C=Cc1ccc(N)cc1|       C=Cc1ccc(N)cc1|C#CCCC[C@H](Nc1nc...|        BRD4|          363.413|          119.167|          119.167|    615.042| 4.8093|      4|      7|                 12|        3|           2|103.86|           1132.1151|[0, 1, 0, 0, 0, 0...|            0|                    0|          3|           1|             0|          0|            0|          0|            0|              0|             1|            0|                    0|                         0|           4|           1|               0.0|                  1|       0.20166667|  0.18724138| 0.054444443| 0.054444443|             1|                0|\n",
      "| C#CCCC[C@H](NC(=O...|       C=Cc1ccc(N)cc1|       C=Cc1ccc(N)cc1|C#CCCC[C@H](Nc1nc...|         HSA|          363.413|          119.167|          119.167|    615.042| 4.8093|      4|      7|                 12|        3|           2|103.86|           1132.1151|[0, 1, 0, 0, 0, 0...|            0|                    0|          3|           1|             0|          0|            0|          0|            0|              0|             1|            0|                    0|                         0|           4|           1|               0.0|                  1|       0.20166667|  0.18724138| 0.054444443| 0.054444443|             1|                0|\n",
      "| C#CCCC[C@H](NC(=O...|       C=Cc1ccc(N)cc1|       C=Cc1ccc(N)cc1|C#CCCC[C@H](Nc1nc...|         sEH|          363.413|          119.167|          119.167|    615.042| 4.8093|      4|      7|                 12|        3|           2|103.86|           1132.1151|[0, 1, 0, 0, 0, 0...|            0|                    0|          3|           1|             0|          0|            0|          0|            0|              0|             1|            0|                    0|                         0|           4|           1|               0.0|                  1|       0.20166667|  0.18724138| 0.054444443| 0.054444443|             1|                0|\n",
      "| C#CCCC[C@H](NC(=O...|       C=Cc1ccc(N)cc1| CC(O)Cn1cnc2c(N)n...|C#CCCC[C@H](Nc1nc...|        BRD4|          363.413|          119.167|           193.21|    689.085| 2.6868|      5|     12|                 13|        4|           1|167.69|           1515.6115|[0, 1, 0, 0, 0, 0...|            1|                    0|          3|           1|             0|          0|            0|          0|            0|              0|             1|            0|                    0|                         0|           4|           2|             -0.37|                  2|       0.29904762|  0.18724138| 0.054444443|       0.386|             1|                0|\n",
      "| C#CCCC[C@H](NC(=O...|       C=Cc1ccc(N)cc1| CC(O)Cn1cnc2c(N)n...|C#CCCC[C@H](Nc1nc...|         HSA|          363.413|          119.167|           193.21|    689.085| 2.6868|      5|     12|                 13|        4|           1|167.69|           1515.6115|[0, 1, 0, 0, 0, 0...|            1|                    0|          3|           1|             0|          0|            0|          0|            0|              0|             1|            0|                    0|                         0|           4|           2|             -0.37|                  2|       0.29904762|  0.18724138| 0.054444443|       0.386|             1|                0|\n",
      "| C#CCCC[C@H](NC(=O...|       C=Cc1ccc(N)cc1| CC(O)Cn1cnc2c(N)n...|C#CCCC[C@H](Nc1nc...|         sEH|          363.413|          119.167|           193.21|    689.085| 2.6868|      5|     12|                 13|        4|           1|167.69|           1515.6115|[0, 1, 0, 0, 0, 0...|            1|                    0|          3|           1|             0|          0|            0|          0|            0|              0|             1|            0|                    0|                         0|           4|           2|             -0.37|                  2|       0.29904762|  0.18724138| 0.054444443|       0.386|             1|                0|\n",
      "| C#CCCC[C@H](NC(=O...|       C=Cc1ccc(N)cc1|     CC1(C)CCCC1(O)CN|C#CCCC[C@H](Nc1nc...|        BRD4|          363.413|          119.167|           143.23|    639.105| 3.7758|      5|      8|                 12|        3|           1|124.09|           1100.4618|[0, 1, 0, 0, 1, 0...|            1|                    0|          3|           1|             0|          0|            0|          0|            0|              0|             1|            0|                    0|                         0|           4|           2|             -0.37|                  2|       0.22027028|  0.18724138| 0.054444443|       0.138|             1|                0|\n",
      "| C#CCCC[C@H](NC(=O...|       C=Cc1ccc(N)cc1|     CC1(C)CCCC1(O)CN|C#CCCC[C@H](Nc1nc...|         HSA|          363.413|          119.167|           143.23|    639.105| 3.7758|      5|      8|                 12|        3|           1|124.09|           1100.4618|[0, 1, 0, 0, 1, 0...|            1|                    0|          3|           1|             0|          0|            0|          0|            0|              0|             1|            0|                    0|                         0|           4|           2|             -0.37|                  2|       0.22027028|  0.18724138| 0.054444443|       0.138|             1|                0|\n",
      "| C#CCCC[C@H](NC(=O...|       C=Cc1ccc(N)cc1|     CC1(C)CCCC1(O)CN|C#CCCC[C@H](Nc1nc...|         sEH|          363.413|          119.167|           143.23|    639.105| 3.7758|      5|      8|                 12|        3|           1|124.09|           1100.4618|[0, 1, 0, 0, 1, 0...|            1|                    0|          3|           1|             0|          0|            0|          0|            0|              0|             1|            0|                    0|                         0|           4|           2|             -0.37|                  2|       0.22027028|  0.18724138| 0.054444443|       0.138|             1|                0|\n",
      "| C#CCCC[C@H](NC(=O...|       C=Cc1ccc(N)cc1|  COC(=O)c1cc(Cl)sc1N|C#CCCC[C@H](Nc1nc...|        BRD4|          363.413|          119.167|          191.639|    687.514| 4.6678|      4|     10|                 12|        3|           1|130.16|           1310.6617|[0, 1, 0, 0, 0, 0...|            0|                    0|          3|           2|             0|          1|            0|          0|            0|              0|             2|            1|                    0|                         0|           4|           3|             -0.04|                  1|       0.27894738|  0.18724138| 0.054444443|   0.3481818|             1|                0|\n",
      "| C#CCCC[C@H](NC(=O...|       C=Cc1ccc(N)cc1|  COC(=O)c1cc(Cl)sc1N|C#CCCC[C@H](Nc1nc...|         HSA|          363.413|          119.167|          191.639|    687.514| 4.6678|      4|     10|                 12|        3|           1|130.16|           1310.6617|[0, 1, 0, 0, 0, 0...|            0|                    0|          3|           2|             0|          1|            0|          0|            0|              0|             2|            1|                    0|                         0|           4|           3|             -0.04|                  1|       0.27894738|  0.18724138| 0.054444443|   0.3481818|             1|                0|\n",
      "| C#CCCC[C@H](NC(=O...|       C=Cc1ccc(N)cc1|  COC(=O)c1cc(Cl)sc1N|C#CCCC[C@H](Nc1nc...|         sEH|          363.413|          119.167|          191.639|    687.514| 4.6678|      4|     10|                 12|        3|           1|130.16|           1310.6617|[0, 1, 0, 0, 0, 0...|            0|                    0|          3|           2|             0|          1|            0|          0|            0|              0|             2|            1|                    0|                         0|           4|           3|             -0.04|                  1|       0.27894738|  0.18724138| 0.054444443|   0.3481818|             1|                0|\n",
      "| C#CCCC[C@H](NC(=O...|       C=Cc1ccc(N)cc1|       CSC1CCC(CN)CC1|C#CCCC[C@H](Nc1nc...|        BRD4|          363.413|          119.167|          159.298|    655.173| 4.7564|      4|      8|                 13|        3|           1|103.86|           1035.5785|[0, 1, 0, 0, 0, 0...|            0|                    0|          3|           1|             0|          0|            0|          0|            1|              0|             1|            0|                    0|                         0|           4|           1|               0.0|                  1|       0.19783784|  0.18724138| 0.054444443|       0.055|             1|                0|\n",
      "| C#CCCC[C@H](NC(=O...|       C=Cc1ccc(N)cc1|       CSC1CCC(CN)CC1|C#CCCC[C@H](Nc1nc...|         HSA|          363.413|          119.167|          159.298|    655.173| 4.7564|      4|      8|                 13|        3|           1|103.86|           1035.5785|[0, 1, 0, 0, 0, 0...|            0|                    0|          3|           1|             0|          0|            0|          0|            1|              0|             1|            0|                    0|                         0|           4|           1|               0.0|                  1|       0.19783784|  0.18724138| 0.054444443|       0.055|             1|                0|\n",
      "| C#CCCC[C@H](NC(=O...|       C=Cc1ccc(N)cc1|       CSC1CCC(CN)CC1|C#CCCC[C@H](Nc1nc...|         sEH|          363.413|          119.167|          159.298|    655.173| 4.7564|      4|      8|                 13|        3|           1|103.86|           1035.5785|[0, 1, 0, 0, 0, 0...|            0|                    0|          3|           1|             0|          0|            0|          0|            1|              0|             1|            0|                    0|                         0|           4|           1|               0.0|                  1|       0.19783784|  0.18724138| 0.054444443|       0.055|             1|                0|\n",
      "| C#CCCC[C@H](NC(=O...|       C=Cc1ccc(N)cc1| Cc1ccc(CN)c(N2CCC...|C#CCCC[C@H](Nc1nc...|        BRD4|          363.413|          119.167|          263.212|    686.165|4.94342|      4|      8|                 13|        4|           2| 107.1|           1348.8049|[0, 1, 0, 0, 1, 0...|            0|                    0|          4|           1|             0|          0|            0|          0|            0|              0|             1|            0|                    0|                         0|           5|           1|               0.0|                  1|       0.20785715|  0.18724138| 0.054444443|  0.13066667|             1|                0|\n",
      "| C#CCCC[C@H](NC(=O...|       C=Cc1ccc(N)cc1| Cc1ccc(CN)c(N2CCC...|C#CCCC[C@H](Nc1nc...|         HSA|          363.413|          119.167|          263.212|    686.165|4.94342|      4|      8|                 13|        4|           2| 107.1|           1348.8049|[0, 1, 0, 0, 1, 0...|            0|                    0|          4|           1|             0|          0|            0|          0|            0|              0|             1|            0|                    0|                         0|           5|           1|               0.0|                  1|       0.20785715|  0.18724138| 0.054444443|  0.13066667|             1|                0|\n",
      "| C#CCCC[C@H](NC(=O...|       C=Cc1ccc(N)cc1| Cc1ccc(CN)c(N2CCC...|C#CCCC[C@H](Nc1nc...|         sEH|          363.413|          119.167|          263.212|    686.165|4.94342|      4|      8|                 13|        4|           2| 107.1|           1348.8049|[0, 1, 0, 0, 1, 0...|            0|                    0|          4|           1|             0|          0|            0|          0|            0|              0|             1|            0|                    0|                         0|           5|           1|               0.0|                  1|       0.20785715|  0.18724138| 0.054444443|  0.13066667|             1|                0|\n",
      "| C#CCCC[C@H](NC(=O...|       C=Cc1ccc(N)cc1| Cc1cccc(NC(=O)COc...|C#CCCC[C@H](Nc1nc...|        BRD4|          363.413|          119.167|           320.82|    780.234|5.40322|      5|      9|                 17|        4|           3|142.19|            1690.816|[0, 1, 0, 0, 0, 0...|            0|                    0|          3|           2|             0|          0|            0|          0|            0|              0|             2|            0|                    0|                         0|           5|           3|               0.0|                  1|       0.22265306|  0.18724138| 0.054444443|  0.18818182|             1|                0|\n",
      "| C#CCCC[C@H](NC(=O...|       C=Cc1ccc(N)cc1| Cc1cccc(NC(=O)COc...|C#CCCC[C@H](Nc1nc...|         HSA|          363.413|          119.167|           320.82|    780.234|5.40322|      5|      9|                 17|        4|           3|142.19|            1690.816|[0, 1, 0, 0, 0, 0...|            0|                    0|          3|           2|             0|          0|            0|          0|            0|              0|             2|            0|                    0|                         0|           5|           3|               0.0|                  1|       0.22265306|  0.18724138| 0.054444443|  0.18818182|             1|                0|\n",
      "+---------------------+---------------------+---------------------+--------------------+------------+-----------------+-----------------+-----------------+-----------+-------+-------+-------+-------------------+---------+------------+------+--------------------+--------------------+-------------+---------------------+-----------+------------+--------------+-----------+-------------+-----------+-------------+---------------+--------------+-------------+---------------------+--------------------------+------------+------------+------------------+-------------------+-----------------+------------+------------+------------+--------------+-----------------+\n",
      "only showing top 20 rows\n",
      "\n"
     ]
    },
    {
     "name": "stderr",
     "output_type": "stream",
     "text": [
      "                                                                                \r"
     ]
    }
   ],
   "source": [
    "train = train.drop('id')\n",
    "train.show()"
   ]
  },
  {
   "cell_type": "code",
   "execution_count": 23,
   "id": "b95574d6",
   "metadata": {
    "execution": {
     "iopub.execute_input": "2024-04-18T14:22:22.728950Z",
     "iopub.status.busy": "2024-04-18T14:22:22.728036Z",
     "iopub.status.idle": "2024-04-18T14:22:22.748672Z",
     "shell.execute_reply": "2024-04-18T14:22:22.747818Z"
    },
    "papermill": {
     "duration": 0.05987,
     "end_time": "2024-04-18T14:22:22.751214",
     "exception": false,
     "start_time": "2024-04-18T14:22:22.691344",
     "status": "completed"
    },
    "tags": []
   },
   "outputs": [
    {
     "data": {
      "text/plain": [
       "DataFrame[buildingblock1_smiles: string, buildingblock2_smiles: string, buildingblock3_smiles: string, molecule_smiles: string, protein_name: string, mw_buildingblock1: float, mw_buildingblock2: float, mw_buildingblock3: float, mw_molecule: float, logP: float, num_hbd: int, num_hba: int, num_rotatable_bonds: int, num_rings: int, num_c1ccccc1: int, tpsa: float, molecular_complexity: float, chemical_fingerprint: array<int>, count_alcohol: int, count_carboxylic_acid: int, count_amine: int, count_ketone: int, count_ammonium: int, count_ester: int, count_nitrile: int, count_thiol: int, count_sulfide: int, count_sulfoxide: int, count_aldehyde: int, count_halogen: int, count_boron_compounds: int, count_phosphorus_compounds: int, count_amines: int, count_ethers: int, substituent_effect: float, stereoisomers_count: int, polarity_molecule: float, polarity_bb1: float, polarity_bb2: float, polarity_bb3: float, chiral_centers: int, geometric_isomers: int]"
      ]
     },
     "execution_count": 23,
     "metadata": {},
     "output_type": "execute_result"
    }
   ],
   "source": [
    "train"
   ]
  },
  {
   "cell_type": "code",
   "execution_count": 24,
   "id": "2285a1df",
   "metadata": {
    "execution": {
     "iopub.execute_input": "2024-04-18T14:22:22.825095Z",
     "iopub.status.busy": "2024-04-18T14:22:22.823809Z",
     "iopub.status.idle": "2024-04-18T21:07:19.903389Z",
     "shell.execute_reply": "2024-04-18T21:07:19.899977Z"
    },
    "papermill": {
     "duration": 24297.120787,
     "end_time": "2024-04-18T21:07:19.907413",
     "exception": false,
     "start_time": "2024-04-18T14:22:22.786626",
     "status": "completed"
    },
    "tags": []
   },
   "outputs": [
    {
     "name": "stderr",
     "output_type": "stream",
     "text": [
      "                                                                                \r"
     ]
    }
   ],
   "source": [
    "train.write.parquet(\"/kaggle/working/test_fe_single.parquet\", mode=\"overwrite\")"
   ]
  },
  {
   "cell_type": "code",
   "execution_count": null,
   "id": "ec064499",
   "metadata": {
    "papermill": {
     "duration": 0.074634,
     "end_time": "2024-04-18T21:07:20.059005",
     "exception": false,
     "start_time": "2024-04-18T21:07:19.984371",
     "status": "completed"
    },
    "tags": []
   },
   "outputs": [],
   "source": []
  }
 ],
 "metadata": {
  "kaggle": {
   "accelerator": "none",
   "dataSources": [
    {
     "databundleVersionId": 8006601,
     "sourceId": 67356,
     "sourceType": "competition"
    }
   ],
   "dockerImageVersionId": 30684,
   "isGpuEnabled": false,
   "isInternetEnabled": true,
   "language": "python",
   "sourceType": "notebook"
  },
  "kernelspec": {
   "display_name": "Python 3",
   "language": "python",
   "name": "python3"
  },
  "language_info": {
   "codemirror_mode": {
    "name": "ipython",
    "version": 3
   },
   "file_extension": ".py",
   "mimetype": "text/x-python",
   "name": "python",
   "nbconvert_exporter": "python",
   "pygments_lexer": "ipython3",
   "version": "3.10.13"
  },
  "papermill": {
   "default_parameters": {},
   "duration": 24449.019616,
   "end_time": "2024-04-18T21:07:22.850186",
   "environment_variables": {},
   "exception": null,
   "input_path": "__notebook__.ipynb",
   "output_path": "__notebook__.ipynb",
   "parameters": {},
   "start_time": "2024-04-18T14:19:53.830570",
   "version": "2.5.0"
  }
 },
 "nbformat": 4,
 "nbformat_minor": 5
}
