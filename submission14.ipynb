{
 "cells": [
  {
   "cell_type": "code",
   "execution_count": 1,
   "id": "b83f89c2",
   "metadata": {
    "execution": {
     "iopub.execute_input": "2024-06-05T17:20:20.381400Z",
     "iopub.status.busy": "2024-06-05T17:20:20.380856Z",
     "iopub.status.idle": "2024-06-05T17:20:20.398482Z",
     "shell.execute_reply": "2024-06-05T17:20:20.397195Z"
    },
    "papermill": {
     "duration": 0.027879,
     "end_time": "2024-06-05T17:20:20.401309",
     "exception": false,
     "start_time": "2024-06-05T17:20:20.373430",
     "status": "completed"
    },
    "tags": []
   },
   "outputs": [],
   "source": [
    "import warnings\n",
    "warnings.filterwarnings('ignore')"
   ]
  },
  {
   "cell_type": "code",
   "execution_count": 2,
   "id": "06a0cc2e",
   "metadata": {
    "_cell_guid": "b1076dfc-b9ad-4769-8c92-a6c4dae69d19",
    "_uuid": "8f2839f25d086af736a60e9eeb907d3b93b6e0e5",
    "execution": {
     "iopub.execute_input": "2024-06-05T17:20:20.413428Z",
     "iopub.status.busy": "2024-06-05T17:20:20.413039Z",
     "iopub.status.idle": "2024-06-05T17:20:53.841779Z",
     "shell.execute_reply": "2024-06-05T17:20:53.840272Z"
    },
    "papermill": {
     "duration": 33.437867,
     "end_time": "2024-06-05T17:20:53.844373",
     "exception": false,
     "start_time": "2024-06-05T17:20:20.406506",
     "status": "completed"
    },
    "tags": []
   },
   "outputs": [
    {
     "name": "stdout",
     "output_type": "stream",
     "text": [
      "Collecting rdkit\r\n",
      "  Downloading rdkit-2023.9.6-cp310-cp310-manylinux_2_17_x86_64.manylinux2014_x86_64.whl.metadata (3.9 kB)\r\n",
      "Requirement already satisfied: numpy in /opt/conda/lib/python3.10/site-packages (from rdkit) (1.26.4)\r\n",
      "Requirement already satisfied: Pillow in /opt/conda/lib/python3.10/site-packages (from rdkit) (9.5.0)\r\n",
      "Downloading rdkit-2023.9.6-cp310-cp310-manylinux_2_17_x86_64.manylinux2014_x86_64.whl (34.9 MB)\r\n",
      "\u001b[2K   \u001b[90m━━━━━━━━━━━━━━━━━━━━━━━━━━━━━━━━━━━━━━━━\u001b[0m \u001b[32m34.9/34.9 MB\u001b[0m \u001b[31m35.8 MB/s\u001b[0m eta \u001b[36m0:00:00\u001b[0m\r\n",
      "\u001b[?25h\u001b[33mWARNING: Error parsing requirements for aiohttp: [Errno 2] No such file or directory: '/opt/conda/lib/python3.10/site-packages/aiohttp-3.9.1.dist-info/METADATA'\u001b[0m\u001b[33m\r\n",
      "\u001b[0mInstalling collected packages: rdkit\r\n",
      "Successfully installed rdkit-2023.9.6\r\n",
      "Collecting duckdb\r\n",
      "  Downloading duckdb-1.0.0-cp310-cp310-manylinux_2_17_x86_64.manylinux2014_x86_64.whl.metadata (762 bytes)\r\n",
      "Downloading duckdb-1.0.0-cp310-cp310-manylinux_2_17_x86_64.manylinux2014_x86_64.whl (18.5 MB)\r\n",
      "\u001b[2K   \u001b[90m━━━━━━━━━━━━━━━━━━━━━━━━━━━━━━━━━━━━━━━━\u001b[0m \u001b[32m18.5/18.5 MB\u001b[0m \u001b[31m70.6 MB/s\u001b[0m eta \u001b[36m0:00:00\u001b[0m\r\n",
      "\u001b[?25h\u001b[33mWARNING: Error parsing requirements for aiohttp: [Errno 2] No such file or directory: '/opt/conda/lib/python3.10/site-packages/aiohttp-3.9.1.dist-info/METADATA'\u001b[0m\u001b[33m\r\n",
      "\u001b[0mInstalling collected packages: duckdb\r\n",
      "Successfully installed duckdb-1.0.0\r\n"
     ]
    }
   ],
   "source": [
    "!pip install rdkit\n",
    "!pip install duckdb"
   ]
  },
  {
   "cell_type": "code",
   "execution_count": 3,
   "id": "1844fa01",
   "metadata": {
    "execution": {
     "iopub.execute_input": "2024-06-05T17:20:53.860352Z",
     "iopub.status.busy": "2024-06-05T17:20:53.859922Z",
     "iopub.status.idle": "2024-06-05T17:20:59.684526Z",
     "shell.execute_reply": "2024-06-05T17:20:59.683431Z"
    },
    "papermill": {
     "duration": 5.836242,
     "end_time": "2024-06-05T17:20:59.687562",
     "exception": false,
     "start_time": "2024-06-05T17:20:53.851320",
     "status": "completed"
    },
    "tags": []
   },
   "outputs": [],
   "source": [
    "import pandas as pd\n",
    "from rdkit import Chem\n",
    "from rdkit.Chem import AllChem, Descriptors, MACCSkeys, rdMolDescriptors\n",
    "from sklearn.model_selection import train_test_split\n",
    "from sklearn.preprocessing import OneHotEncoder, StandardScaler\n",
    "from sklearn.svm import SVC\n",
    "from sklearn.neighbors import KNeighborsClassifier\n",
    "from sklearn.metrics import average_precision_score\n",
    "import numpy as np\n",
    "from catboost import CatBoostClassifier\n",
    "import lightgbm as lgb\n",
    "import os\n",
    "import optuna\n",
    "import duckdb\n",
    "from sklearn.metrics import roc_auc_score"
   ]
  },
  {
   "cell_type": "code",
   "execution_count": 4,
   "id": "905d8352",
   "metadata": {
    "execution": {
     "iopub.execute_input": "2024-06-05T17:20:59.703248Z",
     "iopub.status.busy": "2024-06-05T17:20:59.702632Z",
     "iopub.status.idle": "2024-06-05T17:20:59.708571Z",
     "shell.execute_reply": "2024-06-05T17:20:59.707054Z"
    },
    "papermill": {
     "duration": 0.016471,
     "end_time": "2024-06-05T17:20:59.711078",
     "exception": false,
     "start_time": "2024-06-05T17:20:59.694607",
     "status": "completed"
    },
    "tags": []
   },
   "outputs": [],
   "source": [
    "train_path = '/kaggle/input/leash-BELKA/train.parquet'\n",
    "test_path = '/kaggle/input/leash-BELKA/test.parquet'"
   ]
  },
  {
   "cell_type": "code",
   "execution_count": 5,
   "id": "36611e2f",
   "metadata": {
    "execution": {
     "iopub.execute_input": "2024-06-05T17:20:59.727549Z",
     "iopub.status.busy": "2024-06-05T17:20:59.727104Z",
     "iopub.status.idle": "2024-06-05T17:23:01.325680Z",
     "shell.execute_reply": "2024-06-05T17:23:01.323778Z"
    },
    "papermill": {
     "duration": 121.610888,
     "end_time": "2024-06-05T17:23:01.328958",
     "exception": false,
     "start_time": "2024-06-05T17:20:59.718070",
     "status": "completed"
    },
    "tags": []
   },
   "outputs": [
    {
     "data": {
      "application/vnd.jupyter.widget-view+json": {
       "model_id": "eeef98c6499b4e8393b667d6d1d06156",
       "version_major": 2,
       "version_minor": 0
      },
      "text/plain": [
       "FloatProgress(value=0.0, layout=Layout(width='auto'), style=ProgressStyle(bar_color='black'))"
      ]
     },
     "metadata": {},
     "output_type": "display_data"
    },
    {
     "data": {
      "application/vnd.jupyter.widget-view+json": {
       "model_id": "140b87039968442fab6c11d872ae9732",
       "version_major": 2,
       "version_minor": 0
      },
      "text/plain": [
       "FloatProgress(value=0.0, layout=Layout(width='auto'), style=ProgressStyle(bar_color='black'))"
      ]
     },
     "metadata": {},
     "output_type": "display_data"
    },
    {
     "data": {
      "application/vnd.jupyter.widget-view+json": {
       "model_id": "6255d9ed37864154aa175e97c91f6ba1",
       "version_major": 2,
       "version_minor": 0
      },
      "text/plain": [
       "FloatProgress(value=0.0, layout=Layout(width='auto'), style=ProgressStyle(bar_color='black'))"
      ]
     },
     "metadata": {},
     "output_type": "display_data"
    },
    {
     "data": {
      "application/vnd.jupyter.widget-view+json": {
       "model_id": "3fc37a78213442c89eb5565a433edc90",
       "version_major": 2,
       "version_minor": 0
      },
      "text/plain": [
       "FloatProgress(value=0.0, layout=Layout(width='auto'), style=ProgressStyle(bar_color='black'))"
      ]
     },
     "metadata": {},
     "output_type": "display_data"
    },
    {
     "data": {
      "application/vnd.jupyter.widget-view+json": {
       "model_id": "515ea556f27248ee88f89c6b825b4f9d",
       "version_major": 2,
       "version_minor": 0
      },
      "text/plain": [
       "FloatProgress(value=0.0, layout=Layout(width='auto'), style=ProgressStyle(bar_color='black'))"
      ]
     },
     "metadata": {},
     "output_type": "display_data"
    },
    {
     "data": {
      "application/vnd.jupyter.widget-view+json": {
       "model_id": "d4a9fdd83441445c84e32813af497caf",
       "version_major": 2,
       "version_minor": 0
      },
      "text/plain": [
       "FloatProgress(value=0.0, layout=Layout(width='auto'), style=ProgressStyle(bar_color='black'))"
      ]
     },
     "metadata": {},
     "output_type": "display_data"
    }
   ],
   "source": [
    "con = duckdb.connect()\n",
    "\n",
    "# 각 단백질에 대해 binds=0,1 데이터를 각각 12000개씩 불러오기\n",
    "df_brd4_0 = con.query(f\"\"\"\n",
    "    SELECT * \n",
    "    FROM parquet_scan('{train_path}') \n",
    "    WHERE binds = 0 AND protein_name = 'BRD4'\n",
    "    ORDER BY random()\n",
    "    LIMIT 10000\n",
    "\"\"\").df()\n",
    "\n",
    "df_brd4_1 = con.query(f\"\"\"\n",
    "    SELECT * \n",
    "    FROM parquet_scan('{train_path}') \n",
    "    WHERE binds = 1 AND protein_name = 'BRD4'\n",
    "    ORDER BY random()\n",
    "    LIMIT 10000\n",
    "\"\"\").df()\n",
    "\n",
    "df_hsa_0 = con.query(f\"\"\"\n",
    "    SELECT * \n",
    "    FROM parquet_scan('{train_path}') \n",
    "    WHERE binds = 0 AND protein_name = 'HSA'\n",
    "    ORDER BY random()\n",
    "    LIMIT 10000\n",
    "\"\"\").df()\n",
    "\n",
    "df_hsa_1 = con.query(f\"\"\"\n",
    "    SELECT * \n",
    "    FROM parquet_scan('{train_path}') \n",
    "    WHERE binds = 1 AND protein_name = 'HSA'\n",
    "    ORDER BY random()\n",
    "    LIMIT 10000\n",
    "\"\"\").df()\n",
    "\n",
    "df_seh_0 = con.query(f\"\"\"\n",
    "    SELECT * \n",
    "    FROM parquet_scan('{train_path}') \n",
    "    WHERE binds = 0 AND protein_name = 'sEH'\n",
    "    ORDER BY random()\n",
    "    LIMIT 10000\n",
    "\"\"\").df()\n",
    "\n",
    "df_seh_1 = con.query(f\"\"\"\n",
    "    SELECT * \n",
    "    FROM parquet_scan('{train_path}') \n",
    "    WHERE binds = 1 AND protein_name = 'sEH'\n",
    "    ORDER BY random()\n",
    "    LIMIT 10000\n",
    "\"\"\").df()\n",
    "\n",
    "# 데이터프레임 결합\n",
    "df = pd.concat([df_brd4_0, df_brd4_1, df_hsa_0, df_hsa_1, df_seh_0, df_seh_1], axis=0).reset_index(drop=True)\n",
    "con.close()"
   ]
  },
  {
   "cell_type": "code",
   "execution_count": 6,
   "id": "737e78ef",
   "metadata": {
    "execution": {
     "iopub.execute_input": "2024-06-05T17:23:01.349006Z",
     "iopub.status.busy": "2024-06-05T17:23:01.348550Z",
     "iopub.status.idle": "2024-06-05T17:23:01.362808Z",
     "shell.execute_reply": "2024-06-05T17:23:01.360850Z"
    },
    "papermill": {
     "duration": 0.029317,
     "end_time": "2024-06-05T17:23:01.366196",
     "exception": false,
     "start_time": "2024-06-05T17:23:01.336879",
     "status": "completed"
    },
    "tags": []
   },
   "outputs": [],
   "source": [
    "# ECFP 생성 함수\n",
    "def generate_ecfp(molecule, radius=2, bits=2048):\n",
    "    if molecule is None:\n",
    "        return None\n",
    "    return list(AllChem.GetMorganFingerprintAsBitVect(molecule, radius, nBits=bits))\n",
    "\n",
    "# MACCS keys 생성 함수\n",
    "def generate_maccs_keys(molecule):\n",
    "    if molecule is None:\n",
    "        return None\n",
    "    return list(MACCSkeys.GenMACCSKeys(molecule))\n",
    "\n",
    "# Atom pairs fingerprints 생성 함수\n",
    "def generate_atom_pairs(molecule):\n",
    "    if molecule is None:\n",
    "        return None\n",
    "    fp = rdMolDescriptors.GetHashedAtomPairFingerprintAsBitVect(molecule, nBits=2048)\n",
    "    return list(fp)\n",
    "\n",
    "# Topological fingerprints 생성 함수\n",
    "def generate_topological_torsion(molecule):\n",
    "    if molecule is None:\n",
    "        return None\n",
    "    fp = rdMolDescriptors.GetHashedTopologicalTorsionFingerprintAsBitVect(molecule, nBits=2048)\n",
    "    return list(fp)\n",
    "\n",
    "# PubChem fingerprints 생성 함수\n",
    "def generate_pubchem_fingerprints(molecule):\n",
    "    if molecule is None:\n",
    "        return None\n",
    "    return list(AllChem.GetMorganFingerprintAsBitVect(molecule, radius=2, nBits=881))  # PubChem-like fingerprints\n",
    "\n",
    "# 분자의 물리화학적 특성을 추출하는 함수\n",
    "def generate_physchem_features(molecule):\n",
    "    if molecule is None:\n",
    "        return [np.nan] * 8\n",
    "    return [\n",
    "        Descriptors.MolWt(molecule),                   # 분자량\n",
    "        Descriptors.MolLogP(molecule),                 # 로그 P\n",
    "        Descriptors.NumHDonors(molecule),              # 수소 결합 공여자 수\n",
    "        Descriptors.NumHAcceptors(molecule),           # 수소 결합 수용체 수\n",
    "        Descriptors.TPSA(molecule),                    # TPSA (극성 표면적)\n",
    "        Descriptors.NumRotatableBonds(molecule),       # 회전 가능한 결합 수\n",
    "        Descriptors.FpDensityMorgan1(molecule),        # 분자 복잡도 지표 예시\n",
    "        Descriptors.FpDensityMorgan2(molecule)         # 분자 복잡도 지표 예시\n",
    "    ]"
   ]
  },
  {
   "cell_type": "code",
   "execution_count": 7,
   "id": "e90250c1",
   "metadata": {
    "execution": {
     "iopub.execute_input": "2024-06-05T17:23:01.386230Z",
     "iopub.status.busy": "2024-06-05T17:23:01.384686Z",
     "iopub.status.idle": "2024-06-05T17:33:36.791201Z",
     "shell.execute_reply": "2024-06-05T17:33:36.789851Z"
    },
    "papermill": {
     "duration": 635.41997,
     "end_time": "2024-06-05T17:33:36.794149",
     "exception": false,
     "start_time": "2024-06-05T17:23:01.374179",
     "status": "completed"
    },
    "tags": []
   },
   "outputs": [],
   "source": [
    "# DataFrame에 새로운 특징 추가\n",
    "df['molecule'] = df['molecule_smiles'].apply(Chem.MolFromSmiles)\n",
    "df['physchem'] = df['molecule'].apply(generate_physchem_features)\n",
    "df['ecfp'] = df['molecule'].apply(generate_ecfp)\n",
    "df['maccs'] = df['molecule'].apply(generate_maccs_keys)\n",
    "df['atom_pairs'] = df['molecule'].apply(generate_atom_pairs)\n",
    "df['topological'] = df['molecule'].apply(generate_topological_torsion)\n",
    "df['pubchem'] = df['molecule'].apply(generate_pubchem_fingerprints)"
   ]
  },
  {
   "cell_type": "code",
   "execution_count": 8,
   "id": "e050c04c",
   "metadata": {
    "execution": {
     "iopub.execute_input": "2024-06-05T17:33:36.812749Z",
     "iopub.status.busy": "2024-06-05T17:33:36.812345Z",
     "iopub.status.idle": "2024-06-05T17:33:36.896089Z",
     "shell.execute_reply": "2024-06-05T17:33:36.894912Z"
    },
    "papermill": {
     "duration": 0.096313,
     "end_time": "2024-06-05T17:33:36.898699",
     "exception": false,
     "start_time": "2024-06-05T17:33:36.802386",
     "status": "completed"
    },
    "tags": []
   },
   "outputs": [],
   "source": [
    "# 물리화학적 특성을 정규화\n",
    "physchem_features = np.array(df['physchem'].tolist())\n",
    "scaler = StandardScaler()\n",
    "physchem_features_scaled = scaler.fit_transform(physchem_features)"
   ]
  },
  {
   "cell_type": "code",
   "execution_count": 9,
   "id": "4de46142",
   "metadata": {
    "execution": {
     "iopub.execute_input": "2024-06-05T17:33:36.916539Z",
     "iopub.status.busy": "2024-06-05T17:33:36.915647Z",
     "iopub.status.idle": "2024-06-05T17:33:52.356078Z",
     "shell.execute_reply": "2024-06-05T17:33:52.354334Z"
    },
    "papermill": {
     "duration": 15.452461,
     "end_time": "2024-06-05T17:33:52.359077",
     "exception": false,
     "start_time": "2024-06-05T17:33:36.906616",
     "status": "completed"
    },
    "tags": []
   },
   "outputs": [],
   "source": [
    "# 모든 특징 결합\n",
    "df['features'] = [ecfp + maccs + atom_pairs + topological + pubchem + physchem_scaled.tolist() \n",
    "                  for ecfp, maccs, atom_pairs, topological, pubchem, physchem_scaled \n",
    "                  in zip(df['ecfp'], df['maccs'], df['atom_pairs'], df['topological'], df['pubchem'], physchem_features_scaled)]"
   ]
  },
  {
   "cell_type": "code",
   "execution_count": 10,
   "id": "0e987b27",
   "metadata": {
    "execution": {
     "iopub.execute_input": "2024-06-05T17:33:52.378566Z",
     "iopub.status.busy": "2024-06-05T17:33:52.378149Z",
     "iopub.status.idle": "2024-06-05T17:33:52.409368Z",
     "shell.execute_reply": "2024-06-05T17:33:52.408144Z"
    },
    "papermill": {
     "duration": 0.044388,
     "end_time": "2024-06-05T17:33:52.412561",
     "exception": false,
     "start_time": "2024-06-05T17:33:52.368173",
     "status": "completed"
    },
    "tags": []
   },
   "outputs": [],
   "source": [
    "# 단백질 이름을 원-핫 인코딩\n",
    "onehot_encoder = OneHotEncoder(sparse_output=False)\n",
    "protein_onehot = onehot_encoder.fit_transform(df['protein_name'].values.reshape(-1, 1))"
   ]
  },
  {
   "cell_type": "code",
   "execution_count": 11,
   "id": "cd427856",
   "metadata": {
    "execution": {
     "iopub.execute_input": "2024-06-05T17:33:52.430243Z",
     "iopub.status.busy": "2024-06-05T17:33:52.429791Z",
     "iopub.status.idle": "2024-06-05T17:34:46.559408Z",
     "shell.execute_reply": "2024-06-05T17:34:46.558306Z"
    },
    "papermill": {
     "duration": 54.141808,
     "end_time": "2024-06-05T17:34:46.562202",
     "exception": false,
     "start_time": "2024-06-05T17:33:52.420394",
     "status": "completed"
    },
    "tags": []
   },
   "outputs": [],
   "source": [
    "# 최종 입력 데이터 생성\n",
    "X = np.array([features + list(protein) for features, protein in zip(df['features'].tolist(), protein_onehot.tolist())])\n",
    "y = np.array(df['binds'].tolist())"
   ]
  },
  {
   "cell_type": "code",
   "execution_count": 12,
   "id": "d26e2f1a",
   "metadata": {
    "execution": {
     "iopub.execute_input": "2024-06-05T17:34:46.579695Z",
     "iopub.status.busy": "2024-06-05T17:34:46.579321Z",
     "iopub.status.idle": "2024-06-05T17:34:47.787902Z",
     "shell.execute_reply": "2024-06-05T17:34:47.786809Z"
    },
    "papermill": {
     "duration": 1.220473,
     "end_time": "2024-06-05T17:34:47.790656",
     "exception": false,
     "start_time": "2024-06-05T17:34:46.570183",
     "status": "completed"
    },
    "tags": []
   },
   "outputs": [],
   "source": [
    "# 데이터 분할\n",
    "X_train, X_test, y_train, y_test = train_test_split(X, y, test_size=0.2, random_state=42)\n",
    "\n",
    "params_cat={'iterations': 448, 'depth': 11, 'learning_rate': 0.10711332110740407, 'subsample': 0.7577541518108377, 'colsample_bylevel': 0.835626834709964}"
   ]
  },
  {
   "cell_type": "code",
   "execution_count": 13,
   "id": "5553758d",
   "metadata": {
    "execution": {
     "iopub.execute_input": "2024-06-05T17:34:47.807790Z",
     "iopub.status.busy": "2024-06-05T17:34:47.807371Z",
     "iopub.status.idle": "2024-06-05T18:11:56.766674Z",
     "shell.execute_reply": "2024-06-05T18:11:56.763301Z"
    },
    "papermill": {
     "duration": 2228.988234,
     "end_time": "2024-06-05T18:11:56.786663",
     "exception": false,
     "start_time": "2024-06-05T17:34:47.798429",
     "status": "completed"
    },
    "tags": []
   },
   "outputs": [
    {
     "data": {
      "text/plain": [
       "<catboost.core.CatBoostClassifier at 0x7d8c6d72a080>"
      ]
     },
     "execution_count": 13,
     "metadata": {},
     "output_type": "execute_result"
    }
   ],
   "source": [
    "# 최적의 파라미터로 모델 학습\n",
    "best_model = CatBoostClassifier(**params_cat, loss_function='Logloss', eval_metric='AUC', logging_level='Silent')\n",
    "best_model.fit(X_train, y_train)"
   ]
  },
  {
   "cell_type": "code",
   "execution_count": 14,
   "id": "762a59ba",
   "metadata": {
    "execution": {
     "iopub.execute_input": "2024-06-05T18:11:56.807004Z",
     "iopub.status.busy": "2024-06-05T18:11:56.806494Z",
     "iopub.status.idle": "2024-06-05T18:12:41.781848Z",
     "shell.execute_reply": "2024-06-05T18:12:41.780526Z"
    },
    "papermill": {
     "duration": 44.996788,
     "end_time": "2024-06-05T18:12:41.791948",
     "exception": false,
     "start_time": "2024-06-05T18:11:56.795160",
     "status": "completed"
    },
    "tags": []
   },
   "outputs": [
    {
     "name": "stdout",
     "output_type": "stream",
     "text": [
      "Test AUC Score: 0.9693\n"
     ]
    }
   ],
   "source": [
    "# 테스트 데이터 예측 및 평가\n",
    "y_pred = best_model.predict_proba(X_test)[:, 1]\n",
    "auc_score = roc_auc_score(y_test, y_pred)\n",
    "print(f'Test AUC Score: {auc_score:.4f}')"
   ]
  },
  {
   "cell_type": "code",
   "execution_count": 15,
   "id": "7dcbe0ea",
   "metadata": {
    "execution": {
     "iopub.execute_input": "2024-06-05T18:12:41.810016Z",
     "iopub.status.busy": "2024-06-05T18:12:41.809533Z",
     "iopub.status.idle": "2024-06-05T18:12:41.815473Z",
     "shell.execute_reply": "2024-06-05T18:12:41.814175Z"
    },
    "papermill": {
     "duration": 0.018453,
     "end_time": "2024-06-05T18:12:41.818165",
     "exception": false,
     "start_time": "2024-06-05T18:12:41.799712",
     "status": "completed"
    },
    "tags": []
   },
   "outputs": [],
   "source": [
    "# 테스트 데이터 예측 및 저장\n",
    "test_file = '/kaggle/input/leash-BELKA/test.csv'  \n",
    "output_file = '/kaggle/working/submission14.csv'  # 출력 파일 경로"
   ]
  },
  {
   "cell_type": "code",
   "execution_count": 16,
   "id": "9fcaec1e",
   "metadata": {
    "execution": {
     "iopub.execute_input": "2024-06-05T18:12:41.836800Z",
     "iopub.status.busy": "2024-06-05T18:12:41.836336Z",
     "iopub.status.idle": "2024-06-06T01:14:27.743271Z",
     "shell.execute_reply": "2024-06-06T01:14:27.741538Z"
    },
    "papermill": {
     "duration": 25305.930998,
     "end_time": "2024-06-06T01:14:27.757231",
     "exception": false,
     "start_time": "2024-06-05T18:12:41.826233",
     "status": "completed"
    },
    "tags": []
   },
   "outputs": [],
   "source": [
    "for df_test in pd.read_csv(test_file, chunksize=20000):\n",
    "    df_test['molecule'] = df_test['molecule_smiles'].apply(Chem.MolFromSmiles)\n",
    "    df_test['ecfp'] = df_test['molecule'].apply(generate_ecfp)\n",
    "    df_test['maccs'] = df_test['molecule'].apply(generate_maccs_keys)\n",
    "    df_test['atom_pairs'] = df_test['molecule'].apply(generate_atom_pairs)\n",
    "    df_test['topological'] = df_test['molecule'].apply(generate_topological_torsion)\n",
    "    df_test['pubchem'] = df_test['molecule'].apply(generate_pubchem_fingerprints)\n",
    "    df_test['physchem'] = df_test['molecule'].apply(generate_physchem_features)\n",
    "    \n",
    "    # 테스트 데이터의 물리화학적 특성 정규화\n",
    "    physchem_features_test = np.array(df_test['physchem'].tolist())\n",
    "    physchem_features_test_scaled = scaler.transform(physchem_features_test)\n",
    "    \n",
    "    df_test['features'] = [ecfp + maccs + atom_pairs + topological + pubchem + physchem_scaled.tolist() \n",
    "                           for ecfp, maccs, atom_pairs, topological, pubchem, physchem_scaled \n",
    "                           in zip(df_test['ecfp'], df_test['maccs'], df_test['atom_pairs'], df_test['topological'], df_test['pubchem'], physchem_features_test_scaled)]\n",
    "    \n",
    "    protein_onehot = onehot_encoder.transform(df_test['protein_name'].values.reshape(-1, 1))\n",
    "    X_test = np.array([features + list(protein) for features, protein in zip(df_test['features'].tolist(), protein_onehot.tolist())])\n",
    "    \n",
    "    probabilities = best_model.predict_proba(X_test)[:, 1]\n",
    "    output_df = pd.DataFrame({'id': df_test['id'], 'binds': probabilities})\n",
    "    output_df.to_csv(output_file, index=False, mode='a', header=not os.path.exists(output_file))"
   ]
  },
  {
   "cell_type": "code",
   "execution_count": null,
   "id": "6783cbbe",
   "metadata": {
    "papermill": {
     "duration": 0.008317,
     "end_time": "2024-06-06T01:14:27.786250",
     "exception": false,
     "start_time": "2024-06-06T01:14:27.777933",
     "status": "completed"
    },
    "tags": []
   },
   "outputs": [],
   "source": []
  },
  {
   "cell_type": "code",
   "execution_count": null,
   "id": "a67e6406",
   "metadata": {
    "papermill": {
     "duration": 0.00745,
     "end_time": "2024-06-06T01:14:27.802664",
     "exception": false,
     "start_time": "2024-06-06T01:14:27.795214",
     "status": "completed"
    },
    "tags": []
   },
   "outputs": [],
   "source": []
  }
 ],
 "metadata": {
  "kaggle": {
   "accelerator": "none",
   "dataSources": [
    {
     "databundleVersionId": 8006601,
     "sourceId": 67356,
     "sourceType": "competition"
    }
   ],
   "dockerImageVersionId": 30715,
   "isGpuEnabled": false,
   "isInternetEnabled": true,
   "language": "python",
   "sourceType": "notebook"
  },
  "kernelspec": {
   "display_name": "Python 3",
   "language": "python",
   "name": "python3"
  },
  "language_info": {
   "codemirror_mode": {
    "name": "ipython",
    "version": 3
   },
   "file_extension": ".py",
   "mimetype": "text/x-python",
   "name": "python",
   "nbconvert_exporter": "python",
   "pygments_lexer": "ipython3",
   "version": "3.10.13"
  },
  "papermill": {
   "default_parameters": {},
   "duration": 28455.134459,
   "end_time": "2024-06-06T01:14:32.048465",
   "environment_variables": {},
   "exception": null,
   "input_path": "__notebook__.ipynb",
   "output_path": "__notebook__.ipynb",
   "parameters": {},
   "start_time": "2024-06-05T17:20:16.914006",
   "version": "2.5.0"
  },
  "widgets": {
   "application/vnd.jupyter.widget-state+json": {
    "state": {
     "08da6b7c7af045038ca6f0a69ef7b264": {
      "model_module": "@jupyter-widgets/base",
      "model_module_version": "1.2.0",
      "model_name": "LayoutModel",
      "state": {
       "_model_module": "@jupyter-widgets/base",
       "_model_module_version": "1.2.0",
       "_model_name": "LayoutModel",
       "_view_count": null,
       "_view_module": "@jupyter-widgets/base",
       "_view_module_version": "1.2.0",
       "_view_name": "LayoutView",
       "align_content": null,
       "align_items": null,
       "align_self": null,
       "border": null,
       "bottom": null,
       "display": null,
       "flex": null,
       "flex_flow": null,
       "grid_area": null,
       "grid_auto_columns": null,
       "grid_auto_flow": null,
       "grid_auto_rows": null,
       "grid_column": null,
       "grid_gap": null,
       "grid_row": null,
       "grid_template_areas": null,
       "grid_template_columns": null,
       "grid_template_rows": null,
       "height": null,
       "justify_content": null,
       "justify_items": null,
       "left": null,
       "margin": null,
       "max_height": null,
       "max_width": null,
       "min_height": null,
       "min_width": null,
       "object_fit": null,
       "object_position": null,
       "order": null,
       "overflow": null,
       "overflow_x": null,
       "overflow_y": null,
       "padding": null,
       "right": null,
       "top": null,
       "visibility": null,
       "width": "auto"
      }
     },
     "140b87039968442fab6c11d872ae9732": {
      "model_module": "@jupyter-widgets/controls",
      "model_module_version": "1.5.0",
      "model_name": "FloatProgressModel",
      "state": {
       "_dom_classes": [],
       "_model_module": "@jupyter-widgets/controls",
       "_model_module_version": "1.5.0",
       "_model_name": "FloatProgressModel",
       "_view_count": null,
       "_view_module": "@jupyter-widgets/controls",
       "_view_module_version": "1.5.0",
       "_view_name": "ProgressView",
       "bar_style": "",
       "description": "",
       "description_tooltip": null,
       "layout": "IPY_MODEL_ac80b551223644bda9616fec863a67ca",
       "max": 100.0,
       "min": 0.0,
       "orientation": "horizontal",
       "style": "IPY_MODEL_a6f37fb902fc4c168f72775fac9e9132",
       "value": 100.0
      }
     },
     "2bb11222ceb449fa9db8897a4b578241": {
      "model_module": "@jupyter-widgets/controls",
      "model_module_version": "1.5.0",
      "model_name": "ProgressStyleModel",
      "state": {
       "_model_module": "@jupyter-widgets/controls",
       "_model_module_version": "1.5.0",
       "_model_name": "ProgressStyleModel",
       "_view_count": null,
       "_view_module": "@jupyter-widgets/base",
       "_view_module_version": "1.2.0",
       "_view_name": "StyleView",
       "bar_color": "black",
       "description_width": ""
      }
     },
     "3c3cdd815a3e4ffa908cf42348005cec": {
      "model_module": "@jupyter-widgets/controls",
      "model_module_version": "1.5.0",
      "model_name": "ProgressStyleModel",
      "state": {
       "_model_module": "@jupyter-widgets/controls",
       "_model_module_version": "1.5.0",
       "_model_name": "ProgressStyleModel",
       "_view_count": null,
       "_view_module": "@jupyter-widgets/base",
       "_view_module_version": "1.2.0",
       "_view_name": "StyleView",
       "bar_color": "black",
       "description_width": ""
      }
     },
     "3fc37a78213442c89eb5565a433edc90": {
      "model_module": "@jupyter-widgets/controls",
      "model_module_version": "1.5.0",
      "model_name": "FloatProgressModel",
      "state": {
       "_dom_classes": [],
       "_model_module": "@jupyter-widgets/controls",
       "_model_module_version": "1.5.0",
       "_model_name": "FloatProgressModel",
       "_view_count": null,
       "_view_module": "@jupyter-widgets/controls",
       "_view_module_version": "1.5.0",
       "_view_name": "ProgressView",
       "bar_style": "",
       "description": "",
       "description_tooltip": null,
       "layout": "IPY_MODEL_491d5c463adf42038e9fa3173331e93f",
       "max": 100.0,
       "min": 0.0,
       "orientation": "horizontal",
       "style": "IPY_MODEL_e306959aff4a4f8586b922f8021e2b26",
       "value": 100.0
      }
     },
     "491d5c463adf42038e9fa3173331e93f": {
      "model_module": "@jupyter-widgets/base",
      "model_module_version": "1.2.0",
      "model_name": "LayoutModel",
      "state": {
       "_model_module": "@jupyter-widgets/base",
       "_model_module_version": "1.2.0",
       "_model_name": "LayoutModel",
       "_view_count": null,
       "_view_module": "@jupyter-widgets/base",
       "_view_module_version": "1.2.0",
       "_view_name": "LayoutView",
       "align_content": null,
       "align_items": null,
       "align_self": null,
       "border": null,
       "bottom": null,
       "display": null,
       "flex": null,
       "flex_flow": null,
       "grid_area": null,
       "grid_auto_columns": null,
       "grid_auto_flow": null,
       "grid_auto_rows": null,
       "grid_column": null,
       "grid_gap": null,
       "grid_row": null,
       "grid_template_areas": null,
       "grid_template_columns": null,
       "grid_template_rows": null,
       "height": null,
       "justify_content": null,
       "justify_items": null,
       "left": null,
       "margin": null,
       "max_height": null,
       "max_width": null,
       "min_height": null,
       "min_width": null,
       "object_fit": null,
       "object_position": null,
       "order": null,
       "overflow": null,
       "overflow_x": null,
       "overflow_y": null,
       "padding": null,
       "right": null,
       "top": null,
       "visibility": null,
       "width": "auto"
      }
     },
     "515ea556f27248ee88f89c6b825b4f9d": {
      "model_module": "@jupyter-widgets/controls",
      "model_module_version": "1.5.0",
      "model_name": "FloatProgressModel",
      "state": {
       "_dom_classes": [],
       "_model_module": "@jupyter-widgets/controls",
       "_model_module_version": "1.5.0",
       "_model_name": "FloatProgressModel",
       "_view_count": null,
       "_view_module": "@jupyter-widgets/controls",
       "_view_module_version": "1.5.0",
       "_view_name": "ProgressView",
       "bar_style": "",
       "description": "",
       "description_tooltip": null,
       "layout": "IPY_MODEL_a4812f58b0024f90a305cef86e152be4",
       "max": 100.0,
       "min": 0.0,
       "orientation": "horizontal",
       "style": "IPY_MODEL_90d1235278d046b6bb35bcd72a6351ed",
       "value": 100.0
      }
     },
     "518edd66ede04d0a9fc8d6c4d6ba78f5": {
      "model_module": "@jupyter-widgets/controls",
      "model_module_version": "1.5.0",
      "model_name": "ProgressStyleModel",
      "state": {
       "_model_module": "@jupyter-widgets/controls",
       "_model_module_version": "1.5.0",
       "_model_name": "ProgressStyleModel",
       "_view_count": null,
       "_view_module": "@jupyter-widgets/base",
       "_view_module_version": "1.2.0",
       "_view_name": "StyleView",
       "bar_color": "black",
       "description_width": ""
      }
     },
     "6255d9ed37864154aa175e97c91f6ba1": {
      "model_module": "@jupyter-widgets/controls",
      "model_module_version": "1.5.0",
      "model_name": "FloatProgressModel",
      "state": {
       "_dom_classes": [],
       "_model_module": "@jupyter-widgets/controls",
       "_model_module_version": "1.5.0",
       "_model_name": "FloatProgressModel",
       "_view_count": null,
       "_view_module": "@jupyter-widgets/controls",
       "_view_module_version": "1.5.0",
       "_view_name": "ProgressView",
       "bar_style": "",
       "description": "",
       "description_tooltip": null,
       "layout": "IPY_MODEL_a305014b456f4115ac1f6c2137accfd8",
       "max": 100.0,
       "min": 0.0,
       "orientation": "horizontal",
       "style": "IPY_MODEL_3c3cdd815a3e4ffa908cf42348005cec",
       "value": 100.0
      }
     },
     "90d1235278d046b6bb35bcd72a6351ed": {
      "model_module": "@jupyter-widgets/controls",
      "model_module_version": "1.5.0",
      "model_name": "ProgressStyleModel",
      "state": {
       "_model_module": "@jupyter-widgets/controls",
       "_model_module_version": "1.5.0",
       "_model_name": "ProgressStyleModel",
       "_view_count": null,
       "_view_module": "@jupyter-widgets/base",
       "_view_module_version": "1.2.0",
       "_view_name": "StyleView",
       "bar_color": "black",
       "description_width": ""
      }
     },
     "a305014b456f4115ac1f6c2137accfd8": {
      "model_module": "@jupyter-widgets/base",
      "model_module_version": "1.2.0",
      "model_name": "LayoutModel",
      "state": {
       "_model_module": "@jupyter-widgets/base",
       "_model_module_version": "1.2.0",
       "_model_name": "LayoutModel",
       "_view_count": null,
       "_view_module": "@jupyter-widgets/base",
       "_view_module_version": "1.2.0",
       "_view_name": "LayoutView",
       "align_content": null,
       "align_items": null,
       "align_self": null,
       "border": null,
       "bottom": null,
       "display": null,
       "flex": null,
       "flex_flow": null,
       "grid_area": null,
       "grid_auto_columns": null,
       "grid_auto_flow": null,
       "grid_auto_rows": null,
       "grid_column": null,
       "grid_gap": null,
       "grid_row": null,
       "grid_template_areas": null,
       "grid_template_columns": null,
       "grid_template_rows": null,
       "height": null,
       "justify_content": null,
       "justify_items": null,
       "left": null,
       "margin": null,
       "max_height": null,
       "max_width": null,
       "min_height": null,
       "min_width": null,
       "object_fit": null,
       "object_position": null,
       "order": null,
       "overflow": null,
       "overflow_x": null,
       "overflow_y": null,
       "padding": null,
       "right": null,
       "top": null,
       "visibility": null,
       "width": "auto"
      }
     },
     "a4812f58b0024f90a305cef86e152be4": {
      "model_module": "@jupyter-widgets/base",
      "model_module_version": "1.2.0",
      "model_name": "LayoutModel",
      "state": {
       "_model_module": "@jupyter-widgets/base",
       "_model_module_version": "1.2.0",
       "_model_name": "LayoutModel",
       "_view_count": null,
       "_view_module": "@jupyter-widgets/base",
       "_view_module_version": "1.2.0",
       "_view_name": "LayoutView",
       "align_content": null,
       "align_items": null,
       "align_self": null,
       "border": null,
       "bottom": null,
       "display": null,
       "flex": null,
       "flex_flow": null,
       "grid_area": null,
       "grid_auto_columns": null,
       "grid_auto_flow": null,
       "grid_auto_rows": null,
       "grid_column": null,
       "grid_gap": null,
       "grid_row": null,
       "grid_template_areas": null,
       "grid_template_columns": null,
       "grid_template_rows": null,
       "height": null,
       "justify_content": null,
       "justify_items": null,
       "left": null,
       "margin": null,
       "max_height": null,
       "max_width": null,
       "min_height": null,
       "min_width": null,
       "object_fit": null,
       "object_position": null,
       "order": null,
       "overflow": null,
       "overflow_x": null,
       "overflow_y": null,
       "padding": null,
       "right": null,
       "top": null,
       "visibility": null,
       "width": "auto"
      }
     },
     "a6f37fb902fc4c168f72775fac9e9132": {
      "model_module": "@jupyter-widgets/controls",
      "model_module_version": "1.5.0",
      "model_name": "ProgressStyleModel",
      "state": {
       "_model_module": "@jupyter-widgets/controls",
       "_model_module_version": "1.5.0",
       "_model_name": "ProgressStyleModel",
       "_view_count": null,
       "_view_module": "@jupyter-widgets/base",
       "_view_module_version": "1.2.0",
       "_view_name": "StyleView",
       "bar_color": "black",
       "description_width": ""
      }
     },
     "ac80b551223644bda9616fec863a67ca": {
      "model_module": "@jupyter-widgets/base",
      "model_module_version": "1.2.0",
      "model_name": "LayoutModel",
      "state": {
       "_model_module": "@jupyter-widgets/base",
       "_model_module_version": "1.2.0",
       "_model_name": "LayoutModel",
       "_view_count": null,
       "_view_module": "@jupyter-widgets/base",
       "_view_module_version": "1.2.0",
       "_view_name": "LayoutView",
       "align_content": null,
       "align_items": null,
       "align_self": null,
       "border": null,
       "bottom": null,
       "display": null,
       "flex": null,
       "flex_flow": null,
       "grid_area": null,
       "grid_auto_columns": null,
       "grid_auto_flow": null,
       "grid_auto_rows": null,
       "grid_column": null,
       "grid_gap": null,
       "grid_row": null,
       "grid_template_areas": null,
       "grid_template_columns": null,
       "grid_template_rows": null,
       "height": null,
       "justify_content": null,
       "justify_items": null,
       "left": null,
       "margin": null,
       "max_height": null,
       "max_width": null,
       "min_height": null,
       "min_width": null,
       "object_fit": null,
       "object_position": null,
       "order": null,
       "overflow": null,
       "overflow_x": null,
       "overflow_y": null,
       "padding": null,
       "right": null,
       "top": null,
       "visibility": null,
       "width": "auto"
      }
     },
     "d4a9fdd83441445c84e32813af497caf": {
      "model_module": "@jupyter-widgets/controls",
      "model_module_version": "1.5.0",
      "model_name": "FloatProgressModel",
      "state": {
       "_dom_classes": [],
       "_model_module": "@jupyter-widgets/controls",
       "_model_module_version": "1.5.0",
       "_model_name": "FloatProgressModel",
       "_view_count": null,
       "_view_module": "@jupyter-widgets/controls",
       "_view_module_version": "1.5.0",
       "_view_name": "ProgressView",
       "bar_style": "",
       "description": "",
       "description_tooltip": null,
       "layout": "IPY_MODEL_08da6b7c7af045038ca6f0a69ef7b264",
       "max": 100.0,
       "min": 0.0,
       "orientation": "horizontal",
       "style": "IPY_MODEL_2bb11222ceb449fa9db8897a4b578241",
       "value": 100.0
      }
     },
     "e306959aff4a4f8586b922f8021e2b26": {
      "model_module": "@jupyter-widgets/controls",
      "model_module_version": "1.5.0",
      "model_name": "ProgressStyleModel",
      "state": {
       "_model_module": "@jupyter-widgets/controls",
       "_model_module_version": "1.5.0",
       "_model_name": "ProgressStyleModel",
       "_view_count": null,
       "_view_module": "@jupyter-widgets/base",
       "_view_module_version": "1.2.0",
       "_view_name": "StyleView",
       "bar_color": "black",
       "description_width": ""
      }
     },
     "eeef98c6499b4e8393b667d6d1d06156": {
      "model_module": "@jupyter-widgets/controls",
      "model_module_version": "1.5.0",
      "model_name": "FloatProgressModel",
      "state": {
       "_dom_classes": [],
       "_model_module": "@jupyter-widgets/controls",
       "_model_module_version": "1.5.0",
       "_model_name": "FloatProgressModel",
       "_view_count": null,
       "_view_module": "@jupyter-widgets/controls",
       "_view_module_version": "1.5.0",
       "_view_name": "ProgressView",
       "bar_style": "",
       "description": "",
       "description_tooltip": null,
       "layout": "IPY_MODEL_f55986b2469644da85428d5734480973",
       "max": 100.0,
       "min": 0.0,
       "orientation": "horizontal",
       "style": "IPY_MODEL_518edd66ede04d0a9fc8d6c4d6ba78f5",
       "value": 100.0
      }
     },
     "f55986b2469644da85428d5734480973": {
      "model_module": "@jupyter-widgets/base",
      "model_module_version": "1.2.0",
      "model_name": "LayoutModel",
      "state": {
       "_model_module": "@jupyter-widgets/base",
       "_model_module_version": "1.2.0",
       "_model_name": "LayoutModel",
       "_view_count": null,
       "_view_module": "@jupyter-widgets/base",
       "_view_module_version": "1.2.0",
       "_view_name": "LayoutView",
       "align_content": null,
       "align_items": null,
       "align_self": null,
       "border": null,
       "bottom": null,
       "display": null,
       "flex": null,
       "flex_flow": null,
       "grid_area": null,
       "grid_auto_columns": null,
       "grid_auto_flow": null,
       "grid_auto_rows": null,
       "grid_column": null,
       "grid_gap": null,
       "grid_row": null,
       "grid_template_areas": null,
       "grid_template_columns": null,
       "grid_template_rows": null,
       "height": null,
       "justify_content": null,
       "justify_items": null,
       "left": null,
       "margin": null,
       "max_height": null,
       "max_width": null,
       "min_height": null,
       "min_width": null,
       "object_fit": null,
       "object_position": null,
       "order": null,
       "overflow": null,
       "overflow_x": null,
       "overflow_y": null,
       "padding": null,
       "right": null,
       "top": null,
       "visibility": null,
       "width": "auto"
      }
     }
    },
    "version_major": 2,
    "version_minor": 0
   }
  }
 },
 "nbformat": 4,
 "nbformat_minor": 5
}
